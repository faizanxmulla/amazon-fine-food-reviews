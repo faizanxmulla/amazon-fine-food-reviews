{
 "cells": [
  {
   "cell_type": "markdown",
   "metadata": {},
   "source": [
    "## OBJECTIVE : \n",
    "Given a review, determine whether the review is positive (rating of 4 or 5) or negative (rating of 1 or 2)."
   ]
  },
  {
   "cell_type": "markdown",
   "metadata": {},
   "source": [
    "## Importing Libraries & getting Data"
   ]
  },
  {
   "cell_type": "code",
   "execution_count": 1,
   "metadata": {},
   "outputs": [],
   "source": [
    "import numpy as np \n",
    "import pandas as pd \n",
    "import sqlite3 \n",
    "import matplotlib.pyplot as plt \n",
    "import seaborn as sns \n",
    "\n",
    "import re \n",
    "import math \n",
    "import os \n",
    "import string \n",
    "from tqdm import tqdm \n",
    "\n",
    "import warnings \n",
    "warnings.filterwarnings('ignore')\n",
    "\n",
    "# Metrics libraries\n",
    "from sklearn.metrics import accuracy_score ,confusion_matrix, roc_curve, auc ,roc_auc_score\n",
    "\n",
    "# NLP libraries \n",
    "import nltk \n",
    "from nltk.corpus import stopwords \n",
    "from nltk.stem import PorterStemmer \n",
    "from nltk.stem.wordnet import WordNetLemmatizer \n",
    "from sklearn.feature_extraction.text import CountVectorizer \n",
    "from sklearn.feature_extraction.text import TfidfVectorizer\n",
    "from sklearn.feature_extraction.text import TfidfTransformer\n",
    "\n",
    "from gensim.models import Word2Vec \n",
    "from gensim.models import KeyedVectors\n",
    "\n",
    "import tensorflow as tf\n",
    "from tensorflow.python.client import device_lib"
   ]
  },
  {
   "cell_type": "code",
   "execution_count": 2,
   "metadata": {},
   "outputs": [],
   "source": [
    "os.environ['TF_FORCE_GPU_ALLOW_GROWTH'] = 'true'\n",
    "physical_devices = tf.config.experimental.list_physical_devices('GPU')\n",
    "assert len(physical_devices) > 0, \"Not enough GPU hardware devices available\"\n",
    "config = tf.config.experimental.set_memory_growth(physical_devices[0], True)"
   ]
  },
  {
   "cell_type": "code",
   "execution_count": 3,
   "metadata": {},
   "outputs": [
    {
     "name": "stdout",
     "output_type": "stream",
     "text": [
      "Num GPUs Available:  1\n",
      "[name: \"/device:CPU:0\"\n",
      "device_type: \"CPU\"\n",
      "memory_limit: 268435456\n",
      "locality {\n",
      "}\n",
      "incarnation: 13571700751480412904\n",
      ", name: \"/device:GPU:0\"\n",
      "device_type: \"GPU\"\n",
      "memory_limit: 1753127323\n",
      "locality {\n",
      "  bus_id: 1\n",
      "  links {\n",
      "  }\n",
      "}\n",
      "incarnation: 5139375257721126381\n",
      "physical_device_desc: \"device: 0, name: NVIDIA GeForce RTX 3050 Laptop GPU, pci bus id: 0000:01:00.0, compute capability: 8.6\"\n",
      "]\n"
     ]
    }
   ],
   "source": [
    "print(\"Num GPUs Available: \", len(\n",
    "    tf.config.experimental.list_physical_devices('GPU')))\n",
    "print(device_lib.list_local_devices())"
   ]
  },
  {
   "cell_type": "code",
   "execution_count": 4,
   "metadata": {},
   "outputs": [],
   "source": [
    "connection = sqlite3.connect(\n",
    "    'G:/My Drive/datasets/amazon food review/dataset/database.sqlite')\n",
    "\n",
    "# ignoring datapoints where score = 3 (neutral review)\n",
    "\n",
    "filtered_data = pd.read_sql_query(\"\"\"\n",
    "SELECT * \n",
    "FROM Reviews\n",
    "WHERE Score != 3\n",
    "LIMIT 100000\n",
    "\"\"\", connection)"
   ]
  },
  {
   "cell_type": "code",
   "execution_count": 5,
   "metadata": {},
   "outputs": [],
   "source": [
    "# label encoding score into positive (x>3) and negative (x<3)\n",
    "\n",
    "def partition(x):\n",
    "    if x < 3:\n",
    "        return 0\n",
    "    else:\n",
    "        return 1\n",
    "\n",
    "\n",
    "score_with_neutral = filtered_data['Score']\n",
    "score_wo_neutral = score_with_neutral.map(partition)\n",
    "\n",
    "filtered_data['Score'] = score_wo_neutral"
   ]
  },
  {
   "cell_type": "code",
   "execution_count": 6,
   "metadata": {},
   "outputs": [
    {
     "data": {
      "text/html": [
       "<div>\n",
       "<style scoped>\n",
       "    .dataframe tbody tr th:only-of-type {\n",
       "        vertical-align: middle;\n",
       "    }\n",
       "\n",
       "    .dataframe tbody tr th {\n",
       "        vertical-align: top;\n",
       "    }\n",
       "\n",
       "    .dataframe thead th {\n",
       "        text-align: right;\n",
       "    }\n",
       "</style>\n",
       "<table border=\"1\" class=\"dataframe\">\n",
       "  <thead>\n",
       "    <tr style=\"text-align: right;\">\n",
       "      <th></th>\n",
       "      <th>Id</th>\n",
       "      <th>ProductId</th>\n",
       "      <th>UserId</th>\n",
       "      <th>ProfileName</th>\n",
       "      <th>HelpfulnessNumerator</th>\n",
       "      <th>HelpfulnessDenominator</th>\n",
       "      <th>Score</th>\n",
       "      <th>Time</th>\n",
       "      <th>Summary</th>\n",
       "      <th>Text</th>\n",
       "    </tr>\n",
       "  </thead>\n",
       "  <tbody>\n",
       "    <tr>\n",
       "      <th>0</th>\n",
       "      <td>1</td>\n",
       "      <td>B001E4KFG0</td>\n",
       "      <td>A3SGXH7AUHU8GW</td>\n",
       "      <td>delmartian</td>\n",
       "      <td>1</td>\n",
       "      <td>1</td>\n",
       "      <td>1</td>\n",
       "      <td>1303862400</td>\n",
       "      <td>Good Quality Dog Food</td>\n",
       "      <td>I have bought several of the Vitality canned d...</td>\n",
       "    </tr>\n",
       "    <tr>\n",
       "      <th>1</th>\n",
       "      <td>2</td>\n",
       "      <td>B00813GRG4</td>\n",
       "      <td>A1D87F6ZCVE5NK</td>\n",
       "      <td>dll pa</td>\n",
       "      <td>0</td>\n",
       "      <td>0</td>\n",
       "      <td>0</td>\n",
       "      <td>1346976000</td>\n",
       "      <td>Not as Advertised</td>\n",
       "      <td>Product arrived labeled as Jumbo Salted Peanut...</td>\n",
       "    </tr>\n",
       "    <tr>\n",
       "      <th>2</th>\n",
       "      <td>3</td>\n",
       "      <td>B000LQOCH0</td>\n",
       "      <td>ABXLMWJIXXAIN</td>\n",
       "      <td>Natalia Corres \"Natalia Corres\"</td>\n",
       "      <td>1</td>\n",
       "      <td>1</td>\n",
       "      <td>1</td>\n",
       "      <td>1219017600</td>\n",
       "      <td>\"Delight\" says it all</td>\n",
       "      <td>This is a confection that has been around a fe...</td>\n",
       "    </tr>\n",
       "    <tr>\n",
       "      <th>3</th>\n",
       "      <td>4</td>\n",
       "      <td>B000UA0QIQ</td>\n",
       "      <td>A395BORC6FGVXV</td>\n",
       "      <td>Karl</td>\n",
       "      <td>3</td>\n",
       "      <td>3</td>\n",
       "      <td>0</td>\n",
       "      <td>1307923200</td>\n",
       "      <td>Cough Medicine</td>\n",
       "      <td>If you are looking for the secret ingredient i...</td>\n",
       "    </tr>\n",
       "    <tr>\n",
       "      <th>4</th>\n",
       "      <td>5</td>\n",
       "      <td>B006K2ZZ7K</td>\n",
       "      <td>A1UQRSCLF8GW1T</td>\n",
       "      <td>Michael D. Bigham \"M. Wassir\"</td>\n",
       "      <td>0</td>\n",
       "      <td>0</td>\n",
       "      <td>1</td>\n",
       "      <td>1350777600</td>\n",
       "      <td>Great taffy</td>\n",
       "      <td>Great taffy at a great price.  There was a wid...</td>\n",
       "    </tr>\n",
       "  </tbody>\n",
       "</table>\n",
       "</div>"
      ],
      "text/plain": [
       "   Id   ProductId          UserId                      ProfileName  \\\n",
       "0   1  B001E4KFG0  A3SGXH7AUHU8GW                       delmartian   \n",
       "1   2  B00813GRG4  A1D87F6ZCVE5NK                           dll pa   \n",
       "2   3  B000LQOCH0   ABXLMWJIXXAIN  Natalia Corres \"Natalia Corres\"   \n",
       "3   4  B000UA0QIQ  A395BORC6FGVXV                             Karl   \n",
       "4   5  B006K2ZZ7K  A1UQRSCLF8GW1T    Michael D. Bigham \"M. Wassir\"   \n",
       "\n",
       "   HelpfulnessNumerator  HelpfulnessDenominator  Score        Time  \\\n",
       "0                     1                       1      1  1303862400   \n",
       "1                     0                       0      0  1346976000   \n",
       "2                     1                       1      1  1219017600   \n",
       "3                     3                       3      0  1307923200   \n",
       "4                     0                       0      1  1350777600   \n",
       "\n",
       "                 Summary                                               Text  \n",
       "0  Good Quality Dog Food  I have bought several of the Vitality canned d...  \n",
       "1      Not as Advertised  Product arrived labeled as Jumbo Salted Peanut...  \n",
       "2  \"Delight\" says it all  This is a confection that has been around a fe...  \n",
       "3         Cough Medicine  If you are looking for the secret ingredient i...  \n",
       "4            Great taffy  Great taffy at a great price.  There was a wid...  "
      ]
     },
     "execution_count": 6,
     "metadata": {},
     "output_type": "execute_result"
    }
   ],
   "source": [
    "filtered_data.head()"
   ]
  },
  {
   "cell_type": "code",
   "execution_count": 7,
   "metadata": {},
   "outputs": [
    {
     "name": "stdout",
     "output_type": "stream",
     "text": [
      "<class 'pandas.core.frame.DataFrame'>\n",
      "RangeIndex: 100000 entries, 0 to 99999\n",
      "Data columns (total 10 columns):\n",
      " #   Column                  Non-Null Count   Dtype \n",
      "---  ------                  --------------   ----- \n",
      " 0   Id                      100000 non-null  int64 \n",
      " 1   ProductId               100000 non-null  object\n",
      " 2   UserId                  100000 non-null  object\n",
      " 3   ProfileName             100000 non-null  object\n",
      " 4   HelpfulnessNumerator    100000 non-null  int64 \n",
      " 5   HelpfulnessDenominator  100000 non-null  int64 \n",
      " 6   Score                   100000 non-null  int64 \n",
      " 7   Time                    100000 non-null  int64 \n",
      " 8   Summary                 100000 non-null  object\n",
      " 9   Text                    100000 non-null  object\n",
      "dtypes: int64(5), object(5)\n",
      "memory usage: 7.6+ MB\n"
     ]
    }
   ],
   "source": [
    "filtered_data.info()"
   ]
  },
  {
   "cell_type": "code",
   "execution_count": 8,
   "metadata": {},
   "outputs": [
    {
     "data": {
      "text/plain": [
       "(100000, 10)"
      ]
     },
     "execution_count": 8,
     "metadata": {},
     "output_type": "execute_result"
    }
   ],
   "source": [
    "filtered_data.shape"
   ]
  },
  {
   "cell_type": "code",
   "execution_count": 9,
   "metadata": {},
   "outputs": [],
   "source": [
    "display = pd.read_sql_query(\"\"\"\n",
    "SELECT UserId, ProductId ,ProfileName ,Time, Score ,Text ,COUNT(*)\n",
    "FROM Reviews \n",
    "GROUP BY UserId \n",
    "HAVING COUNT(*) > 1\n",
    "\"\"\", connection)"
   ]
  },
  {
   "cell_type": "code",
   "execution_count": 10,
   "metadata": {},
   "outputs": [
    {
     "data": {
      "text/html": [
       "<div>\n",
       "<style scoped>\n",
       "    .dataframe tbody tr th:only-of-type {\n",
       "        vertical-align: middle;\n",
       "    }\n",
       "\n",
       "    .dataframe tbody tr th {\n",
       "        vertical-align: top;\n",
       "    }\n",
       "\n",
       "    .dataframe thead th {\n",
       "        text-align: right;\n",
       "    }\n",
       "</style>\n",
       "<table border=\"1\" class=\"dataframe\">\n",
       "  <thead>\n",
       "    <tr style=\"text-align: right;\">\n",
       "      <th></th>\n",
       "      <th>UserId</th>\n",
       "      <th>ProductId</th>\n",
       "      <th>ProfileName</th>\n",
       "      <th>Time</th>\n",
       "      <th>Score</th>\n",
       "      <th>Text</th>\n",
       "      <th>COUNT(*)</th>\n",
       "    </tr>\n",
       "  </thead>\n",
       "  <tbody>\n",
       "    <tr>\n",
       "      <th>0</th>\n",
       "      <td>#oc-R115TNMSPFT9I7</td>\n",
       "      <td>B005ZBZLT4</td>\n",
       "      <td>Breyton</td>\n",
       "      <td>1331510400</td>\n",
       "      <td>2</td>\n",
       "      <td>Overall its just OK when considering the price...</td>\n",
       "      <td>2</td>\n",
       "    </tr>\n",
       "    <tr>\n",
       "      <th>1</th>\n",
       "      <td>#oc-R11D9D7SHXIJB9</td>\n",
       "      <td>B005HG9ESG</td>\n",
       "      <td>Louis E. Emory \"hoppy\"</td>\n",
       "      <td>1342396800</td>\n",
       "      <td>5</td>\n",
       "      <td>My wife has recurring extreme muscle spasms, u...</td>\n",
       "      <td>3</td>\n",
       "    </tr>\n",
       "    <tr>\n",
       "      <th>2</th>\n",
       "      <td>#oc-R11DNU2NBKQ23Z</td>\n",
       "      <td>B005ZBZLT4</td>\n",
       "      <td>Kim Cieszykowski</td>\n",
       "      <td>1348531200</td>\n",
       "      <td>1</td>\n",
       "      <td>This coffee is horrible and unfortunately not ...</td>\n",
       "      <td>2</td>\n",
       "    </tr>\n",
       "    <tr>\n",
       "      <th>3</th>\n",
       "      <td>#oc-R11O5J5ZVQE25C</td>\n",
       "      <td>B005HG9ESG</td>\n",
       "      <td>Penguin Chick</td>\n",
       "      <td>1346889600</td>\n",
       "      <td>5</td>\n",
       "      <td>This will be the bottle that you grab from the...</td>\n",
       "      <td>3</td>\n",
       "    </tr>\n",
       "    <tr>\n",
       "      <th>4</th>\n",
       "      <td>#oc-R12KPBODL2B5ZD</td>\n",
       "      <td>B007OSBEV0</td>\n",
       "      <td>Christopher P. Presta</td>\n",
       "      <td>1348617600</td>\n",
       "      <td>1</td>\n",
       "      <td>I didnt like this coffee. Instead of telling y...</td>\n",
       "      <td>2</td>\n",
       "    </tr>\n",
       "  </tbody>\n",
       "</table>\n",
       "</div>"
      ],
      "text/plain": [
       "               UserId   ProductId             ProfileName        Time  Score  \\\n",
       "0  #oc-R115TNMSPFT9I7  B005ZBZLT4                 Breyton  1331510400      2   \n",
       "1  #oc-R11D9D7SHXIJB9  B005HG9ESG  Louis E. Emory \"hoppy\"  1342396800      5   \n",
       "2  #oc-R11DNU2NBKQ23Z  B005ZBZLT4        Kim Cieszykowski  1348531200      1   \n",
       "3  #oc-R11O5J5ZVQE25C  B005HG9ESG           Penguin Chick  1346889600      5   \n",
       "4  #oc-R12KPBODL2B5ZD  B007OSBEV0   Christopher P. Presta  1348617600      1   \n",
       "\n",
       "                                                Text  COUNT(*)  \n",
       "0  Overall its just OK when considering the price...         2  \n",
       "1  My wife has recurring extreme muscle spasms, u...         3  \n",
       "2  This coffee is horrible and unfortunately not ...         2  \n",
       "3  This will be the bottle that you grab from the...         3  \n",
       "4  I didnt like this coffee. Instead of telling y...         2  "
      ]
     },
     "execution_count": 10,
     "metadata": {},
     "output_type": "execute_result"
    }
   ],
   "source": [
    "display.head()"
   ]
  },
  {
   "cell_type": "code",
   "execution_count": 11,
   "metadata": {},
   "outputs": [
    {
     "data": {
      "text/plain": [
       "(80668, 7)"
      ]
     },
     "execution_count": 11,
     "metadata": {},
     "output_type": "execute_result"
    }
   ],
   "source": [
    "display.shape"
   ]
  },
  {
   "cell_type": "code",
   "execution_count": 12,
   "metadata": {},
   "outputs": [
    {
     "data": {
      "text/plain": [
       "393063"
      ]
     },
     "execution_count": 12,
     "metadata": {},
     "output_type": "execute_result"
    }
   ],
   "source": [
    "display['COUNT(*)'].sum()"
   ]
  },
  {
   "cell_type": "markdown",
   "metadata": {},
   "source": [
    "# EDA"
   ]
  },
  {
   "cell_type": "markdown",
   "metadata": {},
   "source": [
    "## Data Cleaning (Remove Duplicates)"
   ]
  },
  {
   "cell_type": "code",
   "execution_count": 13,
   "metadata": {},
   "outputs": [
    {
     "data": {
      "text/html": [
       "<div>\n",
       "<style scoped>\n",
       "    .dataframe tbody tr th:only-of-type {\n",
       "        vertical-align: middle;\n",
       "    }\n",
       "\n",
       "    .dataframe tbody tr th {\n",
       "        vertical-align: top;\n",
       "    }\n",
       "\n",
       "    .dataframe thead th {\n",
       "        text-align: right;\n",
       "    }\n",
       "</style>\n",
       "<table border=\"1\" class=\"dataframe\">\n",
       "  <thead>\n",
       "    <tr style=\"text-align: right;\">\n",
       "      <th></th>\n",
       "      <th>Id</th>\n",
       "      <th>ProductId</th>\n",
       "      <th>UserId</th>\n",
       "      <th>ProfileName</th>\n",
       "      <th>HelpfulnessNumerator</th>\n",
       "      <th>HelpfulnessDenominator</th>\n",
       "      <th>Score</th>\n",
       "      <th>Time</th>\n",
       "      <th>Summary</th>\n",
       "      <th>Text</th>\n",
       "    </tr>\n",
       "  </thead>\n",
       "  <tbody>\n",
       "    <tr>\n",
       "      <th>0</th>\n",
       "      <td>455534</td>\n",
       "      <td>B005HG9ERW</td>\n",
       "      <td>#oc-R11D9D7SHXIJB9</td>\n",
       "      <td>Louis E. Emory \"hoppy\"</td>\n",
       "      <td>0</td>\n",
       "      <td>0</td>\n",
       "      <td>5</td>\n",
       "      <td>1342396800</td>\n",
       "      <td>Muscle spasms</td>\n",
       "      <td>My wife has recurring extreme muscle spasms, u...</td>\n",
       "    </tr>\n",
       "    <tr>\n",
       "      <th>1</th>\n",
       "      <td>290948</td>\n",
       "      <td>B005HG9ESG</td>\n",
       "      <td>#oc-R11D9D7SHXIJB9</td>\n",
       "      <td>Louis E. Emory \"hoppy\"</td>\n",
       "      <td>0</td>\n",
       "      <td>0</td>\n",
       "      <td>5</td>\n",
       "      <td>1342396800</td>\n",
       "      <td>Muscle spasms</td>\n",
       "      <td>My wife has recurring extreme muscle spasms, u...</td>\n",
       "    </tr>\n",
       "    <tr>\n",
       "      <th>2</th>\n",
       "      <td>496894</td>\n",
       "      <td>B005HG9ET0</td>\n",
       "      <td>#oc-R11D9D7SHXIJB9</td>\n",
       "      <td>Louis E. Emory \"hoppy\"</td>\n",
       "      <td>0</td>\n",
       "      <td>0</td>\n",
       "      <td>5</td>\n",
       "      <td>1342396800</td>\n",
       "      <td>Muscle spasms</td>\n",
       "      <td>My wife has recurring extreme muscle spasms, u...</td>\n",
       "    </tr>\n",
       "  </tbody>\n",
       "</table>\n",
       "</div>"
      ],
      "text/plain": [
       "       Id   ProductId              UserId             ProfileName  \\\n",
       "0  455534  B005HG9ERW  #oc-R11D9D7SHXIJB9  Louis E. Emory \"hoppy\"   \n",
       "1  290948  B005HG9ESG  #oc-R11D9D7SHXIJB9  Louis E. Emory \"hoppy\"   \n",
       "2  496894  B005HG9ET0  #oc-R11D9D7SHXIJB9  Louis E. Emory \"hoppy\"   \n",
       "\n",
       "   HelpfulnessNumerator  HelpfulnessDenominator  Score        Time  \\\n",
       "0                     0                       0      5  1342396800   \n",
       "1                     0                       0      5  1342396800   \n",
       "2                     0                       0      5  1342396800   \n",
       "\n",
       "         Summary                                               Text  \n",
       "0  Muscle spasms  My wife has recurring extreme muscle spasms, u...  \n",
       "1  Muscle spasms  My wife has recurring extreme muscle spasms, u...  \n",
       "2  Muscle spasms  My wife has recurring extreme muscle spasms, u...  "
      ]
     },
     "execution_count": 13,
     "metadata": {},
     "output_type": "execute_result"
    }
   ],
   "source": [
    "display = pd.read_sql_query(\"\"\"\n",
    "SELECT * \n",
    "FROM Reviews \n",
    "WHERE Score != 3 AND UserId='#oc-R11D9D7SHXIJB9'\n",
    "ORDER BY ProductId\n",
    "\"\"\", connection)\n",
    "\n",
    "display.head()\n"
   ]
  },
  {
   "cell_type": "markdown",
   "metadata": {},
   "source": [
    "#### NOTE :\n",
    "- It can be seen that same user has multiple reviews with same values for all the parameters.\n",
    "\n",
    "- So, in order to get unbiased results, we need to remove the rows having same parameters.\n",
    "\n",
    "- Steps to do so:\n",
    "    - first sort the data according to ProductId in ascending order.\n",
    "    - Then just keep the first similar product review and delete the others.\n"
   ]
  },
  {
   "cell_type": "code",
   "execution_count": 14,
   "metadata": {},
   "outputs": [],
   "source": [
    "sorted_data = filtered_data.sort_values(\n",
    "    'ProductId', axis=0, ascending=True, inplace=False, kind='quicksort', na_position='last')"
   ]
  },
  {
   "cell_type": "code",
   "execution_count": 15,
   "metadata": {},
   "outputs": [
    {
     "data": {
      "text/plain": [
       "(87775, 10)"
      ]
     },
     "execution_count": 15,
     "metadata": {},
     "output_type": "execute_result"
    }
   ],
   "source": [
    "clean_data = sorted_data.drop_duplicates(\n",
    "    subset={\"UserId\", \"ProfileName\", \"Time\", \"Text\"}, keep='first', inplace=False)\n",
    "\n",
    "clean_data.shape"
   ]
  },
  {
   "cell_type": "markdown",
   "metadata": {},
   "source": [
    "# Data Preprocessing"
   ]
  },
  {
   "cell_type": "markdown",
   "metadata": {},
   "source": [
    "#### Steps :\n",
    "\n",
    "1. Begin by removing the HTML tags\n",
    "\n",
    "2. Remove any punctuations or limited set of special characters like, or . etc\n",
    "\n",
    "3. Check if the word is made up of english letters and is not alpha-numeric.\n",
    "\n",
    "4. Check to see if the length of the word is greater than 2 (as it was researched that there is no adjective in 2-letters)\n",
    "\n",
    "5. Convert the words to lowercase\n",
    "\n",
    "6. Remove Stopwords\n",
    "\n",
    "7. Stemming the word\n"
   ]
  },
  {
   "cell_type": "code",
   "execution_count": 16,
   "metadata": {},
   "outputs": [
    {
     "name": "stdout",
     "output_type": "stream",
     "text": [
      "My dogs loves this chicken but its a product from China, so we wont be buying it anymore.  Its very hard to find any chicken products made in the USA but they are out there, but this one isnt.  Its too bad too because its a good product but I wont take any chances till they know what is going on with the china imports.\n",
      "---------------------------------------\n",
      "Our dogs just love them.  I saw them in a pet store and a tag was attached regarding them being made in China and it satisfied me that they were safe.\n",
      "---------------------------------------\n",
      "I had an infestation of fruitflies, they were literally everywhere flying around me in my  kitchen, so I bought this product hoping to at least get rid of a few. But after 2 weeks, only 1 fly had stuck... I was going around with a notepad and squishing the buggers myself with a success rate of 2-3 a day so clearly this product was useless! I even dabbed to red wine and banana to the top of the column after 1 week because they were really attracted to any red wine I had in a glass... but still it did nothing to get them stuck. And then I actually saw a second fly land on it once, and I watched as it flapped it's wings frantically and within 30 secs it had unstuck itself!!!! This product was a total waste of money!\n"
     ]
    }
   ],
   "source": [
    "# sample reviews\n",
    "\n",
    "review_1 = clean_data['Text'].values[0]\n",
    "print(review_1)\n",
    "print('---------------------------------------')\n",
    "\n",
    "review_2 = clean_data['Text'].values[1]\n",
    "print(review_2)\n",
    "print('---------------------------------------')\n",
    "\n",
    "review_3 = clean_data['Text'].values[2]\n",
    "print(review_3)"
   ]
  },
  {
   "cell_type": "markdown",
   "metadata": {},
   "source": [
    "### 1. Removing URLs"
   ]
  },
  {
   "cell_type": "code",
   "execution_count": 17,
   "metadata": {},
   "outputs": [],
   "source": [
    "review_1 = re.sub('http\\S+', \"\", review_1)\n",
    "review_2 = re.sub('http\\S+', \"\", review_2)\n",
    "review_3 = re.sub('http\\S+', \"\", review_3)"
   ]
  },
  {
   "cell_type": "markdown",
   "metadata": {},
   "source": [
    "### 2. Removing HTML tags"
   ]
  },
  {
   "cell_type": "code",
   "execution_count": 18,
   "metadata": {},
   "outputs": [],
   "source": [
    "from bs4 import BeautifulSoup\n",
    "\n",
    "soup = BeautifulSoup(review_1, 'lxml')\n",
    "review_1 = soup.get_text()\n",
    "\n",
    "soup = BeautifulSoup(review_2, 'lxml')\n",
    "review_2 = soup.get_text()\n",
    "\n",
    "soup = BeautifulSoup(review_3, 'lxml')\n",
    "review_3 = soup.get_text()"
   ]
  },
  {
   "cell_type": "markdown",
   "metadata": {},
   "source": [
    "### 3. Removing Apostrophes"
   ]
  },
  {
   "cell_type": "code",
   "execution_count": 19,
   "metadata": {},
   "outputs": [],
   "source": [
    "def removing_apostrophes(text):\n",
    "    # general\n",
    "    text = re.sub(\"n\\'t\", \" not\", text)\n",
    "    text = re.sub(\"\\'re\", \" are\", text)\n",
    "    text = re.sub(\"\\'s\", \" is\", text)\n",
    "    text = re.sub(\"\\'d\", \" would\", text)\n",
    "    text = re.sub(\"\\'ll\", \" will\", text)\n",
    "    text = re.sub(\"\\'t\", \" not\", text)\n",
    "    text = re.sub(\"\\'ve\", \" have\", text)\n",
    "    text = re.sub(\"\\'m\", \" am\", text)\n",
    "\n",
    "    text = re.sub(\"won't\", \"will not\", text)\n",
    "    text = re.sub(\"can\\'t\", \"can not\", text)\n",
    "\n",
    "    return text"
   ]
  },
  {
   "cell_type": "code",
   "execution_count": 20,
   "metadata": {},
   "outputs": [
    {
     "name": "stdout",
     "output_type": "stream",
     "text": [
      "I had an infestation of fruitflies, they were literally everywhere flying around me in my  kitchen, so I bought this product hoping to at least get rid of a few. But after 2 weeks, only 1 fly had stuck... I was going around with a notepad and squishing the buggers myself with a success rate of 2-3 a day so clearly this product was useless! I even dabbed to red wine and banana to the top of the column after 1 week because they were really attracted to any red wine I had in a glass... but still it did nothing to get them stuck. And then I actually saw a second fly land on it once, and I watched as it flapped it is wings frantically and within 30 secs it had unstuck itself!!!! This product was a total waste of money!\n"
     ]
    }
   ],
   "source": [
    "# isn't gets converted to 'is not' in line 3\n",
    "review_3 = removing_apostrophes(review_3)\n",
    "print(review_3)"
   ]
  },
  {
   "cell_type": "markdown",
   "metadata": {},
   "source": [
    "### 4. Removing Numbers / Punctuations /Special Characters"
   ]
  },
  {
   "cell_type": "code",
   "execution_count": 21,
   "metadata": {},
   "outputs": [
    {
     "name": "stdout",
     "output_type": "stream",
     "text": [
      "My dogs loves this chicken but its a product from China, so we wont be buying it anymore.  Its very hard to find any chicken products made in the USA but they are out there, but this one isnt.  Its too bad too because its a good product but I wont take any chances till they know what is going on with the china imports.\n",
      "-----------------------------------------\n",
      "I had an infestation of fruitflies they were literally everywhere flying around me in my kitchen so I bought this product hoping to at least get rid of a few But after 2 weeks only 1 fly had stuck I was going around with a notepad and squishing the buggers myself with a success rate of 2 3 a day so clearly this product was useless I even dabbed to red wine and banana to the top of the column after 1 week because they were really attracted to any red wine I had in a glass but still it did nothing to get them stuck And then I actually saw a second fly land on it once and I watched as it flapped it is wings frantically and within 30 secs it had unstuck itself This product was a total waste of money \n"
     ]
    }
   ],
   "source": [
    "# removing numbers\n",
    "review_1 = re.sub('\\S*\\d\\S*', \"\", review_1).strip()\n",
    "print(review_1)\n",
    "print('-----------------------------------------')\n",
    "\n",
    "# removing special characters\n",
    "review_3 = re.sub('[^A-Za-z0-9]+', ' ', review_3)\n",
    "print(review_3)"
   ]
  },
  {
   "cell_type": "markdown",
   "metadata": {},
   "source": [
    "### 5. Removing Stopwords"
   ]
  },
  {
   "cell_type": "code",
   "execution_count": 22,
   "metadata": {},
   "outputs": [],
   "source": [
    "# removing the following words from the stop words list: 'no', 'nor', 'not'\n",
    "\n",
    "stopwords = set(['br', 'the', 'i', 'me', 'my', 'myself', 'we', 'our', 'ours', 'ourselves', 'you', \"you're\", \"you've\",\n",
    "                \"you'll\", \"you'd\", 'your', 'yours', 'yourself', 'yourselves', 'he', 'him', 'his', 'himself',\n",
    "                 'she', \"she's\", 'her', 'hers', 'herself', 'it', \"it's\", 'its', 'itself', 'they', 'them', 'their',\n",
    "                 'theirs', 'themselves', 'what', 'which', 'who', 'whom', 'this', 'that', \"that'll\", 'these', 'those',\n",
    "                 'am', 'is', 'are', 'was', 'were', 'be', 'been', 'being', 'have', 'has', 'had', 'having', 'do', 'does',\n",
    "                 'did', 'doing', 'a', 'an', 'the', 'and', 'but', 'if', 'or', 'because', 'as', 'until', 'while', 'of',\n",
    "                 'at', 'by', 'for', 'with', 'about', 'against', 'between', 'into', 'through', 'during', 'before', 'after',\n",
    "                 'above', 'below', 'to', 'from', 'up', 'down', 'in', 'out', 'on', 'off', 'over', 'under', 'again', 'further',\n",
    "                 'then', 'once', 'here', 'there', 'when', 'where', 'why', 'how', 'all', 'any', 'both', 'each', 'few', 'more',\n",
    "                 'most', 'other', 'some', 'such', 'only', 'own', 'same', 'so', 'than', 'too', 'very',\n",
    "                 's', 't', 'can', 'will', 'just', 'don', \"don't\", 'should', \"should've\", 'now', 'd', 'll', 'm', 'o', 're',\n",
    "                 've', 'y', 'ain', 'aren', \"aren't\", 'couldn', \"couldn't\", 'didn', \"didn't\", 'doesn', \"doesn't\", 'hadn',\n",
    "                 \"hadn't\", 'hasn', \"hasn't\", 'haven', \"haven't\", 'isn', \"isn't\", 'ma', 'mightn', \"mightn't\", 'mustn',\n",
    "                 \"mustn't\", 'needn', \"needn't\", 'shan', \"shan't\", 'shouldn', \"shouldn't\", 'wasn', \"wasn't\", 'weren', \"weren't\",\n",
    "                 'won', \"won't\", 'wouldn', \"wouldn't\"])"
   ]
  },
  {
   "cell_type": "markdown",
   "metadata": {},
   "source": [
    "### Combining all Steps"
   ]
  },
  {
   "cell_type": "code",
   "execution_count": 23,
   "metadata": {},
   "outputs": [
    {
     "name": "stderr",
     "output_type": "stream",
     "text": [
      "100%|██████████| 87775/87775 [00:24<00:00, 3657.14it/s]\n"
     ]
    }
   ],
   "source": [
    "preprocessed_reviews = []\n",
    "\n",
    "for text in tqdm(clean_data['Text'].values):\n",
    "    text = re.sub('http\\S+', \"\", text)\n",
    "    text = BeautifulSoup(text, 'lxml').get_text()\n",
    "\n",
    "    text = removing_apostrophes(text)\n",
    "\n",
    "    text = re.sub('\\S*\\d\\S*', \"\", text).strip()\n",
    "    text = re.sub('[^A-Za-z0-9]+', ' ', text)\n",
    "\n",
    "    text = ' '.join(i.lower()\n",
    "                    for i in text.split() if i.lower() not in stopwords)\n",
    "\n",
    "    preprocessed_reviews.append(text.strip())"
   ]
  },
  {
   "cell_type": "markdown",
   "metadata": {},
   "source": [
    "## Splitting into train, test & validation sets"
   ]
  },
  {
   "cell_type": "code",
   "execution_count": 24,
   "metadata": {},
   "outputs": [],
   "source": [
    "X = preprocessed_reviews\n",
    "y = np.array(clean_data['Score'])"
   ]
  },
  {
   "cell_type": "code",
   "execution_count": 25,
   "metadata": {},
   "outputs": [],
   "source": [
    "from sklearn.model_selection import train_test_split\n",
    "\n",
    "X_train, X_test, y_train, y_test = train_test_split(X, y, test_size=0.3)\n",
    "\n",
    "X_train, X_val, y_train, y_val = train_test_split(X_train, y_train, test_size=0.3)"
   ]
  },
  {
   "cell_type": "markdown",
   "metadata": {},
   "source": [
    "# Models"
   ]
  },
  {
   "cell_type": "markdown",
   "metadata": {},
   "source": [
    "## 1. Bag of Words (BoW)"
   ]
  },
  {
   "cell_type": "code",
   "execution_count": 26,
   "metadata": {},
   "outputs": [],
   "source": [
    "from sklearn.naive_bayes import MultinomialNB \n",
    "\n",
    "from sklearn.model_selection import cross_val_score\n",
    "from sklearn.model_selection import GridSearchCV\n",
    "\n",
    "from sklearn.experimental import enable_halving_search_cv\n",
    "from sklearn.model_selection import HalvingGridSearchCV"
   ]
  },
  {
   "cell_type": "code",
   "execution_count": 27,
   "metadata": {},
   "outputs": [],
   "source": [
    "vectorizer = CountVectorizer()\n",
    "\n",
    "X_train_bow = vectorizer.fit_transform(X_train)\n",
    "X_test_bow = vectorizer.transform(X_test)\n",
    "X_val_bow = vectorizer.transform(X_val)"
   ]
  },
  {
   "cell_type": "markdown",
   "metadata": {},
   "source": [
    "### 1.1 Hyperparameter Tuning"
   ]
  },
  {
   "cell_type": "code",
   "execution_count": 28,
   "metadata": {},
   "outputs": [
    {
     "name": "stderr",
     "output_type": "stream",
     "text": [
      "[Parallel(n_jobs=1)]: Using backend SequentialBackend with 1 concurrent workers.\n",
      "[Parallel(n_jobs=1)]: Done   1 out of   1 | elapsed:    0.0s remaining:    0.0s\n",
      "[Parallel(n_jobs=1)]: Done   2 out of   2 | elapsed:    0.0s remaining:    0.0s\n",
      "[Parallel(n_jobs=1)]: Done  10 out of  10 | elapsed:    0.1s finished\n",
      "[Parallel(n_jobs=1)]: Using backend SequentialBackend with 1 concurrent workers.\n"
     ]
    },
    {
     "name": "stdout",
     "output_type": "stream",
     "text": [
      "[CV] END ................................ score: (test=0.813) total time=   0.0s\n",
      "[CV] END ................................ score: (test=0.805) total time=   0.0s\n",
      "[CV] END ................................ score: (test=0.802) total time=   0.0s\n",
      "[CV] END ................................ score: (test=0.810) total time=   0.0s\n",
      "[CV] END ................................ score: (test=0.788) total time=   0.0s\n",
      "[CV] END ................................ score: (test=0.790) total time=   0.0s\n",
      "[CV] END ................................ score: (test=0.799) total time=   0.0s\n",
      "[CV] END ................................ score: (test=0.806) total time=   0.0s\n",
      "[CV] END ................................ score: (test=0.782) total time=   0.0s\n",
      "[CV] END ................................ score: (test=0.819) total time=   0.0s\n",
      "[CV] END ................................ score: (test=0.835) total time=   0.0s\n"
     ]
    },
    {
     "name": "stderr",
     "output_type": "stream",
     "text": [
      "[Parallel(n_jobs=1)]: Done   1 out of   1 | elapsed:    0.0s remaining:    0.0s\n",
      "[Parallel(n_jobs=1)]: Done   2 out of   2 | elapsed:    0.0s remaining:    0.0s\n",
      "[Parallel(n_jobs=1)]: Done  10 out of  10 | elapsed:    0.1s finished\n",
      "[Parallel(n_jobs=1)]: Using backend SequentialBackend with 1 concurrent workers.\n",
      "[Parallel(n_jobs=1)]: Done   1 out of   1 | elapsed:    0.0s remaining:    0.0s\n",
      "[Parallel(n_jobs=1)]: Done   2 out of   2 | elapsed:    0.0s remaining:    0.0s\n"
     ]
    },
    {
     "name": "stdout",
     "output_type": "stream",
     "text": [
      "[CV] END ................................ score: (test=0.825) total time=   0.0s\n",
      "[CV] END ................................ score: (test=0.825) total time=   0.0s\n",
      "[CV] END ................................ score: (test=0.833) total time=   0.0s\n",
      "[CV] END ................................ score: (test=0.811) total time=   0.0s\n",
      "[CV] END ................................ score: (test=0.813) total time=   0.0s\n",
      "[CV] END ................................ score: (test=0.822) total time=   0.0s\n",
      "[CV] END ................................ score: (test=0.826) total time=   0.0s\n",
      "[CV] END ................................ score: (test=0.810) total time=   0.0s\n",
      "[CV] END ................................ score: (test=0.843) total time=   0.0s\n",
      "[CV] END ................................ score: (test=0.862) total time=   0.0s\n",
      "[CV] END ................................ score: (test=0.850) total time=   0.0s\n",
      "[CV] END ................................ score: (test=0.850) total time=   0.0s\n",
      "[CV] END ................................ score: (test=0.858) total time=   0.0s\n",
      "[CV] END ................................ score: (test=0.839) total time=   0.0s\n",
      "[CV] END ................................ score: (test=0.839) total time=   0.0s\n",
      "[CV] END ................................ score: (test=0.852) total time=   0.0s\n",
      "[CV] END ................................ score: (test=0.851) total time=   0.0s\n",
      "[CV] END ................................ score: (test=0.840) total time=   0.0s\n",
      "[CV] END ................................ score: (test=0.869) total time=   0.0s\n",
      "[CV] END ................................ score: (test=0.886) total time=   0.0s\n",
      "[CV] END ................................ score: (test=0.880) total time=   0.0s\n",
      "[CV] END ................................ score: (test=0.875) total time=   0.0s\n",
      "[CV] END ................................ score: (test=0.885) total time=   0.0s\n",
      "[CV] END ................................ score: (test=0.873) total time=   0.0s\n"
     ]
    },
    {
     "name": "stderr",
     "output_type": "stream",
     "text": [
      "[Parallel(n_jobs=1)]: Done  10 out of  10 | elapsed:    0.1s finished\n",
      "[Parallel(n_jobs=1)]: Using backend SequentialBackend with 1 concurrent workers.\n",
      "[Parallel(n_jobs=1)]: Done   1 out of   1 | elapsed:    0.0s remaining:    0.0s\n",
      "[Parallel(n_jobs=1)]: Done   2 out of   2 | elapsed:    0.0s remaining:    0.0s\n",
      "[Parallel(n_jobs=1)]: Done  10 out of  10 | elapsed:    0.1s finished\n",
      "[Parallel(n_jobs=1)]: Using backend SequentialBackend with 1 concurrent workers.\n",
      "[Parallel(n_jobs=1)]: Done   1 out of   1 | elapsed:    0.0s remaining:    0.0s\n"
     ]
    },
    {
     "name": "stdout",
     "output_type": "stream",
     "text": [
      "[CV] END ................................ score: (test=0.866) total time=   0.0s\n",
      "[CV] END ................................ score: (test=0.884) total time=   0.0s\n",
      "[CV] END ................................ score: (test=0.882) total time=   0.0s\n",
      "[CV] END ................................ score: (test=0.876) total time=   0.0s\n",
      "[CV] END ................................ score: (test=0.897) total time=   0.0s\n",
      "[CV] END ................................ score: (test=0.909) total time=   0.0s\n",
      "[CV] END ................................ score: (test=0.902) total time=   0.0s\n",
      "[CV] END ................................ score: (test=0.897) total time=   0.0s\n",
      "[CV] END ................................ score: (test=0.907) total time=   0.0s\n",
      "[CV] END ................................ score: (test=0.902) total time=   0.0s\n",
      "[CV] END ................................ score: (test=0.891) total time=   0.0s\n",
      "[CV] END ................................ score: (test=0.911) total time=   0.0s\n"
     ]
    },
    {
     "name": "stderr",
     "output_type": "stream",
     "text": [
      "[Parallel(n_jobs=1)]: Done   2 out of   2 | elapsed:    0.0s remaining:    0.0s\n",
      "[Parallel(n_jobs=1)]: Done  10 out of  10 | elapsed:    0.1s finished\n",
      "[Parallel(n_jobs=1)]: Using backend SequentialBackend with 1 concurrent workers.\n",
      "[Parallel(n_jobs=1)]: Done   1 out of   1 | elapsed:    0.0s remaining:    0.0s\n"
     ]
    },
    {
     "name": "stdout",
     "output_type": "stream",
     "text": [
      "[CV] END ................................ score: (test=0.904) total time=   0.0s\n",
      "[CV] END ................................ score: (test=0.905) total time=   0.0s\n",
      "[CV] END ................................ score: (test=0.913) total time=   0.0s\n",
      "[CV] END ................................ score: (test=0.907) total time=   0.0s\n",
      "[CV] END ................................ score: (test=0.900) total time=   0.0s\n",
      "[CV] END ................................ score: (test=0.894) total time=   0.0s\n",
      "[CV] END ................................ score: (test=0.906) total time=   0.0s\n",
      "[CV] END ................................ score: (test=0.899) total time=   0.0s\n",
      "[CV] END ................................ score: (test=0.891) total time=   0.0s\n",
      "[CV] END ................................ score: (test=0.907) total time=   0.0s\n",
      "[CV] END ................................ score: (test=0.898) total time=   0.0s\n",
      "[CV] END ................................ score: (test=0.902) total time=   0.0s\n"
     ]
    },
    {
     "name": "stderr",
     "output_type": "stream",
     "text": [
      "[Parallel(n_jobs=1)]: Done   2 out of   2 | elapsed:    0.0s remaining:    0.0s\n",
      "[Parallel(n_jobs=1)]: Done  10 out of  10 | elapsed:    0.1s finished\n",
      "[Parallel(n_jobs=1)]: Using backend SequentialBackend with 1 concurrent workers.\n",
      "[Parallel(n_jobs=1)]: Done   1 out of   1 | elapsed:    0.0s remaining:    0.0s\n",
      "[Parallel(n_jobs=1)]: Done   2 out of   2 | elapsed:    0.0s remaining:    0.0s\n"
     ]
    },
    {
     "name": "stdout",
     "output_type": "stream",
     "text": [
      "[CV] END ................................ score: (test=0.910) total time=   0.0s\n",
      "[CV] END ................................ score: (test=0.719) total time=   0.0s\n",
      "[CV] END ................................ score: (test=0.701) total time=   0.0s\n",
      "[CV] END ................................ score: (test=0.693) total time=   0.0s\n",
      "[CV] END ................................ score: (test=0.713) total time=   0.0s\n",
      "[CV] END ................................ score: (test=0.682) total time=   0.0s\n",
      "[CV] END ................................ score: (test=0.684) total time=   0.0s\n",
      "[CV] END ................................ score: (test=0.706) total time=   0.0s\n",
      "[CV] END ................................ score: (test=0.718) total time=   0.0s\n",
      "[CV] END ................................ score: (test=0.701) total time=   0.0s\n",
      "[CV] END ................................ score: (test=0.708) total time=   0.0s\n"
     ]
    },
    {
     "name": "stderr",
     "output_type": "stream",
     "text": [
      "[Parallel(n_jobs=1)]: Done  10 out of  10 | elapsed:    0.1s finished\n",
      "[Parallel(n_jobs=1)]: Using backend SequentialBackend with 1 concurrent workers.\n",
      "[Parallel(n_jobs=1)]: Done   1 out of   1 | elapsed:    0.0s remaining:    0.0s\n",
      "[Parallel(n_jobs=1)]: Done   2 out of   2 | elapsed:    0.0s remaining:    0.0s\n",
      "[Parallel(n_jobs=1)]: Done  10 out of  10 | elapsed:    0.1s finished\n",
      "[Parallel(n_jobs=1)]: Using backend SequentialBackend with 1 concurrent workers.\n",
      "[Parallel(n_jobs=1)]: Done   1 out of   1 | elapsed:    0.0s remaining:    0.0s\n"
     ]
    },
    {
     "name": "stdout",
     "output_type": "stream",
     "text": [
      "[CV] END ................................ score: (test=0.557) total time=   0.0s\n",
      "[CV] END ................................ score: (test=0.551) total time=   0.0s\n",
      "[CV] END ................................ score: (test=0.550) total time=   0.0s\n",
      "[CV] END ................................ score: (test=0.558) total time=   0.0s\n",
      "[CV] END ................................ score: (test=0.539) total time=   0.0s\n",
      "[CV] END ................................ score: (test=0.527) total time=   0.0s\n",
      "[CV] END ................................ score: (test=0.552) total time=   0.0s\n",
      "[CV] END ................................ score: (test=0.552) total time=   0.0s\n",
      "[CV] END ................................ score: (test=0.543) total time=   0.0s\n",
      "[CV] END ................................ score: (test=0.549) total time=   0.0s\n",
      "[CV] END ................................ score: (test=0.522) total time=   0.0s\n",
      "[CV] END ................................ score: (test=0.520) total time=   0.0s\n"
     ]
    },
    {
     "name": "stderr",
     "output_type": "stream",
     "text": [
      "[Parallel(n_jobs=1)]: Done   2 out of   2 | elapsed:    0.0s remaining:    0.0s\n",
      "[Parallel(n_jobs=1)]: Done  10 out of  10 | elapsed:    0.1s finished\n",
      "[Parallel(n_jobs=1)]: Using backend SequentialBackend with 1 concurrent workers.\n",
      "[Parallel(n_jobs=1)]: Done   1 out of   1 | elapsed:    0.0s remaining:    0.0s\n",
      "[Parallel(n_jobs=1)]: Done   2 out of   2 | elapsed:    0.0s remaining:    0.0s\n"
     ]
    },
    {
     "name": "stdout",
     "output_type": "stream",
     "text": [
      "[CV] END ................................ score: (test=0.511) total time=   0.0s\n",
      "[CV] END ................................ score: (test=0.524) total time=   0.0s\n",
      "[CV] END ................................ score: (test=0.507) total time=   0.0s\n",
      "[CV] END ................................ score: (test=0.495) total time=   0.0s\n",
      "[CV] END ................................ score: (test=0.514) total time=   0.0s\n",
      "[CV] END ................................ score: (test=0.522) total time=   0.0s\n",
      "[CV] END ................................ score: (test=0.507) total time=   0.0s\n",
      "[CV] END ................................ score: (test=0.520) total time=   0.0s\n",
      "[CV] END ................................ score: (test=0.479) total time=   0.0s\n",
      "[CV] END ................................ score: (test=0.482) total time=   0.0s\n",
      "[CV] END ................................ score: (test=0.467) total time=   0.0s\n",
      "[CV] END ................................ score: (test=0.486) total time=   0.0s\n",
      "[CV] END ................................ score: (test=0.471) total time=   0.0s\n",
      "[CV] END ................................ score: (test=0.458) total time=   0.0s\n",
      "[CV] END ................................ score: (test=0.465) total time=   0.0s\n",
      "[CV] END ................................ score: (test=0.482) total time=   0.0s\n",
      "[CV] END ................................ score: (test=0.467) total time=   0.0s\n",
      "[CV] END ................................ score: (test=0.479) total time=   0.0s\n",
      "[CV] END ................................ score: (test=0.443) total time=   0.0s\n",
      "[CV] END ................................ score: (test=0.450) total time=   0.0s\n",
      "[CV] END ................................ score: (test=0.433) total time=   0.0s\n",
      "[CV] END ................................ score: (test=0.450) total time=   0.0s\n",
      "[CV] END ................................ score: (test=0.443) total time=   0.0s\n",
      "[CV] END ................................ score: (test=0.428) total time=   0.0s\n",
      "[CV] END ................................ score: (test=0.428) total time=   0.0s\n",
      "[CV] END ................................ score: (test=0.450) total time=   0.0s\n",
      "[CV] END ................................ score: (test=0.433) total time=   0.0s\n",
      "[CV] END ................................ score: (test=0.446) total time=   0.0s\n"
     ]
    },
    {
     "name": "stderr",
     "output_type": "stream",
     "text": [
      "[Parallel(n_jobs=1)]: Done  10 out of  10 | elapsed:    0.1s finished\n",
      "[Parallel(n_jobs=1)]: Using backend SequentialBackend with 1 concurrent workers.\n",
      "[Parallel(n_jobs=1)]: Done   1 out of   1 | elapsed:    0.0s remaining:    0.0s\n",
      "[Parallel(n_jobs=1)]: Done   2 out of   2 | elapsed:    0.0s remaining:    0.0s\n",
      "[Parallel(n_jobs=1)]: Done  10 out of  10 | elapsed:    0.1s finished\n"
     ]
    }
   ],
   "source": [
    "alpha = [10**-5 ,10**-4 ,10**-3, 10**-2, 10**-1, 10**0, 10**1, 10**2 ,10**3 ,10**4 ,10**5]\n",
    "\n",
    "cv_scores = []\n",
    "\n",
    "for i in alpha:\n",
    "    bow_nb = MultinomialNB(alpha=i)\n",
    "\n",
    "    scores = cross_val_score(bow_nb, X_train_bow, y_train,\n",
    "                             cv=10, scoring='roc_auc', n_jobs=1,verbose=3)\n",
    "\n",
    "    cv_scores.append(scores.mean())\n"
   ]
  },
  {
   "cell_type": "code",
   "execution_count": 29,
   "metadata": {},
   "outputs": [
    {
     "data": {
      "image/png": "[encoded data removed]",
      "text/plain": [
       "<Figure size 432x288 with 1 Axes>"
      ]
     },
     "metadata": {
      "needs_background": "light"
     },
     "output_type": "display_data"
    }
   ],
   "source": [
    "error = [1 - x for x in cv_scores]\n",
    "optimal_value_of_alpha_bow = alpha[error.index(min(error))]\n",
    "\n",
    "plt.plot(alpha, error)\n",
    "xy = (optimal_value_of_alpha_bow, min(error))\n",
    "\n",
    "plt.grid('True')\n",
    "plt.annotate('(%s, %s)' % xy, xy=xy, textcoords='data')\n",
    "plt.xlabel('Value of alpha')\n",
    "plt.ylabel(\"Misclassification Error\")\n",
    "plt.show()"
   ]
  },
  {
   "cell_type": "markdown",
   "metadata": {},
   "source": [
    "### 1.2 Model Building (BoW)"
   ]
  },
  {
   "cell_type": "code",
   "execution_count": 30,
   "metadata": {},
   "outputs": [],
   "source": [
    "model_bow = MultinomialNB(alpha=optimal_value_of_alpha_bow)\n",
    "\n",
    "model_bow.fit(X_train_bow, y_train)\n",
    "\n",
    "# predicted values for train & test data\n",
    "y_pred_bow = model_bow.predict_proba(X_train_bow)[:, 1]\n",
    "y_pred_bow_test = model_bow.predict_proba(X_test_bow)[:, 1]"
   ]
  },
  {
   "cell_type": "markdown",
   "metadata": {},
   "source": [
    "### 1.3 Model Evaluation (BoW)"
   ]
  },
  {
   "cell_type": "code",
   "execution_count": 31,
   "metadata": {},
   "outputs": [
    {
     "name": "stdout",
     "output_type": "stream",
     "text": [
      "Accuracy of BoW model :  0.9019481259256447\n"
     ]
    }
   ],
   "source": [
    "print('Accuracy of BoW model : ',model_bow.score(X_test_bow, y_test))\n"
   ]
  },
  {
   "cell_type": "code",
   "execution_count": 32,
   "metadata": {},
   "outputs": [
    {
     "data": {
      "image/png": "[encoded data removed]",
      "text/plain": [
       "<Figure size 432x288 with 1 Axes>"
      ]
     },
     "metadata": {
      "needs_background": "light"
     },
     "output_type": "display_data"
    }
   ],
   "source": [
    "# plotting ROC curve for train & test data\n",
    "\n",
    "false_positive_rate1, true_positive_rate1, threshold1 = roc_curve(y_train, y_pred_bow)\n",
    "false_positive_rate2, true_positive_rate2, threshold2 = roc_curve(y_test, y_pred_bow_test)\n",
    "\n",
    "fig = plt.figure()\n",
    "ax = plt.subplot(111)\n",
    "\n",
    "# train ROC\n",
    "ax.plot(false_positive_rate1, true_positive_rate1, label='Train ROC ,auc ={}'.format(str(roc_auc_score(y_train, y_pred_bow))))\n",
    "\n",
    "# test ROC\n",
    "ax.plot(false_positive_rate2, true_positive_rate2, label='Test ROC ,auc ={}'.format(str(roc_auc_score(y_test, y_pred_bow_test))))\n",
    "\n",
    "plt.title('ROC')\n",
    "plt.grid('True')\n",
    "plt.xlabel('False Positive Rate')\n",
    "plt.ylabel('True Positive Rate')\n",
    "ax.legend()\n",
    "plt.show()\n"
   ]
  },
  {
   "cell_type": "code",
   "execution_count": 33,
   "metadata": {},
   "outputs": [
    {
     "data": {
      "image/png": "[encoded data removed]",
      "text/plain": [
       "<Figure size 432x288 with 2 Axes>"
      ]
     },
     "metadata": {
      "needs_background": "light"
     },
     "output_type": "display_data"
    }
   ],
   "source": [
    "# confusion Matrix for train data\n",
    "y_pred_bow = model_bow.predict(X_train_bow)\n",
    "\n",
    "confusion = confusion_matrix(y_train, y_pred_bow)\n",
    "class_labels = [\"negative\", \"positive\"]\n",
    "\n",
    "cf_data = pd.DataFrame(confusion, index=class_labels, columns=class_labels)\n",
    "sns.heatmap(cf_data, annot=True, fmt='.5g')\n",
    "\n",
    "plt.title(\"Confusion Matrix for train data\")\n",
    "plt.xlabel(\"Predicted Label\")\n",
    "plt.ylabel(\"True Label\")\n",
    "plt.show()\n"
   ]
  },
  {
   "cell_type": "code",
   "execution_count": 34,
   "metadata": {},
   "outputs": [
    {
     "data": {
      "image/png": "[encoded data removed]",
      "text/plain": [
       "<Figure size 432x288 with 2 Axes>"
      ]
     },
     "metadata": {
      "needs_background": "light"
     },
     "output_type": "display_data"
    }
   ],
   "source": [
    "# confusion Matrix for test data\n",
    "y_pred_bow_test = model_bow.predict(X_test_bow)\n",
    "\n",
    "confusion = confusion_matrix(y_test, y_pred_bow_test)\n",
    "class_labels = [\"negative\", \"positive\"]\n",
    "\n",
    "cf_data = pd.DataFrame(confusion, index=class_labels, columns=class_labels)\n",
    "sns.heatmap(cf_data, annot=True, fmt='.5g')\n",
    "\n",
    "plt.title(\"Confusion Matrix for test data\")\n",
    "plt.xlabel(\"Predicted Label\")\n",
    "plt.ylabel(\"True Label\")\n",
    "plt.show()"
   ]
  },
  {
   "cell_type": "markdown",
   "metadata": {},
   "source": [
    "### 1.4 Feature Importance (BoW)"
   ]
  },
  {
   "cell_type": "code",
   "execution_count": 35,
   "metadata": {},
   "outputs": [],
   "source": [
    "labels = ['negative' ,'positive']\n",
    "\n",
    "def feature_importance(feature_names ,model):\n",
    "    features = pd.DataFrame(data=model.feature_log_prob_.T ,index=feature_names ,columns=labels)\n",
    "\n",
    "    positive = features.sort_values(by='positive' ,ascending=False)[0:10]\n",
    "    negative = features.sort_values(by='negative' ,ascending=False)[0:10]\n",
    "\n",
    "    return (positive ,negative)"
   ]
  },
  {
   "cell_type": "code",
   "execution_count": 36,
   "metadata": {},
   "outputs": [],
   "source": [
    "positive_features ,negative_features = feature_importance(vectorizer.get_feature_names_out() ,model_bow)"
   ]
  },
  {
   "cell_type": "code",
   "execution_count": 37,
   "metadata": {},
   "outputs": [
    {
     "data": {
      "text/html": [
       "<div>\n",
       "<style scoped>\n",
       "    .dataframe tbody tr th:only-of-type {\n",
       "        vertical-align: middle;\n",
       "    }\n",
       "\n",
       "    .dataframe tbody tr th {\n",
       "        vertical-align: top;\n",
       "    }\n",
       "\n",
       "    .dataframe thead th {\n",
       "        text-align: right;\n",
       "    }\n",
       "</style>\n",
       "<table border=\"1\" class=\"dataframe\">\n",
       "  <thead>\n",
       "    <tr style=\"text-align: right;\">\n",
       "      <th></th>\n",
       "      <th>negative</th>\n",
       "      <th>positive</th>\n",
       "    </tr>\n",
       "  </thead>\n",
       "  <tbody>\n",
       "    <tr>\n",
       "      <th>not</th>\n",
       "      <td>-3.273780</td>\n",
       "      <td>-3.721051</td>\n",
       "    </tr>\n",
       "    <tr>\n",
       "      <th>like</th>\n",
       "      <td>-4.367713</td>\n",
       "      <td>-4.525767</td>\n",
       "    </tr>\n",
       "    <tr>\n",
       "      <th>good</th>\n",
       "      <td>-5.107377</td>\n",
       "      <td>-4.677263</td>\n",
       "    </tr>\n",
       "    <tr>\n",
       "      <th>great</th>\n",
       "      <td>-6.054929</td>\n",
       "      <td>-4.751916</td>\n",
       "    </tr>\n",
       "    <tr>\n",
       "      <th>one</th>\n",
       "      <td>-4.857640</td>\n",
       "      <td>-4.883274</td>\n",
       "    </tr>\n",
       "    <tr>\n",
       "      <th>taste</th>\n",
       "      <td>-4.685996</td>\n",
       "      <td>-4.971608</td>\n",
       "    </tr>\n",
       "    <tr>\n",
       "      <th>coffee</th>\n",
       "      <td>-5.132596</td>\n",
       "      <td>-5.028115</td>\n",
       "    </tr>\n",
       "    <tr>\n",
       "      <th>would</th>\n",
       "      <td>-4.649376</td>\n",
       "      <td>-5.047388</td>\n",
       "    </tr>\n",
       "    <tr>\n",
       "      <th>flavor</th>\n",
       "      <td>-5.186783</td>\n",
       "      <td>-5.075420</td>\n",
       "    </tr>\n",
       "    <tr>\n",
       "      <th>love</th>\n",
       "      <td>-5.993984</td>\n",
       "      <td>-5.095868</td>\n",
       "    </tr>\n",
       "  </tbody>\n",
       "</table>\n",
       "</div>"
      ],
      "text/plain": [
       "        negative  positive\n",
       "not    -3.273780 -3.721051\n",
       "like   -4.367713 -4.525767\n",
       "good   -5.107377 -4.677263\n",
       "great  -6.054929 -4.751916\n",
       "one    -4.857640 -4.883274\n",
       "taste  -4.685996 -4.971608\n",
       "coffee -5.132596 -5.028115\n",
       "would  -4.649376 -5.047388\n",
       "flavor -5.186783 -5.075420\n",
       "love   -5.993984 -5.095868"
      ]
     },
     "execution_count": 37,
     "metadata": {},
     "output_type": "execute_result"
    }
   ],
   "source": [
    "# top 10 positive features \n",
    "positive_features"
   ]
  },
  {
   "cell_type": "code",
   "execution_count": 38,
   "metadata": {},
   "outputs": [
    {
     "data": {
      "text/html": [
       "<div>\n",
       "<style scoped>\n",
       "    .dataframe tbody tr th:only-of-type {\n",
       "        vertical-align: middle;\n",
       "    }\n",
       "\n",
       "    .dataframe tbody tr th {\n",
       "        vertical-align: top;\n",
       "    }\n",
       "\n",
       "    .dataframe thead th {\n",
       "        text-align: right;\n",
       "    }\n",
       "</style>\n",
       "<table border=\"1\" class=\"dataframe\">\n",
       "  <thead>\n",
       "    <tr style=\"text-align: right;\">\n",
       "      <th></th>\n",
       "      <th>negative</th>\n",
       "      <th>positive</th>\n",
       "    </tr>\n",
       "  </thead>\n",
       "  <tbody>\n",
       "    <tr>\n",
       "      <th>not</th>\n",
       "      <td>-3.273780</td>\n",
       "      <td>-3.721051</td>\n",
       "    </tr>\n",
       "    <tr>\n",
       "      <th>like</th>\n",
       "      <td>-4.367713</td>\n",
       "      <td>-4.525767</td>\n",
       "    </tr>\n",
       "    <tr>\n",
       "      <th>would</th>\n",
       "      <td>-4.649376</td>\n",
       "      <td>-5.047388</td>\n",
       "    </tr>\n",
       "    <tr>\n",
       "      <th>taste</th>\n",
       "      <td>-4.685996</td>\n",
       "      <td>-4.971608</td>\n",
       "    </tr>\n",
       "    <tr>\n",
       "      <th>product</th>\n",
       "      <td>-4.716289</td>\n",
       "      <td>-5.121972</td>\n",
       "    </tr>\n",
       "    <tr>\n",
       "      <th>one</th>\n",
       "      <td>-4.857640</td>\n",
       "      <td>-4.883274</td>\n",
       "    </tr>\n",
       "    <tr>\n",
       "      <th>good</th>\n",
       "      <td>-5.107377</td>\n",
       "      <td>-4.677263</td>\n",
       "    </tr>\n",
       "    <tr>\n",
       "      <th>coffee</th>\n",
       "      <td>-5.132596</td>\n",
       "      <td>-5.028115</td>\n",
       "    </tr>\n",
       "    <tr>\n",
       "      <th>no</th>\n",
       "      <td>-5.185027</td>\n",
       "      <td>-5.366363</td>\n",
       "    </tr>\n",
       "    <tr>\n",
       "      <th>flavor</th>\n",
       "      <td>-5.186783</td>\n",
       "      <td>-5.075420</td>\n",
       "    </tr>\n",
       "  </tbody>\n",
       "</table>\n",
       "</div>"
      ],
      "text/plain": [
       "         negative  positive\n",
       "not     -3.273780 -3.721051\n",
       "like    -4.367713 -4.525767\n",
       "would   -4.649376 -5.047388\n",
       "taste   -4.685996 -4.971608\n",
       "product -4.716289 -5.121972\n",
       "one     -4.857640 -4.883274\n",
       "good    -5.107377 -4.677263\n",
       "coffee  -5.132596 -5.028115\n",
       "no      -5.185027 -5.366363\n",
       "flavor  -5.186783 -5.075420"
      ]
     },
     "execution_count": 38,
     "metadata": {},
     "output_type": "execute_result"
    }
   ],
   "source": [
    "# top 10 negative features\n",
    "negative_features"
   ]
  },
  {
   "cell_type": "markdown",
   "metadata": {},
   "source": [
    "## 2. TFIDF"
   ]
  },
  {
   "cell_type": "code",
   "execution_count": 39,
   "metadata": {},
   "outputs": [],
   "source": [
    "tfidf = TfidfVectorizer(ngram_range=(1, 2), min_df=10)\n",
    "\n",
    "X_train_tfidf = tfidf.fit_transform(X_train)\n",
    "X_test_tfidf = tfidf.transform(X_test)\n",
    "X_val_tfidf = tfidf.transform(X_val)\n"
   ]
  },
  {
   "cell_type": "markdown",
   "metadata": {},
   "source": [
    "### 2.1 Hyperparameter Tuning"
   ]
  },
  {
   "cell_type": "code",
   "execution_count": 40,
   "metadata": {},
   "outputs": [
    {
     "name": "stderr",
     "output_type": "stream",
     "text": [
      "[Parallel(n_jobs=1)]: Using backend SequentialBackend with 1 concurrent workers.\n",
      "[Parallel(n_jobs=1)]: Done   1 out of   1 | elapsed:    0.0s remaining:    0.0s\n",
      "[Parallel(n_jobs=1)]: Done   2 out of   2 | elapsed:    0.0s remaining:    0.0s\n",
      "[Parallel(n_jobs=1)]: Done  10 out of  10 | elapsed:    0.1s finished\n",
      "[Parallel(n_jobs=1)]: Using backend SequentialBackend with 1 concurrent workers.\n",
      "[Parallel(n_jobs=1)]: Done   1 out of   1 | elapsed:    0.0s remaining:    0.0s\n"
     ]
    },
    {
     "name": "stdout",
     "output_type": "stream",
     "text": [
      "[CV] END ................................ score: (test=0.813) total time=   0.0s\n",
      "[CV] END ................................ score: (test=0.805) total time=   0.0s\n",
      "[CV] END ................................ score: (test=0.802) total time=   0.0s\n",
      "[CV] END ................................ score: (test=0.810) total time=   0.0s\n",
      "[CV] END ................................ score: (test=0.788) total time=   0.0s\n",
      "[CV] END ................................ score: (test=0.790) total time=   0.0s\n",
      "[CV] END ................................ score: (test=0.799) total time=   0.0s\n",
      "[CV] END ................................ score: (test=0.806) total time=   0.0s\n",
      "[CV] END ................................ score: (test=0.782) total time=   0.0s\n",
      "[CV] END ................................ score: (test=0.819) total time=   0.0s\n",
      "[CV] END ................................ score: (test=0.835) total time=   0.0s\n",
      "[CV] END ................................ score: (test=0.825) total time=   0.0s\n"
     ]
    },
    {
     "name": "stderr",
     "output_type": "stream",
     "text": [
      "[Parallel(n_jobs=1)]: Done   2 out of   2 | elapsed:    0.0s remaining:    0.0s\n",
      "[Parallel(n_jobs=1)]: Done  10 out of  10 | elapsed:    0.1s finished\n",
      "[Parallel(n_jobs=1)]: Using backend SequentialBackend with 1 concurrent workers.\n",
      "[Parallel(n_jobs=1)]: Done   1 out of   1 | elapsed:    0.0s remaining:    0.0s\n"
     ]
    },
    {
     "name": "stdout",
     "output_type": "stream",
     "text": [
      "[CV] END ................................ score: (test=0.825) total time=   0.0s\n",
      "[CV] END ................................ score: (test=0.833) total time=   0.0s\n",
      "[CV] END ................................ score: (test=0.811) total time=   0.0s\n",
      "[CV] END ................................ score: (test=0.813) total time=   0.0s\n",
      "[CV] END ................................ score: (test=0.822) total time=   0.0s\n",
      "[CV] END ................................ score: (test=0.826) total time=   0.0s\n",
      "[CV] END ................................ score: (test=0.810) total time=   0.0s\n",
      "[CV] END ................................ score: (test=0.843) total time=   0.0s\n",
      "[CV] END ................................ score: (test=0.862) total time=   0.0s\n",
      "[CV] END ................................ score: (test=0.850) total time=   0.0s\n",
      "[CV] END ................................ score: (test=0.850) total time=   0.0s\n",
      "[CV] END ................................ score: (test=0.858) total time=   0.0s\n"
     ]
    },
    {
     "name": "stderr",
     "output_type": "stream",
     "text": [
      "[Parallel(n_jobs=1)]: Done   2 out of   2 | elapsed:    0.0s remaining:    0.0s\n",
      "[Parallel(n_jobs=1)]: Done  10 out of  10 | elapsed:    0.1s finished\n",
      "[Parallel(n_jobs=1)]: Using backend SequentialBackend with 1 concurrent workers.\n",
      "[Parallel(n_jobs=1)]: Done   1 out of   1 | elapsed:    0.0s remaining:    0.0s\n",
      "[Parallel(n_jobs=1)]: Done   2 out of   2 | elapsed:    0.0s remaining:    0.0s\n"
     ]
    },
    {
     "name": "stdout",
     "output_type": "stream",
     "text": [
      "[CV] END ................................ score: (test=0.839) total time=   0.0s\n",
      "[CV] END ................................ score: (test=0.839) total time=   0.0s\n",
      "[CV] END ................................ score: (test=0.852) total time=   0.0s\n",
      "[CV] END ................................ score: (test=0.851) total time=   0.0s\n",
      "[CV] END ................................ score: (test=0.840) total time=   0.0s\n",
      "[CV] END ................................ score: (test=0.869) total time=   0.0s\n",
      "[CV] END ................................ score: (test=0.886) total time=   0.0s\n",
      "[CV] END ................................ score: (test=0.880) total time=   0.0s\n",
      "[CV] END ................................ score: (test=0.875) total time=   0.0s\n",
      "[CV] END ................................ score: (test=0.885) total time=   0.0s\n",
      "[CV] END ................................ score: (test=0.873) total time=   0.0s\n"
     ]
    },
    {
     "name": "stderr",
     "output_type": "stream",
     "text": [
      "[Parallel(n_jobs=1)]: Done  10 out of  10 | elapsed:    0.1s finished\n",
      "[Parallel(n_jobs=1)]: Using backend SequentialBackend with 1 concurrent workers.\n",
      "[Parallel(n_jobs=1)]: Done   1 out of   1 | elapsed:    0.0s remaining:    0.0s\n",
      "[Parallel(n_jobs=1)]: Done   2 out of   2 | elapsed:    0.0s remaining:    0.0s\n"
     ]
    },
    {
     "name": "stdout",
     "output_type": "stream",
     "text": [
      "[CV] END ................................ score: (test=0.866) total time=   0.0s\n",
      "[CV] END ................................ score: (test=0.884) total time=   0.0s\n",
      "[CV] END ................................ score: (test=0.882) total time=   0.0s\n",
      "[CV] END ................................ score: (test=0.876) total time=   0.0s\n",
      "[CV] END ................................ score: (test=0.897) total time=   0.0s\n",
      "[CV] END ................................ score: (test=0.909) total time=   0.0s\n",
      "[CV] END ................................ score: (test=0.902) total time=   0.0s\n",
      "[CV] END ................................ score: (test=0.897) total time=   0.0s\n",
      "[CV] END ................................ score: (test=0.907) total time=   0.0s\n",
      "[CV] END ................................ score: (test=0.902) total time=   0.0s\n",
      "[CV] END ................................ score: (test=0.891) total time=   0.0s\n",
      "[CV] END ................................ score: (test=0.911) total time=   0.0s\n",
      "[CV] END ................................ score: (test=0.904) total time=   0.0s\n",
      "[CV] END ................................ score: (test=0.905) total time=   0.0s\n",
      "[CV] END ................................ score: (test=0.913) total time=   0.0s\n",
      "[CV] END ................................ score: (test=0.907) total time=   0.0s\n",
      "[CV] END ................................ score: (test=0.900) total time=   0.0s\n",
      "[CV] END ................................ score: (test=0.894) total time=   0.0s\n",
      "[CV] END ................................ score: (test=0.906) total time=   0.0s\n",
      "[CV] END ................................ score: (test=0.899) total time=   0.0s\n",
      "[CV] END ................................ score: (test=0.891) total time=   0.0s\n",
      "[CV] END ................................ score: (test=0.907) total time=   0.0s\n",
      "[CV] END ................................ score: (test=0.898) total time=   0.0s\n"
     ]
    },
    {
     "name": "stderr",
     "output_type": "stream",
     "text": [
      "[Parallel(n_jobs=1)]: Done  10 out of  10 | elapsed:    0.1s finished\n",
      "[Parallel(n_jobs=1)]: Using backend SequentialBackend with 1 concurrent workers.\n",
      "[Parallel(n_jobs=1)]: Done   1 out of   1 | elapsed:    0.0s remaining:    0.0s\n",
      "[Parallel(n_jobs=1)]: Done   2 out of   2 | elapsed:    0.0s remaining:    0.0s\n",
      "[Parallel(n_jobs=1)]: Done  10 out of  10 | elapsed:    0.1s finished\n",
      "[Parallel(n_jobs=1)]: Using backend SequentialBackend with 1 concurrent workers.\n",
      "[Parallel(n_jobs=1)]: Done   1 out of   1 | elapsed:    0.0s remaining:    0.0s\n"
     ]
    },
    {
     "name": "stdout",
     "output_type": "stream",
     "text": [
      "[CV] END ................................ score: (test=0.902) total time=   0.0s\n",
      "[CV] END ................................ score: (test=0.910) total time=   0.0s\n",
      "[CV] END ................................ score: (test=0.719) total time=   0.0s\n",
      "[CV] END ................................ score: (test=0.701) total time=   0.0s\n",
      "[CV] END ................................ score: (test=0.693) total time=   0.0s\n",
      "[CV] END ................................ score: (test=0.713) total time=   0.0s\n",
      "[CV] END ................................ score: (test=0.682) total time=   0.0s\n",
      "[CV] END ................................ score: (test=0.684) total time=   0.0s\n",
      "[CV] END ................................ score: (test=0.706) total time=   0.0s\n",
      "[CV] END ................................ score: (test=0.718) total time=   0.0s\n",
      "[CV] END ................................ score: (test=0.701) total time=   0.0s\n"
     ]
    },
    {
     "name": "stderr",
     "output_type": "stream",
     "text": [
      "[Parallel(n_jobs=1)]: Done   2 out of   2 | elapsed:    0.0s remaining:    0.0s\n",
      "[Parallel(n_jobs=1)]: Done  10 out of  10 | elapsed:    0.1s finished\n",
      "[Parallel(n_jobs=1)]: Using backend SequentialBackend with 1 concurrent workers.\n",
      "[Parallel(n_jobs=1)]: Done   1 out of   1 | elapsed:    0.0s remaining:    0.0s\n",
      "[Parallel(n_jobs=1)]: Done   2 out of   2 | elapsed:    0.0s remaining:    0.0s\n"
     ]
    },
    {
     "name": "stdout",
     "output_type": "stream",
     "text": [
      "[CV] END ................................ score: (test=0.708) total time=   0.0s\n",
      "[CV] END ................................ score: (test=0.557) total time=   0.0s\n",
      "[CV] END ................................ score: (test=0.551) total time=   0.0s\n",
      "[CV] END ................................ score: (test=0.550) total time=   0.0s\n",
      "[CV] END ................................ score: (test=0.558) total time=   0.0s\n",
      "[CV] END ................................ score: (test=0.539) total time=   0.0s\n",
      "[CV] END ................................ score: (test=0.527) total time=   0.0s\n",
      "[CV] END ................................ score: (test=0.552) total time=   0.0s\n",
      "[CV] END ................................ score: (test=0.552) total time=   0.0s\n",
      "[CV] END ................................ score: (test=0.543) total time=   0.0s\n",
      "[CV] END ................................ score: (test=0.549) total time=   0.0s\n",
      "[CV] END ................................ score: (test=0.522) total time=   0.0s\n"
     ]
    },
    {
     "name": "stderr",
     "output_type": "stream",
     "text": [
      "[Parallel(n_jobs=1)]: Done  10 out of  10 | elapsed:    0.1s finished\n",
      "[Parallel(n_jobs=1)]: Using backend SequentialBackend with 1 concurrent workers.\n",
      "[Parallel(n_jobs=1)]: Done   1 out of   1 | elapsed:    0.0s remaining:    0.0s\n",
      "[Parallel(n_jobs=1)]: Done   2 out of   2 | elapsed:    0.0s remaining:    0.0s\n",
      "[Parallel(n_jobs=1)]: Done  10 out of  10 | elapsed:    0.1s finished\n",
      "[Parallel(n_jobs=1)]: Using backend SequentialBackend with 1 concurrent workers.\n",
      "[Parallel(n_jobs=1)]: Done   1 out of   1 | elapsed:    0.0s remaining:    0.0s\n"
     ]
    },
    {
     "name": "stdout",
     "output_type": "stream",
     "text": [
      "[CV] END ................................ score: (test=0.520) total time=   0.0s\n",
      "[CV] END ................................ score: (test=0.511) total time=   0.0s\n",
      "[CV] END ................................ score: (test=0.524) total time=   0.0s\n",
      "[CV] END ................................ score: (test=0.507) total time=   0.0s\n",
      "[CV] END ................................ score: (test=0.495) total time=   0.0s\n",
      "[CV] END ................................ score: (test=0.514) total time=   0.0s\n",
      "[CV] END ................................ score: (test=0.522) total time=   0.0s\n",
      "[CV] END ................................ score: (test=0.507) total time=   0.0s\n",
      "[CV] END ................................ score: (test=0.520) total time=   0.0s\n",
      "[CV] END ................................ score: (test=0.479) total time=   0.0s\n",
      "[CV] END ................................ score: (test=0.482) total time=   0.0s\n",
      "[CV] END ................................ score: (test=0.467) total time=   0.0s\n"
     ]
    },
    {
     "name": "stderr",
     "output_type": "stream",
     "text": [
      "[Parallel(n_jobs=1)]: Done   2 out of   2 | elapsed:    0.0s remaining:    0.0s\n",
      "[Parallel(n_jobs=1)]: Done  10 out of  10 | elapsed:    0.1s finished\n",
      "[Parallel(n_jobs=1)]: Using backend SequentialBackend with 1 concurrent workers.\n",
      "[Parallel(n_jobs=1)]: Done   1 out of   1 | elapsed:    0.0s remaining:    0.0s\n",
      "[Parallel(n_jobs=1)]: Done   2 out of   2 | elapsed:    0.0s remaining:    0.0s\n"
     ]
    },
    {
     "name": "stdout",
     "output_type": "stream",
     "text": [
      "[CV] END ................................ score: (test=0.486) total time=   0.0s\n",
      "[CV] END ................................ score: (test=0.471) total time=   0.0s\n",
      "[CV] END ................................ score: (test=0.458) total time=   0.0s\n",
      "[CV] END ................................ score: (test=0.465) total time=   0.0s\n",
      "[CV] END ................................ score: (test=0.482) total time=   0.0s\n",
      "[CV] END ................................ score: (test=0.467) total time=   0.0s\n",
      "[CV] END ................................ score: (test=0.479) total time=   0.0s\n",
      "[CV] END ................................ score: (test=0.443) total time=   0.0s\n",
      "[CV] END ................................ score: (test=0.450) total time=   0.0s\n",
      "[CV] END ................................ score: (test=0.433) total time=   0.0s\n",
      "[CV] END ................................ score: (test=0.450) total time=   0.0s\n",
      "[CV] END ................................ score: (test=0.443) total time=   0.0s\n",
      "[CV] END ................................ score: (test=0.428) total time=   0.0s\n",
      "[CV] END ................................ score: (test=0.428) total time=   0.0s\n",
      "[CV] END ................................ score: (test=0.450) total time=   0.0s\n",
      "[CV] END ................................ score: (test=0.433) total time=   0.0s\n",
      "[CV] END ................................ score: (test=0.446) total time=   0.0s\n"
     ]
    },
    {
     "name": "stderr",
     "output_type": "stream",
     "text": [
      "[Parallel(n_jobs=1)]: Done  10 out of  10 | elapsed:    0.1s finished\n"
     ]
    }
   ],
   "source": [
    "alpha = [10**-5, 10**-4, 10**-3, 10**-2, 10**-\n",
    "         1, 10**0, 10**1, 10**2, 10**3, 10**4, 10**5]\n",
    "\n",
    "cv_scores = []\n",
    "\n",
    "for i in alpha:\n",
    "    tfidf_nb = MultinomialNB(alpha=i)\n",
    "\n",
    "    scores = cross_val_score(tfidf_nb, X_train_bow, y_train,\n",
    "                             cv=10, scoring='roc_auc', n_jobs=1, verbose=3)\n",
    "\n",
    "    cv_scores.append(scores.mean())\n"
   ]
  },
  {
   "cell_type": "code",
   "execution_count": 41,
   "metadata": {},
   "outputs": [
    {
     "data": {
      "image/png": "[encoded data removed]",
      "text/plain": [
       "<Figure size 432x288 with 1 Axes>"
      ]
     },
     "metadata": {
      "needs_background": "light"
     },
     "output_type": "display_data"
    }
   ],
   "source": [
    "error = [1 - x for x in cv_scores]\n",
    "optimal_value_of_alpha_tfidf = alpha[error.index(min(error))]\n",
    "\n",
    "plt.plot(alpha, error)\n",
    "xy = (optimal_value_of_alpha_tfidf, min(error))\n",
    "\n",
    "plt.grid('True')\n",
    "plt.annotate('(%s, %s)' % xy, xy=xy, textcoords='data')\n",
    "plt.xlabel('Value of alpha')\n",
    "plt.ylabel(\"Misclassification Error\")\n",
    "plt.show()\n"
   ]
  },
  {
   "cell_type": "markdown",
   "metadata": {},
   "source": [
    "### 2.2 Model Building (TFIDF)"
   ]
  },
  {
   "cell_type": "code",
   "execution_count": 42,
   "metadata": {},
   "outputs": [],
   "source": [
    "model_tfidf = MultinomialNB(alpha=optimal_value_of_alpha_tfidf)\n",
    "\n",
    "model_tfidf.fit(X_train_tfidf, y_train)\n",
    "\n",
    "# predicted values for train & test data\n",
    "y_pred_tfidf = model_tfidf.predict_proba(X_train_tfidf)[:, 1]\n",
    "y_pred_tfidf_test = model_tfidf.predict_proba(X_test_tfidf)[:, 1]"
   ]
  },
  {
   "cell_type": "markdown",
   "metadata": {},
   "source": [
    "### 2.3 Model Evaluation (TFIDF)"
   ]
  },
  {
   "cell_type": "code",
   "execution_count": 43,
   "metadata": {},
   "outputs": [
    {
     "name": "stdout",
     "output_type": "stream",
     "text": [
      "Accuracy of TFIDF model :  0.90320130634565\n"
     ]
    }
   ],
   "source": [
    "print('Accuracy of TFIDF model : ',model_tfidf.score(X_test_tfidf, y_test))"
   ]
  },
  {
   "cell_type": "code",
   "execution_count": 44,
   "metadata": {},
   "outputs": [
    {
     "data": {
      "image/png": "[encoded data removed]",
      "text/plain": [
       "<Figure size 432x288 with 1 Axes>"
      ]
     },
     "metadata": {
      "needs_background": "light"
     },
     "output_type": "display_data"
    }
   ],
   "source": [
    "# plotting ROC curve for train & test data\n",
    "\n",
    "false_positive_rate1, true_positive_rate1, threshold1 = roc_curve(y_train, y_pred_tfidf)\n",
    "false_positive_rate2, true_positive_rate2, threshold2 = roc_curve(y_test, y_pred_tfidf_test)\n",
    "\n",
    "fig = plt.figure()\n",
    "ax = plt.subplot(111)\n",
    "\n",
    "# train ROC\n",
    "ax.plot(false_positive_rate1, true_positive_rate1, label='Train ROC ,auc ={}'.format(str(roc_auc_score(y_train, y_pred_tfidf))))\n",
    "\n",
    "# test ROC\n",
    "ax.plot(false_positive_rate2, true_positive_rate2, label='Test ROC ,auc ={}'.format(str(roc_auc_score(y_test, y_pred_tfidf_test))))\n",
    "\n",
    "plt.title('ROC')\n",
    "plt.grid('True')\n",
    "plt.xlabel('False Positive Rate')\n",
    "plt.ylabel('True Positive Rate')\n",
    "ax.legend()\n",
    "plt.show()\n"
   ]
  },
  {
   "cell_type": "code",
   "execution_count": 45,
   "metadata": {},
   "outputs": [
    {
     "data": {
      "image/png": "[encoded data removed]",
      "text/plain": [
       "<Figure size 432x288 with 2 Axes>"
      ]
     },
     "metadata": {
      "needs_background": "light"
     },
     "output_type": "display_data"
    }
   ],
   "source": [
    "# confusion Matrix for train data\n",
    "y_pred_tfidf = model_tfidf.predict(X_train_tfidf)\n",
    "\n",
    "confusion = confusion_matrix(y_train, y_pred_tfidf)\n",
    "class_labels = [\"negative\", \"positive\"]\n",
    "\n",
    "cf_data = pd.DataFrame(confusion, index=class_labels, columns=class_labels)\n",
    "sns.heatmap(cf_data, annot=True, fmt='.5g')\n",
    "\n",
    "plt.title(\"Confusion Matrix for train data\")\n",
    "plt.xlabel(\"Predicted Label\")\n",
    "plt.ylabel(\"True Label\")\n",
    "plt.show()\n"
   ]
  },
  {
   "cell_type": "code",
   "execution_count": 46,
   "metadata": {},
   "outputs": [
    {
     "data": {
      "image/png": "[encoded data removed]",
      "text/plain": [
       "<Figure size 432x288 with 2 Axes>"
      ]
     },
     "metadata": {
      "needs_background": "light"
     },
     "output_type": "display_data"
    }
   ],
   "source": [
    "# confusion Matrix for test data\n",
    "y_pred_tfidf_test = model_tfidf.predict(X_test_tfidf)\n",
    "\n",
    "confusion = confusion_matrix(y_test, y_pred_tfidf_test)\n",
    "class_labels = [\"negative\", \"positive\"]\n",
    "\n",
    "cf_data = pd.DataFrame(confusion, index=class_labels, columns=class_labels)\n",
    "sns.heatmap(cf_data, annot=True, fmt='.5g')\n",
    "\n",
    "plt.title(\"Confusion Matrix for test data\")\n",
    "plt.xlabel(\"Predicted Label\")\n",
    "plt.ylabel(\"True Label\")\n",
    "plt.show()"
   ]
  },
  {
   "cell_type": "markdown",
   "metadata": {},
   "source": [
    "### 2.4 Feature Importance (TFIDF)"
   ]
  },
  {
   "cell_type": "code",
   "execution_count": 47,
   "metadata": {},
   "outputs": [],
   "source": [
    "positive_features, negative_features = feature_importance(tfidf.get_feature_names_out(), model_tfidf)"
   ]
  },
  {
   "cell_type": "code",
   "execution_count": 48,
   "metadata": {},
   "outputs": [
    {
     "data": {
      "text/html": [
       "<div>\n",
       "<style scoped>\n",
       "    .dataframe tbody tr th:only-of-type {\n",
       "        vertical-align: middle;\n",
       "    }\n",
       "\n",
       "    .dataframe tbody tr th {\n",
       "        vertical-align: top;\n",
       "    }\n",
       "\n",
       "    .dataframe thead th {\n",
       "        text-align: right;\n",
       "    }\n",
       "</style>\n",
       "<table border=\"1\" class=\"dataframe\">\n",
       "  <thead>\n",
       "    <tr style=\"text-align: right;\">\n",
       "      <th></th>\n",
       "      <th>negative</th>\n",
       "      <th>positive</th>\n",
       "    </tr>\n",
       "  </thead>\n",
       "  <tbody>\n",
       "    <tr>\n",
       "      <th>not</th>\n",
       "      <td>-4.705348</td>\n",
       "      <td>-5.238684</td>\n",
       "    </tr>\n",
       "    <tr>\n",
       "      <th>great</th>\n",
       "      <td>-7.053186</td>\n",
       "      <td>-5.589207</td>\n",
       "    </tr>\n",
       "    <tr>\n",
       "      <th>good</th>\n",
       "      <td>-6.168541</td>\n",
       "      <td>-5.665013</td>\n",
       "    </tr>\n",
       "    <tr>\n",
       "      <th>like</th>\n",
       "      <td>-5.497589</td>\n",
       "      <td>-5.698440</td>\n",
       "    </tr>\n",
       "    <tr>\n",
       "      <th>coffee</th>\n",
       "      <td>-5.905528</td>\n",
       "      <td>-5.760494</td>\n",
       "    </tr>\n",
       "    <tr>\n",
       "      <th>love</th>\n",
       "      <td>-6.882647</td>\n",
       "      <td>-5.834034</td>\n",
       "    </tr>\n",
       "    <tr>\n",
       "      <th>tea</th>\n",
       "      <td>-6.217120</td>\n",
       "      <td>-5.842444</td>\n",
       "    </tr>\n",
       "    <tr>\n",
       "      <th>one</th>\n",
       "      <td>-5.926656</td>\n",
       "      <td>-5.939072</td>\n",
       "    </tr>\n",
       "    <tr>\n",
       "      <th>taste</th>\n",
       "      <td>-5.650872</td>\n",
       "      <td>-5.949261</td>\n",
       "    </tr>\n",
       "    <tr>\n",
       "      <th>product</th>\n",
       "      <td>-5.637888</td>\n",
       "      <td>-5.958877</td>\n",
       "    </tr>\n",
       "  </tbody>\n",
       "</table>\n",
       "</div>"
      ],
      "text/plain": [
       "         negative  positive\n",
       "not     -4.705348 -5.238684\n",
       "great   -7.053186 -5.589207\n",
       "good    -6.168541 -5.665013\n",
       "like    -5.497589 -5.698440\n",
       "coffee  -5.905528 -5.760494\n",
       "love    -6.882647 -5.834034\n",
       "tea     -6.217120 -5.842444\n",
       "one     -5.926656 -5.939072\n",
       "taste   -5.650872 -5.949261\n",
       "product -5.637888 -5.958877"
      ]
     },
     "execution_count": 48,
     "metadata": {},
     "output_type": "execute_result"
    }
   ],
   "source": [
    "# top 10 positive features\n",
    "positive_features"
   ]
  },
  {
   "cell_type": "code",
   "execution_count": 49,
   "metadata": {},
   "outputs": [
    {
     "data": {
      "text/html": [
       "<div>\n",
       "<style scoped>\n",
       "    .dataframe tbody tr th:only-of-type {\n",
       "        vertical-align: middle;\n",
       "    }\n",
       "\n",
       "    .dataframe tbody tr th {\n",
       "        vertical-align: top;\n",
       "    }\n",
       "\n",
       "    .dataframe thead th {\n",
       "        text-align: right;\n",
       "    }\n",
       "</style>\n",
       "<table border=\"1\" class=\"dataframe\">\n",
       "  <thead>\n",
       "    <tr style=\"text-align: right;\">\n",
       "      <th></th>\n",
       "      <th>negative</th>\n",
       "      <th>positive</th>\n",
       "    </tr>\n",
       "  </thead>\n",
       "  <tbody>\n",
       "    <tr>\n",
       "      <th>not</th>\n",
       "      <td>-4.705348</td>\n",
       "      <td>-5.238684</td>\n",
       "    </tr>\n",
       "    <tr>\n",
       "      <th>like</th>\n",
       "      <td>-5.497589</td>\n",
       "      <td>-5.698440</td>\n",
       "    </tr>\n",
       "    <tr>\n",
       "      <th>product</th>\n",
       "      <td>-5.637888</td>\n",
       "      <td>-5.958877</td>\n",
       "    </tr>\n",
       "    <tr>\n",
       "      <th>taste</th>\n",
       "      <td>-5.650872</td>\n",
       "      <td>-5.949261</td>\n",
       "    </tr>\n",
       "    <tr>\n",
       "      <th>would</th>\n",
       "      <td>-5.664927</td>\n",
       "      <td>-6.104286</td>\n",
       "    </tr>\n",
       "    <tr>\n",
       "      <th>coffee</th>\n",
       "      <td>-5.905528</td>\n",
       "      <td>-5.760494</td>\n",
       "    </tr>\n",
       "    <tr>\n",
       "      <th>one</th>\n",
       "      <td>-5.926656</td>\n",
       "      <td>-5.939072</td>\n",
       "    </tr>\n",
       "    <tr>\n",
       "      <th>no</th>\n",
       "      <td>-6.094332</td>\n",
       "      <td>-6.290920</td>\n",
       "    </tr>\n",
       "    <tr>\n",
       "      <th>flavor</th>\n",
       "      <td>-6.102807</td>\n",
       "      <td>-5.978269</td>\n",
       "    </tr>\n",
       "    <tr>\n",
       "      <th>good</th>\n",
       "      <td>-6.168541</td>\n",
       "      <td>-5.665013</td>\n",
       "    </tr>\n",
       "  </tbody>\n",
       "</table>\n",
       "</div>"
      ],
      "text/plain": [
       "         negative  positive\n",
       "not     -4.705348 -5.238684\n",
       "like    -5.497589 -5.698440\n",
       "product -5.637888 -5.958877\n",
       "taste   -5.650872 -5.949261\n",
       "would   -5.664927 -6.104286\n",
       "coffee  -5.905528 -5.760494\n",
       "one     -5.926656 -5.939072\n",
       "no      -6.094332 -6.290920\n",
       "flavor  -6.102807 -5.978269\n",
       "good    -6.168541 -5.665013"
      ]
     },
     "execution_count": 49,
     "metadata": {},
     "output_type": "execute_result"
    }
   ],
   "source": [
    "# top 10 negative features\n",
    "negative_features"
   ]
  },
  {
   "cell_type": "markdown",
   "metadata": {},
   "source": [
    "# Model Comparision"
   ]
  },
  {
   "cell_type": "markdown",
   "metadata": {},
   "source": [
    "### Creating a prettytable to see which model performed better"
   ]
  },
  {
   "cell_type": "code",
   "execution_count": 1,
   "metadata": {},
   "outputs": [
    {
     "name": "stdout",
     "output_type": "stream",
     "text": [
      "+------------+-------+--------+\n",
      "| Vectorizer | Alpha |  AUC   |\n",
      "+------------+-------+--------+\n",
      "|   TFIDF    |  0.1  | 0.9522 |\n",
      "|    BOW     |  0.1  | 0.9081 |\n",
      "+------------+-------+--------+\n"
     ]
    }
   ],
   "source": [
    "from prettytable import PrettyTable\n",
    "x = PrettyTable()\n",
    "\n",
    "x.field_names = ['Vectorizer', 'Alpha', 'AUC']\n",
    "x.add_row([\"BOW\", 0.1, 0.9081])\n",
    "x.add_row([\"TFIDF\", 0.1, 0.9522])\n",
    "\n",
    "x.sortby = 'AUC'\n",
    "x.reversesort = True\n",
    "print(x)\n"
   ]
  }
 ],
 "metadata": {
  "interpreter": {
   "hash": "f9f33196cc93198f7ebbbebd1dfb6965da25758807105a4025f381e8ed6d3ded"
  },
  "kernelspec": {
   "display_name": "Python 3.8.0 64-bit ('tf2.6': conda)",
   "language": "python",
   "name": "python3"
  },
  "language_info": {
   "codemirror_mode": {
    "name": "ipython",
    "version": 3
   },
   "file_extension": ".py",
   "mimetype": "text/x-python",
   "name": "python",
   "nbconvert_exporter": "python",
   "pygments_lexer": "ipython3",
   "version": "3.9.0"
  },
  "orig_nbformat": 4
 },
 "nbformat": 4,
 "nbformat_minor": 2
}
