{
 "cells": [
  {
   "cell_type": "markdown",
   "metadata": {},
   "source": [
    "## OBJECTIVE : \n",
    "Given a review, determine whether the review is positive (rating of 4 or 5) or negative (rating of 1 or 2)."
   ]
  },
  {
   "cell_type": "markdown",
   "metadata": {},
   "source": [
    "## Importing Libraries & getting Data"
   ]
  },
  {
   "cell_type": "code",
   "execution_count": 1,
   "metadata": {},
   "outputs": [],
   "source": [
    "import numpy as np \n",
    "import pandas as pd \n",
    "import sqlite3 \n",
    "import matplotlib.pyplot as plt \n",
    "import seaborn as sns \n",
    "\n",
    "import re \n",
    "import math \n",
    "import os \n",
    "import string \n",
    "from tqdm import tqdm \n",
    "\n",
    "import warnings \n",
    "warnings.filterwarnings('ignore')\n",
    "\n",
    "# Metrics libraries\n",
    "from sklearn.metrics import accuracy_score ,confusion_matrix, roc_curve, auc ,roc_auc_score\n",
    "\n",
    "# NLP libraries \n",
    "import nltk \n",
    "from nltk.corpus import stopwords \n",
    "from nltk.stem import PorterStemmer \n",
    "from nltk.stem.wordnet import WordNetLemmatizer \n",
    "from sklearn.feature_extraction.text import CountVectorizer \n",
    "from sklearn.feature_extraction.text import TfidfVectorizer\n",
    "from sklearn.feature_extraction.text import TfidfTransformer\n",
    "\n",
    "from gensim.models import Word2Vec \n",
    "from gensim.models import KeyedVectors\n",
    "\n",
    "import tensorflow as tf\n",
    "from tensorflow.python.client import device_lib"
   ]
  },
  {
   "cell_type": "code",
   "execution_count": 2,
   "metadata": {},
   "outputs": [],
   "source": [
    "os.environ['TF_FORCE_GPU_ALLOW_GROWTH'] = 'true'\n",
    "physical_devices = tf.config.experimental.list_physical_devices('GPU')\n",
    "assert len(physical_devices) > 0, \"Not enough GPU hardware devices available\"\n",
    "config = tf.config.experimental.set_memory_growth(physical_devices[0], True)"
   ]
  },
  {
   "cell_type": "code",
   "execution_count": 3,
   "metadata": {},
   "outputs": [
    {
     "name": "stdout",
     "output_type": "stream",
     "text": [
      "Num GPUs Available:  1\n",
      "[name: \"/device:CPU:0\"\n",
      "device_type: \"CPU\"\n",
      "memory_limit: 268435456\n",
      "locality {\n",
      "}\n",
      "incarnation: 11144832516523315930\n",
      ", name: \"/device:GPU:0\"\n",
      "device_type: \"GPU\"\n",
      "memory_limit: 1753127323\n",
      "locality {\n",
      "  bus_id: 1\n",
      "  links {\n",
      "  }\n",
      "}\n",
      "incarnation: 4523458332752107240\n",
      "physical_device_desc: \"device: 0, name: NVIDIA GeForce RTX 3050 Laptop GPU, pci bus id: 0000:01:00.0, compute capability: 8.6\"\n",
      "]\n"
     ]
    }
   ],
   "source": [
    "print(\"Num GPUs Available: \", len(tf.config.experimental.list_physical_devices('GPU')))\n",
    "print(device_lib.list_local_devices())\n"
   ]
  },
  {
   "cell_type": "code",
   "execution_count": 4,
   "metadata": {},
   "outputs": [],
   "source": [
    "connection = sqlite3.connect('G:/My Drive/datasets/amazon food review/dataset/database.sqlite')"
   ]
  },
  {
   "cell_type": "code",
   "execution_count": 5,
   "metadata": {},
   "outputs": [],
   "source": [
    "# ignoring datapoints where score = 3 (neutral review)\n",
    "\n",
    "filtered_data = pd.read_sql_query(\"\"\"\n",
    "SELECT * \n",
    "FROM Reviews\n",
    "WHERE Score != 3\n",
    "LIMIT 100000\n",
    "\"\"\", connection)"
   ]
  },
  {
   "cell_type": "code",
   "execution_count": 6,
   "metadata": {},
   "outputs": [],
   "source": [
    "# label encoding score into positive (x>3) and negative (x<3)\n",
    "\n",
    "def partition(x):\n",
    "    if x < 3:\n",
    "        return 0\n",
    "    else:\n",
    "        return 1\n",
    "        \n",
    "score_with_neutral = filtered_data['Score']\n",
    "score_wo_neutral = score_with_neutral.map(partition)\n",
    "\n",
    "filtered_data['Score'] = score_wo_neutral\n"
   ]
  },
  {
   "cell_type": "code",
   "execution_count": 7,
   "metadata": {},
   "outputs": [
    {
     "data": {
      "text/html": [
       "<div>\n",
       "<style scoped>\n",
       "    .dataframe tbody tr th:only-of-type {\n",
       "        vertical-align: middle;\n",
       "    }\n",
       "\n",
       "    .dataframe tbody tr th {\n",
       "        vertical-align: top;\n",
       "    }\n",
       "\n",
       "    .dataframe thead th {\n",
       "        text-align: right;\n",
       "    }\n",
       "</style>\n",
       "<table border=\"1\" class=\"dataframe\">\n",
       "  <thead>\n",
       "    <tr style=\"text-align: right;\">\n",
       "      <th></th>\n",
       "      <th>Id</th>\n",
       "      <th>ProductId</th>\n",
       "      <th>UserId</th>\n",
       "      <th>ProfileName</th>\n",
       "      <th>HelpfulnessNumerator</th>\n",
       "      <th>HelpfulnessDenominator</th>\n",
       "      <th>Score</th>\n",
       "      <th>Time</th>\n",
       "      <th>Summary</th>\n",
       "      <th>Text</th>\n",
       "    </tr>\n",
       "  </thead>\n",
       "  <tbody>\n",
       "    <tr>\n",
       "      <th>0</th>\n",
       "      <td>1</td>\n",
       "      <td>B001E4KFG0</td>\n",
       "      <td>A3SGXH7AUHU8GW</td>\n",
       "      <td>delmartian</td>\n",
       "      <td>1</td>\n",
       "      <td>1</td>\n",
       "      <td>1</td>\n",
       "      <td>1303862400</td>\n",
       "      <td>Good Quality Dog Food</td>\n",
       "      <td>I have bought several of the Vitality canned d...</td>\n",
       "    </tr>\n",
       "    <tr>\n",
       "      <th>1</th>\n",
       "      <td>2</td>\n",
       "      <td>B00813GRG4</td>\n",
       "      <td>A1D87F6ZCVE5NK</td>\n",
       "      <td>dll pa</td>\n",
       "      <td>0</td>\n",
       "      <td>0</td>\n",
       "      <td>0</td>\n",
       "      <td>1346976000</td>\n",
       "      <td>Not as Advertised</td>\n",
       "      <td>Product arrived labeled as Jumbo Salted Peanut...</td>\n",
       "    </tr>\n",
       "    <tr>\n",
       "      <th>2</th>\n",
       "      <td>3</td>\n",
       "      <td>B000LQOCH0</td>\n",
       "      <td>ABXLMWJIXXAIN</td>\n",
       "      <td>Natalia Corres \"Natalia Corres\"</td>\n",
       "      <td>1</td>\n",
       "      <td>1</td>\n",
       "      <td>1</td>\n",
       "      <td>1219017600</td>\n",
       "      <td>\"Delight\" says it all</td>\n",
       "      <td>This is a confection that has been around a fe...</td>\n",
       "    </tr>\n",
       "    <tr>\n",
       "      <th>3</th>\n",
       "      <td>4</td>\n",
       "      <td>B000UA0QIQ</td>\n",
       "      <td>A395BORC6FGVXV</td>\n",
       "      <td>Karl</td>\n",
       "      <td>3</td>\n",
       "      <td>3</td>\n",
       "      <td>0</td>\n",
       "      <td>1307923200</td>\n",
       "      <td>Cough Medicine</td>\n",
       "      <td>If you are looking for the secret ingredient i...</td>\n",
       "    </tr>\n",
       "    <tr>\n",
       "      <th>4</th>\n",
       "      <td>5</td>\n",
       "      <td>B006K2ZZ7K</td>\n",
       "      <td>A1UQRSCLF8GW1T</td>\n",
       "      <td>Michael D. Bigham \"M. Wassir\"</td>\n",
       "      <td>0</td>\n",
       "      <td>0</td>\n",
       "      <td>1</td>\n",
       "      <td>1350777600</td>\n",
       "      <td>Great taffy</td>\n",
       "      <td>Great taffy at a great price.  There was a wid...</td>\n",
       "    </tr>\n",
       "  </tbody>\n",
       "</table>\n",
       "</div>"
      ],
      "text/plain": [
       "   Id   ProductId          UserId                      ProfileName  \\\n",
       "0   1  B001E4KFG0  A3SGXH7AUHU8GW                       delmartian   \n",
       "1   2  B00813GRG4  A1D87F6ZCVE5NK                           dll pa   \n",
       "2   3  B000LQOCH0   ABXLMWJIXXAIN  Natalia Corres \"Natalia Corres\"   \n",
       "3   4  B000UA0QIQ  A395BORC6FGVXV                             Karl   \n",
       "4   5  B006K2ZZ7K  A1UQRSCLF8GW1T    Michael D. Bigham \"M. Wassir\"   \n",
       "\n",
       "   HelpfulnessNumerator  HelpfulnessDenominator  Score        Time  \\\n",
       "0                     1                       1      1  1303862400   \n",
       "1                     0                       0      0  1346976000   \n",
       "2                     1                       1      1  1219017600   \n",
       "3                     3                       3      0  1307923200   \n",
       "4                     0                       0      1  1350777600   \n",
       "\n",
       "                 Summary                                               Text  \n",
       "0  Good Quality Dog Food  I have bought several of the Vitality canned d...  \n",
       "1      Not as Advertised  Product arrived labeled as Jumbo Salted Peanut...  \n",
       "2  \"Delight\" says it all  This is a confection that has been around a fe...  \n",
       "3         Cough Medicine  If you are looking for the secret ingredient i...  \n",
       "4            Great taffy  Great taffy at a great price.  There was a wid...  "
      ]
     },
     "execution_count": 7,
     "metadata": {},
     "output_type": "execute_result"
    }
   ],
   "source": [
    "filtered_data.head()"
   ]
  },
  {
   "cell_type": "code",
   "execution_count": 8,
   "metadata": {},
   "outputs": [
    {
     "name": "stdout",
     "output_type": "stream",
     "text": [
      "<class 'pandas.core.frame.DataFrame'>\n",
      "RangeIndex: 100000 entries, 0 to 99999\n",
      "Data columns (total 10 columns):\n",
      " #   Column                  Non-Null Count   Dtype \n",
      "---  ------                  --------------   ----- \n",
      " 0   Id                      100000 non-null  int64 \n",
      " 1   ProductId               100000 non-null  object\n",
      " 2   UserId                  100000 non-null  object\n",
      " 3   ProfileName             100000 non-null  object\n",
      " 4   HelpfulnessNumerator    100000 non-null  int64 \n",
      " 5   HelpfulnessDenominator  100000 non-null  int64 \n",
      " 6   Score                   100000 non-null  int64 \n",
      " 7   Time                    100000 non-null  int64 \n",
      " 8   Summary                 100000 non-null  object\n",
      " 9   Text                    100000 non-null  object\n",
      "dtypes: int64(5), object(5)\n",
      "memory usage: 7.6+ MB\n"
     ]
    }
   ],
   "source": [
    "filtered_data.info()"
   ]
  },
  {
   "cell_type": "code",
   "execution_count": 9,
   "metadata": {},
   "outputs": [
    {
     "data": {
      "text/plain": [
       "(100000, 10)"
      ]
     },
     "execution_count": 9,
     "metadata": {},
     "output_type": "execute_result"
    }
   ],
   "source": [
    "filtered_data.shape"
   ]
  },
  {
   "cell_type": "markdown",
   "metadata": {},
   "source": [
    "## Data Cleaning "
   ]
  },
  {
   "cell_type": "code",
   "execution_count": 10,
   "metadata": {},
   "outputs": [],
   "source": [
    "display = pd.read_sql_query(\"\"\"\n",
    "SELECT UserId, ProductId ,ProfileName ,Time, Score ,Text ,COUNT(*)\n",
    "FROM Reviews \n",
    "GROUP BY UserId \n",
    "HAVING COUNT(*) > 1\n",
    "\"\"\", connection)"
   ]
  },
  {
   "cell_type": "code",
   "execution_count": 11,
   "metadata": {},
   "outputs": [
    {
     "data": {
      "text/html": [
       "<div>\n",
       "<style scoped>\n",
       "    .dataframe tbody tr th:only-of-type {\n",
       "        vertical-align: middle;\n",
       "    }\n",
       "\n",
       "    .dataframe tbody tr th {\n",
       "        vertical-align: top;\n",
       "    }\n",
       "\n",
       "    .dataframe thead th {\n",
       "        text-align: right;\n",
       "    }\n",
       "</style>\n",
       "<table border=\"1\" class=\"dataframe\">\n",
       "  <thead>\n",
       "    <tr style=\"text-align: right;\">\n",
       "      <th></th>\n",
       "      <th>UserId</th>\n",
       "      <th>ProductId</th>\n",
       "      <th>ProfileName</th>\n",
       "      <th>Time</th>\n",
       "      <th>Score</th>\n",
       "      <th>Text</th>\n",
       "      <th>COUNT(*)</th>\n",
       "    </tr>\n",
       "  </thead>\n",
       "  <tbody>\n",
       "    <tr>\n",
       "      <th>0</th>\n",
       "      <td>#oc-R115TNMSPFT9I7</td>\n",
       "      <td>B005ZBZLT4</td>\n",
       "      <td>Breyton</td>\n",
       "      <td>1331510400</td>\n",
       "      <td>2</td>\n",
       "      <td>Overall its just OK when considering the price...</td>\n",
       "      <td>2</td>\n",
       "    </tr>\n",
       "    <tr>\n",
       "      <th>1</th>\n",
       "      <td>#oc-R11D9D7SHXIJB9</td>\n",
       "      <td>B005HG9ESG</td>\n",
       "      <td>Louis E. Emory \"hoppy\"</td>\n",
       "      <td>1342396800</td>\n",
       "      <td>5</td>\n",
       "      <td>My wife has recurring extreme muscle spasms, u...</td>\n",
       "      <td>3</td>\n",
       "    </tr>\n",
       "    <tr>\n",
       "      <th>2</th>\n",
       "      <td>#oc-R11DNU2NBKQ23Z</td>\n",
       "      <td>B005ZBZLT4</td>\n",
       "      <td>Kim Cieszykowski</td>\n",
       "      <td>1348531200</td>\n",
       "      <td>1</td>\n",
       "      <td>This coffee is horrible and unfortunately not ...</td>\n",
       "      <td>2</td>\n",
       "    </tr>\n",
       "    <tr>\n",
       "      <th>3</th>\n",
       "      <td>#oc-R11O5J5ZVQE25C</td>\n",
       "      <td>B005HG9ESG</td>\n",
       "      <td>Penguin Chick</td>\n",
       "      <td>1346889600</td>\n",
       "      <td>5</td>\n",
       "      <td>This will be the bottle that you grab from the...</td>\n",
       "      <td>3</td>\n",
       "    </tr>\n",
       "    <tr>\n",
       "      <th>4</th>\n",
       "      <td>#oc-R12KPBODL2B5ZD</td>\n",
       "      <td>B007OSBEV0</td>\n",
       "      <td>Christopher P. Presta</td>\n",
       "      <td>1348617600</td>\n",
       "      <td>1</td>\n",
       "      <td>I didnt like this coffee. Instead of telling y...</td>\n",
       "      <td>2</td>\n",
       "    </tr>\n",
       "  </tbody>\n",
       "</table>\n",
       "</div>"
      ],
      "text/plain": [
       "               UserId   ProductId             ProfileName        Time  Score  \\\n",
       "0  #oc-R115TNMSPFT9I7  B005ZBZLT4                 Breyton  1331510400      2   \n",
       "1  #oc-R11D9D7SHXIJB9  B005HG9ESG  Louis E. Emory \"hoppy\"  1342396800      5   \n",
       "2  #oc-R11DNU2NBKQ23Z  B005ZBZLT4        Kim Cieszykowski  1348531200      1   \n",
       "3  #oc-R11O5J5ZVQE25C  B005HG9ESG           Penguin Chick  1346889600      5   \n",
       "4  #oc-R12KPBODL2B5ZD  B007OSBEV0   Christopher P. Presta  1348617600      1   \n",
       "\n",
       "                                                Text  COUNT(*)  \n",
       "0  Overall its just OK when considering the price...         2  \n",
       "1  My wife has recurring extreme muscle spasms, u...         3  \n",
       "2  This coffee is horrible and unfortunately not ...         2  \n",
       "3  This will be the bottle that you grab from the...         3  \n",
       "4  I didnt like this coffee. Instead of telling y...         2  "
      ]
     },
     "execution_count": 11,
     "metadata": {},
     "output_type": "execute_result"
    }
   ],
   "source": [
    "display.head()"
   ]
  },
  {
   "cell_type": "code",
   "execution_count": 12,
   "metadata": {},
   "outputs": [
    {
     "data": {
      "text/plain": [
       "(80668, 7)"
      ]
     },
     "execution_count": 12,
     "metadata": {},
     "output_type": "execute_result"
    }
   ],
   "source": [
    "display.shape"
   ]
  },
  {
   "cell_type": "code",
   "execution_count": 13,
   "metadata": {},
   "outputs": [
    {
     "data": {
      "text/plain": [
       "393063"
      ]
     },
     "execution_count": 13,
     "metadata": {},
     "output_type": "execute_result"
    }
   ],
   "source": [
    "display['COUNT(*)'].sum()"
   ]
  },
  {
   "cell_type": "code",
   "execution_count": 14,
   "metadata": {},
   "outputs": [
    {
     "data": {
      "text/html": [
       "<div>\n",
       "<style scoped>\n",
       "    .dataframe tbody tr th:only-of-type {\n",
       "        vertical-align: middle;\n",
       "    }\n",
       "\n",
       "    .dataframe tbody tr th {\n",
       "        vertical-align: top;\n",
       "    }\n",
       "\n",
       "    .dataframe thead th {\n",
       "        text-align: right;\n",
       "    }\n",
       "</style>\n",
       "<table border=\"1\" class=\"dataframe\">\n",
       "  <thead>\n",
       "    <tr style=\"text-align: right;\">\n",
       "      <th></th>\n",
       "      <th>Id</th>\n",
       "      <th>ProductId</th>\n",
       "      <th>UserId</th>\n",
       "      <th>ProfileName</th>\n",
       "      <th>HelpfulnessNumerator</th>\n",
       "      <th>HelpfulnessDenominator</th>\n",
       "      <th>Score</th>\n",
       "      <th>Time</th>\n",
       "      <th>Summary</th>\n",
       "      <th>Text</th>\n",
       "    </tr>\n",
       "  </thead>\n",
       "  <tbody>\n",
       "    <tr>\n",
       "      <th>0</th>\n",
       "      <td>455534</td>\n",
       "      <td>B005HG9ERW</td>\n",
       "      <td>#oc-R11D9D7SHXIJB9</td>\n",
       "      <td>Louis E. Emory \"hoppy\"</td>\n",
       "      <td>0</td>\n",
       "      <td>0</td>\n",
       "      <td>5</td>\n",
       "      <td>1342396800</td>\n",
       "      <td>Muscle spasms</td>\n",
       "      <td>My wife has recurring extreme muscle spasms, u...</td>\n",
       "    </tr>\n",
       "    <tr>\n",
       "      <th>1</th>\n",
       "      <td>290948</td>\n",
       "      <td>B005HG9ESG</td>\n",
       "      <td>#oc-R11D9D7SHXIJB9</td>\n",
       "      <td>Louis E. Emory \"hoppy\"</td>\n",
       "      <td>0</td>\n",
       "      <td>0</td>\n",
       "      <td>5</td>\n",
       "      <td>1342396800</td>\n",
       "      <td>Muscle spasms</td>\n",
       "      <td>My wife has recurring extreme muscle spasms, u...</td>\n",
       "    </tr>\n",
       "    <tr>\n",
       "      <th>2</th>\n",
       "      <td>496894</td>\n",
       "      <td>B005HG9ET0</td>\n",
       "      <td>#oc-R11D9D7SHXIJB9</td>\n",
       "      <td>Louis E. Emory \"hoppy\"</td>\n",
       "      <td>0</td>\n",
       "      <td>0</td>\n",
       "      <td>5</td>\n",
       "      <td>1342396800</td>\n",
       "      <td>Muscle spasms</td>\n",
       "      <td>My wife has recurring extreme muscle spasms, u...</td>\n",
       "    </tr>\n",
       "  </tbody>\n",
       "</table>\n",
       "</div>"
      ],
      "text/plain": [
       "       Id   ProductId              UserId             ProfileName  \\\n",
       "0  455534  B005HG9ERW  #oc-R11D9D7SHXIJB9  Louis E. Emory \"hoppy\"   \n",
       "1  290948  B005HG9ESG  #oc-R11D9D7SHXIJB9  Louis E. Emory \"hoppy\"   \n",
       "2  496894  B005HG9ET0  #oc-R11D9D7SHXIJB9  Louis E. Emory \"hoppy\"   \n",
       "\n",
       "   HelpfulnessNumerator  HelpfulnessDenominator  Score        Time  \\\n",
       "0                     0                       0      5  1342396800   \n",
       "1                     0                       0      5  1342396800   \n",
       "2                     0                       0      5  1342396800   \n",
       "\n",
       "         Summary                                               Text  \n",
       "0  Muscle spasms  My wife has recurring extreme muscle spasms, u...  \n",
       "1  Muscle spasms  My wife has recurring extreme muscle spasms, u...  \n",
       "2  Muscle spasms  My wife has recurring extreme muscle spasms, u...  "
      ]
     },
     "execution_count": 14,
     "metadata": {},
     "output_type": "execute_result"
    }
   ],
   "source": [
    "display = pd.read_sql_query(\"\"\"\n",
    "SELECT * \n",
    "FROM Reviews \n",
    "WHERE Score != 3 AND UserId='#oc-R11D9D7SHXIJB9'\n",
    "ORDER BY ProductId\n",
    "\"\"\", connection)\n",
    "\n",
    "display.head()"
   ]
  },
  {
   "cell_type": "markdown",
   "metadata": {},
   "source": [
    "#### NOTE : \n",
    "- It can be seen that same user has multiple reviews with same values for all the parameters.\n",
    "\n",
    "- So, in order to get unbiased results ,we need to remove the rows having same parameters.\n",
    "\n",
    "- Steps to do so : \n",
    "    - first sort the data according to ProductId in ascending order.\n",
    "    - Then just keep the first similar product review and delete the others.\n"
   ]
  },
  {
   "cell_type": "code",
   "execution_count": 15,
   "metadata": {},
   "outputs": [],
   "source": [
    "sorted_data = filtered_data.sort_values('ProductId', axis=0, ascending=True, inplace=False, kind='quicksort', na_position='last')"
   ]
  },
  {
   "cell_type": "code",
   "execution_count": 16,
   "metadata": {},
   "outputs": [
    {
     "data": {
      "text/plain": [
       "(87775, 10)"
      ]
     },
     "execution_count": 16,
     "metadata": {},
     "output_type": "execute_result"
    }
   ],
   "source": [
    "clean_data = sorted_data.drop_duplicates(subset={\"UserId\", \"ProfileName\", \"Time\", \"Text\"}, keep='first', inplace=False)\n",
    "\n",
    "clean_data.shape"
   ]
  },
  {
   "cell_type": "markdown",
   "metadata": {},
   "source": [
    "## Data Preprocessing"
   ]
  },
  {
   "cell_type": "markdown",
   "metadata": {},
   "source": [
    "#### Steps : \n",
    "\n",
    "1. Begin by removing the HTML tags\n",
    "\n",
    "2. Remove any punctuations or limited set of special characters like , or . etc\n",
    "\n",
    "3. Check if the word is made up of english letters and is not alpha-numeric.\n",
    "\n",
    "4. Check to see if the length of the word is greater than 2 (as it was researched that there is no adjective in 2-letters)\n",
    "\n",
    "5. Convert the words to lowercase\n",
    "\n",
    "6. Remove Stopwords\n",
    "\n",
    "7. Stemming the word \n"
   ]
  },
  {
   "cell_type": "code",
   "execution_count": 17,
   "metadata": {},
   "outputs": [
    {
     "name": "stdout",
     "output_type": "stream",
     "text": [
      "My dogs loves this chicken but its a product from China, so we wont be buying it anymore.  Its very hard to find any chicken products made in the USA but they are out there, but this one isnt.  Its too bad too because its a good product but I wont take any chances till they know what is going on with the china imports.\n",
      "---------------------------------------\n",
      "Our dogs just love them.  I saw them in a pet store and a tag was attached regarding them being made in China and it satisfied me that they were safe.\n",
      "---------------------------------------\n",
      "I had an infestation of fruitflies, they were literally everywhere flying around me in my  kitchen, so I bought this product hoping to at least get rid of a few. But after 2 weeks, only 1 fly had stuck... I was going around with a notepad and squishing the buggers myself with a success rate of 2-3 a day so clearly this product was useless! I even dabbed to red wine and banana to the top of the column after 1 week because they were really attracted to any red wine I had in a glass... but still it did nothing to get them stuck. And then I actually saw a second fly land on it once, and I watched as it flapped it's wings frantically and within 30 secs it had unstuck itself!!!! This product was a total waste of money!\n"
     ]
    }
   ],
   "source": [
    "# sample reviews\n",
    "\n",
    "review_1 = clean_data['Text'].values[0]\n",
    "print(review_1)\n",
    "print('---------------------------------------')\n",
    "\n",
    "review_2 = clean_data['Text'].values[1]\n",
    "print(review_2)\n",
    "print('---------------------------------------')\n",
    "\n",
    "review_3 = clean_data['Text'].values[2]\n",
    "print(review_3)"
   ]
  },
  {
   "cell_type": "markdown",
   "metadata": {},
   "source": [
    "### 1. Removing URLs\n"
   ]
  },
  {
   "cell_type": "code",
   "execution_count": 18,
   "metadata": {},
   "outputs": [],
   "source": [
    "review_1 = re.sub('http\\S+', \"\", review_1)\n",
    "review_2 = re.sub('http\\S+', \"\", review_2)\n",
    "review_3 = re.sub('http\\S+', \"\", review_3)\n"
   ]
  },
  {
   "cell_type": "markdown",
   "metadata": {},
   "source": [
    "### 2. Removing HTML tags\n"
   ]
  },
  {
   "cell_type": "code",
   "execution_count": 19,
   "metadata": {},
   "outputs": [],
   "source": [
    "from bs4 import BeautifulSoup\n",
    "\n",
    "soup = BeautifulSoup(review_1, 'lxml')\n",
    "review_1 = soup.get_text()\n",
    "\n",
    "soup = BeautifulSoup(review_2, 'lxml')\n",
    "review_2 = soup.get_text()\n",
    "\n",
    "soup = BeautifulSoup(review_3, 'lxml')\n",
    "review_3 = soup.get_text()\n"
   ]
  },
  {
   "cell_type": "markdown",
   "metadata": {},
   "source": [
    "### 3. Removing Apostrophes\n"
   ]
  },
  {
   "cell_type": "code",
   "execution_count": 20,
   "metadata": {},
   "outputs": [
    {
     "name": "stdout",
     "output_type": "stream",
     "text": [
      "I had an infestation of fruitflies, they were literally everywhere flying around me in my  kitchen, so I bought this product hoping to at least get rid of a few. But after 2 weeks, only 1 fly had stuck... I was going around with a notepad and squishing the buggers myself with a success rate of 2-3 a day so clearly this product was useless! I even dabbed to red wine and banana to the top of the column after 1 week because they were really attracted to any red wine I had in a glass... but still it did nothing to get them stuck. And then I actually saw a second fly land on it once, and I watched as it flapped it is wings frantically and within 30 secs it had unstuck itself!!!! This product was a total waste of money!\n"
     ]
    }
   ],
   "source": [
    "def removing_apostrophes(text):\n",
    "    # general\n",
    "    text = re.sub(\"n\\'t\", \" not\", text)\n",
    "    text = re.sub(\"\\'re\", \" are\", text)\n",
    "    text = re.sub(\"\\'s\", \" is\", text)\n",
    "    text = re.sub(\"\\'d\", \" would\", text)\n",
    "    text = re.sub(\"\\'ll\", \" will\", text)\n",
    "    text = re.sub(\"\\'t\", \" not\", text)\n",
    "    text = re.sub(\"\\'ve\", \" have\", text)\n",
    "    text = re.sub(\"\\'m\", \" am\", text)\n",
    "\n",
    "    text = re.sub(\"won't\", \"will not\", text)\n",
    "    text = re.sub(\"can\\'t\", \"can not\", text)\n",
    "\n",
    "    return text\n",
    "\n",
    "# isn't gets converted to 'is not' in line 3\n",
    "review_3 = removing_apostrophes(review_3)\n",
    "print(review_3)\n"
   ]
  },
  {
   "cell_type": "markdown",
   "metadata": {},
   "source": [
    "### 4. Removing Numbers / Punctuations /Special Characters"
   ]
  },
  {
   "cell_type": "code",
   "execution_count": 21,
   "metadata": {},
   "outputs": [
    {
     "name": "stdout",
     "output_type": "stream",
     "text": [
      "My dogs loves this chicken but its a product from China, so we wont be buying it anymore.  Its very hard to find any chicken products made in the USA but they are out there, but this one isnt.  Its too bad too because its a good product but I wont take any chances till they know what is going on with the china imports.\n",
      "-----------------------------------------\n",
      "I had an infestation of fruitflies they were literally everywhere flying around me in my kitchen so I bought this product hoping to at least get rid of a few But after 2 weeks only 1 fly had stuck I was going around with a notepad and squishing the buggers myself with a success rate of 2 3 a day so clearly this product was useless I even dabbed to red wine and banana to the top of the column after 1 week because they were really attracted to any red wine I had in a glass but still it did nothing to get them stuck And then I actually saw a second fly land on it once and I watched as it flapped it is wings frantically and within 30 secs it had unstuck itself This product was a total waste of money \n"
     ]
    }
   ],
   "source": [
    "# removing numbers\n",
    "review_1 = re.sub('\\S*\\d\\S*', \"\", review_1).strip()\n",
    "print(review_1)\n",
    "print('-----------------------------------------')\n",
    "\n",
    "# removing special characters\n",
    "review_3 = re.sub('[^A-Za-z0-9]+', ' ', review_3)\n",
    "print(review_3)\n"
   ]
  },
  {
   "cell_type": "markdown",
   "metadata": {},
   "source": [
    "### 5. Removing Stopwords"
   ]
  },
  {
   "cell_type": "code",
   "execution_count": 22,
   "metadata": {},
   "outputs": [],
   "source": [
    "# removing the following words from the stop words list: 'no', 'nor', 'not'\n",
    "\n",
    "stopwords = set(['br', 'the', 'i', 'me', 'my', 'myself', 'we', 'our', 'ours', 'ourselves', 'you', \"you're\", \"you've\",\n",
    "                \"you'll\", \"you'd\", 'your', 'yours', 'yourself', 'yourselves', 'he', 'him', 'his', 'himself',\n",
    "                 'she', \"she's\", 'her', 'hers', 'herself', 'it', \"it's\", 'its', 'itself', 'they', 'them', 'their',\n",
    "                 'theirs', 'themselves', 'what', 'which', 'who', 'whom', 'this', 'that', \"that'll\", 'these', 'those',\n",
    "                 'am', 'is', 'are', 'was', 'were', 'be', 'been', 'being', 'have', 'has', 'had', 'having', 'do', 'does',\n",
    "                 'did', 'doing', 'a', 'an', 'the', 'and', 'but', 'if', 'or', 'because', 'as', 'until', 'while', 'of',\n",
    "                 'at', 'by', 'for', 'with', 'about', 'against', 'between', 'into', 'through', 'during', 'before', 'after',\n",
    "                 'above', 'below', 'to', 'from', 'up', 'down', 'in', 'out', 'on', 'off', 'over', 'under', 'again', 'further',\n",
    "                 'then', 'once', 'here', 'there', 'when', 'where', 'why', 'how', 'all', 'any', 'both', 'each', 'few', 'more',\n",
    "                 'most', 'other', 'some', 'such', 'only', 'own', 'same', 'so', 'than', 'too', 'very',\n",
    "                 's', 't', 'can', 'will', 'just', 'don', \"don't\", 'should', \"should've\", 'now', 'd', 'll', 'm', 'o', 're',\n",
    "                 've', 'y', 'ain', 'aren', \"aren't\", 'couldn', \"couldn't\", 'didn', \"didn't\", 'doesn', \"doesn't\", 'hadn',\n",
    "                 \"hadn't\", 'hasn', \"hasn't\", 'haven', \"haven't\", 'isn', \"isn't\", 'ma', 'mightn', \"mightn't\", 'mustn',\n",
    "                 \"mustn't\", 'needn', \"needn't\", 'shan', \"shan't\", 'shouldn', \"shouldn't\", 'wasn', \"wasn't\", 'weren', \"weren't\",\n",
    "                 'won', \"won't\", 'wouldn', \"wouldn't\"])\n"
   ]
  },
  {
   "cell_type": "markdown",
   "metadata": {},
   "source": [
    "### Combining all Steps"
   ]
  },
  {
   "cell_type": "code",
   "execution_count": 23,
   "metadata": {},
   "outputs": [
    {
     "name": "stderr",
     "output_type": "stream",
     "text": [
      "100%|██████████| 87775/87775 [00:46<00:00, 1905.30it/s]\n"
     ]
    }
   ],
   "source": [
    "from tqdm import tqdm\n",
    "preprocessed_reviews = []\n",
    "\n",
    "for text in tqdm(clean_data['Text'].values):\n",
    "    text = re.sub('http\\S+', \"\", text)\n",
    "    text = BeautifulSoup(text, 'lxml').get_text()\n",
    "\n",
    "    text = removing_apostrophes(text)\n",
    "\n",
    "    text = re.sub('\\S*\\d\\S*', \"\", text).strip()\n",
    "    text = re.sub('[^A-Za-z0-9]+', ' ', text)\n",
    "\n",
    "    text = ' '.join(i.lower()\n",
    "                    for i in text.split() if i.lower() not in stopwords)\n",
    "\n",
    "    preprocessed_reviews.append(text.strip())"
   ]
  },
  {
   "cell_type": "markdown",
   "metadata": {},
   "source": [
    "## Splitting into train, test & validation sets\n"
   ]
  },
  {
   "cell_type": "code",
   "execution_count": 24,
   "metadata": {},
   "outputs": [],
   "source": [
    "X = preprocessed_reviews\n",
    "y = np.array(clean_data['Score'])"
   ]
  },
  {
   "cell_type": "code",
   "execution_count": 25,
   "metadata": {},
   "outputs": [],
   "source": [
    "from sklearn.model_selection import train_test_split\n",
    "from sklearn.preprocessing import StandardScaler\n",
    "\n",
    "X_train, X_test, y_train, y_test = train_test_split(X, y, test_size=0.3)\n",
    "\n",
    "X_train, X_val, y_train, y_val = train_test_split(X_train, y_train, test_size=0.3)"
   ]
  },
  {
   "cell_type": "markdown",
   "metadata": {},
   "source": [
    "# Models"
   ]
  },
  {
   "cell_type": "code",
   "execution_count": 26,
   "metadata": {},
   "outputs": [],
   "source": [
    "from sklearn.linear_model import LogisticRegression\n",
    "from sklearn.linear_model import SGDClassifier\n",
    "from sklearn.svm import SVC\n",
    "\n",
    "from sklearn.model_selection import GridSearchCV\n",
    "\n",
    "from sklearn.experimental import enable_halving_search_cv\n",
    "from sklearn.model_selection import HalvingGridSearchCV\n",
    "from sklearn.calibration import CalibratedClassifierCV\n"
   ]
  },
  {
   "cell_type": "markdown",
   "metadata": {},
   "source": [
    "## 1. Linear SVM - BoW"
   ]
  },
  {
   "cell_type": "code",
   "execution_count": 27,
   "metadata": {},
   "outputs": [],
   "source": [
    "vectorizer = CountVectorizer()\n",
    "X_train_bow = vectorizer.fit_transform(X_train)\n",
    "X_test_bow = vectorizer.transform(X_test)\n",
    "X_val_bow = vectorizer.transform(X_val)\n",
    "\n",
    "scaler = StandardScaler(with_mean=False)\n",
    "X_train_bow = scaler.fit_transform(X_train_bow)\n",
    "X_test_bow = scaler.transform(X_test_bow)\n",
    "X_val_bow = scaler.transform(X_val_bow)\n"
   ]
  },
  {
   "cell_type": "markdown",
   "metadata": {},
   "source": [
    "### 1.1 Hyperparameter Tuning"
   ]
  },
  {
   "cell_type": "code",
   "execution_count": 28,
   "metadata": {},
   "outputs": [],
   "source": [
    "alpha = [10**-4, 10**-3, 10**-2, 10**-1, 10**0, 10**1, 10**2, 10**3, 10**4]\n",
    "penalties = ['l1' ,'l2']\n",
    "\n",
    "parameter_grid = {'penalty': penalties, 'alpha':alpha}"
   ]
  },
  {
   "cell_type": "code",
   "execution_count": 29,
   "metadata": {},
   "outputs": [
    {
     "name": "stdout",
     "output_type": "stream",
     "text": [
      "n_iterations: 3\n",
      "n_required_iterations: 3\n",
      "n_possible_iterations: 3\n",
      "min_resources_: 4778\n",
      "max_resources_: 43009\n",
      "aggressive_elimination: False\n",
      "factor: 3\n",
      "----------\n",
      "iter: 0\n",
      "n_candidates: 18\n",
      "n_resources: 4778\n",
      "Fitting 10 folds for each of 18 candidates, totalling 180 fits\n",
      "[CV 1/10] END alpha=0.0001, penalty=l1;, score=(train=1.000, test=0.732) total time=   0.6s\n",
      "[CV 2/10] END alpha=0.0001, penalty=l1;, score=(train=1.000, test=0.774) total time=   0.4s\n",
      "[CV 3/10] END alpha=0.0001, penalty=l1;, score=(train=1.000, test=0.735) total time=   0.4s\n",
      "[CV 4/10] END alpha=0.0001, penalty=l1;, score=(train=1.000, test=0.761) total time=   0.5s\n",
      "[CV 5/10] END alpha=0.0001, penalty=l1;, score=(train=1.000, test=0.776) total time=   0.3s\n",
      "[CV 6/10] END alpha=0.0001, penalty=l1;, score=(train=1.000, test=0.729) total time=   0.2s\n",
      "[CV 7/10] END alpha=0.0001, penalty=l1;, score=(train=1.000, test=0.783) total time=   1.2s\n",
      "[CV 8/10] END alpha=0.0001, penalty=l1;, score=(train=1.000, test=0.738) total time=   0.4s\n",
      "[CV 9/10] END alpha=0.0001, penalty=l1;, score=(train=1.000, test=0.773) total time=   0.2s\n",
      "[CV 10/10] END alpha=0.0001, penalty=l1;, score=(train=1.000, test=0.778) total time=   0.4s\n",
      "[CV 1/10] END alpha=0.0001, penalty=l2;, score=(train=1.000, test=0.739) total time=   0.0s\n",
      "[CV 2/10] END alpha=0.0001, penalty=l2;, score=(train=1.000, test=0.806) total time=   0.0s\n",
      "[CV 3/10] END alpha=0.0001, penalty=l2;, score=(train=1.000, test=0.742) total time=   0.0s\n",
      "[CV 4/10] END alpha=0.0001, penalty=l2;, score=(train=1.000, test=0.716) total time=   0.0s\n",
      "[CV 5/10] END alpha=0.0001, penalty=l2;, score=(train=1.000, test=0.762) total time=   0.0s\n",
      "[CV 6/10] END alpha=0.0001, penalty=l2;, score=(train=1.000, test=0.755) total time=   0.0s\n",
      "[CV 7/10] END alpha=0.0001, penalty=l2;, score=(train=1.000, test=0.748) total time=   0.0s\n",
      "[CV 8/10] END alpha=0.0001, penalty=l2;, score=(train=1.000, test=0.714) total time=   0.0s\n",
      "[CV 9/10] END alpha=0.0001, penalty=l2;, score=(train=1.000, test=0.748) total time=   0.0s\n",
      "[CV 10/10] END alpha=0.0001, penalty=l2;, score=(train=1.000, test=0.781) total time=   0.0s\n",
      "[CV 1/10] END alpha=0.001, penalty=l1;, score=(train=0.998, test=0.787) total time=   1.6s\n",
      "[CV 2/10] END alpha=0.001, penalty=l1;, score=(train=0.997, test=0.760) total time=   2.1s\n",
      "[CV 3/10] END alpha=0.001, penalty=l1;, score=(train=0.996, test=0.749) total time=   2.1s\n",
      "[CV 4/10] END alpha=0.001, penalty=l1;, score=(train=0.999, test=0.779) total time=   0.8s\n",
      "[CV 5/10] END alpha=0.001, penalty=l1;, score=(train=0.998, test=0.746) total time=   1.5s\n",
      "[CV 6/10] END alpha=0.001, penalty=l1;, score=(train=0.999, test=0.652) total time=   2.0s\n",
      "[CV 7/10] END alpha=0.001, penalty=l1;, score=(train=0.995, test=0.748) total time=   2.1s\n",
      "[CV 8/10] END alpha=0.001, penalty=l1;, score=(train=0.996, test=0.764) total time=   2.2s\n",
      "[CV 9/10] END alpha=0.001, penalty=l1;, score=(train=0.999, test=0.714) total time=   0.9s\n",
      "[CV 10/10] END alpha=0.001, penalty=l1;, score=(train=0.999, test=0.802) total time=   2.0s\n",
      "[CV 1/10] END alpha=0.001, penalty=l2;, score=(train=1.000, test=0.766) total time=   0.0s\n",
      "[CV 2/10] END alpha=0.001, penalty=l2;, score=(train=1.000, test=0.820) total time=   0.0s\n",
      "[CV 3/10] END alpha=0.001, penalty=l2;, score=(train=1.000, test=0.740) total time=   0.0s\n",
      "[CV 4/10] END alpha=0.001, penalty=l2;, score=(train=1.000, test=0.805) total time=   0.0s\n",
      "[CV 5/10] END alpha=0.001, penalty=l2;, score=(train=1.000, test=0.769) total time=   0.0s\n",
      "[CV 6/10] END alpha=0.001, penalty=l2;, score=(train=1.000, test=0.737) total time=   0.0s\n",
      "[CV 7/10] END alpha=0.001, penalty=l2;, score=(train=1.000, test=0.742) total time=   0.0s\n",
      "[CV 8/10] END alpha=0.001, penalty=l2;, score=(train=1.000, test=0.733) total time=   0.0s\n",
      "[CV 9/10] END alpha=0.001, penalty=l2;, score=(train=1.000, test=0.822) total time=   0.0s\n",
      "[CV 10/10] END alpha=0.001, penalty=l2;, score=(train=1.000, test=0.757) total time=   0.0s\n",
      "[CV 1/10] END alpha=0.01, penalty=l1;, score=(train=0.928, test=0.684) total time=   1.3s\n",
      "[CV 2/10] END alpha=0.01, penalty=l1;, score=(train=0.928, test=0.734) total time=   1.4s\n",
      "[CV 3/10] END alpha=0.01, penalty=l1;, score=(train=0.914, test=0.721) total time=   1.3s\n",
      "[CV 4/10] END alpha=0.01, penalty=l1;, score=(train=0.924, test=0.651) total time=   1.4s\n",
      "[CV 5/10] END alpha=0.01, penalty=l1;, score=(train=0.927, test=0.632) total time=   1.3s\n",
      "[CV 6/10] END alpha=0.01, penalty=l1;, score=(train=0.928, test=0.665) total time=   1.3s\n",
      "[CV 7/10] END alpha=0.01, penalty=l1;, score=(train=0.936, test=0.699) total time=   1.3s\n",
      "[CV 8/10] END alpha=0.01, penalty=l1;, score=(train=0.939, test=0.679) total time=   1.3s\n",
      "[CV 9/10] END alpha=0.01, penalty=l1;, score=(train=0.943, test=0.685) total time=   1.2s\n",
      "[CV 10/10] END alpha=0.01, penalty=l1;, score=(train=0.926, test=0.707) total time=   1.4s\n",
      "[CV 1/10] END alpha=0.01, penalty=l2;, score=(train=1.000, test=0.749) total time=   0.0s\n",
      "[CV 2/10] END alpha=0.01, penalty=l2;, score=(train=1.000, test=0.803) total time=   0.0s\n",
      "[CV 3/10] END alpha=0.01, penalty=l2;, score=(train=1.000, test=0.719) total time=   0.0s\n",
      "[CV 4/10] END alpha=0.01, penalty=l2;, score=(train=1.000, test=0.806) total time=   0.0s\n",
      "[CV 5/10] END alpha=0.01, penalty=l2;, score=(train=1.000, test=0.762) total time=   0.0s\n",
      "[CV 6/10] END alpha=0.01, penalty=l2;, score=(train=1.000, test=0.752) total time=   0.0s\n",
      "[CV 7/10] END alpha=0.01, penalty=l2;, score=(train=1.000, test=0.755) total time=   0.0s\n",
      "[CV 8/10] END alpha=0.01, penalty=l2;, score=(train=1.000, test=0.743) total time=   0.0s\n",
      "[CV 9/10] END alpha=0.01, penalty=l2;, score=(train=1.000, test=0.796) total time=   0.0s\n",
      "[CV 10/10] END alpha=0.01, penalty=l2;, score=(train=1.000, test=0.762) total time=   0.0s\n",
      "[CV 1/10] END alpha=0.1, penalty=l1;, score=(train=0.635, test=0.580) total time=   0.9s\n",
      "[CV 2/10] END alpha=0.1, penalty=l1;, score=(train=0.682, test=0.685) total time=   0.4s\n",
      "[CV 3/10] END alpha=0.1, penalty=l1;, score=(train=0.675, test=0.715) total time=   0.9s\n",
      "[CV 4/10] END alpha=0.1, penalty=l1;, score=(train=0.636, test=0.639) total time=   0.8s\n",
      "[CV 5/10] END alpha=0.1, penalty=l1;, score=(train=0.681, test=0.643) total time=   0.7s\n",
      "[CV 6/10] END alpha=0.1, penalty=l1;, score=(train=0.674, test=0.627) total time=   0.4s\n",
      "[CV 7/10] END alpha=0.1, penalty=l1;, score=(train=0.663, test=0.631) total time=   0.7s\n",
      "[CV 8/10] END alpha=0.1, penalty=l1;, score=(train=0.650, test=0.634) total time=   0.7s\n",
      "[CV 9/10] END alpha=0.1, penalty=l1;, score=(train=0.656, test=0.687) total time=   0.7s\n",
      "[CV 10/10] END alpha=0.1, penalty=l1;, score=(train=0.678, test=0.618) total time=   0.6s\n",
      "[CV 1/10] END alpha=0.1, penalty=l2;, score=(train=1.000, test=0.752) total time=   0.0s\n",
      "[CV 2/10] END alpha=0.1, penalty=l2;, score=(train=1.000, test=0.853) total time=   0.0s\n",
      "[CV 3/10] END alpha=0.1, penalty=l2;, score=(train=1.000, test=0.801) total time=   0.0s\n",
      "[CV 4/10] END alpha=0.1, penalty=l2;, score=(train=1.000, test=0.807) total time=   0.0s\n",
      "[CV 5/10] END alpha=0.1, penalty=l2;, score=(train=1.000, test=0.805) total time=   0.0s\n",
      "[CV 6/10] END alpha=0.1, penalty=l2;, score=(train=1.000, test=0.807) total time=   0.0s\n",
      "[CV 7/10] END alpha=0.1, penalty=l2;, score=(train=1.000, test=0.811) total time=   0.0s\n",
      "[CV 8/10] END alpha=0.1, penalty=l2;, score=(train=1.000, test=0.776) total time=   0.0s\n",
      "[CV 9/10] END alpha=0.1, penalty=l2;, score=(train=1.000, test=0.809) total time=   0.0s\n",
      "[CV 10/10] END alpha=0.1, penalty=l2;, score=(train=1.000, test=0.795) total time=   0.0s\n",
      "[CV 1/10] END alpha=1, penalty=l1;, score=(train=0.508, test=0.502) total time=   0.0s\n",
      "[CV 2/10] END alpha=1, penalty=l1;, score=(train=0.500, test=0.483) total time=   0.1s\n",
      "[CV 3/10] END alpha=1, penalty=l1;, score=(train=0.503, test=0.501) total time=   0.0s\n",
      "[CV 4/10] END alpha=1, penalty=l1;, score=(train=0.502, test=0.501) total time=   0.0s\n",
      "[CV 5/10] END alpha=1, penalty=l1;, score=(train=0.506, test=0.510) total time=   0.1s\n",
      "[CV 6/10] END alpha=1, penalty=l1;, score=(train=0.505, test=0.517) total time=   0.3s\n",
      "[CV 7/10] END alpha=1, penalty=l1;, score=(train=0.490, test=0.484) total time=   0.0s\n",
      "[CV 8/10] END alpha=1, penalty=l1;, score=(train=0.502, test=0.490) total time=   0.0s\n",
      "[CV 9/10] END alpha=1, penalty=l1;, score=(train=0.503, test=0.509) total time=   0.1s\n",
      "[CV 10/10] END alpha=1, penalty=l1;, score=(train=0.502, test=0.500) total time=   0.0s\n",
      "[CV 1/10] END alpha=1, penalty=l2;, score=(train=0.999, test=0.770) total time=   0.0s\n",
      "[CV 2/10] END alpha=1, penalty=l2;, score=(train=0.999, test=0.833) total time=   0.0s\n",
      "[CV 3/10] END alpha=1, penalty=l2;, score=(train=0.999, test=0.807) total time=   0.0s\n",
      "[CV 4/10] END alpha=1, penalty=l2;, score=(train=0.999, test=0.802) total time=   0.0s\n",
      "[CV 5/10] END alpha=1, penalty=l2;, score=(train=0.999, test=0.793) total time=   0.0s\n",
      "[CV 6/10] END alpha=1, penalty=l2;, score=(train=0.998, test=0.787) total time=   0.0s\n",
      "[CV 7/10] END alpha=1, penalty=l2;, score=(train=0.999, test=0.827) total time=   0.0s\n",
      "[CV 8/10] END alpha=1, penalty=l2;, score=(train=0.999, test=0.765) total time=   0.0s\n",
      "[CV 9/10] END alpha=1, penalty=l2;, score=(train=0.999, test=0.794) total time=   0.0s\n",
      "[CV 10/10] END alpha=1, penalty=l2;, score=(train=0.999, test=0.774) total time=   0.0s\n",
      "[CV 1/10] END alpha=10, penalty=l1;, score=(train=0.500, test=0.500) total time=   0.0s\n",
      "[CV 2/10] END alpha=10, penalty=l1;, score=(train=0.500, test=0.500) total time=   0.0s\n",
      "[CV 3/10] END alpha=10, penalty=l1;, score=(train=0.500, test=0.500) total time=   0.0s\n",
      "[CV 4/10] END alpha=10, penalty=l1;, score=(train=0.501, test=0.501) total time=   0.0s\n",
      "[CV 5/10] END alpha=10, penalty=l1;, score=(train=0.500, test=0.500) total time=   0.0s\n",
      "[CV 6/10] END alpha=10, penalty=l1;, score=(train=0.500, test=0.503) total time=   0.0s\n",
      "[CV 7/10] END alpha=10, penalty=l1;, score=(train=0.501, test=0.500) total time=   0.0s\n",
      "[CV 8/10] END alpha=10, penalty=l1;, score=(train=0.500, test=0.500) total time=   0.0s\n",
      "[CV 9/10] END alpha=10, penalty=l1;, score=(train=0.500, test=0.493) total time=   0.0s\n",
      "[CV 10/10] END alpha=10, penalty=l1;, score=(train=0.500, test=0.500) total time=   0.0s\n",
      "[CV 1/10] END alpha=10, penalty=l2;, score=(train=0.963, test=0.648) total time=   0.0s\n",
      "[CV 2/10] END alpha=10, penalty=l2;, score=(train=0.968, test=0.692) total time=   0.0s\n",
      "[CV 3/10] END alpha=10, penalty=l2;, score=(train=0.962, test=0.687) total time=   0.0s\n",
      "[CV 4/10] END alpha=10, penalty=l2;, score=(train=0.967, test=0.678) total time=   0.0s\n",
      "[CV 5/10] END alpha=10, penalty=l2;, score=(train=0.970, test=0.655) total time=   0.0s\n",
      "[CV 6/10] END alpha=10, penalty=l2;, score=(train=0.960, test=0.639) total time=   0.0s\n",
      "[CV 7/10] END alpha=10, penalty=l2;, score=(train=0.968, test=0.708) total time=   0.0s\n",
      "[CV 8/10] END alpha=10, penalty=l2;, score=(train=0.964, test=0.642) total time=   0.0s\n",
      "[CV 9/10] END alpha=10, penalty=l2;, score=(train=0.969, test=0.653) total time=   0.0s\n",
      "[CV 10/10] END alpha=10, penalty=l2;, score=(train=0.968, test=0.657) total time=   0.0s\n",
      "[CV 1/10] END alpha=100, penalty=l1;, score=(train=0.500, test=0.500) total time=   0.0s\n",
      "[CV 2/10] END alpha=100, penalty=l1;, score=(train=0.500, test=0.500) total time=   0.0s\n",
      "[CV 3/10] END alpha=100, penalty=l1;, score=(train=0.500, test=0.500) total time=   0.0s\n",
      "[CV 4/10] END alpha=100, penalty=l1;, score=(train=0.500, test=0.500) total time=   0.0s\n",
      "[CV 5/10] END alpha=100, penalty=l1;, score=(train=0.500, test=0.500) total time=   0.0s\n",
      "[CV 6/10] END alpha=100, penalty=l1;, score=(train=0.500, test=0.500) total time=   0.0s\n",
      "[CV 7/10] END alpha=100, penalty=l1;, score=(train=0.500, test=0.500) total time=   0.0s\n",
      "[CV 8/10] END alpha=100, penalty=l1;, score=(train=0.500, test=0.500) total time=   0.0s\n",
      "[CV 9/10] END alpha=100, penalty=l1;, score=(train=0.500, test=0.500) total time=   0.0s\n",
      "[CV 10/10] END alpha=100, penalty=l1;, score=(train=0.500, test=0.500) total time=   0.0s\n",
      "[CV 1/10] END alpha=100, penalty=l2;, score=(train=0.823, test=0.530) total time=   0.0s\n",
      "[CV 2/10] END alpha=100, penalty=l2;, score=(train=0.821, test=0.543) total time=   0.0s\n",
      "[CV 3/10] END alpha=100, penalty=l2;, score=(train=0.823, test=0.574) total time=   0.0s\n",
      "[CV 4/10] END alpha=100, penalty=l2;, score=(train=0.828, test=0.546) total time=   0.0s\n",
      "[CV 5/10] END alpha=100, penalty=l2;, score=(train=0.838, test=0.541) total time=   0.0s\n",
      "[CV 6/10] END alpha=100, penalty=l2;, score=(train=0.816, test=0.531) total time=   0.0s\n",
      "[CV 7/10] END alpha=100, penalty=l2;, score=(train=0.824, test=0.582) total time=   0.0s\n",
      "[CV 8/10] END alpha=100, penalty=l2;, score=(train=0.828, test=0.529) total time=   0.0s\n",
      "[CV 9/10] END alpha=100, penalty=l2;, score=(train=0.828, test=0.546) total time=   0.0s\n",
      "[CV 10/10] END alpha=100, penalty=l2;, score=(train=0.823, test=0.527) total time=   0.0s\n",
      "[CV 1/10] END alpha=1000, penalty=l1;, score=(train=0.500, test=0.500) total time=   0.0s\n",
      "[CV 2/10] END alpha=1000, penalty=l1;, score=(train=0.500, test=0.500) total time=   0.0s\n",
      "[CV 3/10] END alpha=1000, penalty=l1;, score=(train=0.500, test=0.500) total time=   0.0s\n",
      "[CV 4/10] END alpha=1000, penalty=l1;, score=(train=0.500, test=0.500) total time=   0.0s\n",
      "[CV 5/10] END alpha=1000, penalty=l1;, score=(train=0.500, test=0.500) total time=   0.0s\n",
      "[CV 6/10] END alpha=1000, penalty=l1;, score=(train=0.500, test=0.500) total time=   0.0s\n",
      "[CV 7/10] END alpha=1000, penalty=l1;, score=(train=0.500, test=0.500) total time=   0.0s\n",
      "[CV 8/10] END alpha=1000, penalty=l1;, score=(train=0.500, test=0.500) total time=   0.0s\n",
      "[CV 9/10] END alpha=1000, penalty=l1;, score=(train=0.500, test=0.500) total time=   0.0s\n",
      "[CV 10/10] END alpha=1000, penalty=l1;, score=(train=0.500, test=0.500) total time=   0.0s\n",
      "[CV 1/10] END alpha=1000, penalty=l2;, score=(train=0.806, test=0.524) total time=   0.0s\n",
      "[CV 2/10] END alpha=1000, penalty=l2;, score=(train=0.798, test=0.522) total time=   0.0s\n",
      "[CV 3/10] END alpha=1000, penalty=l2;, score=(train=0.803, test=0.566) total time=   0.0s\n",
      "[CV 4/10] END alpha=1000, penalty=l2;, score=(train=0.805, test=0.531) total time=   0.0s\n",
      "[CV 5/10] END alpha=1000, penalty=l2;, score=(train=0.817, test=0.533) total time=   0.0s\n",
      "[CV 6/10] END alpha=1000, penalty=l2;, score=(train=0.799, test=0.526) total time=   0.0s\n",
      "[CV 7/10] END alpha=1000, penalty=l2;, score=(train=0.803, test=0.571) total time=   0.0s\n",
      "[CV 8/10] END alpha=1000, penalty=l2;, score=(train=0.806, test=0.519) total time=   0.0s\n",
      "[CV 9/10] END alpha=1000, penalty=l2;, score=(train=0.808, test=0.538) total time=   0.0s\n",
      "[CV 10/10] END alpha=1000, penalty=l2;, score=(train=0.802, test=0.517) total time=   0.0s\n",
      "[CV 1/10] END alpha=10000, penalty=l1;, score=(train=0.500, test=0.500) total time=   0.0s\n",
      "[CV 2/10] END alpha=10000, penalty=l1;, score=(train=0.500, test=0.500) total time=   0.0s\n",
      "[CV 3/10] END alpha=10000, penalty=l1;, score=(train=0.500, test=0.500) total time=   0.0s\n",
      "[CV 4/10] END alpha=10000, penalty=l1;, score=(train=0.500, test=0.500) total time=   0.0s\n",
      "[CV 5/10] END alpha=10000, penalty=l1;, score=(train=0.500, test=0.500) total time=   0.0s\n",
      "[CV 6/10] END alpha=10000, penalty=l1;, score=(train=0.500, test=0.500) total time=   0.0s\n",
      "[CV 7/10] END alpha=10000, penalty=l1;, score=(train=0.500, test=0.500) total time=   0.0s\n",
      "[CV 8/10] END alpha=10000, penalty=l1;, score=(train=0.500, test=0.500) total time=   0.0s\n",
      "[CV 9/10] END alpha=10000, penalty=l1;, score=(train=0.500, test=0.500) total time=   0.0s\n",
      "[CV 10/10] END alpha=10000, penalty=l1;, score=(train=0.500, test=0.500) total time=   0.0s\n",
      "[CV 1/10] END alpha=10000, penalty=l2;, score=(train=0.806, test=0.524) total time=   0.0s\n",
      "[CV 2/10] END alpha=10000, penalty=l2;, score=(train=0.798, test=0.522) total time=   0.0s\n",
      "[CV 3/10] END alpha=10000, penalty=l2;, score=(train=0.803, test=0.566) total time=   0.0s\n",
      "[CV 4/10] END alpha=10000, penalty=l2;, score=(train=0.805, test=0.531) total time=   0.0s\n",
      "[CV 5/10] END alpha=10000, penalty=l2;, score=(train=0.817, test=0.533) total time=   0.0s\n",
      "[CV 6/10] END alpha=10000, penalty=l2;, score=(train=0.799, test=0.526) total time=   0.0s\n",
      "[CV 7/10] END alpha=10000, penalty=l2;, score=(train=0.803, test=0.571) total time=   0.0s\n",
      "[CV 8/10] END alpha=10000, penalty=l2;, score=(train=0.806, test=0.519) total time=   0.0s\n",
      "[CV 9/10] END alpha=10000, penalty=l2;, score=(train=0.808, test=0.538) total time=   0.0s\n",
      "[CV 10/10] END alpha=10000, penalty=l2;, score=(train=0.802, test=0.517) total time=   0.0s\n",
      "----------\n",
      "iter: 1\n",
      "n_candidates: 6\n",
      "n_resources: 14334\n",
      "Fitting 10 folds for each of 6 candidates, totalling 60 fits\n",
      "[CV 1/10] END alpha=0.0001, penalty=l2;, score=(train=1.000, test=0.817) total time=   0.0s\n",
      "[CV 2/10] END alpha=0.0001, penalty=l2;, score=(train=1.000, test=0.810) total time=   0.0s\n",
      "[CV 3/10] END alpha=0.0001, penalty=l2;, score=(train=1.000, test=0.796) total time=   0.0s\n",
      "[CV 4/10] END alpha=0.0001, penalty=l2;, score=(train=1.000, test=0.799) total time=   0.0s\n",
      "[CV 5/10] END alpha=0.0001, penalty=l2;, score=(train=1.000, test=0.792) total time=   0.0s\n",
      "[CV 6/10] END alpha=0.0001, penalty=l2;, score=(train=1.000, test=0.788) total time=   0.0s\n",
      "[CV 7/10] END alpha=0.0001, penalty=l2;, score=(train=1.000, test=0.817) total time=   0.0s\n",
      "[CV 8/10] END alpha=0.0001, penalty=l2;, score=(train=1.000, test=0.806) total time=   0.0s\n",
      "[CV 9/10] END alpha=0.0001, penalty=l2;, score=(train=1.000, test=0.792) total time=   0.0s\n",
      "[CV 10/10] END alpha=0.0001, penalty=l2;, score=(train=1.000, test=0.813) total time=   0.0s\n",
      "[CV 1/10] END alpha=0.0001, penalty=l1;, score=(train=0.998, test=0.807) total time=   5.8s\n",
      "[CV 2/10] END alpha=0.0001, penalty=l1;, score=(train=0.998, test=0.805) total time=   5.6s\n",
      "[CV 3/10] END alpha=0.0001, penalty=l1;, score=(train=0.998, test=0.755) total time=   6.4s\n",
      "[CV 4/10] END alpha=0.0001, penalty=l1;, score=(train=0.998, test=0.794) total time=   6.5s\n",
      "[CV 5/10] END alpha=0.0001, penalty=l1;, score=(train=0.998, test=0.775) total time=   5.7s\n",
      "[CV 6/10] END alpha=0.0001, penalty=l1;, score=(train=0.999, test=0.798) total time=   5.5s\n",
      "[CV 7/10] END alpha=0.0001, penalty=l1;, score=(train=0.999, test=0.820) total time=   5.3s\n",
      "[CV 8/10] END alpha=0.0001, penalty=l1;, score=(train=0.999, test=0.794) total time=   5.8s\n",
      "[CV 9/10] END alpha=0.0001, penalty=l1;, score=(train=0.998, test=0.790) total time=   5.6s\n",
      "[CV 10/10] END alpha=0.0001, penalty=l1;, score=(train=0.999, test=0.804) total time=   5.7s\n",
      "[CV 1/10] END alpha=0.01, penalty=l2;, score=(train=1.000, test=0.807) total time=   0.0s\n",
      "[CV 2/10] END alpha=0.01, penalty=l2;, score=(train=1.000, test=0.814) total time=   0.0s\n",
      "[CV 3/10] END alpha=0.01, penalty=l2;, score=(train=1.000, test=0.806) total time=   0.0s\n",
      "[CV 4/10] END alpha=0.01, penalty=l2;, score=(train=1.000, test=0.824) total time=   0.0s\n",
      "[CV 5/10] END alpha=0.01, penalty=l2;, score=(train=1.000, test=0.807) total time=   0.0s\n",
      "[CV 6/10] END alpha=0.01, penalty=l2;, score=(train=1.000, test=0.797) total time=   0.0s\n",
      "[CV 7/10] END alpha=0.01, penalty=l2;, score=(train=1.000, test=0.827) total time=   0.0s\n",
      "[CV 8/10] END alpha=0.01, penalty=l2;, score=(train=1.000, test=0.804) total time=   0.0s\n",
      "[CV 9/10] END alpha=0.01, penalty=l2;, score=(train=1.000, test=0.811) total time=   0.0s\n",
      "[CV 10/10] END alpha=0.01, penalty=l2;, score=(train=1.000, test=0.821) total time=   0.0s\n",
      "[CV 1/10] END alpha=0.001, penalty=l2;, score=(train=1.000, test=0.792) total time=   0.0s\n",
      "[CV 2/10] END alpha=0.001, penalty=l2;, score=(train=1.000, test=0.824) total time=   0.0s\n",
      "[CV 3/10] END alpha=0.001, penalty=l2;, score=(train=1.000, test=0.793) total time=   0.0s\n",
      "[CV 4/10] END alpha=0.001, penalty=l2;, score=(train=1.000, test=0.803) total time=   0.0s\n",
      "[CV 5/10] END alpha=0.001, penalty=l2;, score=(train=1.000, test=0.821) total time=   0.0s\n",
      "[CV 6/10] END alpha=0.001, penalty=l2;, score=(train=1.000, test=0.791) total time=   0.0s\n",
      "[CV 7/10] END alpha=0.001, penalty=l2;, score=(train=1.000, test=0.841) total time=   0.0s\n",
      "[CV 8/10] END alpha=0.001, penalty=l2;, score=(train=1.000, test=0.806) total time=   0.0s\n",
      "[CV 9/10] END alpha=0.001, penalty=l2;, score=(train=1.000, test=0.804) total time=   0.0s\n",
      "[CV 10/10] END alpha=0.001, penalty=l2;, score=(train=1.000, test=0.807) total time=   0.0s\n",
      "[CV 1/10] END alpha=1, penalty=l2;, score=(train=0.992, test=0.854) total time=   0.0s\n",
      "[CV 2/10] END alpha=1, penalty=l2;, score=(train=0.993, test=0.856) total time=   0.0s\n",
      "[CV 3/10] END alpha=1, penalty=l2;, score=(train=0.990, test=0.847) total time=   0.0s\n",
      "[CV 4/10] END alpha=1, penalty=l2;, score=(train=0.993, test=0.840) total time=   0.0s\n",
      "[CV 5/10] END alpha=1, penalty=l2;, score=(train=0.992, test=0.842) total time=   0.0s\n",
      "[CV 6/10] END alpha=1, penalty=l2;, score=(train=0.993, test=0.841) total time=   0.0s\n",
      "[CV 7/10] END alpha=1, penalty=l2;, score=(train=0.993, test=0.872) total time=   0.0s\n",
      "[CV 8/10] END alpha=1, penalty=l2;, score=(train=0.992, test=0.843) total time=   0.0s\n",
      "[CV 9/10] END alpha=1, penalty=l2;, score=(train=0.992, test=0.865) total time=   0.0s\n",
      "[CV 10/10] END alpha=1, penalty=l2;, score=(train=0.992, test=0.855) total time=   0.0s\n",
      "[CV 1/10] END alpha=0.1, penalty=l2;, score=(train=0.999, test=0.871) total time=   0.0s\n",
      "[CV 2/10] END alpha=0.1, penalty=l2;, score=(train=1.000, test=0.864) total time=   0.0s\n",
      "[CV 3/10] END alpha=0.1, penalty=l2;, score=(train=0.999, test=0.845) total time=   0.0s\n",
      "[CV 4/10] END alpha=0.1, penalty=l2;, score=(train=0.999, test=0.863) total time=   0.0s\n",
      "[CV 5/10] END alpha=0.1, penalty=l2;, score=(train=0.999, test=0.852) total time=   0.0s\n",
      "[CV 6/10] END alpha=0.1, penalty=l2;, score=(train=0.999, test=0.842) total time=   0.0s\n",
      "[CV 7/10] END alpha=0.1, penalty=l2;, score=(train=1.000, test=0.885) total time=   0.0s\n",
      "[CV 8/10] END alpha=0.1, penalty=l2;, score=(train=0.999, test=0.866) total time=   0.0s\n",
      "[CV 9/10] END alpha=0.1, penalty=l2;, score=(train=0.999, test=0.880) total time=   0.0s\n",
      "[CV 10/10] END alpha=0.1, penalty=l2;, score=(train=0.999, test=0.865) total time=   0.0s\n",
      "----------\n",
      "iter: 2\n",
      "n_candidates: 2\n",
      "n_resources: 43002\n",
      "Fitting 10 folds for each of 2 candidates, totalling 20 fits\n",
      "[CV 1/10] END alpha=1, penalty=l2;, score=(train=0.977, test=0.893) total time=   0.0s\n",
      "[CV 2/10] END alpha=1, penalty=l2;, score=(train=0.977, test=0.893) total time=   0.0s\n",
      "[CV 3/10] END alpha=1, penalty=l2;, score=(train=0.977, test=0.878) total time=   0.0s\n",
      "[CV 4/10] END alpha=1, penalty=l2;, score=(train=0.979, test=0.881) total time=   0.0s\n",
      "[CV 5/10] END alpha=1, penalty=l2;, score=(train=0.977, test=0.886) total time=   0.0s\n",
      "[CV 6/10] END alpha=1, penalty=l2;, score=(train=0.977, test=0.882) total time=   0.0s\n",
      "[CV 7/10] END alpha=1, penalty=l2;, score=(train=0.976, test=0.889) total time=   0.0s\n",
      "[CV 8/10] END alpha=1, penalty=l2;, score=(train=0.978, test=0.882) total time=   0.0s\n",
      "[CV 9/10] END alpha=1, penalty=l2;, score=(train=0.977, test=0.886) total time=   0.0s\n",
      "[CV 10/10] END alpha=1, penalty=l2;, score=(train=0.977, test=0.873) total time=   0.0s\n",
      "[CV 1/10] END alpha=0.1, penalty=l2;, score=(train=0.996, test=0.901) total time=   0.0s\n",
      "[CV 2/10] END alpha=0.1, penalty=l2;, score=(train=0.996, test=0.905) total time=   0.1s\n",
      "[CV 3/10] END alpha=0.1, penalty=l2;, score=(train=0.996, test=0.891) total time=   0.0s\n",
      "[CV 4/10] END alpha=0.1, penalty=l2;, score=(train=0.996, test=0.895) total time=   0.0s\n",
      "[CV 5/10] END alpha=0.1, penalty=l2;, score=(train=0.996, test=0.902) total time=   0.0s\n",
      "[CV 6/10] END alpha=0.1, penalty=l2;, score=(train=0.995, test=0.904) total time=   0.0s\n",
      "[CV 7/10] END alpha=0.1, penalty=l2;, score=(train=0.996, test=0.899) total time=   0.0s\n",
      "[CV 8/10] END alpha=0.1, penalty=l2;, score=(train=0.996, test=0.897) total time=   0.1s\n",
      "[CV 9/10] END alpha=0.1, penalty=l2;, score=(train=0.995, test=0.914) total time=   0.0s\n",
      "[CV 10/10] END alpha=0.1, penalty=l2;, score=(train=0.996, test=0.899) total time=   0.0s\n",
      "Best Hyperparameters -->  {'alpha': 0.1, 'penalty': 'l2'}\n",
      "Best Accuracy -->  0.9006014773559657\n"
     ]
    }
   ],
   "source": [
    "model = SGDClassifier(loss='hinge')\n",
    "\n",
    "linear_bow_model = HalvingGridSearchCV(model ,parameter_grid ,scoring='roc_auc',cv=10 ,verbose=3)\n",
    "\n",
    "linear_bow_model.fit(X_train_bow ,y_train)\n",
    "print('Best Hyperparameters --> ', linear_bow_model.best_params_)\n",
    "print('Best Accuracy --> ',linear_bow_model.best_score_)"
   ]
  },
  {
   "cell_type": "markdown",
   "metadata": {},
   "source": [
    "### 1.2 Model Building (Linear-BoW)"
   ]
  },
  {
   "cell_type": "code",
   "execution_count": 30,
   "metadata": {},
   "outputs": [],
   "source": [
    "model_linear_bow = SGDClassifier(alpha=linear_bow_model.best_estimator_.alpha ,penalty=linear_bow_model.best_estimator_.penalty)\n",
    "\n",
    "model_linear_bow.fit(X_train_bow, y_train)\n",
    "\n",
    "# predicted values for train & test data\n",
    "y_pred_bow = model_linear_bow.decision_function(X_train_bow)\n",
    "y_pred_bow_test = model_linear_bow.decision_function(X_test_bow)"
   ]
  },
  {
   "cell_type": "markdown",
   "metadata": {},
   "source": [
    "### 1.3 Model Evaluation (Linear-BoW)"
   ]
  },
  {
   "cell_type": "code",
   "execution_count": 31,
   "metadata": {},
   "outputs": [
    {
     "name": "stdout",
     "output_type": "stream",
     "text": [
      "Accuracy of Linear-BoW model :  0.9016822997759465\n"
     ]
    }
   ],
   "source": [
    "print('Accuracy of Linear-BoW model : ', model_linear_bow.score(X_test_bow, y_test))"
   ]
  },
  {
   "cell_type": "code",
   "execution_count": 32,
   "metadata": {},
   "outputs": [
    {
     "data": {
      "image/png": "[encoded data removed]",
      "text/plain": [
       "<Figure size 432x288 with 1 Axes>"
      ]
     },
     "metadata": {
      "needs_background": "light"
     },
     "output_type": "display_data"
    }
   ],
   "source": [
    "# plotting ROC curve for train & test data\n",
    "\n",
    "false_positive_rate1, true_positive_rate1, threshold1 = roc_curve(y_train, y_pred_bow)\n",
    "false_positive_rate2, true_positive_rate2, threshold2 = roc_curve(y_test, y_pred_bow_test)\n",
    "\n",
    "fig = plt.figure()\n",
    "ax = plt.subplot(111)\n",
    "\n",
    "# train ROC\n",
    "ax.plot(false_positive_rate1, true_positive_rate1, label='Train ROC ,auc ={}'.format(\n",
    "    str(roc_auc_score(y_train, y_pred_bow))))\n",
    "\n",
    "# test ROC\n",
    "ax.plot(false_positive_rate2, true_positive_rate2, label='Test ROC ,auc ={}'.format(\n",
    "    str(roc_auc_score(y_test, y_pred_bow_test))))\n",
    "\n",
    "plt.title('ROC')\n",
    "plt.grid()\n",
    "plt.xlabel('False Positive Rate')\n",
    "plt.ylabel('True Positive Rate')\n",
    "ax.legend()\n",
    "plt.show()"
   ]
  },
  {
   "cell_type": "code",
   "execution_count": 33,
   "metadata": {},
   "outputs": [
    {
     "data": {
      "image/png": "[encoded data removed]",
      "text/plain": [
       "<Figure size 432x288 with 2 Axes>"
      ]
     },
     "metadata": {
      "needs_background": "light"
     },
     "output_type": "display_data"
    }
   ],
   "source": [
    "# confusion Matrix for test data\n",
    "y_pred_bow_test = model_linear_bow.predict(X_test_bow)\n",
    "\n",
    "confusion = confusion_matrix(y_test, y_pred_bow_test)\n",
    "class_labels = [\"negative\", \"positive\"]\n",
    "\n",
    "cf_data = pd.DataFrame(confusion, index=class_labels, columns=class_labels)\n",
    "sns.heatmap(cf_data, annot=True, fmt='.5g')\n",
    "\n",
    "plt.title(\"Confusion Matrix for test data\")\n",
    "plt.xlabel(\"Predicted Label\")\n",
    "plt.ylabel(\"True Label\")\n",
    "plt.show()\n"
   ]
  },
  {
   "cell_type": "markdown",
   "metadata": {},
   "source": [
    "### 1.4 Feature Importance (Linear-BoW)"
   ]
  },
  {
   "cell_type": "code",
   "execution_count": 34,
   "metadata": {},
   "outputs": [
    {
     "name": "stdout",
     "output_type": "stream",
     "text": [
      "Top 10 positive features --> \n",
      "           Coefficient\n",
      "great         0.189010\n",
      "good          0.144284\n",
      "love          0.133865\n",
      "best          0.126127\n",
      "delicious     0.103880\n",
      "loves         0.092178\n",
      "excellent     0.084578\n",
      "favorite      0.081131\n",
      "nice          0.080702\n",
      "perfect       0.079001\n",
      "----------------------------------------\n",
      "Top 10 negative features --> \n",
      "               Coefficient\n",
      "not              -0.090836\n",
      "terrible         -0.074375\n",
      "disappointed     -0.073399\n",
      "worst            -0.069867\n",
      "awful            -0.065271\n",
      "disappointing    -0.063690\n",
      "horrible         -0.062947\n",
      "threw            -0.058549\n",
      "unfortunately    -0.056504\n",
      "waste            -0.053395\n"
     ]
    }
   ],
   "source": [
    "features = vectorizer.get_feature_names_out()\n",
    "coefs = model_linear_bow.coef_.reshape(-1, 1)\n",
    "\n",
    "dataframe = pd.DataFrame(coefs, columns=['Coefficient'], index=features)\n",
    "\n",
    "top_positive = dataframe.sort_values(by='Coefficient', ascending=False).head(10)\n",
    "top_negative = dataframe.sort_values(by='Coefficient', ascending=True).head(10)\n",
    "\n",
    "print('Top 10 positive features --> ')\n",
    "print(top_positive)\n",
    "print('----------------------------------------')\n",
    "print('Top 10 negative features --> ')\n",
    "print(top_negative)\n"
   ]
  },
  {
   "cell_type": "markdown",
   "metadata": {},
   "source": [
    "## 2. Linear SVM - TFIDF"
   ]
  },
  {
   "cell_type": "code",
   "execution_count": 35,
   "metadata": {},
   "outputs": [],
   "source": [
    "vectorizer = TfidfVectorizer(ngram_range=(1,2))\n",
    "X_train_tfidf = vectorizer.fit_transform(X_train)\n",
    "X_test_tfidf = vectorizer.transform(X_test)\n",
    "X_val_tfidf = vectorizer.transform(X_val)\n"
   ]
  },
  {
   "cell_type": "markdown",
   "metadata": {},
   "source": [
    "### 2.1 Hyperparameter Tuning\n"
   ]
  },
  {
   "cell_type": "code",
   "execution_count": 36,
   "metadata": {},
   "outputs": [],
   "source": [
    "alpha = [10**-4, 10**-3, 10**-2, 10**-1, 10**0, 10**1, 10**2, 10**3, 10**4]\n",
    "penalties = ['l1', 'l2']\n",
    "\n",
    "parameter_grid = {'penalty': penalties, 'alpha': alpha}"
   ]
  },
  {
   "cell_type": "code",
   "execution_count": 37,
   "metadata": {},
   "outputs": [
    {
     "name": "stdout",
     "output_type": "stream",
     "text": [
      "n_iterations: 3\n",
      "n_required_iterations: 3\n",
      "n_possible_iterations: 3\n",
      "min_resources_: 4778\n",
      "max_resources_: 43009\n",
      "aggressive_elimination: False\n",
      "factor: 3\n",
      "----------\n",
      "iter: 0\n",
      "n_candidates: 18\n",
      "n_resources: 4778\n",
      "Fitting 10 folds for each of 18 candidates, totalling 180 fits\n",
      "[CV 1/10] END alpha=0.0001, penalty=l1;, score=(train=0.966, test=0.912) total time=   0.0s\n",
      "[CV 2/10] END alpha=0.0001, penalty=l1;, score=(train=0.965, test=0.915) total time=   0.0s\n",
      "[CV 3/10] END alpha=0.0001, penalty=l1;, score=(train=0.962, test=0.913) total time=   0.0s\n",
      "[CV 4/10] END alpha=0.0001, penalty=l1;, score=(train=0.960, test=0.910) total time=   0.0s\n",
      "[CV 5/10] END alpha=0.0001, penalty=l1;, score=(train=0.958, test=0.900) total time=   0.0s\n",
      "[CV 6/10] END alpha=0.0001, penalty=l1;, score=(train=0.966, test=0.927) total time=   0.0s\n",
      "[CV 7/10] END alpha=0.0001, penalty=l1;, score=(train=0.959, test=0.855) total time=   0.0s\n",
      "[CV 8/10] END alpha=0.0001, penalty=l1;, score=(train=0.954, test=0.903) total time=   0.0s\n",
      "[CV 9/10] END alpha=0.0001, penalty=l1;, score=(train=0.956, test=0.936) total time=   0.0s\n",
      "[CV 10/10] END alpha=0.0001, penalty=l1;, score=(train=0.963, test=0.901) total time=   0.0s\n",
      "[CV 1/10] END alpha=0.0001, penalty=l2;, score=(train=1.000, test=0.928) total time=   0.0s\n",
      "[CV 2/10] END alpha=0.0001, penalty=l2;, score=(train=1.000, test=0.921) total time=   0.0s\n",
      "[CV 3/10] END alpha=0.0001, penalty=l2;, score=(train=1.000, test=0.919) total time=   0.0s\n",
      "[CV 4/10] END alpha=0.0001, penalty=l2;, score=(train=1.000, test=0.938) total time=   0.0s\n",
      "[CV 5/10] END alpha=0.0001, penalty=l2;, score=(train=1.000, test=0.906) total time=   0.0s\n",
      "[CV 6/10] END alpha=0.0001, penalty=l2;, score=(train=1.000, test=0.932) total time=   0.0s\n",
      "[CV 7/10] END alpha=0.0001, penalty=l2;, score=(train=1.000, test=0.894) total time=   0.0s\n",
      "[CV 8/10] END alpha=0.0001, penalty=l2;, score=(train=1.000, test=0.938) total time=   0.0s\n",
      "[CV 9/10] END alpha=0.0001, penalty=l2;, score=(train=1.000, test=0.957) total time=   0.0s\n",
      "[CV 10/10] END alpha=0.0001, penalty=l2;, score=(train=1.000, test=0.914) total time=   0.0s\n",
      "[CV 1/10] END alpha=0.001, penalty=l1;, score=(train=0.714, test=0.701) total time=   0.0s\n",
      "[CV 2/10] END alpha=0.001, penalty=l1;, score=(train=0.600, test=0.598) total time=   0.0s\n",
      "[CV 3/10] END alpha=0.001, penalty=l1;, score=(train=0.666, test=0.680) total time=   0.0s\n",
      "[CV 4/10] END alpha=0.001, penalty=l1;, score=(train=0.681, test=0.656) total time=   0.0s\n",
      "[CV 5/10] END alpha=0.001, penalty=l1;, score=(train=0.592, test=0.592) total time=   0.0s\n",
      "[CV 6/10] END alpha=0.001, penalty=l1;, score=(train=0.691, test=0.712) total time=   0.0s\n",
      "[CV 7/10] END alpha=0.001, penalty=l1;, score=(train=0.664, test=0.644) total time=   0.0s\n",
      "[CV 8/10] END alpha=0.001, penalty=l1;, score=(train=0.605, test=0.601) total time=   0.0s\n",
      "[CV 9/10] END alpha=0.001, penalty=l1;, score=(train=0.595, test=0.576) total time=   0.0s\n",
      "[CV 10/10] END alpha=0.001, penalty=l1;, score=(train=0.657, test=0.680) total time=   0.0s\n",
      "[CV 1/10] END alpha=0.001, penalty=l2;, score=(train=1.000, test=0.921) total time=   0.0s\n",
      "[CV 2/10] END alpha=0.001, penalty=l2;, score=(train=1.000, test=0.913) total time=   0.0s\n",
      "[CV 3/10] END alpha=0.001, penalty=l2;, score=(train=1.000, test=0.915) total time=   0.0s\n",
      "[CV 4/10] END alpha=0.001, penalty=l2;, score=(train=1.000, test=0.933) total time=   0.0s\n",
      "[CV 5/10] END alpha=0.001, penalty=l2;, score=(train=1.000, test=0.895) total time=   0.0s\n",
      "[CV 6/10] END alpha=0.001, penalty=l2;, score=(train=1.000, test=0.934) total time=   0.0s\n",
      "[CV 7/10] END alpha=0.001, penalty=l2;, score=(train=1.000, test=0.898) total time=   0.0s\n",
      "[CV 8/10] END alpha=0.001, penalty=l2;, score=(train=1.000, test=0.930) total time=   0.0s\n",
      "[CV 9/10] END alpha=0.001, penalty=l2;, score=(train=1.000, test=0.949) total time=   0.0s\n",
      "[CV 10/10] END alpha=0.001, penalty=l2;, score=(train=1.000, test=0.915) total time=   0.0s\n",
      "[CV 1/10] END alpha=0.01, penalty=l1;, score=(train=0.500, test=0.500) total time=   0.0s\n",
      "[CV 2/10] END alpha=0.01, penalty=l1;, score=(train=0.500, test=0.500) total time=   0.0s\n",
      "[CV 3/10] END alpha=0.01, penalty=l1;, score=(train=0.500, test=0.500) total time=   0.0s\n",
      "[CV 4/10] END alpha=0.01, penalty=l1;, score=(train=0.500, test=0.500) total time=   0.0s\n",
      "[CV 5/10] END alpha=0.01, penalty=l1;, score=(train=0.500, test=0.500) total time=   0.0s\n",
      "[CV 6/10] END alpha=0.01, penalty=l1;, score=(train=0.500, test=0.500) total time=   0.0s\n",
      "[CV 7/10] END alpha=0.01, penalty=l1;, score=(train=0.500, test=0.500) total time=   0.0s\n",
      "[CV 8/10] END alpha=0.01, penalty=l1;, score=(train=0.500, test=0.500) total time=   0.0s\n",
      "[CV 9/10] END alpha=0.01, penalty=l1;, score=(train=0.500, test=0.500) total time=   0.0s\n",
      "[CV 10/10] END alpha=0.01, penalty=l1;, score=(train=0.500, test=0.500) total time=   0.0s\n",
      "[CV 1/10] END alpha=0.01, penalty=l2;, score=(train=1.000, test=0.920) total time=   0.0s\n",
      "[CV 2/10] END alpha=0.01, penalty=l2;, score=(train=1.000, test=0.915) total time=   0.0s\n",
      "[CV 3/10] END alpha=0.01, penalty=l2;, score=(train=1.000, test=0.918) total time=   0.0s\n",
      "[CV 4/10] END alpha=0.01, penalty=l2;, score=(train=1.000, test=0.934) total time=   0.0s\n",
      "[CV 5/10] END alpha=0.01, penalty=l2;, score=(train=1.000, test=0.896) total time=   0.0s\n",
      "[CV 6/10] END alpha=0.01, penalty=l2;, score=(train=1.000, test=0.934) total time=   0.0s\n",
      "[CV 7/10] END alpha=0.01, penalty=l2;, score=(train=1.000, test=0.899) total time=   0.0s\n",
      "[CV 8/10] END alpha=0.01, penalty=l2;, score=(train=1.000, test=0.933) total time=   0.0s\n",
      "[CV 9/10] END alpha=0.01, penalty=l2;, score=(train=1.000, test=0.951) total time=   0.0s\n",
      "[CV 10/10] END alpha=0.01, penalty=l2;, score=(train=1.000, test=0.919) total time=   0.0s\n",
      "[CV 1/10] END alpha=0.1, penalty=l1;, score=(train=0.500, test=0.500) total time=   0.2s\n",
      "[CV 2/10] END alpha=0.1, penalty=l1;, score=(train=0.500, test=0.500) total time=   0.3s\n",
      "[CV 3/10] END alpha=0.1, penalty=l1;, score=(train=0.500, test=0.500) total time=   0.3s\n",
      "[CV 4/10] END alpha=0.1, penalty=l1;, score=(train=0.500, test=0.500) total time=   0.3s\n",
      "[CV 5/10] END alpha=0.1, penalty=l1;, score=(train=0.500, test=0.500) total time=   0.3s\n",
      "[CV 6/10] END alpha=0.1, penalty=l1;, score=(train=0.500, test=0.500) total time=   0.2s\n",
      "[CV 7/10] END alpha=0.1, penalty=l1;, score=(train=0.500, test=0.500) total time=   0.3s\n",
      "[CV 8/10] END alpha=0.1, penalty=l1;, score=(train=0.500, test=0.500) total time=   0.3s\n",
      "[CV 9/10] END alpha=0.1, penalty=l1;, score=(train=0.500, test=0.500) total time=   0.3s\n",
      "[CV 10/10] END alpha=0.1, penalty=l1;, score=(train=0.500, test=0.500) total time=   0.3s\n",
      "[CV 1/10] END alpha=0.1, penalty=l2;, score=(train=0.681, test=0.561) total time=   0.2s\n",
      "[CV 2/10] END alpha=0.1, penalty=l2;, score=(train=0.696, test=0.572) total time=   0.1s\n",
      "[CV 3/10] END alpha=0.1, penalty=l2;, score=(train=0.684, test=0.551) total time=   0.1s\n",
      "[CV 4/10] END alpha=0.1, penalty=l2;, score=(train=0.701, test=0.620) total time=   0.1s\n",
      "[CV 5/10] END alpha=0.1, penalty=l2;, score=(train=0.702, test=0.576) total time=   0.1s\n",
      "[CV 6/10] END alpha=0.1, penalty=l2;, score=(train=0.701, test=0.595) total time=   0.1s\n",
      "[CV 7/10] END alpha=0.1, penalty=l2;, score=(train=0.676, test=0.644) total time=   0.1s\n",
      "[CV 8/10] END alpha=0.1, penalty=l2;, score=(train=0.678, test=0.631) total time=   0.1s\n",
      "[CV 9/10] END alpha=0.1, penalty=l2;, score=(train=0.686, test=0.589) total time=   0.1s\n",
      "[CV 10/10] END alpha=0.1, penalty=l2;, score=(train=0.679, test=0.602) total time=   0.1s\n",
      "[CV 1/10] END alpha=1, penalty=l1;, score=(train=0.500, test=0.500) total time=   0.0s\n",
      "[CV 2/10] END alpha=1, penalty=l1;, score=(train=0.500, test=0.500) total time=   0.0s\n",
      "[CV 3/10] END alpha=1, penalty=l1;, score=(train=0.500, test=0.500) total time=   0.0s\n",
      "[CV 4/10] END alpha=1, penalty=l1;, score=(train=0.500, test=0.500) total time=   0.0s\n",
      "[CV 5/10] END alpha=1, penalty=l1;, score=(train=0.500, test=0.500) total time=   0.0s\n",
      "[CV 6/10] END alpha=1, penalty=l1;, score=(train=0.500, test=0.500) total time=   0.0s\n",
      "[CV 7/10] END alpha=1, penalty=l1;, score=(train=0.500, test=0.500) total time=   0.0s\n",
      "[CV 8/10] END alpha=1, penalty=l1;, score=(train=0.500, test=0.500) total time=   0.0s\n",
      "[CV 9/10] END alpha=1, penalty=l1;, score=(train=0.500, test=0.500) total time=   0.0s\n",
      "[CV 10/10] END alpha=1, penalty=l1;, score=(train=0.500, test=0.500) total time=   0.0s\n",
      "[CV 1/10] END alpha=1, penalty=l2;, score=(train=0.681, test=0.561) total time=   0.0s\n",
      "[CV 2/10] END alpha=1, penalty=l2;, score=(train=0.696, test=0.572) total time=   0.0s\n",
      "[CV 3/10] END alpha=1, penalty=l2;, score=(train=0.684, test=0.551) total time=   0.0s\n",
      "[CV 4/10] END alpha=1, penalty=l2;, score=(train=0.701, test=0.620) total time=   0.0s\n",
      "[CV 5/10] END alpha=1, penalty=l2;, score=(train=0.702, test=0.576) total time=   0.0s\n",
      "[CV 6/10] END alpha=1, penalty=l2;, score=(train=0.701, test=0.595) total time=   0.0s\n",
      "[CV 7/10] END alpha=1, penalty=l2;, score=(train=0.676, test=0.644) total time=   0.0s\n",
      "[CV 8/10] END alpha=1, penalty=l2;, score=(train=0.678, test=0.631) total time=   0.0s\n",
      "[CV 9/10] END alpha=1, penalty=l2;, score=(train=0.686, test=0.589) total time=   0.0s\n",
      "[CV 10/10] END alpha=1, penalty=l2;, score=(train=0.679, test=0.602) total time=   0.0s\n",
      "[CV 1/10] END alpha=10, penalty=l1;, score=(train=0.500, test=0.500) total time=   0.0s\n",
      "[CV 2/10] END alpha=10, penalty=l1;, score=(train=0.500, test=0.500) total time=   0.0s\n",
      "[CV 3/10] END alpha=10, penalty=l1;, score=(train=0.500, test=0.500) total time=   0.0s\n",
      "[CV 4/10] END alpha=10, penalty=l1;, score=(train=0.500, test=0.500) total time=   0.0s\n",
      "[CV 5/10] END alpha=10, penalty=l1;, score=(train=0.500, test=0.500) total time=   0.0s\n",
      "[CV 6/10] END alpha=10, penalty=l1;, score=(train=0.500, test=0.500) total time=   0.0s\n",
      "[CV 7/10] END alpha=10, penalty=l1;, score=(train=0.500, test=0.500) total time=   0.0s\n",
      "[CV 8/10] END alpha=10, penalty=l1;, score=(train=0.500, test=0.500) total time=   0.0s\n",
      "[CV 9/10] END alpha=10, penalty=l1;, score=(train=0.500, test=0.500) total time=   0.0s\n",
      "[CV 10/10] END alpha=10, penalty=l1;, score=(train=0.500, test=0.500) total time=   0.0s\n",
      "[CV 1/10] END alpha=10, penalty=l2;, score=(train=0.681, test=0.561) total time=   0.0s\n",
      "[CV 2/10] END alpha=10, penalty=l2;, score=(train=0.696, test=0.572) total time=   0.0s\n",
      "[CV 3/10] END alpha=10, penalty=l2;, score=(train=0.684, test=0.551) total time=   0.0s\n",
      "[CV 4/10] END alpha=10, penalty=l2;, score=(train=0.701, test=0.620) total time=   0.0s\n",
      "[CV 5/10] END alpha=10, penalty=l2;, score=(train=0.702, test=0.576) total time=   0.0s\n",
      "[CV 6/10] END alpha=10, penalty=l2;, score=(train=0.701, test=0.595) total time=   0.0s\n",
      "[CV 7/10] END alpha=10, penalty=l2;, score=(train=0.676, test=0.644) total time=   0.0s\n",
      "[CV 8/10] END alpha=10, penalty=l2;, score=(train=0.678, test=0.631) total time=   0.0s\n",
      "[CV 9/10] END alpha=10, penalty=l2;, score=(train=0.686, test=0.589) total time=   0.0s\n",
      "[CV 10/10] END alpha=10, penalty=l2;, score=(train=0.679, test=0.602) total time=   0.0s\n",
      "[CV 1/10] END alpha=100, penalty=l1;, score=(train=0.500, test=0.500) total time=   0.0s\n",
      "[CV 2/10] END alpha=100, penalty=l1;, score=(train=0.500, test=0.500) total time=   0.0s\n",
      "[CV 3/10] END alpha=100, penalty=l1;, score=(train=0.500, test=0.500) total time=   0.0s\n",
      "[CV 4/10] END alpha=100, penalty=l1;, score=(train=0.500, test=0.500) total time=   0.0s\n",
      "[CV 5/10] END alpha=100, penalty=l1;, score=(train=0.500, test=0.500) total time=   0.0s\n",
      "[CV 6/10] END alpha=100, penalty=l1;, score=(train=0.500, test=0.500) total time=   0.0s\n",
      "[CV 7/10] END alpha=100, penalty=l1;, score=(train=0.500, test=0.500) total time=   0.0s\n",
      "[CV 8/10] END alpha=100, penalty=l1;, score=(train=0.500, test=0.500) total time=   0.0s\n",
      "[CV 9/10] END alpha=100, penalty=l1;, score=(train=0.500, test=0.500) total time=   0.0s\n",
      "[CV 10/10] END alpha=100, penalty=l1;, score=(train=0.500, test=0.500) total time=   0.0s\n",
      "[CV 1/10] END alpha=100, penalty=l2;, score=(train=0.681, test=0.561) total time=   0.0s\n",
      "[CV 2/10] END alpha=100, penalty=l2;, score=(train=0.696, test=0.572) total time=   0.0s\n",
      "[CV 3/10] END alpha=100, penalty=l2;, score=(train=0.684, test=0.551) total time=   0.0s\n",
      "[CV 4/10] END alpha=100, penalty=l2;, score=(train=0.701, test=0.620) total time=   0.0s\n",
      "[CV 5/10] END alpha=100, penalty=l2;, score=(train=0.702, test=0.576) total time=   0.0s\n",
      "[CV 6/10] END alpha=100, penalty=l2;, score=(train=0.701, test=0.595) total time=   0.0s\n",
      "[CV 7/10] END alpha=100, penalty=l2;, score=(train=0.676, test=0.644) total time=   0.0s\n",
      "[CV 8/10] END alpha=100, penalty=l2;, score=(train=0.678, test=0.631) total time=   0.0s\n",
      "[CV 9/10] END alpha=100, penalty=l2;, score=(train=0.686, test=0.589) total time=   0.0s\n",
      "[CV 10/10] END alpha=100, penalty=l2;, score=(train=0.679, test=0.602) total time=   0.0s\n",
      "[CV 1/10] END alpha=1000, penalty=l1;, score=(train=0.500, test=0.500) total time=   0.0s\n",
      "[CV 2/10] END alpha=1000, penalty=l1;, score=(train=0.500, test=0.500) total time=   0.0s\n",
      "[CV 3/10] END alpha=1000, penalty=l1;, score=(train=0.500, test=0.500) total time=   0.0s\n",
      "[CV 4/10] END alpha=1000, penalty=l1;, score=(train=0.500, test=0.500) total time=   0.0s\n",
      "[CV 5/10] END alpha=1000, penalty=l1;, score=(train=0.500, test=0.500) total time=   0.0s\n",
      "[CV 6/10] END alpha=1000, penalty=l1;, score=(train=0.500, test=0.500) total time=   0.0s\n",
      "[CV 7/10] END alpha=1000, penalty=l1;, score=(train=0.500, test=0.500) total time=   0.0s\n",
      "[CV 8/10] END alpha=1000, penalty=l1;, score=(train=0.500, test=0.500) total time=   0.0s\n",
      "[CV 9/10] END alpha=1000, penalty=l1;, score=(train=0.500, test=0.500) total time=   0.0s\n",
      "[CV 10/10] END alpha=1000, penalty=l1;, score=(train=0.500, test=0.500) total time=   0.0s\n",
      "[CV 1/10] END alpha=1000, penalty=l2;, score=(train=0.681, test=0.561) total time=   0.0s\n",
      "[CV 2/10] END alpha=1000, penalty=l2;, score=(train=0.696, test=0.572) total time=   0.0s\n",
      "[CV 3/10] END alpha=1000, penalty=l2;, score=(train=0.684, test=0.551) total time=   0.0s\n",
      "[CV 4/10] END alpha=1000, penalty=l2;, score=(train=0.701, test=0.620) total time=   0.0s\n",
      "[CV 5/10] END alpha=1000, penalty=l2;, score=(train=0.702, test=0.576) total time=   0.0s\n",
      "[CV 6/10] END alpha=1000, penalty=l2;, score=(train=0.701, test=0.595) total time=   0.0s\n",
      "[CV 7/10] END alpha=1000, penalty=l2;, score=(train=0.676, test=0.644) total time=   0.0s\n",
      "[CV 8/10] END alpha=1000, penalty=l2;, score=(train=0.678, test=0.631) total time=   0.0s\n",
      "[CV 9/10] END alpha=1000, penalty=l2;, score=(train=0.686, test=0.589) total time=   0.0s\n",
      "[CV 10/10] END alpha=1000, penalty=l2;, score=(train=0.679, test=0.602) total time=   0.0s\n",
      "[CV 1/10] END alpha=10000, penalty=l1;, score=(train=0.500, test=0.500) total time=   0.0s\n",
      "[CV 2/10] END alpha=10000, penalty=l1;, score=(train=0.500, test=0.500) total time=   0.0s\n",
      "[CV 3/10] END alpha=10000, penalty=l1;, score=(train=0.500, test=0.500) total time=   0.0s\n",
      "[CV 4/10] END alpha=10000, penalty=l1;, score=(train=0.500, test=0.500) total time=   0.0s\n",
      "[CV 5/10] END alpha=10000, penalty=l1;, score=(train=0.500, test=0.500) total time=   0.0s\n",
      "[CV 6/10] END alpha=10000, penalty=l1;, score=(train=0.500, test=0.500) total time=   0.0s\n",
      "[CV 7/10] END alpha=10000, penalty=l1;, score=(train=0.500, test=0.500) total time=   0.0s\n",
      "[CV 8/10] END alpha=10000, penalty=l1;, score=(train=0.500, test=0.500) total time=   0.0s\n",
      "[CV 9/10] END alpha=10000, penalty=l1;, score=(train=0.500, test=0.500) total time=   0.0s\n",
      "[CV 10/10] END alpha=10000, penalty=l1;, score=(train=0.500, test=0.500) total time=   0.0s\n",
      "[CV 1/10] END alpha=10000, penalty=l2;, score=(train=0.681, test=0.561) total time=   0.0s\n",
      "[CV 2/10] END alpha=10000, penalty=l2;, score=(train=0.696, test=0.572) total time=   0.0s\n",
      "[CV 3/10] END alpha=10000, penalty=l2;, score=(train=0.684, test=0.551) total time=   0.0s\n",
      "[CV 4/10] END alpha=10000, penalty=l2;, score=(train=0.701, test=0.620) total time=   0.0s\n",
      "[CV 5/10] END alpha=10000, penalty=l2;, score=(train=0.702, test=0.576) total time=   0.0s\n",
      "[CV 6/10] END alpha=10000, penalty=l2;, score=(train=0.701, test=0.595) total time=   0.0s\n",
      "[CV 7/10] END alpha=10000, penalty=l2;, score=(train=0.676, test=0.644) total time=   0.0s\n",
      "[CV 8/10] END alpha=10000, penalty=l2;, score=(train=0.678, test=0.631) total time=   0.0s\n",
      "[CV 9/10] END alpha=10000, penalty=l2;, score=(train=0.686, test=0.589) total time=   0.0s\n",
      "[CV 10/10] END alpha=10000, penalty=l2;, score=(train=0.679, test=0.602) total time=   0.0s\n",
      "----------\n",
      "iter: 1\n",
      "n_candidates: 6\n",
      "n_resources: 14334\n",
      "Fitting 10 folds for each of 6 candidates, totalling 60 fits\n",
      "[CV 1/10] END alpha=1, penalty=l2;, score=(train=0.624, test=0.603) total time=   0.0s\n",
      "[CV 2/10] END alpha=1, penalty=l2;, score=(train=0.630, test=0.623) total time=   0.0s\n",
      "[CV 3/10] END alpha=1, penalty=l2;, score=(train=0.639, test=0.625) total time=   0.0s\n",
      "[CV 4/10] END alpha=1, penalty=l2;, score=(train=0.630, test=0.628) total time=   0.0s\n",
      "[CV 5/10] END alpha=1, penalty=l2;, score=(train=0.635, test=0.602) total time=   0.0s\n",
      "[CV 6/10] END alpha=1, penalty=l2;, score=(train=0.624, test=0.625) total time=   0.0s\n",
      "[CV 7/10] END alpha=1, penalty=l2;, score=(train=0.630, test=0.602) total time=   0.0s\n",
      "[CV 8/10] END alpha=1, penalty=l2;, score=(train=0.635, test=0.580) total time=   0.0s\n",
      "[CV 9/10] END alpha=1, penalty=l2;, score=(train=0.641, test=0.598) total time=   0.0s\n",
      "[CV 10/10] END alpha=1, penalty=l2;, score=(train=0.637, test=0.554) total time=   0.0s\n",
      "[CV 1/10] END alpha=0.001, penalty=l1;, score=(train=0.595, test=0.618) total time=   0.1s\n",
      "[CV 2/10] END alpha=0.001, penalty=l1;, score=(train=0.669, test=0.656) total time=   0.1s\n",
      "[CV 3/10] END alpha=0.001, penalty=l1;, score=(train=0.600, test=0.608) total time=   0.1s\n",
      "[CV 4/10] END alpha=0.001, penalty=l1;, score=(train=0.717, test=0.718) total time=   0.1s\n",
      "[CV 5/10] END alpha=0.001, penalty=l1;, score=(train=0.696, test=0.703) total time=   0.0s\n",
      "[CV 6/10] END alpha=0.001, penalty=l1;, score=(train=0.604, test=0.592) total time=   0.1s\n",
      "[CV 7/10] END alpha=0.001, penalty=l1;, score=(train=0.656, test=0.654) total time=   0.1s\n",
      "[CV 8/10] END alpha=0.001, penalty=l1;, score=(train=0.701, test=0.705) total time=   0.1s\n",
      "[CV 9/10] END alpha=0.001, penalty=l1;, score=(train=0.500, test=0.500) total time=   0.1s\n",
      "[CV 10/10] END alpha=0.001, penalty=l1;, score=(train=0.671, test=0.678) total time=   0.1s\n",
      "[CV 1/10] END alpha=0.0001, penalty=l1;, score=(train=0.932, test=0.912) total time=   0.1s\n",
      "[CV 2/10] END alpha=0.0001, penalty=l1;, score=(train=0.935, test=0.936) total time=   0.1s\n",
      "[CV 3/10] END alpha=0.0001, penalty=l1;, score=(train=0.935, test=0.920) total time=   0.1s\n",
      "[CV 4/10] END alpha=0.0001, penalty=l1;, score=(train=0.937, test=0.912) total time=   0.1s\n",
      "[CV 5/10] END alpha=0.0001, penalty=l1;, score=(train=0.932, test=0.921) total time=   0.1s\n",
      "[CV 6/10] END alpha=0.0001, penalty=l1;, score=(train=0.935, test=0.940) total time=   0.1s\n",
      "[CV 7/10] END alpha=0.0001, penalty=l1;, score=(train=0.938, test=0.915) total time=   0.1s\n",
      "[CV 8/10] END alpha=0.0001, penalty=l1;, score=(train=0.934, test=0.921) total time=   0.1s\n",
      "[CV 9/10] END alpha=0.0001, penalty=l1;, score=(train=0.939, test=0.913) total time=   0.1s\n",
      "[CV 10/10] END alpha=0.0001, penalty=l1;, score=(train=0.937, test=0.910) total time=   0.1s\n",
      "[CV 1/10] END alpha=0.001, penalty=l2;, score=(train=0.999, test=0.933) total time=   0.0s\n",
      "[CV 2/10] END alpha=0.001, penalty=l2;, score=(train=0.999, test=0.951) total time=   0.0s\n",
      "[CV 3/10] END alpha=0.001, penalty=l2;, score=(train=0.999, test=0.939) total time=   0.0s\n",
      "[CV 4/10] END alpha=0.001, penalty=l2;, score=(train=0.999, test=0.930) total time=   0.0s\n",
      "[CV 5/10] END alpha=0.001, penalty=l2;, score=(train=0.999, test=0.945) total time=   0.0s\n",
      "[CV 6/10] END alpha=0.001, penalty=l2;, score=(train=0.999, test=0.956) total time=   0.0s\n",
      "[CV 7/10] END alpha=0.001, penalty=l2;, score=(train=0.999, test=0.936) total time=   0.0s\n",
      "[CV 8/10] END alpha=0.001, penalty=l2;, score=(train=0.999, test=0.941) total time=   0.0s\n",
      "[CV 9/10] END alpha=0.001, penalty=l2;, score=(train=0.999, test=0.938) total time=   0.0s\n",
      "[CV 10/10] END alpha=0.001, penalty=l2;, score=(train=0.999, test=0.935) total time=   0.0s\n",
      "[CV 1/10] END alpha=0.01, penalty=l2;, score=(train=0.999, test=0.933) total time=   0.0s\n",
      "[CV 2/10] END alpha=0.01, penalty=l2;, score=(train=0.999, test=0.951) total time=   0.0s\n",
      "[CV 3/10] END alpha=0.01, penalty=l2;, score=(train=0.999, test=0.940) total time=   0.0s\n",
      "[CV 4/10] END alpha=0.01, penalty=l2;, score=(train=0.999, test=0.930) total time=   0.0s\n",
      "[CV 5/10] END alpha=0.01, penalty=l2;, score=(train=0.999, test=0.945) total time=   0.0s\n",
      "[CV 6/10] END alpha=0.01, penalty=l2;, score=(train=0.999, test=0.956) total time=   0.0s\n",
      "[CV 7/10] END alpha=0.01, penalty=l2;, score=(train=0.999, test=0.937) total time=   0.0s\n",
      "[CV 8/10] END alpha=0.01, penalty=l2;, score=(train=0.999, test=0.942) total time=   0.0s\n",
      "[CV 9/10] END alpha=0.01, penalty=l2;, score=(train=0.999, test=0.938) total time=   0.0s\n",
      "[CV 10/10] END alpha=0.01, penalty=l2;, score=(train=0.999, test=0.935) total time=   0.0s\n",
      "[CV 1/10] END alpha=0.0001, penalty=l2;, score=(train=0.999, test=0.936) total time=   0.0s\n",
      "[CV 2/10] END alpha=0.0001, penalty=l2;, score=(train=1.000, test=0.956) total time=   0.0s\n",
      "[CV 3/10] END alpha=0.0001, penalty=l2;, score=(train=0.999, test=0.944) total time=   0.0s\n",
      "[CV 4/10] END alpha=0.0001, penalty=l2;, score=(train=1.000, test=0.934) total time=   0.0s\n",
      "[CV 5/10] END alpha=0.0001, penalty=l2;, score=(train=1.000, test=0.949) total time=   0.0s\n",
      "[CV 6/10] END alpha=0.0001, penalty=l2;, score=(train=1.000, test=0.959) total time=   0.0s\n",
      "[CV 7/10] END alpha=0.0001, penalty=l2;, score=(train=1.000, test=0.941) total time=   0.1s\n",
      "[CV 8/10] END alpha=0.0001, penalty=l2;, score=(train=1.000, test=0.945) total time=   0.0s\n",
      "[CV 9/10] END alpha=0.0001, penalty=l2;, score=(train=1.000, test=0.943) total time=   0.1s\n",
      "[CV 10/10] END alpha=0.0001, penalty=l2;, score=(train=0.999, test=0.939) total time=   0.0s\n",
      "----------\n",
      "iter: 2\n",
      "n_candidates: 2\n",
      "n_resources: 43002\n",
      "Fitting 10 folds for each of 2 candidates, totalling 20 fits\n",
      "[CV 1/10] END alpha=0.01, penalty=l2;, score=(train=0.989, test=0.957) total time=   0.1s\n",
      "[CV 2/10] END alpha=0.01, penalty=l2;, score=(train=0.989, test=0.957) total time=   0.1s\n",
      "[CV 3/10] END alpha=0.01, penalty=l2;, score=(train=0.990, test=0.951) total time=   0.1s\n",
      "[CV 4/10] END alpha=0.01, penalty=l2;, score=(train=0.989, test=0.948) total time=   0.1s\n",
      "[CV 5/10] END alpha=0.01, penalty=l2;, score=(train=0.989, test=0.952) total time=   0.1s\n",
      "[CV 6/10] END alpha=0.01, penalty=l2;, score=(train=0.989, test=0.954) total time=   0.1s\n",
      "[CV 7/10] END alpha=0.01, penalty=l2;, score=(train=0.990, test=0.944) total time=   0.1s\n",
      "[CV 8/10] END alpha=0.01, penalty=l2;, score=(train=0.989, test=0.948) total time=   0.1s\n",
      "[CV 9/10] END alpha=0.01, penalty=l2;, score=(train=0.989, test=0.950) total time=   0.1s\n",
      "[CV 10/10] END alpha=0.01, penalty=l2;, score=(train=0.990, test=0.950) total time=   0.1s\n",
      "[CV 1/10] END alpha=0.0001, penalty=l2;, score=(train=0.992, test=0.960) total time=   0.1s\n",
      "[CV 2/10] END alpha=0.0001, penalty=l2;, score=(train=0.992, test=0.960) total time=   0.2s\n",
      "[CV 3/10] END alpha=0.0001, penalty=l2;, score=(train=0.992, test=0.953) total time=   0.3s\n",
      "[CV 4/10] END alpha=0.0001, penalty=l2;, score=(train=0.992, test=0.951) total time=   0.3s\n",
      "[CV 5/10] END alpha=0.0001, penalty=l2;, score=(train=0.992, test=0.955) total time=   0.3s\n",
      "[CV 6/10] END alpha=0.0001, penalty=l2;, score=(train=0.992, test=0.956) total time=   0.3s\n",
      "[CV 7/10] END alpha=0.0001, penalty=l2;, score=(train=0.992, test=0.947) total time=   0.2s\n",
      "[CV 8/10] END alpha=0.0001, penalty=l2;, score=(train=0.992, test=0.950) total time=   0.2s\n",
      "[CV 9/10] END alpha=0.0001, penalty=l2;, score=(train=0.992, test=0.954) total time=   0.2s\n",
      "[CV 10/10] END alpha=0.0001, penalty=l2;, score=(train=0.993, test=0.953) total time=   0.2s\n",
      "Best Hyperparameters -->  {'alpha': 0.0001, 'penalty': 'l2'}\n",
      "Best Accuracy -->  0.9538804513356567\n"
     ]
    }
   ],
   "source": [
    "model = SGDClassifier(loss='hinge')\n",
    "\n",
    "linear_tfidf_model = HalvingGridSearchCV(model, parameter_grid, scoring='roc_auc', cv=10, verbose=3)\n",
    "\n",
    "linear_tfidf_model.fit(X_train_tfidf, y_train)\n",
    "print('Best Hyperparameters --> ', linear_tfidf_model.best_params_)\n",
    "print('Best Accuracy --> ', linear_tfidf_model.best_score_)"
   ]
  },
  {
   "cell_type": "markdown",
   "metadata": {},
   "source": [
    "### 2.2 Model Building (Linear-TFIDF)\n"
   ]
  },
  {
   "cell_type": "code",
   "execution_count": 38,
   "metadata": {},
   "outputs": [],
   "source": [
    "model_linear_tfidf = SGDClassifier(\n",
    "    alpha=linear_tfidf_model.best_estimator_.alpha, penalty=linear_tfidf_model.best_estimator_.penalty)\n",
    "\n",
    "model_linear_tfidf.fit(X_train_tfidf, y_train)\n",
    "\n",
    "# predicted values for train & test data\n",
    "y_pred_tfidf = model_linear_tfidf.decision_function(X_train_tfidf)\n",
    "y_pred_tfidf_test = model_linear_tfidf.decision_function(X_test_tfidf)"
   ]
  },
  {
   "cell_type": "markdown",
   "metadata": {},
   "source": [
    "### 2.3 Model Evaluation (Linear-TFIDF)\n"
   ]
  },
  {
   "cell_type": "code",
   "execution_count": 39,
   "metadata": {},
   "outputs": [
    {
     "name": "stdout",
     "output_type": "stream",
     "text": [
      "Accuracy of Linear-TFIDF model :  0.8909733034595375\n"
     ]
    }
   ],
   "source": [
    "print('Accuracy of Linear-TFIDF model : ',model_linear_tfidf.score(X_test_tfidf, y_test))"
   ]
  },
  {
   "cell_type": "code",
   "execution_count": 40,
   "metadata": {},
   "outputs": [
    {
     "data": {
      "image/png": "[encoded data removed]",
      "text/plain": [
       "<Figure size 432x288 with 1 Axes>"
      ]
     },
     "metadata": {
      "needs_background": "light"
     },
     "output_type": "display_data"
    }
   ],
   "source": [
    "# plotting ROC curve for train & test data\n",
    "\n",
    "false_positive_rate1, true_positive_rate1, threshold1 = roc_curve(y_train, y_pred_tfidf)\n",
    "false_positive_rate2, true_positive_rate2, threshold2 = roc_curve(y_test, y_pred_tfidf_test)\n",
    "\n",
    "fig = plt.figure()\n",
    "ax = plt.subplot(111)\n",
    "\n",
    "# train ROC\n",
    "ax.plot(false_positive_rate1, true_positive_rate1,label='Train ROC ,auc ={}'.format(str(roc_auc_score(y_train, y_pred_tfidf))))\n",
    "\n",
    "# test ROC\n",
    "ax.plot(false_positive_rate2, true_positive_rate2, label='Test ROC ,auc ={}'.format(str(roc_auc_score(y_test, y_pred_tfidf_test))))\n",
    "\n",
    "plt.title('ROC')\n",
    "plt.grid()\n",
    "plt.xlabel('False Positive Rate')\n",
    "plt.ylabel('True Positive Rate')\n",
    "ax.legend()\n",
    "plt.show()"
   ]
  },
  {
   "cell_type": "code",
   "execution_count": 41,
   "metadata": {},
   "outputs": [
    {
     "data": {
      "image/png": "[encoded data removed]",
      "text/plain": [
       "<Figure size 432x288 with 2 Axes>"
      ]
     },
     "metadata": {
      "needs_background": "light"
     },
     "output_type": "display_data"
    }
   ],
   "source": [
    "# confusion Matrix for test data\n",
    "y_pred_tfidf_test = model_linear_tfidf.predict(X_test_tfidf)\n",
    "\n",
    "confusion = confusion_matrix(y_test, y_pred_tfidf_test)\n",
    "class_labels = [\"negative\", \"positive\"]\n",
    "\n",
    "cf_data = pd.DataFrame(confusion, index=class_labels, columns=class_labels)\n",
    "sns.heatmap(cf_data, annot=True, fmt='.5g')\n",
    "\n",
    "plt.title(\"Confusion Matrix for test data\")\n",
    "plt.xlabel(\"Predicted Label\")\n",
    "plt.ylabel(\"True Label\")\n",
    "plt.show()"
   ]
  },
  {
   "cell_type": "markdown",
   "metadata": {},
   "source": [
    "### 2.4 Feature Importance (Linear-TFIDF)\n"
   ]
  },
  {
   "cell_type": "code",
   "execution_count": 42,
   "metadata": {},
   "outputs": [
    {
     "name": "stdout",
     "output_type": "stream",
     "text": [
      "Top 10 positive features --> \n",
      "                  Coefficient\n",
      "great                3.257127\n",
      "best                 2.474821\n",
      "delicious            2.398874\n",
      "good                 2.378511\n",
      "not disappointed     2.179814\n",
      "nice                 1.935781\n",
      "love                 1.912358\n",
      "perfect              1.832223\n",
      "loves                1.754713\n",
      "excellent            1.647910\n",
      "----------------------------------------\n",
      "Top 10 negative features --> \n",
      "              Coefficient\n",
      "disappointed    -3.959183\n",
      "worst           -3.648263\n",
      "horrible        -3.451689\n",
      "not buy         -3.361303\n",
      "terrible        -3.139190\n",
      "awful           -3.115153\n",
      "threw           -2.974731\n",
      "return          -2.969094\n",
      "not             -2.856031\n",
      "not worth       -2.808288\n"
     ]
    }
   ],
   "source": [
    "features = vectorizer.get_feature_names_out()\n",
    "coefs = model_linear_tfidf.coef_.reshape(-1, 1)\n",
    "\n",
    "dataframe = pd.DataFrame(coefs, columns=['Coefficient'], index=features)\n",
    "\n",
    "top_positive = dataframe.sort_values(\n",
    "    by='Coefficient', ascending=False).head(10)\n",
    "top_negative = dataframe.sort_values(by='Coefficient', ascending=True).head(10)\n",
    "\n",
    "print('Top 10 positive features --> ')\n",
    "print(top_positive)\n",
    "print('----------------------------------------')\n",
    "print('Top 10 negative features --> ')\n",
    "print(top_negative)"
   ]
  },
  {
   "cell_type": "markdown",
   "metadata": {},
   "source": [
    "## 3. Linear SVM - AVG-W2V"
   ]
  },
  {
   "cell_type": "code",
   "execution_count": 43,
   "metadata": {},
   "outputs": [
    {
     "name": "stderr",
     "output_type": "stream",
     "text": [
      "100%|██████████| 43009/43009 [00:42<00:00, 1019.06it/s]"
     ]
    },
    {
     "name": "stdout",
     "output_type": "stream",
     "text": [
      "43009\n",
      "50\n"
     ]
    },
    {
     "name": "stderr",
     "output_type": "stream",
     "text": [
      "\n"
     ]
    }
   ],
   "source": [
    "#word2vec for train data\n",
    "\n",
    "sent_list_train = []\n",
    "sent_vectors_train = []\n",
    "\n",
    "for sentence in X_train:\n",
    "    sent_list_train.append(sentence.split())\n",
    "\n",
    "w2v_model = Word2Vec(sent_list_train, min_count=5, vector_size=50, workers=4)\n",
    "w2v_words = list(w2v_model.wv.index_to_key)\n",
    "\n",
    "\n",
    "for sent in tqdm(sent_list_train):\n",
    "    sent_vectors = np.zeros(50)\n",
    "    count_words = 0\n",
    "\n",
    "    for word in sent:\n",
    "        if word in w2v_words:\n",
    "            vectors = w2v_model.wv[word]\n",
    "            sent_vectors += vectors\n",
    "            count_words += 1\n",
    "\n",
    "    if count_words != 0:\n",
    "        sent_vectors /= count_words\n",
    "\n",
    "    sent_vectors_train.append(sent_vectors)\n",
    "\n",
    "print(len(sent_vectors_train))\n",
    "print(len(sent_vectors_train[0]))"
   ]
  },
  {
   "cell_type": "code",
   "execution_count": 44,
   "metadata": {},
   "outputs": [
    {
     "name": "stderr",
     "output_type": "stream",
     "text": [
      "100%|██████████| 18433/18433 [00:18<00:00, 993.36it/s]"
     ]
    },
    {
     "name": "stdout",
     "output_type": "stream",
     "text": [
      "18433\n",
      "50\n"
     ]
    },
    {
     "name": "stderr",
     "output_type": "stream",
     "text": [
      "\n"
     ]
    }
   ],
   "source": [
    "#word2vec for validation data (using same w2v model and words)\n",
    "\n",
    "sent_list_val = []\n",
    "sent_vectors_val = []\n",
    "\n",
    "for sentence in X_val:\n",
    "    sent_list_val.append(sentence.split())\n",
    "\n",
    "for sent in tqdm(sent_list_val):\n",
    "    sent_vectors = np.zeros(50)\n",
    "    count_words = 0\n",
    "\n",
    "    for word in sent:\n",
    "        if word in w2v_words:\n",
    "            vectors = w2v_model.wv[word]\n",
    "            sent_vectors += vectors\n",
    "            count_words += 1\n",
    "\n",
    "    if count_words != 0:\n",
    "        sent_vectors /= count_words\n",
    "\n",
    "    sent_vectors_val.append(sent_vectors)\n",
    "\n",
    "print(len(sent_vectors_val))\n",
    "print(len(sent_vectors_val[0]))"
   ]
  },
  {
   "cell_type": "code",
   "execution_count": 45,
   "metadata": {},
   "outputs": [
    {
     "name": "stderr",
     "output_type": "stream",
     "text": [
      "100%|██████████| 26333/26333 [00:26<00:00, 1007.14it/s]"
     ]
    },
    {
     "name": "stdout",
     "output_type": "stream",
     "text": [
      "26333\n",
      "50\n"
     ]
    },
    {
     "name": "stderr",
     "output_type": "stream",
     "text": [
      "\n"
     ]
    }
   ],
   "source": [
    "#word2vec for test data\n",
    "\n",
    "sent_list_test = []\n",
    "sent_vectors_test = []\n",
    "\n",
    "for sentence in X_test:\n",
    "    sent_list_test.append(sentence.split())\n",
    "\n",
    "for sent in tqdm(sent_list_test):\n",
    "    sent_vectors = np.zeros(50)\n",
    "    count_words = 0\n",
    "\n",
    "    for word in sent:\n",
    "        if word in w2v_words:\n",
    "            vectors = w2v_model.wv[word]\n",
    "            sent_vectors += vectors\n",
    "            count_words += 1\n",
    "\n",
    "    if count_words != 0:\n",
    "        sent_vectors /= count_words\n",
    "\n",
    "    sent_vectors_test.append(sent_vectors)\n",
    "\n",
    "print(len(sent_vectors_test))\n",
    "print(len(sent_vectors_test[0]))\n"
   ]
  },
  {
   "cell_type": "code",
   "execution_count": 46,
   "metadata": {},
   "outputs": [],
   "source": [
    "X_train_avg_w2v = sent_vectors_train\n",
    "X_val_avg_w2v = sent_vectors_val\n",
    "X_test_avg_w2v = sent_vectors_test"
   ]
  },
  {
   "cell_type": "markdown",
   "metadata": {},
   "source": [
    "### 3.1 Hyperparameter Tuning\n"
   ]
  },
  {
   "cell_type": "code",
   "execution_count": 47,
   "metadata": {},
   "outputs": [],
   "source": [
    "alpha = [10**-4, 10**-3, 10**-2, 10**-1, 10**0, 10**1, 10**2, 10**3, 10**4]\n",
    "penalties = ['l1' ,'l2']\n",
    "\n",
    "parameter_grid = {'penalty': penalties, 'alpha':alpha}"
   ]
  },
  {
   "cell_type": "code",
   "execution_count": 48,
   "metadata": {},
   "outputs": [
    {
     "name": "stdout",
     "output_type": "stream",
     "text": [
      "n_iterations: 3\n",
      "n_required_iterations: 3\n",
      "n_possible_iterations: 3\n",
      "min_resources_: 4778\n",
      "max_resources_: 43009\n",
      "aggressive_elimination: False\n",
      "factor: 3\n",
      "----------\n",
      "iter: 0\n",
      "n_candidates: 18\n",
      "n_resources: 4778\n",
      "Fitting 10 folds for each of 18 candidates, totalling 180 fits\n",
      "[CV 1/10] END alpha=0.0001, penalty=l1;, score=(train=0.894, test=0.920) total time=   0.0s\n",
      "[CV 2/10] END alpha=0.0001, penalty=l1;, score=(train=0.876, test=0.853) total time=   0.0s\n",
      "[CV 3/10] END alpha=0.0001, penalty=l1;, score=(train=0.901, test=0.910) total time=   0.0s\n",
      "[CV 4/10] END alpha=0.0001, penalty=l1;, score=(train=0.904, test=0.863) total time=   0.0s\n",
      "[CV 5/10] END alpha=0.0001, penalty=l1;, score=(train=0.899, test=0.865) total time=   0.0s\n",
      "[CV 6/10] END alpha=0.0001, penalty=l1;, score=(train=0.885, test=0.897) total time=   0.0s\n",
      "[CV 7/10] END alpha=0.0001, penalty=l1;, score=(train=0.894, test=0.897) total time=   0.0s\n",
      "[CV 8/10] END alpha=0.0001, penalty=l1;, score=(train=0.904, test=0.881) total time=   0.0s\n",
      "[CV 9/10] END alpha=0.0001, penalty=l1;, score=(train=0.877, test=0.890) total time=   0.0s\n",
      "[CV 10/10] END alpha=0.0001, penalty=l1;, score=(train=0.890, test=0.884) total time=   0.0s\n",
      "[CV 1/10] END alpha=0.0001, penalty=l2;, score=(train=0.897, test=0.917) total time=   0.0s\n",
      "[CV 2/10] END alpha=0.0001, penalty=l2;, score=(train=0.882, test=0.878) total time=   0.0s\n",
      "[CV 3/10] END alpha=0.0001, penalty=l2;, score=(train=0.906, test=0.902) total time=   0.0s\n",
      "[CV 4/10] END alpha=0.0001, penalty=l2;, score=(train=0.907, test=0.857) total time=   0.0s\n",
      "[CV 5/10] END alpha=0.0001, penalty=l2;, score=(train=0.896, test=0.862) total time=   0.0s\n",
      "[CV 6/10] END alpha=0.0001, penalty=l2;, score=(train=0.880, test=0.895) total time=   0.0s\n",
      "[CV 7/10] END alpha=0.0001, penalty=l2;, score=(train=0.893, test=0.904) total time=   0.0s\n",
      "[CV 8/10] END alpha=0.0001, penalty=l2;, score=(train=0.899, test=0.888) total time=   0.0s\n",
      "[CV 9/10] END alpha=0.0001, penalty=l2;, score=(train=0.888, test=0.892) total time=   0.0s\n",
      "[CV 10/10] END alpha=0.0001, penalty=l2;, score=(train=0.887, test=0.881) total time=   0.0s\n",
      "[CV 1/10] END alpha=0.001, penalty=l1;, score=(train=0.899, test=0.925) total time=   0.0s\n",
      "[CV 2/10] END alpha=0.001, penalty=l1;, score=(train=0.888, test=0.876) total time=   0.0s\n",
      "[CV 3/10] END alpha=0.001, penalty=l1;, score=(train=0.910, test=0.913) total time=   0.0s\n",
      "[CV 4/10] END alpha=0.001, penalty=l1;, score=(train=0.908, test=0.865) total time=   0.0s\n",
      "[CV 5/10] END alpha=0.001, penalty=l1;, score=(train=0.897, test=0.867) total time=   0.0s\n",
      "[CV 6/10] END alpha=0.001, penalty=l1;, score=(train=0.893, test=0.905) total time=   0.0s\n",
      "[CV 7/10] END alpha=0.001, penalty=l1;, score=(train=0.892, test=0.893) total time=   0.0s\n",
      "[CV 8/10] END alpha=0.001, penalty=l1;, score=(train=0.903, test=0.886) total time=   0.0s\n",
      "[CV 9/10] END alpha=0.001, penalty=l1;, score=(train=0.894, test=0.907) total time=   0.0s\n",
      "[CV 10/10] END alpha=0.001, penalty=l1;, score=(train=0.896, test=0.902) total time=   0.0s\n",
      "[CV 1/10] END alpha=0.001, penalty=l2;, score=(train=0.898, test=0.921) total time=   0.0s\n",
      "[CV 2/10] END alpha=0.001, penalty=l2;, score=(train=0.893, test=0.879) total time=   0.0s\n",
      "[CV 3/10] END alpha=0.001, penalty=l2;, score=(train=0.911, test=0.919) total time=   0.0s\n",
      "[CV 4/10] END alpha=0.001, penalty=l2;, score=(train=0.906, test=0.861) total time=   0.0s\n",
      "[CV 5/10] END alpha=0.001, penalty=l2;, score=(train=0.900, test=0.870) total time=   0.0s\n",
      "[CV 6/10] END alpha=0.001, penalty=l2;, score=(train=0.894, test=0.907) total time=   0.0s\n",
      "[CV 7/10] END alpha=0.001, penalty=l2;, score=(train=0.896, test=0.902) total time=   0.0s\n",
      "[CV 8/10] END alpha=0.001, penalty=l2;, score=(train=0.903, test=0.888) total time=   0.0s\n",
      "[CV 9/10] END alpha=0.001, penalty=l2;, score=(train=0.896, test=0.907) total time=   0.0s\n",
      "[CV 10/10] END alpha=0.001, penalty=l2;, score=(train=0.898, test=0.906) total time=   0.0s\n",
      "[CV 1/10] END alpha=0.01, penalty=l1;, score=(train=0.863, test=0.889) total time=   0.0s\n",
      "[CV 2/10] END alpha=0.01, penalty=l1;, score=(train=0.849, test=0.836) total time=   0.0s\n",
      "[CV 3/10] END alpha=0.01, penalty=l1;, score=(train=0.879, test=0.870) total time=   0.0s\n",
      "[CV 4/10] END alpha=0.01, penalty=l1;, score=(train=0.874, test=0.835) total time=   0.0s\n",
      "[CV 5/10] END alpha=0.01, penalty=l1;, score=(train=0.860, test=0.851) total time=   0.0s\n",
      "[CV 6/10] END alpha=0.01, penalty=l1;, score=(train=0.798, test=0.835) total time=   0.0s\n",
      "[CV 7/10] END alpha=0.01, penalty=l1;, score=(train=0.830, test=0.816) total time=   0.0s\n",
      "[CV 8/10] END alpha=0.01, penalty=l1;, score=(train=0.865, test=0.865) total time=   0.0s\n",
      "[CV 9/10] END alpha=0.01, penalty=l1;, score=(train=0.846, test=0.851) total time=   0.0s\n",
      "[CV 10/10] END alpha=0.01, penalty=l1;, score=(train=0.829, test=0.847) total time=   0.0s\n",
      "[CV 1/10] END alpha=0.01, penalty=l2;, score=(train=0.898, test=0.925) total time=   0.0s\n",
      "[CV 2/10] END alpha=0.01, penalty=l2;, score=(train=0.890, test=0.872) total time=   0.0s\n",
      "[CV 3/10] END alpha=0.01, penalty=l2;, score=(train=0.908, test=0.914) total time=   0.0s\n",
      "[CV 4/10] END alpha=0.01, penalty=l2;, score=(train=0.908, test=0.869) total time=   0.0s\n",
      "[CV 5/10] END alpha=0.01, penalty=l2;, score=(train=0.896, test=0.861) total time=   0.0s\n",
      "[CV 6/10] END alpha=0.01, penalty=l2;, score=(train=0.891, test=0.904) total time=   0.0s\n",
      "[CV 7/10] END alpha=0.01, penalty=l2;, score=(train=0.893, test=0.900) total time=   0.0s\n",
      "[CV 8/10] END alpha=0.01, penalty=l2;, score=(train=0.902, test=0.893) total time=   0.0s\n",
      "[CV 9/10] END alpha=0.01, penalty=l2;, score=(train=0.894, test=0.909) total time=   0.0s\n",
      "[CV 10/10] END alpha=0.01, penalty=l2;, score=(train=0.898, test=0.904) total time=   0.0s\n",
      "[CV 1/10] END alpha=0.1, penalty=l1;, score=(train=0.500, test=0.500) total time=   0.0s\n",
      "[CV 2/10] END alpha=0.1, penalty=l1;, score=(train=0.500, test=0.500) total time=   0.0s\n",
      "[CV 3/10] END alpha=0.1, penalty=l1;, score=(train=0.500, test=0.500) total time=   0.0s\n",
      "[CV 4/10] END alpha=0.1, penalty=l1;, score=(train=0.500, test=0.500) total time=   0.0s\n",
      "[CV 5/10] END alpha=0.1, penalty=l1;, score=(train=0.500, test=0.500) total time=   0.0s\n",
      "[CV 6/10] END alpha=0.1, penalty=l1;, score=(train=0.500, test=0.500) total time=   0.0s\n",
      "[CV 7/10] END alpha=0.1, penalty=l1;, score=(train=0.500, test=0.500) total time=   0.0s\n",
      "[CV 8/10] END alpha=0.1, penalty=l1;, score=(train=0.500, test=0.500) total time=   0.0s\n",
      "[CV 9/10] END alpha=0.1, penalty=l1;, score=(train=0.500, test=0.500) total time=   0.0s\n",
      "[CV 10/10] END alpha=0.1, penalty=l1;, score=(train=0.500, test=0.500) total time=   0.0s\n",
      "[CV 1/10] END alpha=0.1, penalty=l2;, score=(train=0.896, test=0.928) total time=   0.0s\n",
      "[CV 2/10] END alpha=0.1, penalty=l2;, score=(train=0.887, test=0.866) total time=   0.0s\n",
      "[CV 3/10] END alpha=0.1, penalty=l2;, score=(train=0.905, test=0.911) total time=   0.0s\n",
      "[CV 4/10] END alpha=0.1, penalty=l2;, score=(train=0.905, test=0.870) total time=   0.0s\n",
      "[CV 5/10] END alpha=0.1, penalty=l2;, score=(train=0.897, test=0.865) total time=   0.0s\n",
      "[CV 6/10] END alpha=0.1, penalty=l2;, score=(train=0.892, test=0.901) total time=   0.0s\n",
      "[CV 7/10] END alpha=0.1, penalty=l2;, score=(train=0.894, test=0.899) total time=   0.0s\n",
      "[CV 8/10] END alpha=0.1, penalty=l2;, score=(train=0.901, test=0.895) total time=   0.0s\n",
      "[CV 9/10] END alpha=0.1, penalty=l2;, score=(train=0.890, test=0.906) total time=   0.0s\n",
      "[CV 10/10] END alpha=0.1, penalty=l2;, score=(train=0.897, test=0.905) total time=   0.0s\n",
      "[CV 1/10] END alpha=1, penalty=l1;, score=(train=0.500, test=0.500) total time=   0.0s\n",
      "[CV 2/10] END alpha=1, penalty=l1;, score=(train=0.500, test=0.500) total time=   0.0s\n",
      "[CV 3/10] END alpha=1, penalty=l1;, score=(train=0.500, test=0.500) total time=   0.0s\n",
      "[CV 4/10] END alpha=1, penalty=l1;, score=(train=0.500, test=0.500) total time=   0.0s\n",
      "[CV 5/10] END alpha=1, penalty=l1;, score=(train=0.500, test=0.500) total time=   0.0s\n",
      "[CV 6/10] END alpha=1, penalty=l1;, score=(train=0.500, test=0.500) total time=   0.0s\n",
      "[CV 7/10] END alpha=1, penalty=l1;, score=(train=0.500, test=0.500) total time=   0.0s\n",
      "[CV 8/10] END alpha=1, penalty=l1;, score=(train=0.500, test=0.500) total time=   0.0s\n",
      "[CV 9/10] END alpha=1, penalty=l1;, score=(train=0.500, test=0.500) total time=   0.0s\n",
      "[CV 10/10] END alpha=1, penalty=l1;, score=(train=0.500, test=0.500) total time=   0.0s\n",
      "[CV 1/10] END alpha=1, penalty=l2;, score=(train=0.837, test=0.857) total time=   0.0s\n",
      "[CV 2/10] END alpha=1, penalty=l2;, score=(train=0.864, test=0.860) total time=   0.0s\n",
      "[CV 3/10] END alpha=1, penalty=l2;, score=(train=0.907, test=0.914) total time=   0.0s\n",
      "[CV 4/10] END alpha=1, penalty=l2;, score=(train=0.897, test=0.869) total time=   0.0s\n",
      "[CV 5/10] END alpha=1, penalty=l2;, score=(train=0.897, test=0.865) total time=   0.0s\n",
      "[CV 6/10] END alpha=1, penalty=l2;, score=(train=0.891, test=0.901) total time=   0.0s\n",
      "[CV 7/10] END alpha=1, penalty=l2;, score=(train=0.894, test=0.899) total time=   0.0s\n",
      "[CV 8/10] END alpha=1, penalty=l2;, score=(train=0.854, test=0.867) total time=   0.0s\n",
      "[CV 9/10] END alpha=1, penalty=l2;, score=(train=0.893, test=0.906) total time=   0.0s\n",
      "[CV 10/10] END alpha=1, penalty=l2;, score=(train=0.891, test=0.897) total time=   0.0s\n",
      "[CV 1/10] END alpha=10, penalty=l1;, score=(train=0.500, test=0.500) total time=   0.0s\n",
      "[CV 2/10] END alpha=10, penalty=l1;, score=(train=0.500, test=0.500) total time=   0.0s\n",
      "[CV 3/10] END alpha=10, penalty=l1;, score=(train=0.500, test=0.500) total time=   0.0s\n",
      "[CV 4/10] END alpha=10, penalty=l1;, score=(train=0.500, test=0.500) total time=   0.0s\n",
      "[CV 5/10] END alpha=10, penalty=l1;, score=(train=0.500, test=0.500) total time=   0.0s\n",
      "[CV 6/10] END alpha=10, penalty=l1;, score=(train=0.500, test=0.500) total time=   0.0s\n",
      "[CV 7/10] END alpha=10, penalty=l1;, score=(train=0.500, test=0.500) total time=   0.0s\n",
      "[CV 8/10] END alpha=10, penalty=l1;, score=(train=0.500, test=0.500) total time=   0.0s\n",
      "[CV 9/10] END alpha=10, penalty=l1;, score=(train=0.500, test=0.500) total time=   0.0s\n",
      "[CV 10/10] END alpha=10, penalty=l1;, score=(train=0.500, test=0.500) total time=   0.0s\n",
      "[CV 1/10] END alpha=10, penalty=l2;, score=(train=0.732, test=0.749) total time=   0.0s\n",
      "[CV 2/10] END alpha=10, penalty=l2;, score=(train=0.729, test=0.753) total time=   0.0s\n",
      "[CV 3/10] END alpha=10, penalty=l2;, score=(train=0.766, test=0.733) total time=   0.0s\n",
      "[CV 4/10] END alpha=10, penalty=l2;, score=(train=0.759, test=0.683) total time=   0.0s\n",
      "[CV 5/10] END alpha=10, penalty=l2;, score=(train=0.754, test=0.744) total time=   0.0s\n",
      "[CV 6/10] END alpha=10, penalty=l2;, score=(train=0.745, test=0.726) total time=   0.0s\n",
      "[CV 7/10] END alpha=10, penalty=l2;, score=(train=0.645, test=0.648) total time=   0.0s\n",
      "[CV 8/10] END alpha=10, penalty=l2;, score=(train=0.729, test=0.756) total time=   0.0s\n",
      "[CV 9/10] END alpha=10, penalty=l2;, score=(train=0.751, test=0.724) total time=   0.0s\n",
      "[CV 10/10] END alpha=10, penalty=l2;, score=(train=0.709, test=0.742) total time=   0.0s\n",
      "[CV 1/10] END alpha=100, penalty=l1;, score=(train=0.500, test=0.500) total time=   0.0s\n",
      "[CV 2/10] END alpha=100, penalty=l1;, score=(train=0.500, test=0.500) total time=   0.0s\n",
      "[CV 3/10] END alpha=100, penalty=l1;, score=(train=0.500, test=0.500) total time=   0.0s\n",
      "[CV 4/10] END alpha=100, penalty=l1;, score=(train=0.500, test=0.500) total time=   0.0s\n",
      "[CV 5/10] END alpha=100, penalty=l1;, score=(train=0.500, test=0.500) total time=   0.0s\n",
      "[CV 6/10] END alpha=100, penalty=l1;, score=(train=0.500, test=0.500) total time=   0.0s\n",
      "[CV 7/10] END alpha=100, penalty=l1;, score=(train=0.500, test=0.500) total time=   0.0s\n",
      "[CV 8/10] END alpha=100, penalty=l1;, score=(train=0.500, test=0.500) total time=   0.0s\n",
      "[CV 9/10] END alpha=100, penalty=l1;, score=(train=0.500, test=0.500) total time=   0.0s\n",
      "[CV 10/10] END alpha=100, penalty=l1;, score=(train=0.500, test=0.500) total time=   0.0s\n",
      "[CV 1/10] END alpha=100, penalty=l2;, score=(train=0.643, test=0.671) total time=   0.0s\n",
      "[CV 2/10] END alpha=100, penalty=l2;, score=(train=0.616, test=0.623) total time=   0.0s\n",
      "[CV 3/10] END alpha=100, penalty=l2;, score=(train=0.658, test=0.623) total time=   0.0s\n",
      "[CV 4/10] END alpha=100, penalty=l2;, score=(train=0.651, test=0.570) total time=   0.0s\n",
      "[CV 5/10] END alpha=100, penalty=l2;, score=(train=0.639, test=0.661) total time=   0.0s\n",
      "[CV 6/10] END alpha=100, penalty=l2;, score=(train=0.645, test=0.611) total time=   0.0s\n",
      "[CV 7/10] END alpha=100, penalty=l2;, score=(train=0.645, test=0.648) total time=   0.0s\n",
      "[CV 8/10] END alpha=100, penalty=l2;, score=(train=0.620, test=0.660) total time=   0.0s\n",
      "[CV 9/10] END alpha=100, penalty=l2;, score=(train=0.637, test=0.615) total time=   0.0s\n",
      "[CV 10/10] END alpha=100, penalty=l2;, score=(train=0.641, test=0.676) total time=   0.0s\n",
      "[CV 1/10] END alpha=1000, penalty=l1;, score=(train=0.500, test=0.500) total time=   0.0s\n",
      "[CV 2/10] END alpha=1000, penalty=l1;, score=(train=0.500, test=0.500) total time=   0.0s\n",
      "[CV 3/10] END alpha=1000, penalty=l1;, score=(train=0.500, test=0.500) total time=   0.0s\n",
      "[CV 4/10] END alpha=1000, penalty=l1;, score=(train=0.500, test=0.500) total time=   0.0s\n",
      "[CV 5/10] END alpha=1000, penalty=l1;, score=(train=0.500, test=0.500) total time=   0.0s\n",
      "[CV 6/10] END alpha=1000, penalty=l1;, score=(train=0.500, test=0.500) total time=   0.0s\n",
      "[CV 7/10] END alpha=1000, penalty=l1;, score=(train=0.500, test=0.500) total time=   0.0s\n",
      "[CV 8/10] END alpha=1000, penalty=l1;, score=(train=0.500, test=0.500) total time=   0.0s\n",
      "[CV 9/10] END alpha=1000, penalty=l1;, score=(train=0.500, test=0.500) total time=   0.0s\n",
      "[CV 10/10] END alpha=1000, penalty=l1;, score=(train=0.500, test=0.500) total time=   0.0s\n",
      "[CV 1/10] END alpha=1000, penalty=l2;, score=(train=0.643, test=0.671) total time=   0.0s\n",
      "[CV 2/10] END alpha=1000, penalty=l2;, score=(train=0.616, test=0.623) total time=   0.0s\n",
      "[CV 3/10] END alpha=1000, penalty=l2;, score=(train=0.658, test=0.623) total time=   0.0s\n",
      "[CV 4/10] END alpha=1000, penalty=l2;, score=(train=0.651, test=0.570) total time=   0.0s\n",
      "[CV 5/10] END alpha=1000, penalty=l2;, score=(train=0.639, test=0.661) total time=   0.0s\n",
      "[CV 6/10] END alpha=1000, penalty=l2;, score=(train=0.645, test=0.611) total time=   0.0s\n",
      "[CV 7/10] END alpha=1000, penalty=l2;, score=(train=0.645, test=0.648) total time=   0.0s\n",
      "[CV 8/10] END alpha=1000, penalty=l2;, score=(train=0.620, test=0.660) total time=   0.0s\n",
      "[CV 9/10] END alpha=1000, penalty=l2;, score=(train=0.637, test=0.615) total time=   0.0s\n",
      "[CV 10/10] END alpha=1000, penalty=l2;, score=(train=0.641, test=0.676) total time=   0.0s\n",
      "[CV 1/10] END alpha=10000, penalty=l1;, score=(train=0.500, test=0.500) total time=   0.0s\n",
      "[CV 2/10] END alpha=10000, penalty=l1;, score=(train=0.500, test=0.500) total time=   0.0s\n",
      "[CV 3/10] END alpha=10000, penalty=l1;, score=(train=0.500, test=0.500) total time=   0.0s\n",
      "[CV 4/10] END alpha=10000, penalty=l1;, score=(train=0.500, test=0.500) total time=   0.0s\n",
      "[CV 5/10] END alpha=10000, penalty=l1;, score=(train=0.500, test=0.500) total time=   0.0s\n",
      "[CV 6/10] END alpha=10000, penalty=l1;, score=(train=0.500, test=0.500) total time=   0.0s\n",
      "[CV 7/10] END alpha=10000, penalty=l1;, score=(train=0.500, test=0.500) total time=   0.0s\n",
      "[CV 8/10] END alpha=10000, penalty=l1;, score=(train=0.500, test=0.500) total time=   0.0s\n",
      "[CV 9/10] END alpha=10000, penalty=l1;, score=(train=0.500, test=0.500) total time=   0.0s\n",
      "[CV 10/10] END alpha=10000, penalty=l1;, score=(train=0.500, test=0.500) total time=   0.0s\n",
      "[CV 1/10] END alpha=10000, penalty=l2;, score=(train=0.643, test=0.671) total time=   0.0s\n",
      "[CV 2/10] END alpha=10000, penalty=l2;, score=(train=0.616, test=0.623) total time=   0.0s\n",
      "[CV 3/10] END alpha=10000, penalty=l2;, score=(train=0.658, test=0.623) total time=   0.0s\n",
      "[CV 4/10] END alpha=10000, penalty=l2;, score=(train=0.651, test=0.570) total time=   0.0s\n",
      "[CV 5/10] END alpha=10000, penalty=l2;, score=(train=0.639, test=0.661) total time=   0.0s\n",
      "[CV 6/10] END alpha=10000, penalty=l2;, score=(train=0.645, test=0.611) total time=   0.0s\n",
      "[CV 7/10] END alpha=10000, penalty=l2;, score=(train=0.645, test=0.648) total time=   0.0s\n",
      "[CV 8/10] END alpha=10000, penalty=l2;, score=(train=0.620, test=0.660) total time=   0.0s\n",
      "[CV 9/10] END alpha=10000, penalty=l2;, score=(train=0.637, test=0.615) total time=   0.0s\n",
      "[CV 10/10] END alpha=10000, penalty=l2;, score=(train=0.641, test=0.676) total time=   0.0s\n",
      "----------\n",
      "iter: 1\n",
      "n_candidates: 6\n",
      "n_resources: 14334\n",
      "Fitting 10 folds for each of 6 candidates, totalling 60 fits\n",
      "[CV 1/10] END alpha=0.0001, penalty=l1;, score=(train=0.898, test=0.909) total time=   0.0s\n",
      "[CV 2/10] END alpha=0.0001, penalty=l1;, score=(train=0.899, test=0.910) total time=   0.0s\n",
      "[CV 3/10] END alpha=0.0001, penalty=l1;, score=(train=0.898, test=0.901) total time=   0.0s\n",
      "[CV 4/10] END alpha=0.0001, penalty=l1;, score=(train=0.895, test=0.886) total time=   0.0s\n",
      "[CV 5/10] END alpha=0.0001, penalty=l1;, score=(train=0.899, test=0.895) total time=   0.0s\n",
      "[CV 6/10] END alpha=0.0001, penalty=l1;, score=(train=0.896, test=0.890) total time=   0.0s\n",
      "[CV 7/10] END alpha=0.0001, penalty=l1;, score=(train=0.890, test=0.879) total time=   0.0s\n",
      "[CV 8/10] END alpha=0.0001, penalty=l1;, score=(train=0.898, test=0.884) total time=   0.0s\n",
      "[CV 9/10] END alpha=0.0001, penalty=l1;, score=(train=0.901, test=0.882) total time=   0.0s\n",
      "[CV 10/10] END alpha=0.0001, penalty=l1;, score=(train=0.897, test=0.888) total time=   0.0s\n",
      "[CV 1/10] END alpha=0.0001, penalty=l2;, score=(train=0.898, test=0.910) total time=   0.0s\n",
      "[CV 2/10] END alpha=0.0001, penalty=l2;, score=(train=0.899, test=0.911) total time=   0.0s\n",
      "[CV 3/10] END alpha=0.0001, penalty=l2;, score=(train=0.892, test=0.896) total time=   0.0s\n",
      "[CV 4/10] END alpha=0.0001, penalty=l2;, score=(train=0.898, test=0.887) total time=   0.0s\n",
      "[CV 5/10] END alpha=0.0001, penalty=l2;, score=(train=0.897, test=0.897) total time=   0.0s\n",
      "[CV 6/10] END alpha=0.0001, penalty=l2;, score=(train=0.898, test=0.896) total time=   0.0s\n",
      "[CV 7/10] END alpha=0.0001, penalty=l2;, score=(train=0.898, test=0.871) total time=   0.0s\n",
      "[CV 8/10] END alpha=0.0001, penalty=l2;, score=(train=0.897, test=0.887) total time=   0.0s\n",
      "[CV 9/10] END alpha=0.0001, penalty=l2;, score=(train=0.900, test=0.884) total time=   0.0s\n",
      "[CV 10/10] END alpha=0.0001, penalty=l2;, score=(train=0.892, test=0.880) total time=   0.0s\n",
      "[CV 1/10] END alpha=0.001, penalty=l1;, score=(train=0.899, test=0.907) total time=   0.0s\n",
      "[CV 2/10] END alpha=0.001, penalty=l1;, score=(train=0.900, test=0.912) total time=   0.0s\n",
      "[CV 3/10] END alpha=0.001, penalty=l1;, score=(train=0.897, test=0.899) total time=   0.0s\n",
      "[CV 4/10] END alpha=0.001, penalty=l1;, score=(train=0.898, test=0.892) total time=   0.0s\n",
      "[CV 5/10] END alpha=0.001, penalty=l1;, score=(train=0.901, test=0.904) total time=   0.0s\n",
      "[CV 6/10] END alpha=0.001, penalty=l1;, score=(train=0.901, test=0.904) total time=   0.0s\n",
      "[CV 7/10] END alpha=0.001, penalty=l1;, score=(train=0.900, test=0.880) total time=   0.0s\n",
      "[CV 8/10] END alpha=0.001, penalty=l1;, score=(train=0.901, test=0.884) total time=   0.0s\n",
      "[CV 9/10] END alpha=0.001, penalty=l1;, score=(train=0.900, test=0.882) total time=   0.0s\n",
      "[CV 10/10] END alpha=0.001, penalty=l1;, score=(train=0.897, test=0.886) total time=   0.0s\n",
      "[CV 1/10] END alpha=0.1, penalty=l2;, score=(train=0.898, test=0.911) total time=   0.0s\n",
      "[CV 2/10] END alpha=0.1, penalty=l2;, score=(train=0.897, test=0.908) total time=   0.0s\n",
      "[CV 3/10] END alpha=0.1, penalty=l2;, score=(train=0.897, test=0.901) total time=   0.0s\n",
      "[CV 4/10] END alpha=0.1, penalty=l2;, score=(train=0.897, test=0.888) total time=   0.0s\n",
      "[CV 5/10] END alpha=0.1, penalty=l2;, score=(train=0.899, test=0.903) total time=   0.0s\n",
      "[CV 6/10] END alpha=0.1, penalty=l2;, score=(train=0.901, test=0.904) total time=   0.0s\n",
      "[CV 7/10] END alpha=0.1, penalty=l2;, score=(train=0.899, test=0.879) total time=   0.0s\n",
      "[CV 8/10] END alpha=0.1, penalty=l2;, score=(train=0.900, test=0.888) total time=   0.0s\n",
      "[CV 9/10] END alpha=0.1, penalty=l2;, score=(train=0.899, test=0.881) total time=   0.0s\n",
      "[CV 10/10] END alpha=0.1, penalty=l2;, score=(train=0.897, test=0.890) total time=   0.0s\n",
      "[CV 1/10] END alpha=0.01, penalty=l2;, score=(train=0.899, test=0.912) total time=   0.0s\n",
      "[CV 2/10] END alpha=0.01, penalty=l2;, score=(train=0.900, test=0.910) total time=   0.0s\n",
      "[CV 3/10] END alpha=0.01, penalty=l2;, score=(train=0.898, test=0.900) total time=   0.0s\n",
      "[CV 4/10] END alpha=0.01, penalty=l2;, score=(train=0.898, test=0.890) total time=   0.0s\n",
      "[CV 5/10] END alpha=0.01, penalty=l2;, score=(train=0.901, test=0.903) total time=   0.0s\n",
      "[CV 6/10] END alpha=0.01, penalty=l2;, score=(train=0.901, test=0.903) total time=   0.0s\n",
      "[CV 7/10] END alpha=0.01, penalty=l2;, score=(train=0.899, test=0.881) total time=   0.0s\n",
      "[CV 8/10] END alpha=0.01, penalty=l2;, score=(train=0.901, test=0.888) total time=   0.0s\n",
      "[CV 9/10] END alpha=0.01, penalty=l2;, score=(train=0.900, test=0.883) total time=   0.0s\n",
      "[CV 10/10] END alpha=0.01, penalty=l2;, score=(train=0.897, test=0.890) total time=   0.0s\n",
      "[CV 1/10] END alpha=0.001, penalty=l2;, score=(train=0.901, test=0.911) total time=   0.0s\n",
      "[CV 2/10] END alpha=0.001, penalty=l2;, score=(train=0.901, test=0.912) total time=   0.0s\n",
      "[CV 3/10] END alpha=0.001, penalty=l2;, score=(train=0.900, test=0.901) total time=   0.0s\n",
      "[CV 4/10] END alpha=0.001, penalty=l2;, score=(train=0.899, test=0.889) total time=   0.0s\n",
      "[CV 5/10] END alpha=0.001, penalty=l2;, score=(train=0.903, test=0.904) total time=   0.0s\n",
      "[CV 6/10] END alpha=0.001, penalty=l2;, score=(train=0.903, test=0.904) total time=   0.0s\n",
      "[CV 7/10] END alpha=0.001, penalty=l2;, score=(train=0.900, test=0.879) total time=   0.0s\n",
      "[CV 8/10] END alpha=0.001, penalty=l2;, score=(train=0.902, test=0.888) total time=   0.0s\n",
      "[CV 9/10] END alpha=0.001, penalty=l2;, score=(train=0.902, test=0.885) total time=   0.0s\n",
      "[CV 10/10] END alpha=0.001, penalty=l2;, score=(train=0.898, test=0.889) total time=   0.0s\n",
      "----------\n",
      "iter: 2\n",
      "n_candidates: 2\n",
      "n_resources: 43002\n",
      "Fitting 10 folds for each of 2 candidates, totalling 20 fits\n",
      "[CV 1/10] END alpha=0.01, penalty=l2;, score=(train=0.896, test=0.902) total time=   0.0s\n",
      "[CV 2/10] END alpha=0.01, penalty=l2;, score=(train=0.896, test=0.903) total time=   0.0s\n",
      "[CV 3/10] END alpha=0.01, penalty=l2;, score=(train=0.896, test=0.899) total time=   0.0s\n",
      "[CV 4/10] END alpha=0.01, penalty=l2;, score=(train=0.897, test=0.893) total time=   0.0s\n",
      "[CV 5/10] END alpha=0.01, penalty=l2;, score=(train=0.897, test=0.894) total time=   0.0s\n",
      "[CV 6/10] END alpha=0.01, penalty=l2;, score=(train=0.897, test=0.893) total time=   0.0s\n",
      "[CV 7/10] END alpha=0.01, penalty=l2;, score=(train=0.897, test=0.889) total time=   0.0s\n",
      "[CV 8/10] END alpha=0.01, penalty=l2;, score=(train=0.897, test=0.895) total time=   0.0s\n",
      "[CV 9/10] END alpha=0.01, penalty=l2;, score=(train=0.897, test=0.892) total time=   0.0s\n",
      "[CV 10/10] END alpha=0.01, penalty=l2;, score=(train=0.896, test=0.902) total time=   0.0s\n",
      "[CV 1/10] END alpha=0.001, penalty=l2;, score=(train=0.898, test=0.903) total time=   0.0s\n",
      "[CV 2/10] END alpha=0.001, penalty=l2;, score=(train=0.897, test=0.905) total time=   0.0s\n",
      "[CV 3/10] END alpha=0.001, penalty=l2;, score=(train=0.898, test=0.901) total time=   0.0s\n",
      "[CV 4/10] END alpha=0.001, penalty=l2;, score=(train=0.898, test=0.894) total time=   0.0s\n",
      "[CV 5/10] END alpha=0.001, penalty=l2;, score=(train=0.898, test=0.895) total time=   0.0s\n",
      "[CV 6/10] END alpha=0.001, penalty=l2;, score=(train=0.899, test=0.896) total time=   0.0s\n",
      "[CV 7/10] END alpha=0.001, penalty=l2;, score=(train=0.898, test=0.889) total time=   0.0s\n",
      "[CV 8/10] END alpha=0.001, penalty=l2;, score=(train=0.899, test=0.894) total time=   0.0s\n",
      "[CV 9/10] END alpha=0.001, penalty=l2;, score=(train=0.898, test=0.893) total time=   0.0s\n",
      "[CV 10/10] END alpha=0.001, penalty=l2;, score=(train=0.897, test=0.903) total time=   0.0s\n",
      "Best Hyperparameters -->  {'alpha': 0.001, 'penalty': 'l2'}\n",
      "Best Accuracy -->  0.8973853174918421\n"
     ]
    }
   ],
   "source": [
    "model = SGDClassifier(loss='hinge')\n",
    "\n",
    "linear_avg_w2v_model = HalvingGridSearchCV(model ,parameter_grid ,scoring='roc_auc',cv=10 ,verbose=3)\n",
    "\n",
    "linear_avg_w2v_model.fit(X_train_avg_w2v ,y_train)\n",
    "print('Best Hyperparameters --> ', linear_avg_w2v_model.best_params_)\n",
    "print('Best Accuracy --> ',linear_avg_w2v_model.best_score_)"
   ]
  },
  {
   "cell_type": "markdown",
   "metadata": {},
   "source": [
    "### 3.2 Model Building (Linear-AVG-W2V)\n"
   ]
  },
  {
   "cell_type": "code",
   "execution_count": 49,
   "metadata": {},
   "outputs": [],
   "source": [
    "model_linear_avg_w2v = SGDClassifier(alpha=linear_avg_w2v_model.best_estimator_.alpha ,penalty=linear_avg_w2v_model.best_estimator_.penalty)\n",
    "\n",
    "model_linear_avg_w2v.fit(X_train_avg_w2v, y_train)\n",
    "\n",
    "# predicted values for train & test data\n",
    "y_pred_avg_w2v = model_linear_avg_w2v.decision_function(X_train_avg_w2v)\n",
    "y_pred_avg_w2v_test = model_linear_avg_w2v.decision_function(X_test_avg_w2v)"
   ]
  },
  {
   "cell_type": "markdown",
   "metadata": {},
   "source": [
    "### 3.3 Model Evaluation (Linear-AVG-W2V)\n"
   ]
  },
  {
   "cell_type": "code",
   "execution_count": 50,
   "metadata": {},
   "outputs": [
    {
     "name": "stdout",
     "output_type": "stream",
     "text": [
      "Accuracy of Linear-AVG-W2V model :  0.8788592260661527\n"
     ]
    }
   ],
   "source": [
    "print('Accuracy of Linear-AVG-W2V model : ', model_linear_avg_w2v.score(X_test_avg_w2v, y_test))"
   ]
  },
  {
   "cell_type": "code",
   "execution_count": 51,
   "metadata": {},
   "outputs": [
    {
     "data": {
      "image/png": "[encoded data removed]",
      "text/plain": [
       "<Figure size 432x288 with 1 Axes>"
      ]
     },
     "metadata": {
      "needs_background": "light"
     },
     "output_type": "display_data"
    }
   ],
   "source": [
    "# plotting ROC curve for train & test data\n",
    "\n",
    "false_positive_rate1, true_positive_rate1, threshold1 = roc_curve(y_train, y_pred_avg_w2v)\n",
    "false_positive_rate2, true_positive_rate2, threshold2 = roc_curve(y_test, y_pred_avg_w2v_test)\n",
    "\n",
    "fig = plt.figure()\n",
    "ax = plt.subplot(111)\n",
    "\n",
    "# train ROC\n",
    "ax.plot(false_positive_rate1, true_positive_rate1, label='Train ROC ,auc ={}'.format(str(roc_auc_score(y_train, y_pred_avg_w2v))))\n",
    "\n",
    "# test ROC\n",
    "ax.plot(false_positive_rate2, true_positive_rate2, label='Test ROC ,auc ={}'.format(str(roc_auc_score(y_test, y_pred_avg_w2v_test))))\n",
    "\n",
    "plt.title('ROC')\n",
    "plt.grid()\n",
    "plt.xlabel('False Positive Rate')\n",
    "plt.ylabel('True Positive Rate')\n",
    "ax.legend()\n",
    "plt.show()"
   ]
  },
  {
   "cell_type": "code",
   "execution_count": 52,
   "metadata": {},
   "outputs": [
    {
     "data": {
      "image/png": "[encoded data removed]",
      "text/plain": [
       "<Figure size 432x288 with 2 Axes>"
      ]
     },
     "metadata": {
      "needs_background": "light"
     },
     "output_type": "display_data"
    }
   ],
   "source": [
    "# confusion Matrix for test data\n",
    "y_pred_avg_w2v_test = model_linear_avg_w2v.predict(X_test_avg_w2v)\n",
    "\n",
    "confusion = confusion_matrix(y_test, y_pred_avg_w2v_test)\n",
    "class_labels = [\"negative\", \"positive\"]\n",
    "\n",
    "cf_data = pd.DataFrame(confusion, index=class_labels, columns=class_labels)\n",
    "sns.heatmap(cf_data, annot=True, fmt='.5g')\n",
    "\n",
    "plt.title(\"Confusion Matrix for test data\")\n",
    "plt.xlabel(\"Predicted Label\")\n",
    "plt.ylabel(\"True Label\")\n",
    "plt.show()\n"
   ]
  },
  {
   "cell_type": "markdown",
   "metadata": {},
   "source": [
    "## 4. Linear SVM - TFIDF-W2V\n"
   ]
  },
  {
   "cell_type": "code",
   "execution_count": 53,
   "metadata": {},
   "outputs": [
    {
     "name": "stderr",
     "output_type": "stream",
     "text": [
      "100%|██████████| 43009/43009 [00:51<00:00, 833.51it/s]\n"
     ]
    }
   ],
   "source": [
    "sent_list_train = []\n",
    "\n",
    "for sentence in X_train:\n",
    "    sent_list_train.append(sentence.split())\n",
    "\n",
    "w2v_model = Word2Vec(sent_list_train, min_count=5, vector_size=50, workers=4)\n",
    "w2v_words = list(w2v_model.wv.index_to_key)\n",
    "\n",
    "\n",
    "tfidf_vectors = TfidfVectorizer(ngram_range=(1, 2), min_df=10, max_features=500)\n",
    "tfidf_matrix = tfidf_vectors.fit_transform(X_train)\n",
    "\n",
    "tfidf_features = tfidf_vectors.get_feature_names()\n",
    "tfidf_dictionary = dict(zip(tfidf_vectors.get_feature_names(), list(tfidf_vectors.idf_)))\n",
    "\n",
    "\n",
    "#word2vec for train data\n",
    "\n",
    "tfidf_sent_vectors_train = []\n",
    "row = 0\n",
    "\n",
    "for sent in tqdm(sent_list_train):\n",
    "    sent_vectors = np.zeros(50)\n",
    "    weight_sum = 0\n",
    "\n",
    "    for word in sent:\n",
    "        if word in w2v_words and word in tfidf_features:\n",
    "            vectors = w2v_model.wv[word]\n",
    "            tfidf = tfidf_dictionary[word]*(sent.count(word) / len(sent))\n",
    "            sent_vectors += (vectors * tfidf)\n",
    "            weight_sum += tfidf\n",
    "\n",
    "    if weight_sum != 0:\n",
    "        sent_vectors /= weight_sum\n",
    "\n",
    "    tfidf_sent_vectors_train.append(sent_vectors)\n",
    "    row += 1"
   ]
  },
  {
   "cell_type": "code",
   "execution_count": 54,
   "metadata": {},
   "outputs": [
    {
     "name": "stderr",
     "output_type": "stream",
     "text": [
      "100%|██████████| 18433/18433 [00:22<00:00, 824.11it/s]\n"
     ]
    }
   ],
   "source": [
    "#word2vec for validation data (using same w2v model and words)\n",
    "\n",
    "sent_list_val = []\n",
    "\n",
    "for sentence in X_val:\n",
    "    sent_list_val.append(sentence.split())\n",
    "\n",
    "tfidf_sent_vectors_val = []\n",
    "row = 0\n",
    "\n",
    "for sent in tqdm(sent_list_val):\n",
    "    sent_vectors = np.zeros(50)\n",
    "    weight_sum = 0 \n",
    "    \n",
    "    for word in sent:\n",
    "        if word in w2v_words and word in tfidf_features:\n",
    "            vectors = w2v_model.wv[word]\n",
    "            tfidf = tfidf_dictionary[word]*(sent.count(word) / len(sent))\n",
    "            sent_vectors += (vectors * tfidf) \n",
    "            weight_sum += tfidf\n",
    "            \n",
    "    if weight_sum != 0:\n",
    "        sent_vectors /= weight_sum \n",
    "        \n",
    "    tfidf_sent_vectors_val.append(sent_vectors)\n",
    "    row +=1"
   ]
  },
  {
   "cell_type": "code",
   "execution_count": 55,
   "metadata": {},
   "outputs": [
    {
     "name": "stderr",
     "output_type": "stream",
     "text": [
      "100%|██████████| 26333/26333 [00:33<00:00, 789.86it/s]\n"
     ]
    }
   ],
   "source": [
    "#word2vec for test data\n",
    "\n",
    "sent_list_test = []\n",
    "\n",
    "for sentence in X_test:\n",
    "    sent_list_test.append(sentence.split())\n",
    "\n",
    "tfidf_sent_vectors_test = []\n",
    "row=0\n",
    "    \n",
    "for sent in tqdm(sent_list_test):\n",
    "    sent_vectors = np.zeros(50)\n",
    "    weight_sum = 0 \n",
    "    \n",
    "    for word in sent:\n",
    "        if word in w2v_words and word in tfidf_features:\n",
    "            vectors = w2v_model.wv[word]\n",
    "            tfidf = tfidf_dictionary[word]*(sent.count(word) / len(sent))\n",
    "            sent_vectors += (vectors * tfidf) \n",
    "            weight_sum += tfidf\n",
    "            \n",
    "    if weight_sum != 0:\n",
    "        sent_vectors /= weight_sum \n",
    "        \n",
    "    tfidf_sent_vectors_test.append(sent_vectors)\n",
    "    row +=1"
   ]
  },
  {
   "cell_type": "code",
   "execution_count": 56,
   "metadata": {},
   "outputs": [],
   "source": [
    "X_train_tfidf_w2v = tfidf_sent_vectors_train\n",
    "X_val_tfidf_w2v = tfidf_sent_vectors_val\n",
    "X_test_tfidf_w2v = tfidf_sent_vectors_test"
   ]
  },
  {
   "cell_type": "markdown",
   "metadata": {},
   "source": [
    "### 4.1 Hyperparameter Tuning\n"
   ]
  },
  {
   "cell_type": "code",
   "execution_count": 57,
   "metadata": {},
   "outputs": [],
   "source": [
    "alpha = [10**-4, 10**-3, 10**-2, 10**-1, 10**0, 10**1, 10**2, 10**3, 10**4]\n",
    "penalties = ['l1', 'l2']\n",
    "\n",
    "parameter_grid = {'penalty': penalties, 'alpha': alpha}"
   ]
  },
  {
   "cell_type": "code",
   "execution_count": 58,
   "metadata": {},
   "outputs": [
    {
     "name": "stdout",
     "output_type": "stream",
     "text": [
      "n_iterations: 3\n",
      "n_required_iterations: 3\n",
      "n_possible_iterations: 3\n",
      "min_resources_: 4778\n",
      "max_resources_: 43009\n",
      "aggressive_elimination: False\n",
      "factor: 3\n",
      "----------\n",
      "iter: 0\n",
      "n_candidates: 18\n",
      "n_resources: 4778\n",
      "Fitting 10 folds for each of 18 candidates, totalling 180 fits\n",
      "[CV 1/10] END alpha=0.0001, penalty=l1;, score=(train=0.816, test=0.794) total time=   0.0s\n",
      "[CV 2/10] END alpha=0.0001, penalty=l1;, score=(train=0.832, test=0.828) total time=   0.0s\n",
      "[CV 3/10] END alpha=0.0001, penalty=l1;, score=(train=0.848, test=0.846) total time=   0.0s\n",
      "[CV 4/10] END alpha=0.0001, penalty=l1;, score=(train=0.826, test=0.773) total time=   0.0s\n",
      "[CV 5/10] END alpha=0.0001, penalty=l1;, score=(train=0.805, test=0.842) total time=   0.0s\n",
      "[CV 6/10] END alpha=0.0001, penalty=l1;, score=(train=0.831, test=0.795) total time=   0.0s\n",
      "[CV 7/10] END alpha=0.0001, penalty=l1;, score=(train=0.834, test=0.806) total time=   0.0s\n",
      "[CV 8/10] END alpha=0.0001, penalty=l1;, score=(train=0.842, test=0.844) total time=   0.0s\n",
      "[CV 9/10] END alpha=0.0001, penalty=l1;, score=(train=0.822, test=0.773) total time=   0.0s\n",
      "[CV 10/10] END alpha=0.0001, penalty=l1;, score=(train=0.817, test=0.812) total time=   0.0s\n",
      "[CV 1/10] END alpha=0.0001, penalty=l2;, score=(train=0.818, test=0.785) total time=   0.0s\n",
      "[CV 2/10] END alpha=0.0001, penalty=l2;, score=(train=0.835, test=0.814) total time=   0.0s\n",
      "[CV 3/10] END alpha=0.0001, penalty=l2;, score=(train=0.810, test=0.824) total time=   0.0s\n",
      "[CV 4/10] END alpha=0.0001, penalty=l2;, score=(train=0.812, test=0.776) total time=   0.0s\n",
      "[CV 5/10] END alpha=0.0001, penalty=l2;, score=(train=0.806, test=0.806) total time=   0.0s\n",
      "[CV 6/10] END alpha=0.0001, penalty=l2;, score=(train=0.809, test=0.759) total time=   0.0s\n",
      "[CV 7/10] END alpha=0.0001, penalty=l2;, score=(train=0.832, test=0.789) total time=   0.0s\n",
      "[CV 8/10] END alpha=0.0001, penalty=l2;, score=(train=0.831, test=0.826) total time=   0.0s\n",
      "[CV 9/10] END alpha=0.0001, penalty=l2;, score=(train=0.816, test=0.777) total time=   0.0s\n",
      "[CV 10/10] END alpha=0.0001, penalty=l2;, score=(train=0.814, test=0.805) total time=   0.0s\n",
      "[CV 1/10] END alpha=0.001, penalty=l1;, score=(train=0.839, test=0.813) total time=   0.0s\n",
      "[CV 2/10] END alpha=0.001, penalty=l1;, score=(train=0.842, test=0.838) total time=   0.0s\n",
      "[CV 3/10] END alpha=0.001, penalty=l1;, score=(train=0.853, test=0.855) total time=   0.0s\n",
      "[CV 4/10] END alpha=0.001, penalty=l1;, score=(train=0.851, test=0.776) total time=   0.0s\n",
      "[CV 5/10] END alpha=0.001, penalty=l1;, score=(train=0.829, test=0.834) total time=   0.0s\n",
      "[CV 6/10] END alpha=0.001, penalty=l1;, score=(train=0.847, test=0.788) total time=   0.0s\n",
      "[CV 7/10] END alpha=0.001, penalty=l1;, score=(train=0.855, test=0.824) total time=   0.0s\n",
      "[CV 8/10] END alpha=0.001, penalty=l1;, score=(train=0.846, test=0.840) total time=   0.0s\n",
      "[CV 9/10] END alpha=0.001, penalty=l1;, score=(train=0.844, test=0.784) total time=   0.0s\n",
      "[CV 10/10] END alpha=0.001, penalty=l1;, score=(train=0.845, test=0.841) total time=   0.0s\n",
      "[CV 1/10] END alpha=0.001, penalty=l2;, score=(train=0.845, test=0.810) total time=   0.0s\n",
      "[CV 2/10] END alpha=0.001, penalty=l2;, score=(train=0.856, test=0.839) total time=   0.0s\n",
      "[CV 3/10] END alpha=0.001, penalty=l2;, score=(train=0.857, test=0.863) total time=   0.0s\n",
      "[CV 4/10] END alpha=0.001, penalty=l2;, score=(train=0.849, test=0.793) total time=   0.0s\n",
      "[CV 5/10] END alpha=0.001, penalty=l2;, score=(train=0.827, test=0.835) total time=   0.0s\n",
      "[CV 6/10] END alpha=0.001, penalty=l2;, score=(train=0.849, test=0.799) total time=   0.0s\n",
      "[CV 7/10] END alpha=0.001, penalty=l2;, score=(train=0.854, test=0.811) total time=   0.0s\n",
      "[CV 8/10] END alpha=0.001, penalty=l2;, score=(train=0.846, test=0.836) total time=   0.0s\n",
      "[CV 9/10] END alpha=0.001, penalty=l2;, score=(train=0.849, test=0.801) total time=   0.0s\n",
      "[CV 10/10] END alpha=0.001, penalty=l2;, score=(train=0.837, test=0.847) total time=   0.0s\n",
      "[CV 1/10] END alpha=0.01, penalty=l1;, score=(train=0.736, test=0.732) total time=   0.0s\n",
      "[CV 2/10] END alpha=0.01, penalty=l1;, score=(train=0.728, test=0.702) total time=   0.0s\n",
      "[CV 3/10] END alpha=0.01, penalty=l1;, score=(train=0.771, test=0.771) total time=   0.0s\n",
      "[CV 4/10] END alpha=0.01, penalty=l1;, score=(train=0.728, test=0.670) total time=   0.0s\n",
      "[CV 5/10] END alpha=0.01, penalty=l1;, score=(train=0.707, test=0.731) total time=   0.0s\n",
      "[CV 6/10] END alpha=0.01, penalty=l1;, score=(train=0.788, test=0.731) total time=   0.0s\n",
      "[CV 7/10] END alpha=0.01, penalty=l1;, score=(train=0.778, test=0.776) total time=   0.0s\n",
      "[CV 8/10] END alpha=0.01, penalty=l1;, score=(train=0.788, test=0.813) total time=   0.0s\n",
      "[CV 9/10] END alpha=0.01, penalty=l1;, score=(train=0.747, test=0.723) total time=   0.0s\n",
      "[CV 10/10] END alpha=0.01, penalty=l1;, score=(train=0.777, test=0.767) total time=   0.0s\n",
      "[CV 1/10] END alpha=0.01, penalty=l2;, score=(train=0.847, test=0.825) total time=   0.0s\n",
      "[CV 2/10] END alpha=0.01, penalty=l2;, score=(train=0.857, test=0.836) total time=   0.0s\n",
      "[CV 3/10] END alpha=0.01, penalty=l2;, score=(train=0.856, test=0.864) total time=   0.0s\n",
      "[CV 4/10] END alpha=0.01, penalty=l2;, score=(train=0.854, test=0.784) total time=   0.0s\n",
      "[CV 5/10] END alpha=0.01, penalty=l2;, score=(train=0.837, test=0.843) total time=   0.0s\n",
      "[CV 6/10] END alpha=0.01, penalty=l2;, score=(train=0.854, test=0.807) total time=   0.0s\n",
      "[CV 7/10] END alpha=0.01, penalty=l2;, score=(train=0.860, test=0.824) total time=   0.0s\n",
      "[CV 8/10] END alpha=0.01, penalty=l2;, score=(train=0.847, test=0.846) total time=   0.0s\n",
      "[CV 9/10] END alpha=0.01, penalty=l2;, score=(train=0.854, test=0.797) total time=   0.0s\n",
      "[CV 10/10] END alpha=0.01, penalty=l2;, score=(train=0.841, test=0.842) total time=   0.0s\n",
      "[CV 1/10] END alpha=0.1, penalty=l1;, score=(train=0.500, test=0.500) total time=   0.0s\n",
      "[CV 2/10] END alpha=0.1, penalty=l1;, score=(train=0.500, test=0.500) total time=   0.0s\n",
      "[CV 3/10] END alpha=0.1, penalty=l1;, score=(train=0.500, test=0.500) total time=   0.0s\n",
      "[CV 4/10] END alpha=0.1, penalty=l1;, score=(train=0.500, test=0.500) total time=   0.0s\n",
      "[CV 5/10] END alpha=0.1, penalty=l1;, score=(train=0.500, test=0.500) total time=   0.0s\n",
      "[CV 6/10] END alpha=0.1, penalty=l1;, score=(train=0.500, test=0.500) total time=   0.0s\n",
      "[CV 7/10] END alpha=0.1, penalty=l1;, score=(train=0.500, test=0.500) total time=   0.0s\n",
      "[CV 8/10] END alpha=0.1, penalty=l1;, score=(train=0.500, test=0.500) total time=   0.0s\n",
      "[CV 9/10] END alpha=0.1, penalty=l1;, score=(train=0.500, test=0.500) total time=   0.0s\n",
      "[CV 10/10] END alpha=0.1, penalty=l1;, score=(train=0.500, test=0.500) total time=   0.0s\n",
      "[CV 1/10] END alpha=0.1, penalty=l2;, score=(train=0.845, test=0.816) total time=   0.0s\n",
      "[CV 2/10] END alpha=0.1, penalty=l2;, score=(train=0.856, test=0.840) total time=   0.0s\n",
      "[CV 3/10] END alpha=0.1, penalty=l2;, score=(train=0.856, test=0.887) total time=   0.0s\n",
      "[CV 4/10] END alpha=0.1, penalty=l2;, score=(train=0.850, test=0.787) total time=   0.0s\n",
      "[CV 5/10] END alpha=0.1, penalty=l2;, score=(train=0.812, test=0.851) total time=   0.0s\n",
      "[CV 6/10] END alpha=0.1, penalty=l2;, score=(train=0.847, test=0.803) total time=   0.0s\n",
      "[CV 7/10] END alpha=0.1, penalty=l2;, score=(train=0.860, test=0.829) total time=   0.0s\n",
      "[CV 8/10] END alpha=0.1, penalty=l2;, score=(train=0.843, test=0.842) total time=   0.0s\n",
      "[CV 9/10] END alpha=0.1, penalty=l2;, score=(train=0.852, test=0.792) total time=   0.0s\n",
      "[CV 10/10] END alpha=0.1, penalty=l2;, score=(train=0.836, test=0.836) total time=   0.0s\n",
      "[CV 1/10] END alpha=1, penalty=l1;, score=(train=0.500, test=0.500) total time=   0.0s\n",
      "[CV 2/10] END alpha=1, penalty=l1;, score=(train=0.500, test=0.500) total time=   0.0s\n",
      "[CV 3/10] END alpha=1, penalty=l1;, score=(train=0.500, test=0.500) total time=   0.0s\n",
      "[CV 4/10] END alpha=1, penalty=l1;, score=(train=0.500, test=0.500) total time=   0.0s\n",
      "[CV 5/10] END alpha=1, penalty=l1;, score=(train=0.500, test=0.500) total time=   0.0s\n",
      "[CV 6/10] END alpha=1, penalty=l1;, score=(train=0.500, test=0.500) total time=   0.0s\n",
      "[CV 7/10] END alpha=1, penalty=l1;, score=(train=0.500, test=0.500) total time=   0.0s\n",
      "[CV 8/10] END alpha=1, penalty=l1;, score=(train=0.500, test=0.500) total time=   0.0s\n",
      "[CV 9/10] END alpha=1, penalty=l1;, score=(train=0.500, test=0.500) total time=   0.0s\n",
      "[CV 10/10] END alpha=1, penalty=l1;, score=(train=0.500, test=0.500) total time=   0.0s\n",
      "[CV 1/10] END alpha=1, penalty=l2;, score=(train=0.842, test=0.807) total time=   0.0s\n",
      "[CV 2/10] END alpha=1, penalty=l2;, score=(train=0.782, test=0.785) total time=   0.0s\n",
      "[CV 3/10] END alpha=1, penalty=l2;, score=(train=0.850, test=0.854) total time=   0.0s\n",
      "[CV 4/10] END alpha=1, penalty=l2;, score=(train=0.843, test=0.780) total time=   0.0s\n",
      "[CV 5/10] END alpha=1, penalty=l2;, score=(train=0.755, test=0.708) total time=   0.0s\n",
      "[CV 6/10] END alpha=1, penalty=l2;, score=(train=0.785, test=0.741) total time=   0.0s\n",
      "[CV 7/10] END alpha=1, penalty=l2;, score=(train=0.856, test=0.830) total time=   0.0s\n",
      "[CV 8/10] END alpha=1, penalty=l2;, score=(train=0.841, test=0.841) total time=   0.0s\n",
      "[CV 9/10] END alpha=1, penalty=l2;, score=(train=0.854, test=0.798) total time=   0.0s\n",
      "[CV 10/10] END alpha=1, penalty=l2;, score=(train=0.820, test=0.817) total time=   0.0s\n",
      "[CV 1/10] END alpha=10, penalty=l1;, score=(train=0.500, test=0.500) total time=   0.0s\n",
      "[CV 2/10] END alpha=10, penalty=l1;, score=(train=0.500, test=0.500) total time=   0.0s\n",
      "[CV 3/10] END alpha=10, penalty=l1;, score=(train=0.500, test=0.500) total time=   0.0s\n",
      "[CV 4/10] END alpha=10, penalty=l1;, score=(train=0.500, test=0.500) total time=   0.0s\n",
      "[CV 5/10] END alpha=10, penalty=l1;, score=(train=0.500, test=0.500) total time=   0.0s\n",
      "[CV 6/10] END alpha=10, penalty=l1;, score=(train=0.500, test=0.500) total time=   0.0s\n",
      "[CV 7/10] END alpha=10, penalty=l1;, score=(train=0.500, test=0.500) total time=   0.0s\n",
      "[CV 8/10] END alpha=10, penalty=l1;, score=(train=0.500, test=0.500) total time=   0.0s\n",
      "[CV 9/10] END alpha=10, penalty=l1;, score=(train=0.500, test=0.500) total time=   0.0s\n",
      "[CV 10/10] END alpha=10, penalty=l1;, score=(train=0.500, test=0.500) total time=   0.0s\n",
      "[CV 1/10] END alpha=10, penalty=l2;, score=(train=0.664, test=0.650) total time=   0.0s\n",
      "[CV 2/10] END alpha=10, penalty=l2;, score=(train=0.664, test=0.694) total time=   0.0s\n",
      "[CV 3/10] END alpha=10, penalty=l2;, score=(train=0.685, test=0.629) total time=   0.0s\n",
      "[CV 4/10] END alpha=10, penalty=l2;, score=(train=0.652, test=0.668) total time=   0.0s\n",
      "[CV 5/10] END alpha=10, penalty=l2;, score=(train=0.675, test=0.625) total time=   0.0s\n",
      "[CV 6/10] END alpha=10, penalty=l2;, score=(train=0.666, test=0.639) total time=   0.0s\n",
      "[CV 7/10] END alpha=10, penalty=l2;, score=(train=0.694, test=0.714) total time=   0.0s\n",
      "[CV 8/10] END alpha=10, penalty=l2;, score=(train=0.655, test=0.652) total time=   0.0s\n",
      "[CV 9/10] END alpha=10, penalty=l2;, score=(train=0.689, test=0.708) total time=   0.0s\n",
      "[CV 10/10] END alpha=10, penalty=l2;, score=(train=0.664, test=0.687) total time=   0.0s\n",
      "[CV 1/10] END alpha=100, penalty=l1;, score=(train=0.500, test=0.500) total time=   0.0s\n",
      "[CV 2/10] END alpha=100, penalty=l1;, score=(train=0.500, test=0.500) total time=   0.0s\n",
      "[CV 3/10] END alpha=100, penalty=l1;, score=(train=0.500, test=0.500) total time=   0.0s\n",
      "[CV 4/10] END alpha=100, penalty=l1;, score=(train=0.500, test=0.500) total time=   0.0s\n",
      "[CV 5/10] END alpha=100, penalty=l1;, score=(train=0.500, test=0.500) total time=   0.0s\n",
      "[CV 6/10] END alpha=100, penalty=l1;, score=(train=0.500, test=0.500) total time=   0.0s\n",
      "[CV 7/10] END alpha=100, penalty=l1;, score=(train=0.500, test=0.500) total time=   0.0s\n",
      "[CV 8/10] END alpha=100, penalty=l1;, score=(train=0.500, test=0.500) total time=   0.0s\n",
      "[CV 9/10] END alpha=100, penalty=l1;, score=(train=0.500, test=0.500) total time=   0.0s\n",
      "[CV 10/10] END alpha=100, penalty=l1;, score=(train=0.500, test=0.500) total time=   0.0s\n",
      "[CV 1/10] END alpha=100, penalty=l2;, score=(train=0.587, test=0.594) total time=   0.0s\n",
      "[CV 2/10] END alpha=100, penalty=l2;, score=(train=0.584, test=0.629) total time=   0.0s\n",
      "[CV 3/10] END alpha=100, penalty=l2;, score=(train=0.584, test=0.497) total time=   0.0s\n",
      "[CV 4/10] END alpha=100, penalty=l2;, score=(train=0.579, test=0.593) total time=   0.0s\n",
      "[CV 5/10] END alpha=100, penalty=l2;, score=(train=0.610, test=0.548) total time=   0.0s\n",
      "[CV 6/10] END alpha=100, penalty=l2;, score=(train=0.584, test=0.549) total time=   0.0s\n",
      "[CV 7/10] END alpha=100, penalty=l2;, score=(train=0.590, test=0.635) total time=   0.0s\n",
      "[CV 8/10] END alpha=100, penalty=l2;, score=(train=0.568, test=0.576) total time=   0.0s\n",
      "[CV 9/10] END alpha=100, penalty=l2;, score=(train=0.582, test=0.622) total time=   0.0s\n",
      "[CV 10/10] END alpha=100, penalty=l2;, score=(train=0.588, test=0.606) total time=   0.0s\n",
      "[CV 1/10] END alpha=1000, penalty=l1;, score=(train=0.500, test=0.500) total time=   0.0s\n",
      "[CV 2/10] END alpha=1000, penalty=l1;, score=(train=0.500, test=0.500) total time=   0.0s\n",
      "[CV 3/10] END alpha=1000, penalty=l1;, score=(train=0.500, test=0.500) total time=   0.0s\n",
      "[CV 4/10] END alpha=1000, penalty=l1;, score=(train=0.500, test=0.500) total time=   0.0s\n",
      "[CV 5/10] END alpha=1000, penalty=l1;, score=(train=0.500, test=0.500) total time=   0.0s\n",
      "[CV 6/10] END alpha=1000, penalty=l1;, score=(train=0.500, test=0.500) total time=   0.0s\n",
      "[CV 7/10] END alpha=1000, penalty=l1;, score=(train=0.500, test=0.500) total time=   0.0s\n",
      "[CV 8/10] END alpha=1000, penalty=l1;, score=(train=0.500, test=0.500) total time=   0.0s\n",
      "[CV 9/10] END alpha=1000, penalty=l1;, score=(train=0.500, test=0.500) total time=   0.0s\n",
      "[CV 10/10] END alpha=1000, penalty=l1;, score=(train=0.500, test=0.500) total time=   0.0s\n",
      "[CV 1/10] END alpha=1000, penalty=l2;, score=(train=0.587, test=0.594) total time=   0.0s\n",
      "[CV 2/10] END alpha=1000, penalty=l2;, score=(train=0.584, test=0.629) total time=   0.0s\n",
      "[CV 3/10] END alpha=1000, penalty=l2;, score=(train=0.584, test=0.497) total time=   0.0s\n",
      "[CV 4/10] END alpha=1000, penalty=l2;, score=(train=0.579, test=0.593) total time=   0.0s\n",
      "[CV 5/10] END alpha=1000, penalty=l2;, score=(train=0.610, test=0.548) total time=   0.0s\n",
      "[CV 6/10] END alpha=1000, penalty=l2;, score=(train=0.584, test=0.549) total time=   0.0s\n",
      "[CV 7/10] END alpha=1000, penalty=l2;, score=(train=0.590, test=0.635) total time=   0.0s\n",
      "[CV 8/10] END alpha=1000, penalty=l2;, score=(train=0.568, test=0.576) total time=   0.0s\n",
      "[CV 9/10] END alpha=1000, penalty=l2;, score=(train=0.582, test=0.622) total time=   0.0s\n",
      "[CV 10/10] END alpha=1000, penalty=l2;, score=(train=0.588, test=0.606) total time=   0.0s\n",
      "[CV 1/10] END alpha=10000, penalty=l1;, score=(train=0.500, test=0.500) total time=   0.0s\n",
      "[CV 2/10] END alpha=10000, penalty=l1;, score=(train=0.500, test=0.500) total time=   0.0s\n",
      "[CV 3/10] END alpha=10000, penalty=l1;, score=(train=0.500, test=0.500) total time=   0.0s\n",
      "[CV 4/10] END alpha=10000, penalty=l1;, score=(train=0.500, test=0.500) total time=   0.0s\n",
      "[CV 5/10] END alpha=10000, penalty=l1;, score=(train=0.500, test=0.500) total time=   0.0s\n",
      "[CV 6/10] END alpha=10000, penalty=l1;, score=(train=0.500, test=0.500) total time=   0.0s\n",
      "[CV 7/10] END alpha=10000, penalty=l1;, score=(train=0.500, test=0.500) total time=   0.0s\n",
      "[CV 8/10] END alpha=10000, penalty=l1;, score=(train=0.500, test=0.500) total time=   0.0s\n",
      "[CV 9/10] END alpha=10000, penalty=l1;, score=(train=0.500, test=0.500) total time=   0.0s\n",
      "[CV 10/10] END alpha=10000, penalty=l1;, score=(train=0.500, test=0.500) total time=   0.0s\n",
      "[CV 1/10] END alpha=10000, penalty=l2;, score=(train=0.587, test=0.594) total time=   0.0s\n",
      "[CV 2/10] END alpha=10000, penalty=l2;, score=(train=0.584, test=0.629) total time=   0.0s\n",
      "[CV 3/10] END alpha=10000, penalty=l2;, score=(train=0.584, test=0.497) total time=   0.0s\n",
      "[CV 4/10] END alpha=10000, penalty=l2;, score=(train=0.579, test=0.593) total time=   0.0s\n",
      "[CV 5/10] END alpha=10000, penalty=l2;, score=(train=0.610, test=0.548) total time=   0.0s\n",
      "[CV 6/10] END alpha=10000, penalty=l2;, score=(train=0.584, test=0.549) total time=   0.0s\n",
      "[CV 7/10] END alpha=10000, penalty=l2;, score=(train=0.590, test=0.635) total time=   0.0s\n",
      "[CV 8/10] END alpha=10000, penalty=l2;, score=(train=0.568, test=0.576) total time=   0.0s\n",
      "[CV 9/10] END alpha=10000, penalty=l2;, score=(train=0.582, test=0.622) total time=   0.0s\n",
      "[CV 10/10] END alpha=10000, penalty=l2;, score=(train=0.588, test=0.606) total time=   0.0s\n",
      "----------\n",
      "iter: 1\n",
      "n_candidates: 6\n",
      "n_resources: 14334\n",
      "Fitting 10 folds for each of 6 candidates, totalling 60 fits\n",
      "[CV 1/10] END alpha=1, penalty=l2;, score=(train=0.757, test=0.786) total time=   0.0s\n",
      "[CV 2/10] END alpha=1, penalty=l2;, score=(train=0.839, test=0.847) total time=   0.0s\n",
      "[CV 3/10] END alpha=1, penalty=l2;, score=(train=0.833, test=0.811) total time=   0.0s\n",
      "[CV 4/10] END alpha=1, penalty=l2;, score=(train=0.820, test=0.837) total time=   0.0s\n",
      "[CV 5/10] END alpha=1, penalty=l2;, score=(train=0.837, test=0.829) total time=   0.0s\n",
      "[CV 6/10] END alpha=1, penalty=l2;, score=(train=0.836, test=0.835) total time=   0.0s\n",
      "[CV 7/10] END alpha=1, penalty=l2;, score=(train=0.844, test=0.835) total time=   0.0s\n",
      "[CV 8/10] END alpha=1, penalty=l2;, score=(train=0.846, test=0.850) total time=   0.0s\n",
      "[CV 9/10] END alpha=1, penalty=l2;, score=(train=0.834, test=0.835) total time=   0.0s\n",
      "[CV 10/10] END alpha=1, penalty=l2;, score=(train=0.834, test=0.870) total time=   0.0s\n",
      "[CV 1/10] END alpha=0.0001, penalty=l1;, score=(train=0.836, test=0.870) total time=   0.1s\n",
      "[CV 2/10] END alpha=0.0001, penalty=l1;, score=(train=0.824, test=0.817) total time=   0.1s\n",
      "[CV 3/10] END alpha=0.0001, penalty=l1;, score=(train=0.825, test=0.803) total time=   0.1s\n",
      "[CV 4/10] END alpha=0.0001, penalty=l1;, score=(train=0.836, test=0.846) total time=   0.1s\n",
      "[CV 5/10] END alpha=0.0001, penalty=l1;, score=(train=0.830, test=0.829) total time=   0.1s\n",
      "[CV 6/10] END alpha=0.0001, penalty=l1;, score=(train=0.825, test=0.822) total time=   0.1s\n",
      "[CV 7/10] END alpha=0.0001, penalty=l1;, score=(train=0.840, test=0.835) total time=   0.2s\n",
      "[CV 8/10] END alpha=0.0001, penalty=l1;, score=(train=0.838, test=0.850) total time=   0.1s\n",
      "[CV 9/10] END alpha=0.0001, penalty=l1;, score=(train=0.822, test=0.826) total time=   0.1s\n",
      "[CV 10/10] END alpha=0.0001, penalty=l1;, score=(train=0.837, test=0.865) total time=   0.2s\n",
      "[CV 1/10] END alpha=0.001, penalty=l1;, score=(train=0.832, test=0.875) total time=   0.0s\n",
      "[CV 2/10] END alpha=0.001, penalty=l1;, score=(train=0.831, test=0.845) total time=   0.0s\n",
      "[CV 3/10] END alpha=0.001, penalty=l1;, score=(train=0.827, test=0.800) total time=   0.0s\n",
      "[CV 4/10] END alpha=0.001, penalty=l1;, score=(train=0.843, test=0.847) total time=   0.0s\n",
      "[CV 5/10] END alpha=0.001, penalty=l1;, score=(train=0.840, test=0.830) total time=   0.0s\n",
      "[CV 6/10] END alpha=0.001, penalty=l1;, score=(train=0.833, test=0.837) total time=   0.0s\n",
      "[CV 7/10] END alpha=0.001, penalty=l1;, score=(train=0.845, test=0.845) total time=   0.0s\n",
      "[CV 8/10] END alpha=0.001, penalty=l1;, score=(train=0.840, test=0.837) total time=   0.0s\n",
      "[CV 9/10] END alpha=0.001, penalty=l1;, score=(train=0.829, test=0.826) total time=   0.0s\n",
      "[CV 10/10] END alpha=0.001, penalty=l1;, score=(train=0.834, test=0.873) total time=   0.0s\n",
      "[CV 1/10] END alpha=0.001, penalty=l2;, score=(train=0.838, test=0.882) total time=   0.0s\n",
      "[CV 2/10] END alpha=0.001, penalty=l2;, score=(train=0.840, test=0.841) total time=   0.0s\n",
      "[CV 3/10] END alpha=0.001, penalty=l2;, score=(train=0.837, test=0.821) total time=   0.0s\n",
      "[CV 4/10] END alpha=0.001, penalty=l2;, score=(train=0.846, test=0.856) total time=   0.0s\n",
      "[CV 5/10] END alpha=0.001, penalty=l2;, score=(train=0.841, test=0.833) total time=   0.0s\n",
      "[CV 6/10] END alpha=0.001, penalty=l2;, score=(train=0.837, test=0.837) total time=   0.0s\n",
      "[CV 7/10] END alpha=0.001, penalty=l2;, score=(train=0.847, test=0.841) total time=   0.0s\n",
      "[CV 8/10] END alpha=0.001, penalty=l2;, score=(train=0.847, test=0.842) total time=   0.0s\n",
      "[CV 9/10] END alpha=0.001, penalty=l2;, score=(train=0.831, test=0.836) total time=   0.0s\n",
      "[CV 10/10] END alpha=0.001, penalty=l2;, score=(train=0.838, test=0.867) total time=   0.0s\n",
      "[CV 1/10] END alpha=0.01, penalty=l2;, score=(train=0.834, test=0.875) total time=   0.0s\n",
      "[CV 2/10] END alpha=0.01, penalty=l2;, score=(train=0.841, test=0.851) total time=   0.0s\n",
      "[CV 3/10] END alpha=0.01, penalty=l2;, score=(train=0.841, test=0.820) total time=   0.0s\n",
      "[CV 4/10] END alpha=0.01, penalty=l2;, score=(train=0.846, test=0.856) total time=   0.0s\n",
      "[CV 5/10] END alpha=0.01, penalty=l2;, score=(train=0.842, test=0.833) total time=   0.0s\n",
      "[CV 6/10] END alpha=0.01, penalty=l2;, score=(train=0.834, test=0.840) total time=   0.0s\n",
      "[CV 7/10] END alpha=0.01, penalty=l2;, score=(train=0.849, test=0.837) total time=   0.0s\n",
      "[CV 8/10] END alpha=0.01, penalty=l2;, score=(train=0.845, test=0.850) total time=   0.0s\n",
      "[CV 9/10] END alpha=0.01, penalty=l2;, score=(train=0.835, test=0.834) total time=   0.0s\n",
      "[CV 10/10] END alpha=0.01, penalty=l2;, score=(train=0.838, test=0.873) total time=   0.0s\n",
      "[CV 1/10] END alpha=0.1, penalty=l2;, score=(train=0.837, test=0.877) total time=   0.0s\n",
      "[CV 2/10] END alpha=0.1, penalty=l2;, score=(train=0.839, test=0.845) total time=   0.0s\n",
      "[CV 3/10] END alpha=0.1, penalty=l2;, score=(train=0.834, test=0.816) total time=   0.0s\n",
      "[CV 4/10] END alpha=0.1, penalty=l2;, score=(train=0.842, test=0.857) total time=   0.0s\n",
      "[CV 5/10] END alpha=0.1, penalty=l2;, score=(train=0.841, test=0.833) total time=   0.0s\n",
      "[CV 6/10] END alpha=0.1, penalty=l2;, score=(train=0.835, test=0.840) total time=   0.0s\n",
      "[CV 7/10] END alpha=0.1, penalty=l2;, score=(train=0.845, test=0.840) total time=   0.0s\n",
      "[CV 8/10] END alpha=0.1, penalty=l2;, score=(train=0.844, test=0.845) total time=   0.0s\n",
      "[CV 9/10] END alpha=0.1, penalty=l2;, score=(train=0.834, test=0.833) total time=   0.0s\n",
      "[CV 10/10] END alpha=0.1, penalty=l2;, score=(train=0.834, test=0.873) total time=   0.0s\n",
      "----------\n",
      "iter: 2\n",
      "n_candidates: 2\n",
      "n_resources: 43002\n",
      "Fitting 10 folds for each of 2 candidates, totalling 20 fits\n",
      "[CV 1/10] END alpha=0.1, penalty=l2;, score=(train=0.838, test=0.849) total time=   0.0s\n",
      "[CV 2/10] END alpha=0.1, penalty=l2;, score=(train=0.841, test=0.840) total time=   0.0s\n",
      "[CV 3/10] END alpha=0.1, penalty=l2;, score=(train=0.838, test=0.839) total time=   0.0s\n",
      "[CV 4/10] END alpha=0.1, penalty=l2;, score=(train=0.841, test=0.831) total time=   0.0s\n",
      "[CV 5/10] END alpha=0.1, penalty=l2;, score=(train=0.841, test=0.835) total time=   0.0s\n",
      "[CV 6/10] END alpha=0.1, penalty=l2;, score=(train=0.839, test=0.841) total time=   0.0s\n",
      "[CV 7/10] END alpha=0.1, penalty=l2;, score=(train=0.839, test=0.826) total time=   0.0s\n",
      "[CV 8/10] END alpha=0.1, penalty=l2;, score=(train=0.842, test=0.850) total time=   0.0s\n",
      "[CV 9/10] END alpha=0.1, penalty=l2;, score=(train=0.840, test=0.835) total time=   0.0s\n",
      "[CV 10/10] END alpha=0.1, penalty=l2;, score=(train=0.842, test=0.849) total time=   0.0s\n",
      "[CV 1/10] END alpha=0.01, penalty=l2;, score=(train=0.842, test=0.851) total time=   0.0s\n",
      "[CV 2/10] END alpha=0.01, penalty=l2;, score=(train=0.845, test=0.843) total time=   0.0s\n",
      "[CV 3/10] END alpha=0.01, penalty=l2;, score=(train=0.840, test=0.840) total time=   0.0s\n",
      "[CV 4/10] END alpha=0.01, penalty=l2;, score=(train=0.844, test=0.836) total time=   0.0s\n",
      "[CV 5/10] END alpha=0.01, penalty=l2;, score=(train=0.845, test=0.839) total time=   0.0s\n",
      "[CV 6/10] END alpha=0.01, penalty=l2;, score=(train=0.843, test=0.843) total time=   0.0s\n",
      "[CV 7/10] END alpha=0.01, penalty=l2;, score=(train=0.845, test=0.833) total time=   0.0s\n",
      "[CV 8/10] END alpha=0.01, penalty=l2;, score=(train=0.842, test=0.848) total time=   0.0s\n",
      "[CV 9/10] END alpha=0.01, penalty=l2;, score=(train=0.841, test=0.832) total time=   0.0s\n",
      "[CV 10/10] END alpha=0.01, penalty=l2;, score=(train=0.840, test=0.845) total time=   0.0s\n",
      "Best Hyperparameters -->  {'alpha': 0.01, 'penalty': 'l2'}\n",
      "Best Accuracy -->  0.8409880010114026\n"
     ]
    }
   ],
   "source": [
    "model = SGDClassifier(loss='hinge')\n",
    "\n",
    "linear_tfidf_w2v_model = HalvingGridSearchCV(\n",
    "    model, parameter_grid, scoring='roc_auc', cv=10, verbose=3)\n",
    "\n",
    "linear_tfidf_w2v_model.fit(X_train_tfidf_w2v, y_train)\n",
    "print('Best Hyperparameters --> ', linear_tfidf_w2v_model.best_params_)\n",
    "print('Best Accuracy --> ', linear_tfidf_w2v_model.best_score_)"
   ]
  },
  {
   "cell_type": "markdown",
   "metadata": {},
   "source": [
    "### 4.2 Model Building (Linear-TFIDF-W2V)\n"
   ]
  },
  {
   "cell_type": "code",
   "execution_count": 59,
   "metadata": {},
   "outputs": [],
   "source": [
    "model_linear_tfidf_w2v = SGDClassifier(\n",
    "    alpha=linear_tfidf_w2v_model.best_estimator_.alpha, penalty=linear_tfidf_w2v_model.best_estimator_.penalty)\n",
    "\n",
    "model_linear_tfidf_w2v.fit(X_train_tfidf_w2v, y_train)\n",
    "\n",
    "# predicted values for train & test data\n",
    "y_pred_tfidf_w2v = model_linear_tfidf_w2v.decision_function(X_train_tfidf_w2v)\n",
    "y_pred_tfidf_w2v_test = model_linear_tfidf_w2v.decision_function(X_test_tfidf_w2v)"
   ]
  },
  {
   "cell_type": "markdown",
   "metadata": {},
   "source": [
    "### 4.3 Model Evaluation (Linear-TFIDF-W2V)\n"
   ]
  },
  {
   "cell_type": "code",
   "execution_count": 60,
   "metadata": {},
   "outputs": [
    {
     "name": "stdout",
     "output_type": "stream",
     "text": [
      "Accuracy of Linear-TFIDF-W2V model :  0.8366688185926404\n"
     ]
    }
   ],
   "source": [
    "print('Accuracy of Linear-TFIDF-W2V model : ',model_linear_tfidf_w2v.score(X_test_tfidf_w2v, y_test))"
   ]
  },
  {
   "cell_type": "code",
   "execution_count": 61,
   "metadata": {},
   "outputs": [
    {
     "data": {
      "image/png": "[encoded data removed]",
      "text/plain": [
       "<Figure size 432x288 with 1 Axes>"
      ]
     },
     "metadata": {
      "needs_background": "light"
     },
     "output_type": "display_data"
    }
   ],
   "source": [
    "# plotting ROC curve for train & test data\n",
    "\n",
    "false_positive_rate1, true_positive_rate1, threshold1 = roc_curve(\n",
    "    y_train, y_pred_tfidf_w2v)\n",
    "false_positive_rate2, true_positive_rate2, threshold2 = roc_curve(\n",
    "    y_test, y_pred_tfidf_w2v_test)\n",
    "\n",
    "fig = plt.figure()\n",
    "ax = plt.subplot(111)\n",
    "\n",
    "# train ROC\n",
    "ax.plot(false_positive_rate1, true_positive_rate1, label='Train ROC ,auc ={}'.format(\n",
    "    str(roc_auc_score(y_train, y_pred_tfidf_w2v))))\n",
    "\n",
    "# test ROC\n",
    "ax.plot(false_positive_rate2, true_positive_rate2, label='Test ROC ,auc ={}'.format(\n",
    "    str(roc_auc_score(y_test, y_pred_tfidf_w2v_test))))\n",
    "\n",
    "plt.title('ROC')\n",
    "plt.grid()\n",
    "plt.xlabel('False Positive Rate')\n",
    "plt.ylabel('True Positive Rate')\n",
    "ax.legend()\n",
    "plt.show()"
   ]
  },
  {
   "cell_type": "code",
   "execution_count": 62,
   "metadata": {},
   "outputs": [
    {
     "data": {
      "image/png": "[encoded data removed]",
      "text/plain": [
       "<Figure size 432x288 with 2 Axes>"
      ]
     },
     "metadata": {
      "needs_background": "light"
     },
     "output_type": "display_data"
    }
   ],
   "source": [
    "# confusion Matrix for test data\n",
    "y_pred_tfidf_w2v_test = model_linear_tfidf_w2v.predict(X_test_tfidf_w2v)\n",
    "\n",
    "confusion = confusion_matrix(y_test, y_pred_tfidf_w2v_test)\n",
    "class_labels = [\"negative\", \"positive\"]\n",
    "\n",
    "cf_data = pd.DataFrame(confusion, index=class_labels, columns=class_labels)\n",
    "sns.heatmap(cf_data, annot=True, fmt='.5g')\n",
    "\n",
    "plt.title(\"Confusion Matrix for test data\")\n",
    "plt.xlabel(\"Predicted Label\")\n",
    "plt.ylabel(\"True Label\")\n",
    "plt.show()\n"
   ]
  },
  {
   "cell_type": "markdown",
   "metadata": {},
   "source": [
    "## RBF SVM"
   ]
  },
  {
   "cell_type": "code",
   "execution_count": 63,
   "metadata": {},
   "outputs": [],
   "source": [
    "X = X[:40000]\n",
    "y = y[:40000]\n",
    "\n",
    "X_train, X_test, y_train, y_test = train_test_split(X, y, test_size=0.3)\n",
    "X_train, X_val, y_train, y_val = train_test_split(X_train, y_train, test_size=0.3)\n"
   ]
  },
  {
   "cell_type": "markdown",
   "metadata": {},
   "source": [
    "## 5. RBF-SVM - BoW"
   ]
  },
  {
   "cell_type": "code",
   "execution_count": 64,
   "metadata": {},
   "outputs": [],
   "source": [
    "vectorizer = CountVectorizer(min_df = 10, max_features = 500)\n",
    "X_train_bow = vectorizer.fit_transform(X_train)\n",
    "X_test_bow = vectorizer.transform(X_test)\n",
    "X_val_bow = vectorizer.transform(X_val)\n",
    "\n",
    "scaler = StandardScaler(with_mean=False)\n",
    "X_train_bow = scaler.fit_transform(X_train_bow)\n",
    "X_test_bow = scaler.transform(X_test_bow)\n",
    "X_val_bow = scaler.transform(X_val_bow)"
   ]
  },
  {
   "cell_type": "markdown",
   "metadata": {},
   "source": [
    "### 5.1 Hyperparameter Tuning\n"
   ]
  },
  {
   "cell_type": "code",
   "execution_count": 65,
   "metadata": {},
   "outputs": [],
   "source": [
    "C = [10**-4, 10**-3, 10**-2, 10**-1, 10**0, 10**1, 10**2, 10**3, 10**4]\n",
    "parameter_grid = {'C':C}"
   ]
  },
  {
   "cell_type": "code",
   "execution_count": 66,
   "metadata": {},
   "outputs": [
    {
     "name": "stdout",
     "output_type": "stream",
     "text": [
      "n_iterations: 3\n",
      "n_required_iterations: 3\n",
      "n_possible_iterations: 3\n",
      "min_resources_: 2177\n",
      "max_resources_: 19600\n",
      "aggressive_elimination: False\n",
      "factor: 3\n",
      "----------\n",
      "iter: 0\n",
      "n_candidates: 9\n",
      "n_resources: 2177\n",
      "Fitting 10 folds for each of 9 candidates, totalling 90 fits\n",
      "[CV 1/10] END .....C=0.0001;, score=(train=0.636, test=0.712) total time=   0.1s\n",
      "[CV 2/10] END .....C=0.0001;, score=(train=0.645, test=0.563) total time=   0.1s\n",
      "[CV 3/10] END .....C=0.0001;, score=(train=0.656, test=0.563) total time=   0.1s\n",
      "[CV 4/10] END .....C=0.0001;, score=(train=0.667, test=0.585) total time=   0.1s\n",
      "[CV 5/10] END .....C=0.0001;, score=(train=0.655, test=0.653) total time=   0.1s\n",
      "[CV 6/10] END .....C=0.0001;, score=(train=0.641, test=0.632) total time=   0.1s\n",
      "[CV 7/10] END .....C=0.0001;, score=(train=0.657, test=0.578) total time=   0.1s\n",
      "[CV 8/10] END .....C=0.0001;, score=(train=0.663, test=0.610) total time=   0.1s\n",
      "[CV 9/10] END .....C=0.0001;, score=(train=0.655, test=0.706) total time=   0.1s\n",
      "[CV 10/10] END ....C=0.0001;, score=(train=0.651, test=0.660) total time=   0.1s\n",
      "[CV 1/10] END ......C=0.001;, score=(train=0.949, test=0.846) total time=   0.2s\n",
      "[CV 2/10] END ......C=0.001;, score=(train=0.934, test=0.749) total time=   0.2s\n",
      "[CV 3/10] END ......C=0.001;, score=(train=0.944, test=0.739) total time=   0.2s\n",
      "[CV 4/10] END ......C=0.001;, score=(train=0.959, test=0.747) total time=   0.2s\n",
      "[CV 5/10] END ......C=0.001;, score=(train=0.956, test=0.872) total time=   0.2s\n",
      "[CV 6/10] END ......C=0.001;, score=(train=0.949, test=0.798) total time=   0.2s\n",
      "[CV 7/10] END ......C=0.001;, score=(train=0.945, test=0.816) total time=   0.2s\n",
      "[CV 8/10] END ......C=0.001;, score=(train=0.947, test=0.793) total time=   0.2s\n",
      "[CV 9/10] END ......C=0.001;, score=(train=0.949, test=0.883) total time=   0.2s\n",
      "[CV 10/10] END .....C=0.001;, score=(train=0.943, test=0.813) total time=   0.2s\n",
      "[CV 1/10] END .......C=0.01;, score=(train=0.992, test=0.870) total time=   0.3s\n",
      "[CV 2/10] END .......C=0.01;, score=(train=0.990, test=0.796) total time=   0.3s\n",
      "[CV 3/10] END .......C=0.01;, score=(train=0.981, test=0.826) total time=   0.3s\n",
      "[CV 4/10] END .......C=0.01;, score=(train=0.987, test=0.769) total time=   0.3s\n",
      "[CV 5/10] END .......C=0.01;, score=(train=0.998, test=0.895) total time=   0.3s\n",
      "[CV 6/10] END .......C=0.01;, score=(train=0.998, test=0.855) total time=   0.3s\n",
      "[CV 7/10] END .......C=0.01;, score=(train=0.994, test=0.886) total time=   0.3s\n",
      "[CV 8/10] END .......C=0.01;, score=(train=0.992, test=0.870) total time=   0.3s\n",
      "[CV 9/10] END .......C=0.01;, score=(train=0.989, test=0.908) total time=   0.3s\n",
      "[CV 10/10] END ......C=0.01;, score=(train=0.986, test=0.819) total time=   0.3s\n",
      "[CV 1/10] END ........C=0.1;, score=(train=0.993, test=0.869) total time=   0.4s\n",
      "[CV 2/10] END ........C=0.1;, score=(train=0.990, test=0.798) total time=   0.4s\n",
      "[CV 3/10] END ........C=0.1;, score=(train=0.981, test=0.826) total time=   0.4s\n",
      "[CV 4/10] END ........C=0.1;, score=(train=0.988, test=0.770) total time=   0.4s\n",
      "[CV 5/10] END ........C=0.1;, score=(train=0.998, test=0.898) total time=   0.3s\n",
      "[CV 6/10] END ........C=0.1;, score=(train=0.999, test=0.857) total time=   0.4s\n",
      "[CV 7/10] END ........C=0.1;, score=(train=0.993, test=0.886) total time=   0.4s\n",
      "[CV 8/10] END ........C=0.1;, score=(train=0.993, test=0.866) total time=   0.3s\n",
      "[CV 9/10] END ........C=0.1;, score=(train=0.987, test=0.908) total time=   0.4s\n",
      "[CV 10/10] END .......C=0.1;, score=(train=0.987, test=0.822) total time=   0.3s\n",
      "[CV 1/10] END ..........C=1;, score=(train=0.993, test=0.868) total time=   0.3s\n",
      "[CV 2/10] END ..........C=1;, score=(train=0.989, test=0.798) total time=   0.3s\n",
      "[CV 3/10] END ..........C=1;, score=(train=0.981, test=0.827) total time=   0.4s\n",
      "[CV 4/10] END ..........C=1;, score=(train=0.988, test=0.770) total time=   0.4s\n",
      "[CV 5/10] END ..........C=1;, score=(train=0.998, test=0.898) total time=   0.3s\n",
      "[CV 6/10] END ..........C=1;, score=(train=0.999, test=0.857) total time=   0.3s\n",
      "[CV 7/10] END ..........C=1;, score=(train=0.993, test=0.887) total time=   0.4s\n",
      "[CV 8/10] END ..........C=1;, score=(train=0.993, test=0.867) total time=   0.3s\n",
      "[CV 9/10] END ..........C=1;, score=(train=0.987, test=0.908) total time=   0.4s\n",
      "[CV 10/10] END .........C=1;, score=(train=0.987, test=0.821) total time=   0.3s\n",
      "[CV 1/10] END .........C=10;, score=(train=1.000, test=0.877) total time=   0.5s\n",
      "[CV 2/10] END .........C=10;, score=(train=1.000, test=0.797) total time=   0.5s\n",
      "[CV 3/10] END .........C=10;, score=(train=0.995, test=0.837) total time=   0.4s\n",
      "[CV 4/10] END .........C=10;, score=(train=1.000, test=0.820) total time=   0.5s\n",
      "[CV 5/10] END .........C=10;, score=(train=1.000, test=0.865) total time=   0.4s\n",
      "[CV 6/10] END .........C=10;, score=(train=1.000, test=0.882) total time=   0.4s\n",
      "[CV 7/10] END .........C=10;, score=(train=0.998, test=0.873) total time=   0.4s\n",
      "[CV 8/10] END .........C=10;, score=(train=1.000, test=0.838) total time=   0.4s\n",
      "[CV 9/10] END .........C=10;, score=(train=1.000, test=0.833) total time=   0.5s\n",
      "[CV 10/10] END ........C=10;, score=(train=1.000, test=0.813) total time=   0.4s\n",
      "[CV 1/10] END ........C=100;, score=(train=1.000, test=0.833) total time=   0.5s\n",
      "[CV 2/10] END ........C=100;, score=(train=0.999, test=0.802) total time=   0.4s\n",
      "[CV 3/10] END ........C=100;, score=(train=0.999, test=0.789) total time=   0.4s\n",
      "[CV 4/10] END ........C=100;, score=(train=1.000, test=0.802) total time=   0.4s\n",
      "[CV 5/10] END ........C=100;, score=(train=0.999, test=0.851) total time=   0.4s\n",
      "[CV 6/10] END ........C=100;, score=(train=1.000, test=0.846) total time=   0.5s\n",
      "[CV 7/10] END ........C=100;, score=(train=0.999, test=0.858) total time=   0.4s\n",
      "[CV 8/10] END ........C=100;, score=(train=0.999, test=0.835) total time=   0.4s\n",
      "[CV 9/10] END ........C=100;, score=(train=1.000, test=0.811) total time=   0.4s\n",
      "[CV 10/10] END .......C=100;, score=(train=0.999, test=0.785) total time=   0.4s\n",
      "[CV 1/10] END .......C=1000;, score=(train=1.000, test=0.822) total time=   0.4s\n",
      "[CV 2/10] END .......C=1000;, score=(train=0.999, test=0.802) total time=   0.4s\n",
      "[CV 3/10] END .......C=1000;, score=(train=0.997, test=0.781) total time=   0.4s\n",
      "[CV 4/10] END .......C=1000;, score=(train=1.000, test=0.802) total time=   0.5s\n",
      "[CV 5/10] END .......C=1000;, score=(train=1.000, test=0.851) total time=   0.4s\n",
      "[CV 6/10] END .......C=1000;, score=(train=1.000, test=0.834) total time=   0.3s\n",
      "[CV 7/10] END .......C=1000;, score=(train=0.999, test=0.856) total time=   0.3s\n",
      "[CV 8/10] END .......C=1000;, score=(train=0.999, test=0.835) total time=   0.4s\n",
      "[CV 9/10] END .......C=1000;, score=(train=0.999, test=0.811) total time=   0.4s\n",
      "[CV 10/10] END ......C=1000;, score=(train=0.999, test=0.784) total time=   0.3s\n",
      "[CV 1/10] END ......C=10000;, score=(train=1.000, test=0.822) total time=   0.4s\n",
      "[CV 2/10] END ......C=10000;, score=(train=0.999, test=0.802) total time=   0.4s\n",
      "[CV 3/10] END ......C=10000;, score=(train=0.997, test=0.781) total time=   0.4s\n",
      "[CV 4/10] END ......C=10000;, score=(train=1.000, test=0.802) total time=   0.4s\n",
      "[CV 5/10] END ......C=10000;, score=(train=1.000, test=0.851) total time=   0.4s\n",
      "[CV 6/10] END ......C=10000;, score=(train=1.000, test=0.834) total time=   0.3s\n",
      "[CV 7/10] END ......C=10000;, score=(train=0.999, test=0.851) total time=   0.2s\n",
      "[CV 8/10] END ......C=10000;, score=(train=0.999, test=0.835) total time=   0.4s\n",
      "[CV 9/10] END ......C=10000;, score=(train=0.999, test=0.811) total time=   0.4s\n",
      "[CV 10/10] END .....C=10000;, score=(train=0.999, test=0.784) total time=   0.3s\n",
      "----------\n",
      "iter: 1\n",
      "n_candidates: 3\n",
      "n_resources: 6531\n",
      "Fitting 10 folds for each of 3 candidates, totalling 30 fits\n",
      "[CV 1/10] END .......C=0.01;, score=(train=0.978, test=0.851) total time=   3.1s\n",
      "[CV 2/10] END .......C=0.01;, score=(train=0.973, test=0.852) total time=   3.0s\n",
      "[CV 3/10] END .......C=0.01;, score=(train=0.980, test=0.836) total time=   3.2s\n",
      "[CV 4/10] END .......C=0.01;, score=(train=0.977, test=0.829) total time=   3.1s\n",
      "[CV 5/10] END .......C=0.01;, score=(train=0.973, test=0.883) total time=   3.2s\n",
      "[CV 6/10] END .......C=0.01;, score=(train=0.978, test=0.898) total time=   3.2s\n",
      "[CV 7/10] END .......C=0.01;, score=(train=0.978, test=0.871) total time=   3.1s\n",
      "[CV 8/10] END .......C=0.01;, score=(train=0.975, test=0.888) total time=   3.1s\n",
      "[CV 9/10] END .......C=0.01;, score=(train=0.977, test=0.841) total time=   3.1s\n",
      "[CV 10/10] END ......C=0.01;, score=(train=0.974, test=0.880) total time=   3.2s\n",
      "[CV 1/10] END ........C=0.1;, score=(train=0.978, test=0.850) total time=   3.1s\n",
      "[CV 2/10] END ........C=0.1;, score=(train=0.974, test=0.852) total time=   3.1s\n",
      "[CV 3/10] END ........C=0.1;, score=(train=0.981, test=0.836) total time=   3.1s\n",
      "[CV 4/10] END ........C=0.1;, score=(train=0.977, test=0.829) total time=   3.1s\n",
      "[CV 5/10] END ........C=0.1;, score=(train=0.973, test=0.884) total time=   3.2s\n",
      "[CV 6/10] END ........C=0.1;, score=(train=0.978, test=0.898) total time=   3.2s\n",
      "[CV 7/10] END ........C=0.1;, score=(train=0.977, test=0.872) total time=   3.1s\n",
      "[CV 8/10] END ........C=0.1;, score=(train=0.975, test=0.888) total time=   3.0s\n",
      "[CV 9/10] END ........C=0.1;, score=(train=0.977, test=0.843) total time=   3.1s\n",
      "[CV 10/10] END .......C=0.1;, score=(train=0.974, test=0.880) total time=   3.3s\n",
      "[CV 1/10] END ..........C=1;, score=(train=0.980, test=0.851) total time=   3.1s\n",
      "[CV 2/10] END ..........C=1;, score=(train=0.976, test=0.852) total time=   3.0s\n",
      "[CV 3/10] END ..........C=1;, score=(train=0.982, test=0.837) total time=   3.1s\n",
      "[CV 4/10] END ..........C=1;, score=(train=0.979, test=0.830) total time=   3.1s\n",
      "[CV 5/10] END ..........C=1;, score=(train=0.974, test=0.884) total time=   3.2s\n",
      "[CV 6/10] END ..........C=1;, score=(train=0.980, test=0.898) total time=   3.1s\n",
      "[CV 7/10] END ..........C=1;, score=(train=0.979, test=0.872) total time=   3.1s\n",
      "[CV 8/10] END ..........C=1;, score=(train=0.979, test=0.888) total time=   3.1s\n",
      "[CV 9/10] END ..........C=1;, score=(train=0.979, test=0.843) total time=   3.3s\n",
      "[CV 10/10] END .........C=1;, score=(train=0.976, test=0.880) total time=   3.2s\n",
      "----------\n",
      "iter: 2\n",
      "n_candidates: 1\n",
      "n_resources: 19593\n",
      "Fitting 10 folds for each of 1 candidates, totalling 10 fits\n",
      "[CV 1/10] END ..........C=1;, score=(train=0.969, test=0.884) total time=  39.3s\n",
      "[CV 2/10] END ..........C=1;, score=(train=0.969, test=0.877) total time=  37.5s\n",
      "[CV 3/10] END ..........C=1;, score=(train=0.969, test=0.888) total time=  41.6s\n",
      "[CV 4/10] END ..........C=1;, score=(train=0.968, test=0.885) total time=  41.7s\n",
      "[CV 5/10] END ..........C=1;, score=(train=0.969, test=0.891) total time=  42.0s\n",
      "[CV 6/10] END ..........C=1;, score=(train=0.968, test=0.910) total time=  41.7s\n",
      "[CV 7/10] END ..........C=1;, score=(train=0.968, test=0.900) total time=  40.3s\n",
      "[CV 8/10] END ..........C=1;, score=(train=0.969, test=0.885) total time=  40.6s\n",
      "[CV 9/10] END ..........C=1;, score=(train=0.969, test=0.880) total time=  41.1s\n",
      "[CV 10/10] END .........C=1;, score=(train=0.968, test=0.899) total time= 1.1min\n",
      "Best Hyperparameters -->  {'C': 1}\n",
      "Best Accuracy -->  0.8899497300401901\n"
     ]
    }
   ],
   "source": [
    "model = SVC()\n",
    "\n",
    "rbf_bow_model = HalvingGridSearchCV(model ,parameter_grid ,scoring='roc_auc',cv=10 ,verbose=3)\n",
    "\n",
    "rbf_bow_model.fit(X_train_bow ,y_train)\n",
    "print('Best Hyperparameters --> ', rbf_bow_model.best_params_)\n",
    "print('Best Accuracy --> ',rbf_bow_model.best_score_)"
   ]
  },
  {
   "cell_type": "markdown",
   "metadata": {},
   "source": [
    "### 5.2 Model Building (RBF-BoW)\n"
   ]
  },
  {
   "cell_type": "code",
   "execution_count": 67,
   "metadata": {},
   "outputs": [],
   "source": [
    "model_rbf_bow = SVC(C=rbf_bow_model.best_estimator_.C ,probability=True)\n",
    "\n",
    "model_rbf_bow.fit(X_train_bow, y_train)\n",
    "\n",
    "# predicted values for train & test data\n",
    "y_pred_bow = model_rbf_bow.decision_function(X_train_bow)\n",
    "y_pred_bow_test = model_rbf_bow.decision_function(X_test_bow)"
   ]
  },
  {
   "cell_type": "markdown",
   "metadata": {},
   "source": [
    "### 5.3 Model Evaluation (RBF-BoW)\n"
   ]
  },
  {
   "cell_type": "code",
   "execution_count": 68,
   "metadata": {},
   "outputs": [
    {
     "name": "stdout",
     "output_type": "stream",
     "text": [
      "Accuracy of RBF-BoW model :  0.8803333333333333\n"
     ]
    }
   ],
   "source": [
    "print('Accuracy of RBF-BoW model : ', model_rbf_bow.score(X_test_bow, y_test))"
   ]
  },
  {
   "cell_type": "code",
   "execution_count": 69,
   "metadata": {},
   "outputs": [
    {
     "data": {
      "image/png": "[encoded data removed]",
      "text/plain": [
       "<Figure size 432x288 with 1 Axes>"
      ]
     },
     "metadata": {
      "needs_background": "light"
     },
     "output_type": "display_data"
    }
   ],
   "source": [
    "# plotting ROC curve for train & test data\n",
    "\n",
    "false_positive_rate1, true_positive_rate1, threshold1 = roc_curve(y_train, y_pred_bow)\n",
    "false_positive_rate2, true_positive_rate2, threshold2 = roc_curve(y_test, y_pred_bow_test)\n",
    "\n",
    "fig = plt.figure()\n",
    "ax = plt.subplot(111)\n",
    "\n",
    "# train ROC\n",
    "ax.plot(false_positive_rate1, true_positive_rate1, label='Train ROC ,auc ={}'.format(str(roc_auc_score(y_train, y_pred_bow))))\n",
    "\n",
    "# test ROC\n",
    "ax.plot(false_positive_rate2, true_positive_rate2, label='Test ROC ,auc ={}'.format(str(roc_auc_score(y_test, y_pred_bow_test))))\n",
    "\n",
    "plt.title('ROC')\n",
    "plt.grid()\n",
    "plt.xlabel('False Positive Rate')\n",
    "plt.ylabel('True Positive Rate')\n",
    "ax.legend()\n",
    "plt.show()"
   ]
  },
  {
   "cell_type": "code",
   "execution_count": 70,
   "metadata": {},
   "outputs": [
    {
     "data": {
      "image/png": "[encoded data removed]",
      "text/plain": [
       "<Figure size 432x288 with 2 Axes>"
      ]
     },
     "metadata": {
      "needs_background": "light"
     },
     "output_type": "display_data"
    }
   ],
   "source": [
    "# confusion Matrix for test data\n",
    "y_pred_bow_test = model_rbf_bow.predict(X_test_bow)\n",
    "\n",
    "confusion = confusion_matrix(y_test, y_pred_bow_test)\n",
    "class_labels = [\"negative\", \"positive\"]\n",
    "\n",
    "cf_data = pd.DataFrame(confusion, index=class_labels, columns=class_labels)\n",
    "sns.heatmap(cf_data, annot=True, fmt='.5g')\n",
    "\n",
    "plt.title(\"Confusion Matrix for test data\")\n",
    "plt.xlabel(\"Predicted Label\")\n",
    "plt.ylabel(\"True Label\")\n",
    "plt.show()"
   ]
  },
  {
   "cell_type": "markdown",
   "metadata": {},
   "source": [
    "## 6. RBF-SVM - TFIDF\n"
   ]
  },
  {
   "cell_type": "code",
   "execution_count": 71,
   "metadata": {},
   "outputs": [],
   "source": [
    "vectorizer = TfidfVectorizer(ngram_range=(1,2),min_df=10, max_features=500)\n",
    "X_train_tfidf = vectorizer.fit_transform(X_train)\n",
    "X_test_tfidf = vectorizer.transform(X_test)\n",
    "X_val_tfidf = vectorizer.transform(X_val)\n",
    "\n",
    "scaler = StandardScaler(with_mean=False)\n",
    "X_train_tfidf = scaler.fit_transform(X_train_tfidf)\n",
    "X_test_tfidf = scaler.transform(X_test_tfidf)\n",
    "X_val_tfidf = scaler.transform(X_val_tfidf)"
   ]
  },
  {
   "cell_type": "markdown",
   "metadata": {},
   "source": [
    "### 6.1 Hyperparameter Tuning\n"
   ]
  },
  {
   "cell_type": "code",
   "execution_count": 72,
   "metadata": {},
   "outputs": [],
   "source": [
    "C = [10**-4, 10**-3, 10**-2, 10**-1, 10**0, 10**1, 10**2, 10**3, 10**4]\n",
    "parameter_grid = {'C': C}"
   ]
  },
  {
   "cell_type": "code",
   "execution_count": 73,
   "metadata": {},
   "outputs": [
    {
     "name": "stdout",
     "output_type": "stream",
     "text": [
      "n_iterations: 3\n",
      "n_required_iterations: 3\n",
      "n_possible_iterations: 3\n",
      "min_resources_: 2177\n",
      "max_resources_: 19600\n",
      "aggressive_elimination: False\n",
      "factor: 3\n",
      "----------\n",
      "iter: 0\n",
      "n_candidates: 9\n",
      "n_resources: 2177\n",
      "Fitting 10 folds for each of 9 candidates, totalling 90 fits\n",
      "[CV 1/10] END .....C=0.0001;, score=(train=0.811, test=0.752) total time=   0.1s\n",
      "[CV 2/10] END .....C=0.0001;, score=(train=0.793, test=0.705) total time=   0.1s\n",
      "[CV 3/10] END .....C=0.0001;, score=(train=0.795, test=0.752) total time=   0.1s\n",
      "[CV 4/10] END .....C=0.0001;, score=(train=0.823, test=0.705) total time=   0.1s\n",
      "[CV 5/10] END .....C=0.0001;, score=(train=0.818, test=0.695) total time=   0.1s\n",
      "[CV 6/10] END .....C=0.0001;, score=(train=0.764, test=0.705) total time=   0.0s\n",
      "[CV 7/10] END .....C=0.0001;, score=(train=0.816, test=0.704) total time=   0.1s\n",
      "[CV 8/10] END .....C=0.0001;, score=(train=0.820, test=0.652) total time=   0.0s\n",
      "[CV 9/10] END .....C=0.0001;, score=(train=0.799, test=0.728) total time=   0.0s\n",
      "[CV 10/10] END ....C=0.0001;, score=(train=0.825, test=0.721) total time=   0.0s\n",
      "[CV 1/10] END ......C=0.001;, score=(train=0.998, test=0.807) total time=   0.1s\n",
      "[CV 2/10] END ......C=0.001;, score=(train=0.997, test=0.832) total time=   0.1s\n",
      "[CV 3/10] END ......C=0.001;, score=(train=0.994, test=0.790) total time=   0.1s\n",
      "[CV 4/10] END ......C=0.001;, score=(train=0.995, test=0.832) total time=   0.1s\n",
      "[CV 5/10] END ......C=0.001;, score=(train=0.992, test=0.799) total time=   0.1s\n",
      "[CV 6/10] END ......C=0.001;, score=(train=0.994, test=0.863) total time=   0.1s\n",
      "[CV 7/10] END ......C=0.001;, score=(train=0.995, test=0.800) total time=   0.1s\n",
      "[CV 8/10] END ......C=0.001;, score=(train=0.999, test=0.796) total time=   0.1s\n",
      "[CV 9/10] END ......C=0.001;, score=(train=1.000, test=0.835) total time=   0.1s\n",
      "[CV 10/10] END .....C=0.001;, score=(train=0.995, test=0.822) total time=   0.1s\n",
      "[CV 1/10] END .......C=0.01;, score=(train=1.000, test=0.808) total time=   0.2s\n",
      "[CV 2/10] END .......C=0.01;, score=(train=0.998, test=0.870) total time=   0.2s\n",
      "[CV 3/10] END .......C=0.01;, score=(train=1.000, test=0.798) total time=   0.2s\n",
      "[CV 4/10] END .......C=0.01;, score=(train=0.998, test=0.827) total time=   0.2s\n",
      "[CV 5/10] END .......C=0.01;, score=(train=0.995, test=0.796) total time=   0.2s\n",
      "[CV 6/10] END .......C=0.01;, score=(train=1.000, test=0.882) total time=   0.2s\n",
      "[CV 7/10] END .......C=0.01;, score=(train=0.997, test=0.806) total time=   0.2s\n",
      "[CV 8/10] END .......C=0.01;, score=(train=1.000, test=0.823) total time=   0.2s\n",
      "[CV 9/10] END .......C=0.01;, score=(train=1.000, test=0.842) total time=   0.2s\n",
      "[CV 10/10] END ......C=0.01;, score=(train=0.996, test=0.841) total time=   0.2s\n",
      "[CV 1/10] END ........C=0.1;, score=(train=1.000, test=0.808) total time=   0.2s\n",
      "[CV 2/10] END ........C=0.1;, score=(train=0.998, test=0.869) total time=   0.2s\n",
      "[CV 3/10] END ........C=0.1;, score=(train=0.997, test=0.800) total time=   0.2s\n",
      "[CV 4/10] END ........C=0.1;, score=(train=0.998, test=0.826) total time=   0.2s\n",
      "[CV 5/10] END ........C=0.1;, score=(train=0.995, test=0.799) total time=   0.2s\n",
      "[CV 6/10] END ........C=0.1;, score=(train=1.000, test=0.881) total time=   0.2s\n",
      "[CV 7/10] END ........C=0.1;, score=(train=0.997, test=0.807) total time=   0.2s\n",
      "[CV 8/10] END ........C=0.1;, score=(train=1.000, test=0.822) total time=   0.2s\n",
      "[CV 9/10] END ........C=0.1;, score=(train=1.000, test=0.844) total time=   0.2s\n",
      "[CV 10/10] END .......C=0.1;, score=(train=0.995, test=0.842) total time=   0.2s\n",
      "[CV 1/10] END ..........C=1;, score=(train=1.000, test=0.808) total time=   0.2s\n",
      "[CV 2/10] END ..........C=1;, score=(train=0.998, test=0.868) total time=   0.2s\n",
      "[CV 3/10] END ..........C=1;, score=(train=0.997, test=0.801) total time=   0.2s\n",
      "[CV 4/10] END ..........C=1;, score=(train=0.998, test=0.826) total time=   0.2s\n",
      "[CV 5/10] END ..........C=1;, score=(train=0.995, test=0.798) total time=   0.2s\n",
      "[CV 6/10] END ..........C=1;, score=(train=0.998, test=0.881) total time=   0.3s\n",
      "[CV 7/10] END ..........C=1;, score=(train=0.997, test=0.806) total time=   0.2s\n",
      "[CV 8/10] END ..........C=1;, score=(train=1.000, test=0.821) total time=   0.2s\n",
      "[CV 9/10] END ..........C=1;, score=(train=1.000, test=0.844) total time=   0.2s\n",
      "[CV 10/10] END .........C=1;, score=(train=0.995, test=0.842) total time=   0.2s\n",
      "[CV 1/10] END .........C=10;, score=(train=1.000, test=0.830) total time=   0.4s\n",
      "[CV 2/10] END .........C=10;, score=(train=1.000, test=0.867) total time=   0.3s\n",
      "[CV 3/10] END .........C=10;, score=(train=0.999, test=0.787) total time=   0.3s\n",
      "[CV 4/10] END .........C=10;, score=(train=0.998, test=0.811) total time=   0.3s\n",
      "[CV 5/10] END .........C=10;, score=(train=0.998, test=0.793) total time=   0.4s\n",
      "[CV 6/10] END .........C=10;, score=(train=0.999, test=0.875) total time=   0.3s\n",
      "[CV 7/10] END .........C=10;, score=(train=0.998, test=0.822) total time=   0.4s\n",
      "[CV 8/10] END .........C=10;, score=(train=1.000, test=0.819) total time=   0.3s\n",
      "[CV 9/10] END .........C=10;, score=(train=1.000, test=0.837) total time=   0.4s\n",
      "[CV 10/10] END ........C=10;, score=(train=0.998, test=0.861) total time=   0.3s\n",
      "[CV 1/10] END ........C=100;, score=(train=1.000, test=0.830) total time=   0.4s\n",
      "[CV 2/10] END ........C=100;, score=(train=1.000, test=0.867) total time=   0.4s\n",
      "[CV 3/10] END ........C=100;, score=(train=0.999, test=0.787) total time=   0.3s\n",
      "[CV 4/10] END ........C=100;, score=(train=0.998, test=0.811) total time=   0.3s\n",
      "[CV 5/10] END ........C=100;, score=(train=0.998, test=0.793) total time=   0.4s\n",
      "[CV 6/10] END ........C=100;, score=(train=0.999, test=0.875) total time=   0.3s\n",
      "[CV 7/10] END ........C=100;, score=(train=0.998, test=0.822) total time=   0.4s\n",
      "[CV 8/10] END ........C=100;, score=(train=1.000, test=0.819) total time=   0.3s\n",
      "[CV 9/10] END ........C=100;, score=(train=1.000, test=0.837) total time=   0.4s\n",
      "[CV 10/10] END .......C=100;, score=(train=0.998, test=0.861) total time=   0.3s\n",
      "[CV 1/10] END .......C=1000;, score=(train=1.000, test=0.830) total time=   0.4s\n",
      "[CV 2/10] END .......C=1000;, score=(train=1.000, test=0.867) total time=   0.3s\n",
      "[CV 3/10] END .......C=1000;, score=(train=0.999, test=0.787) total time=   0.3s\n",
      "[CV 4/10] END .......C=1000;, score=(train=0.998, test=0.811) total time=   0.3s\n",
      "[CV 5/10] END .......C=1000;, score=(train=0.998, test=0.793) total time=   0.4s\n",
      "[CV 6/10] END .......C=1000;, score=(train=0.999, test=0.875) total time=   0.3s\n",
      "[CV 7/10] END .......C=1000;, score=(train=0.998, test=0.822) total time=   0.4s\n",
      "[CV 8/10] END .......C=1000;, score=(train=1.000, test=0.819) total time=   0.3s\n",
      "[CV 9/10] END .......C=1000;, score=(train=1.000, test=0.837) total time=   0.4s\n",
      "[CV 10/10] END ......C=1000;, score=(train=0.998, test=0.861) total time=   0.3s\n",
      "[CV 1/10] END ......C=10000;, score=(train=1.000, test=0.830) total time=   0.4s\n",
      "[CV 2/10] END ......C=10000;, score=(train=1.000, test=0.867) total time=   0.3s\n",
      "[CV 3/10] END ......C=10000;, score=(train=0.999, test=0.787) total time=   0.3s\n",
      "[CV 4/10] END ......C=10000;, score=(train=0.998, test=0.811) total time=   0.3s\n",
      "[CV 5/10] END ......C=10000;, score=(train=0.998, test=0.793) total time=   0.4s\n",
      "[CV 6/10] END ......C=10000;, score=(train=0.999, test=0.875) total time=   0.3s\n",
      "[CV 7/10] END ......C=10000;, score=(train=0.998, test=0.822) total time=   0.4s\n",
      "[CV 8/10] END ......C=10000;, score=(train=1.000, test=0.819) total time=   0.3s\n",
      "[CV 9/10] END ......C=10000;, score=(train=1.000, test=0.837) total time=   0.3s\n",
      "[CV 10/10] END .....C=10000;, score=(train=0.998, test=0.861) total time=   0.3s\n",
      "----------\n",
      "iter: 1\n",
      "n_candidates: 3\n",
      "n_resources: 6531\n",
      "Fitting 10 folds for each of 3 candidates, totalling 30 fits\n",
      "[CV 1/10] END ........C=100;, score=(train=0.998, test=0.882) total time=   3.6s\n",
      "[CV 2/10] END ........C=100;, score=(train=0.999, test=0.859) total time=   3.6s\n",
      "[CV 3/10] END ........C=100;, score=(train=1.000, test=0.879) total time=   3.7s\n",
      "[CV 4/10] END ........C=100;, score=(train=1.000, test=0.866) total time=   3.7s\n",
      "[CV 5/10] END ........C=100;, score=(train=1.000, test=0.882) total time=   3.5s\n",
      "[CV 6/10] END ........C=100;, score=(train=1.000, test=0.897) total time=   3.5s\n",
      "[CV 7/10] END ........C=100;, score=(train=1.000, test=0.885) total time=   3.6s\n",
      "[CV 8/10] END ........C=100;, score=(train=1.000, test=0.861) total time=   3.6s\n",
      "[CV 9/10] END ........C=100;, score=(train=1.000, test=0.886) total time=   3.5s\n",
      "[CV 10/10] END .......C=100;, score=(train=1.000, test=0.866) total time=   3.5s\n",
      "[CV 1/10] END .......C=1000;, score=(train=0.998, test=0.882) total time=   3.6s\n",
      "[CV 2/10] END .......C=1000;, score=(train=0.999, test=0.859) total time=   3.6s\n",
      "[CV 3/10] END .......C=1000;, score=(train=1.000, test=0.879) total time=   3.6s\n",
      "[CV 4/10] END .......C=1000;, score=(train=1.000, test=0.866) total time=   3.6s\n",
      "[CV 5/10] END .......C=1000;, score=(train=1.000, test=0.882) total time=   3.6s\n",
      "[CV 6/10] END .......C=1000;, score=(train=1.000, test=0.897) total time=   3.5s\n",
      "[CV 7/10] END .......C=1000;, score=(train=1.000, test=0.885) total time=   3.6s\n",
      "[CV 8/10] END .......C=1000;, score=(train=1.000, test=0.861) total time=   3.6s\n",
      "[CV 9/10] END .......C=1000;, score=(train=1.000, test=0.886) total time=   3.5s\n",
      "[CV 10/10] END ......C=1000;, score=(train=1.000, test=0.866) total time=   3.4s\n",
      "[CV 1/10] END ......C=10000;, score=(train=0.998, test=0.882) total time=   3.6s\n",
      "[CV 2/10] END ......C=10000;, score=(train=0.999, test=0.859) total time=   3.6s\n",
      "[CV 3/10] END ......C=10000;, score=(train=1.000, test=0.879) total time=   3.6s\n",
      "[CV 4/10] END ......C=10000;, score=(train=1.000, test=0.866) total time=   3.6s\n",
      "[CV 5/10] END ......C=10000;, score=(train=1.000, test=0.882) total time=   3.5s\n",
      "[CV 6/10] END ......C=10000;, score=(train=1.000, test=0.897) total time=   3.5s\n",
      "[CV 7/10] END ......C=10000;, score=(train=1.000, test=0.885) total time=   3.6s\n",
      "[CV 8/10] END ......C=10000;, score=(train=1.000, test=0.861) total time=   3.6s\n",
      "[CV 9/10] END ......C=10000;, score=(train=1.000, test=0.886) total time=   3.6s\n",
      "[CV 10/10] END .....C=10000;, score=(train=1.000, test=0.866) total time=   3.5s\n",
      "----------\n",
      "iter: 2\n",
      "n_candidates: 1\n",
      "n_resources: 19593\n",
      "Fitting 10 folds for each of 1 candidates, totalling 10 fits\n",
      "[CV 1/10] END ......C=10000;, score=(train=1.000, test=0.905) total time= 1.4min\n",
      "[CV 2/10] END ......C=10000;, score=(train=1.000, test=0.897) total time= 1.3min\n",
      "[CV 3/10] END ......C=10000;, score=(train=1.000, test=0.896) total time= 1.3min\n",
      "[CV 4/10] END ......C=10000;, score=(train=1.000, test=0.904) total time= 1.4min\n",
      "[CV 5/10] END ......C=10000;, score=(train=1.000, test=0.899) total time= 1.3min\n",
      "[CV 6/10] END ......C=10000;, score=(train=1.000, test=0.917) total time= 1.4min\n",
      "[CV 7/10] END ......C=10000;, score=(train=1.000, test=0.912) total time= 1.4min\n",
      "[CV 8/10] END ......C=10000;, score=(train=1.000, test=0.893) total time= 1.4min\n",
      "[CV 9/10] END ......C=10000;, score=(train=1.000, test=0.894) total time= 1.3min\n",
      "[CV 10/10] END .....C=10000;, score=(train=1.000, test=0.913) total time= 1.4min\n",
      "Best Hyperparameters -->  {'C': 10000}\n",
      "Best Accuracy -->  0.9029574827801685\n"
     ]
    }
   ],
   "source": [
    "model = SVC()\n",
    "\n",
    "rbf_tfidf_model = HalvingGridSearchCV(model, parameter_grid, scoring='roc_auc', cv=10, verbose=3)\n",
    "\n",
    "rbf_tfidf_model.fit(X_train_tfidf, y_train)\n",
    "print('Best Hyperparameters --> ', rbf_tfidf_model.best_params_)\n",
    "print('Best Accuracy --> ', rbf_tfidf_model.best_score_)"
   ]
  },
  {
   "cell_type": "markdown",
   "metadata": {},
   "source": [
    "### 6.2 Model Building (RBF-TFIDF)"
   ]
  },
  {
   "cell_type": "code",
   "execution_count": 74,
   "metadata": {},
   "outputs": [],
   "source": [
    "model_rbf_tfidf = SVC(C=rbf_tfidf_model.best_estimator_.C, probability=True)\n",
    "\n",
    "model_rbf_tfidf.fit(X_train_tfidf, y_train)\n",
    "\n",
    "# predicted values for train & test data\n",
    "y_pred_tfidf = model_rbf_tfidf.decision_function(X_train_tfidf)\n",
    "y_pred_tfidf_test = model_rbf_tfidf.decision_function(X_test_tfidf)"
   ]
  },
  {
   "cell_type": "markdown",
   "metadata": {},
   "source": [
    "### 6.3 Model Evaluation (RBF-TFIDF)\n"
   ]
  },
  {
   "cell_type": "code",
   "execution_count": 75,
   "metadata": {},
   "outputs": [
    {
     "name": "stdout",
     "output_type": "stream",
     "text": [
      "Accuracy of RBF-TFIDF model :  0.8909166666666667\n"
     ]
    }
   ],
   "source": [
    "print('Accuracy of RBF-TFIDF model : ',model_rbf_tfidf.score(X_test_tfidf, y_test))"
   ]
  },
  {
   "cell_type": "code",
   "execution_count": 76,
   "metadata": {},
   "outputs": [
    {
     "data": {
      "image/png": "[encoded data removed]",
      "text/plain": [
       "<Figure size 432x288 with 1 Axes>"
      ]
     },
     "metadata": {
      "needs_background": "light"
     },
     "output_type": "display_data"
    }
   ],
   "source": [
    "# plotting ROC curve for train & test data\n",
    "\n",
    "false_positive_rate1, true_positive_rate1, threshold1 = roc_curve(\n",
    "    y_train, y_pred_tfidf)\n",
    "false_positive_rate2, true_positive_rate2, threshold2 = roc_curve(\n",
    "    y_test, y_pred_tfidf_test)\n",
    "\n",
    "fig = plt.figure()\n",
    "ax = plt.subplot(111)\n",
    "\n",
    "# train ROC\n",
    "ax.plot(false_positive_rate1, true_positive_rate1,\n",
    "        label='Train ROC ,auc ={}'.format(str(roc_auc_score(y_train, y_pred_tfidf))))\n",
    "\n",
    "# test ROC\n",
    "ax.plot(false_positive_rate2, true_positive_rate2, label='Test ROC ,auc ={}'.format(\n",
    "    str(roc_auc_score(y_test, y_pred_tfidf_test))))\n",
    "\n",
    "plt.title('ROC')\n",
    "plt.grid()\n",
    "plt.xlabel('False Positive Rate')\n",
    "plt.ylabel('True Positive Rate')\n",
    "ax.legend()\n",
    "plt.show()"
   ]
  },
  {
   "cell_type": "code",
   "execution_count": 77,
   "metadata": {},
   "outputs": [
    {
     "data": {
      "image/png": "[encoded data removed]",
      "text/plain": [
       "<Figure size 432x288 with 2 Axes>"
      ]
     },
     "metadata": {
      "needs_background": "light"
     },
     "output_type": "display_data"
    }
   ],
   "source": [
    "# confusion Matrix for test data\n",
    "y_pred_tfidf_test = model_rbf_tfidf.predict(X_test_tfidf)\n",
    "\n",
    "confusion = confusion_matrix(y_test, y_pred_tfidf_test)\n",
    "class_labels = [\"negative\", \"positive\"]\n",
    "\n",
    "cf_data = pd.DataFrame(confusion, index=class_labels, columns=class_labels)\n",
    "sns.heatmap(cf_data, annot=True, fmt='.5g')\n",
    "\n",
    "plt.title(\"Confusion Matrix for test data\")\n",
    "plt.xlabel(\"Predicted Label\")\n",
    "plt.ylabel(\"True Label\")\n",
    "plt.show()"
   ]
  },
  {
   "cell_type": "markdown",
   "metadata": {},
   "source": [
    "## 7. RBF-SVM - AVG-W2V\n"
   ]
  },
  {
   "cell_type": "code",
   "execution_count": 78,
   "metadata": {},
   "outputs": [
    {
     "name": "stderr",
     "output_type": "stream",
     "text": [
      "100%|██████████| 19600/19600 [00:12<00:00, 1535.83it/s]"
     ]
    },
    {
     "name": "stdout",
     "output_type": "stream",
     "text": [
      "19600\n",
      "50\n"
     ]
    },
    {
     "name": "stderr",
     "output_type": "stream",
     "text": [
      "\n"
     ]
    }
   ],
   "source": [
    "#word2vec for train data\n",
    "\n",
    "sent_list_train = []\n",
    "sent_vectors_train = []\n",
    "\n",
    "for sentence in X_train:\n",
    "    sent_list_train.append(sentence.split())\n",
    "\n",
    "w2v_model = Word2Vec(sent_list_train, min_count=5, vector_size=50, workers=4)\n",
    "w2v_words = list(w2v_model.wv.index_to_key)\n",
    "\n",
    "\n",
    "for sent in tqdm(sent_list_train):\n",
    "    sent_vectors = np.zeros(50)\n",
    "    count_words = 0\n",
    "\n",
    "    for word in sent:\n",
    "        if word in w2v_words:\n",
    "            vectors = w2v_model.wv[word]\n",
    "            sent_vectors += vectors\n",
    "            count_words += 1\n",
    "\n",
    "    if count_words != 0:\n",
    "        sent_vectors /= count_words\n",
    "\n",
    "    sent_vectors_train.append(sent_vectors)\n",
    "\n",
    "print(len(sent_vectors_train))\n",
    "print(len(sent_vectors_train[0]))"
   ]
  },
  {
   "cell_type": "code",
   "execution_count": 79,
   "metadata": {},
   "outputs": [
    {
     "name": "stderr",
     "output_type": "stream",
     "text": [
      "100%|██████████| 8400/8400 [00:05<00:00, 1533.02it/s]"
     ]
    },
    {
     "name": "stdout",
     "output_type": "stream",
     "text": [
      "8400\n",
      "50\n"
     ]
    },
    {
     "name": "stderr",
     "output_type": "stream",
     "text": [
      "\n"
     ]
    }
   ],
   "source": [
    "#word2vec for validation data (using same w2v model and words)\n",
    "\n",
    "sent_list_val = []\n",
    "sent_vectors_val = []\n",
    "\n",
    "for sentence in X_val:\n",
    "    sent_list_val.append(sentence.split())\n",
    "\n",
    "for sent in tqdm(sent_list_val):\n",
    "    sent_vectors = np.zeros(50)\n",
    "    count_words = 0\n",
    "\n",
    "    for word in sent:\n",
    "        if word in w2v_words:\n",
    "            vectors = w2v_model.wv[word]\n",
    "            sent_vectors += vectors\n",
    "            count_words += 1\n",
    "\n",
    "    if count_words != 0:\n",
    "        sent_vectors /= count_words\n",
    "\n",
    "    sent_vectors_val.append(sent_vectors)\n",
    "\n",
    "print(len(sent_vectors_val))\n",
    "print(len(sent_vectors_val[0]))"
   ]
  },
  {
   "cell_type": "code",
   "execution_count": 80,
   "metadata": {},
   "outputs": [
    {
     "name": "stderr",
     "output_type": "stream",
     "text": [
      "100%|██████████| 12000/12000 [00:08<00:00, 1492.89it/s]"
     ]
    },
    {
     "name": "stdout",
     "output_type": "stream",
     "text": [
      "12000\n",
      "50\n"
     ]
    },
    {
     "name": "stderr",
     "output_type": "stream",
     "text": [
      "\n"
     ]
    }
   ],
   "source": [
    "#word2vec for test data\n",
    "\n",
    "sent_list_test = []\n",
    "sent_vectors_test = []\n",
    "\n",
    "for sentence in X_test:\n",
    "    sent_list_test.append(sentence.split())\n",
    "\n",
    "for sent in tqdm(sent_list_test):\n",
    "    sent_vectors = np.zeros(50)\n",
    "    count_words = 0\n",
    "\n",
    "    for word in sent:\n",
    "        if word in w2v_words:\n",
    "            vectors = w2v_model.wv[word]\n",
    "            sent_vectors += vectors\n",
    "            count_words += 1\n",
    "\n",
    "    if count_words != 0:\n",
    "        sent_vectors /= count_words\n",
    "\n",
    "    sent_vectors_test.append(sent_vectors)\n",
    "\n",
    "print(len(sent_vectors_test))\n",
    "print(len(sent_vectors_test[0]))"
   ]
  },
  {
   "cell_type": "code",
   "execution_count": 81,
   "metadata": {},
   "outputs": [],
   "source": [
    "X_train_avg_w2v = sent_vectors_train\n",
    "X_val_avg_w2v = sent_vectors_val\n",
    "X_test_avg_w2v = sent_vectors_test"
   ]
  },
  {
   "cell_type": "markdown",
   "metadata": {},
   "source": [
    "### 7.1 Hyperparameter Tuning\n"
   ]
  },
  {
   "cell_type": "code",
   "execution_count": 82,
   "metadata": {},
   "outputs": [],
   "source": [
    "C = [10**-4, 10**-3, 10**-2, 10**-1, 10**0, 10**1, 10**2, 10**3, 10**4]\n",
    "parameter_grid = {'C': C}"
   ]
  },
  {
   "cell_type": "code",
   "execution_count": 83,
   "metadata": {},
   "outputs": [
    {
     "name": "stdout",
     "output_type": "stream",
     "text": [
      "n_iterations: 3\n",
      "n_required_iterations: 3\n",
      "n_possible_iterations: 3\n",
      "min_resources_: 2177\n",
      "max_resources_: 19600\n",
      "aggressive_elimination: False\n",
      "factor: 3\n",
      "----------\n",
      "iter: 0\n",
      "n_candidates: 9\n",
      "n_resources: 2177\n",
      "Fitting 10 folds for each of 9 candidates, totalling 90 fits\n",
      "[CV 1/10] END .....C=0.0001;, score=(train=0.780, test=0.734) total time=   0.0s\n",
      "[CV 2/10] END .....C=0.0001;, score=(train=0.774, test=0.754) total time=   0.0s\n",
      "[CV 3/10] END .....C=0.0001;, score=(train=0.747, test=0.663) total time=   0.0s\n",
      "[CV 4/10] END .....C=0.0001;, score=(train=0.760, test=0.710) total time=   0.0s\n",
      "[CV 5/10] END .....C=0.0001;, score=(train=0.768, test=0.784) total time=   0.0s\n",
      "[CV 6/10] END .....C=0.0001;, score=(train=0.749, test=0.737) total time=   0.0s\n",
      "[CV 7/10] END .....C=0.0001;, score=(train=0.793, test=0.815) total time=   0.0s\n",
      "[CV 8/10] END .....C=0.0001;, score=(train=0.754, test=0.660) total time=   0.0s\n",
      "[CV 9/10] END .....C=0.0001;, score=(train=0.750, test=0.763) total time=   0.0s\n",
      "[CV 10/10] END ....C=0.0001;, score=(train=0.775, test=0.760) total time=   0.0s\n",
      "[CV 1/10] END ......C=0.001;, score=(train=0.892, test=0.841) total time=   0.0s\n",
      "[CV 2/10] END ......C=0.001;, score=(train=0.896, test=0.853) total time=   0.0s\n",
      "[CV 3/10] END ......C=0.001;, score=(train=0.877, test=0.798) total time=   0.0s\n",
      "[CV 4/10] END ......C=0.001;, score=(train=0.887, test=0.815) total time=   0.0s\n",
      "[CV 5/10] END ......C=0.001;, score=(train=0.890, test=0.883) total time=   0.0s\n",
      "[CV 6/10] END ......C=0.001;, score=(train=0.883, test=0.842) total time=   0.0s\n",
      "[CV 7/10] END ......C=0.001;, score=(train=0.899, test=0.903) total time=   0.0s\n",
      "[CV 8/10] END ......C=0.001;, score=(train=0.912, test=0.843) total time=   0.0s\n",
      "[CV 9/10] END ......C=0.001;, score=(train=0.889, test=0.883) total time=   0.0s\n",
      "[CV 10/10] END .....C=0.001;, score=(train=0.893, test=0.863) total time=   0.0s\n",
      "[CV 1/10] END .......C=0.01;, score=(train=0.900, test=0.835) total time=   0.0s\n",
      "[CV 2/10] END .......C=0.01;, score=(train=0.909, test=0.854) total time=   0.0s\n",
      "[CV 3/10] END .......C=0.01;, score=(train=0.906, test=0.817) total time=   0.0s\n",
      "[CV 4/10] END .......C=0.01;, score=(train=0.910, test=0.833) total time=   0.0s\n",
      "[CV 5/10] END .......C=0.01;, score=(train=0.902, test=0.887) total time=   0.0s\n",
      "[CV 6/10] END .......C=0.01;, score=(train=0.901, test=0.837) total time=   0.0s\n",
      "[CV 7/10] END .......C=0.01;, score=(train=0.908, test=0.897) total time=   0.0s\n",
      "[CV 8/10] END .......C=0.01;, score=(train=0.927, test=0.867) total time=   0.0s\n",
      "[CV 9/10] END .......C=0.01;, score=(train=0.918, test=0.882) total time=   0.0s\n",
      "[CV 10/10] END ......C=0.01;, score=(train=0.912, test=0.875) total time=   0.0s\n",
      "[CV 1/10] END ........C=0.1;, score=(train=0.900, test=0.836) total time=   0.0s\n",
      "[CV 2/10] END ........C=0.1;, score=(train=0.909, test=0.855) total time=   0.0s\n",
      "[CV 3/10] END ........C=0.1;, score=(train=0.907, test=0.818) total time=   0.0s\n",
      "[CV 4/10] END ........C=0.1;, score=(train=0.910, test=0.837) total time=   0.0s\n",
      "[CV 5/10] END ........C=0.1;, score=(train=0.903, test=0.890) total time=   0.0s\n",
      "[CV 6/10] END ........C=0.1;, score=(train=0.901, test=0.836) total time=   0.0s\n",
      "[CV 7/10] END ........C=0.1;, score=(train=0.908, test=0.896) total time=   0.0s\n",
      "[CV 8/10] END ........C=0.1;, score=(train=0.928, test=0.867) total time=   0.0s\n",
      "[CV 9/10] END ........C=0.1;, score=(train=0.918, test=0.881) total time=   0.0s\n",
      "[CV 10/10] END .......C=0.1;, score=(train=0.912, test=0.877) total time=   0.0s\n",
      "[CV 1/10] END ..........C=1;, score=(train=0.904, test=0.838) total time=   0.0s\n",
      "[CV 2/10] END ..........C=1;, score=(train=0.912, test=0.857) total time=   0.0s\n",
      "[CV 3/10] END ..........C=1;, score=(train=0.907, test=0.817) total time=   0.0s\n",
      "[CV 4/10] END ..........C=1;, score=(train=0.910, test=0.837) total time=   0.0s\n",
      "[CV 5/10] END ..........C=1;, score=(train=0.905, test=0.890) total time=   0.0s\n",
      "[CV 6/10] END ..........C=1;, score=(train=0.901, test=0.836) total time=   0.0s\n",
      "[CV 7/10] END ..........C=1;, score=(train=0.911, test=0.896) total time=   0.0s\n",
      "[CV 8/10] END ..........C=1;, score=(train=0.928, test=0.867) total time=   0.0s\n",
      "[CV 9/10] END ..........C=1;, score=(train=0.918, test=0.883) total time=   0.0s\n",
      "[CV 10/10] END .........C=1;, score=(train=0.914, test=0.877) total time=   0.0s\n",
      "[CV 1/10] END .........C=10;, score=(train=0.948, test=0.829) total time=   0.0s\n",
      "[CV 2/10] END .........C=10;, score=(train=0.952, test=0.851) total time=   0.0s\n",
      "[CV 3/10] END .........C=10;, score=(train=0.937, test=0.780) total time=   0.0s\n",
      "[CV 4/10] END .........C=10;, score=(train=0.952, test=0.822) total time=   0.0s\n",
      "[CV 5/10] END .........C=10;, score=(train=0.949, test=0.867) total time=   0.0s\n",
      "[CV 6/10] END .........C=10;, score=(train=0.942, test=0.832) total time=   0.0s\n",
      "[CV 7/10] END .........C=10;, score=(train=0.953, test=0.887) total time=   0.0s\n",
      "[CV 8/10] END .........C=10;, score=(train=0.955, test=0.860) total time=   0.0s\n",
      "[CV 9/10] END .........C=10;, score=(train=0.951, test=0.874) total time=   0.0s\n",
      "[CV 10/10] END ........C=10;, score=(train=0.956, test=0.855) total time=   0.0s\n",
      "[CV 1/10] END ........C=100;, score=(train=0.992, test=0.812) total time=   0.0s\n",
      "[CV 2/10] END ........C=100;, score=(train=0.990, test=0.776) total time=   0.0s\n",
      "[CV 3/10] END ........C=100;, score=(train=0.991, test=0.743) total time=   0.0s\n",
      "[CV 4/10] END ........C=100;, score=(train=0.994, test=0.769) total time=   0.0s\n",
      "[CV 5/10] END ........C=100;, score=(train=0.988, test=0.805) total time=   0.0s\n",
      "[CV 6/10] END ........C=100;, score=(train=0.994, test=0.820) total time=   0.0s\n",
      "[CV 7/10] END ........C=100;, score=(train=0.990, test=0.844) total time=   0.0s\n",
      "[CV 8/10] END ........C=100;, score=(train=0.991, test=0.861) total time=   0.0s\n",
      "[CV 9/10] END ........C=100;, score=(train=0.994, test=0.826) total time=   0.0s\n",
      "[CV 10/10] END .......C=100;, score=(train=0.990, test=0.808) total time=   0.0s\n",
      "[CV 1/10] END .......C=1000;, score=(train=1.000, test=0.789) total time=   0.1s\n",
      "[CV 2/10] END .......C=1000;, score=(train=1.000, test=0.731) total time=   0.1s\n",
      "[CV 3/10] END .......C=1000;, score=(train=0.999, test=0.725) total time=   0.1s\n",
      "[CV 4/10] END .......C=1000;, score=(train=1.000, test=0.754) total time=   0.1s\n",
      "[CV 5/10] END .......C=1000;, score=(train=1.000, test=0.771) total time=   0.1s\n",
      "[CV 6/10] END .......C=1000;, score=(train=1.000, test=0.771) total time=   0.1s\n",
      "[CV 7/10] END .......C=1000;, score=(train=1.000, test=0.819) total time=   0.1s\n",
      "[CV 8/10] END .......C=1000;, score=(train=1.000, test=0.848) total time=   0.1s\n",
      "[CV 9/10] END .......C=1000;, score=(train=1.000, test=0.790) total time=   0.1s\n",
      "[CV 10/10] END ......C=1000;, score=(train=0.999, test=0.793) total time=   0.1s\n",
      "[CV 1/10] END ......C=10000;, score=(train=1.000, test=0.789) total time=   0.1s\n",
      "[CV 2/10] END ......C=10000;, score=(train=1.000, test=0.730) total time=   0.1s\n",
      "[CV 3/10] END ......C=10000;, score=(train=1.000, test=0.727) total time=   0.1s\n",
      "[CV 4/10] END ......C=10000;, score=(train=1.000, test=0.752) total time=   0.1s\n",
      "[CV 5/10] END ......C=10000;, score=(train=1.000, test=0.782) total time=   0.1s\n",
      "[CV 6/10] END ......C=10000;, score=(train=1.000, test=0.767) total time=   0.1s\n",
      "[CV 7/10] END ......C=10000;, score=(train=1.000, test=0.820) total time=   0.1s\n",
      "[CV 8/10] END ......C=10000;, score=(train=1.000, test=0.843) total time=   0.1s\n",
      "[CV 9/10] END ......C=10000;, score=(train=1.000, test=0.791) total time=   0.1s\n",
      "[CV 10/10] END .....C=10000;, score=(train=0.999, test=0.784) total time=   0.1s\n",
      "----------\n",
      "iter: 1\n",
      "n_candidates: 3\n",
      "n_resources: 6531\n",
      "Fitting 10 folds for each of 3 candidates, totalling 30 fits\n",
      "[CV 1/10] END .......C=0.01;, score=(train=0.891, test=0.864) total time=   0.6s\n",
      "[CV 2/10] END .......C=0.01;, score=(train=0.892, test=0.894) total time=   0.5s\n",
      "[CV 3/10] END .......C=0.01;, score=(train=0.890, test=0.879) total time=   0.6s\n",
      "[CV 4/10] END .......C=0.01;, score=(train=0.892, test=0.875) total time=   0.5s\n",
      "[CV 5/10] END .......C=0.01;, score=(train=0.889, test=0.880) total time=   0.5s\n",
      "[CV 6/10] END .......C=0.01;, score=(train=0.887, test=0.910) total time=   0.6s\n",
      "[CV 7/10] END .......C=0.01;, score=(train=0.893, test=0.875) total time=   0.5s\n",
      "[CV 8/10] END .......C=0.01;, score=(train=0.891, test=0.905) total time=   0.5s\n",
      "[CV 9/10] END .......C=0.01;, score=(train=0.893, test=0.878) total time=   0.6s\n",
      "[CV 10/10] END ......C=0.01;, score=(train=0.892, test=0.888) total time=   0.5s\n",
      "[CV 1/10] END ........C=0.1;, score=(train=0.891, test=0.865) total time=   0.5s\n",
      "[CV 2/10] END ........C=0.1;, score=(train=0.893, test=0.893) total time=   0.5s\n",
      "[CV 3/10] END ........C=0.1;, score=(train=0.890, test=0.879) total time=   0.5s\n",
      "[CV 4/10] END ........C=0.1;, score=(train=0.892, test=0.875) total time=   0.5s\n",
      "[CV 5/10] END ........C=0.1;, score=(train=0.889, test=0.880) total time=   0.5s\n",
      "[CV 6/10] END ........C=0.1;, score=(train=0.887, test=0.910) total time=   0.5s\n",
      "[CV 7/10] END ........C=0.1;, score=(train=0.893, test=0.875) total time=   0.5s\n",
      "[CV 8/10] END ........C=0.1;, score=(train=0.891, test=0.906) total time=   0.5s\n",
      "[CV 9/10] END ........C=0.1;, score=(train=0.893, test=0.878) total time=   0.5s\n",
      "[CV 10/10] END .......C=0.1;, score=(train=0.892, test=0.888) total time=   0.5s\n",
      "[CV 1/10] END ..........C=1;, score=(train=0.901, test=0.869) total time=   0.5s\n",
      "[CV 2/10] END ..........C=1;, score=(train=0.899, test=0.896) total time=   0.5s\n",
      "[CV 3/10] END ..........C=1;, score=(train=0.900, test=0.881) total time=   0.5s\n",
      "[CV 4/10] END ..........C=1;, score=(train=0.903, test=0.876) total time=   0.5s\n",
      "[CV 5/10] END ..........C=1;, score=(train=0.896, test=0.882) total time=   0.5s\n",
      "[CV 6/10] END ..........C=1;, score=(train=0.895, test=0.913) total time=   0.5s\n",
      "[CV 7/10] END ..........C=1;, score=(train=0.902, test=0.875) total time=   0.5s\n",
      "[CV 8/10] END ..........C=1;, score=(train=0.897, test=0.908) total time=   0.5s\n",
      "[CV 9/10] END ..........C=1;, score=(train=0.901, test=0.878) total time=   0.5s\n",
      "[CV 10/10] END .........C=1;, score=(train=0.898, test=0.889) total time=   0.5s\n",
      "----------\n",
      "iter: 2\n",
      "n_candidates: 1\n",
      "n_resources: 19593\n",
      "Fitting 10 folds for each of 1 candidates, totalling 10 fits\n",
      "[CV 1/10] END ..........C=1;, score=(train=0.900, test=0.870) total time=   5.4s\n",
      "[CV 2/10] END ..........C=1;, score=(train=0.899, test=0.877) total time=   5.5s\n",
      "[CV 3/10] END ..........C=1;, score=(train=0.899, test=0.887) total time=   5.5s\n",
      "[CV 4/10] END ..........C=1;, score=(train=0.898, test=0.890) total time=   5.5s\n",
      "[CV 5/10] END ..........C=1;, score=(train=0.899, test=0.874) total time=   5.6s\n",
      "[CV 6/10] END ..........C=1;, score=(train=0.896, test=0.901) total time=   5.5s\n",
      "[CV 7/10] END ..........C=1;, score=(train=0.898, test=0.885) total time=   5.5s\n",
      "[CV 8/10] END ..........C=1;, score=(train=0.899, test=0.880) total time=   5.5s\n",
      "[CV 9/10] END ..........C=1;, score=(train=0.899, test=0.882) total time=   5.5s\n",
      "[CV 10/10] END .........C=1;, score=(train=0.898, test=0.888) total time=   5.6s\n",
      "Best Hyperparameters -->  {'C': 1}\n",
      "Best Accuracy -->  0.8834182825839145\n"
     ]
    }
   ],
   "source": [
    "model = SVC()\n",
    "\n",
    "rbf_avg_w2v_model = HalvingGridSearchCV(model, parameter_grid, scoring='roc_auc', cv=10, verbose=3)\n",
    "\n",
    "rbf_avg_w2v_model.fit(X_train_avg_w2v, y_train)\n",
    "print('Best Hyperparameters --> ', rbf_avg_w2v_model.best_params_)\n",
    "print('Best Accuracy --> ', rbf_avg_w2v_model.best_score_)"
   ]
  },
  {
   "cell_type": "markdown",
   "metadata": {},
   "source": [
    "### 7.2 Model Building (RBF-AVG-W2V)"
   ]
  },
  {
   "cell_type": "code",
   "execution_count": 84,
   "metadata": {},
   "outputs": [],
   "source": [
    "model_rbf_avg_w2v = SVC(C=rbf_avg_w2v_model.best_estimator_.C, probability=True)\n",
    "\n",
    "model_rbf_avg_w2v.fit(X_train_avg_w2v, y_train)\n",
    "\n",
    "# predicted values for train & test data\n",
    "y_pred_avg_w2v = model_rbf_avg_w2v.decision_function(X_train_avg_w2v)\n",
    "y_pred_avg_w2v_test = model_rbf_avg_w2v.decision_function(X_test_avg_w2v)"
   ]
  },
  {
   "cell_type": "markdown",
   "metadata": {},
   "source": [
    "### 7.3 Model Evaluation (RBF-AVG-W2V)\n"
   ]
  },
  {
   "cell_type": "code",
   "execution_count": 85,
   "metadata": {},
   "outputs": [
    {
     "name": "stdout",
     "output_type": "stream",
     "text": [
      "Accuracy of RBF-AVG-W2V model :  0.8724166666666666\n"
     ]
    }
   ],
   "source": [
    "print('Accuracy of RBF-AVG-W2V model : ',model_rbf_avg_w2v.score(X_test_avg_w2v, y_test))"
   ]
  },
  {
   "cell_type": "code",
   "execution_count": 86,
   "metadata": {},
   "outputs": [
    {
     "data": {
      "image/png": "[encoded data removed]",
      "text/plain": [
       "<Figure size 432x288 with 1 Axes>"
      ]
     },
     "metadata": {
      "needs_background": "light"
     },
     "output_type": "display_data"
    }
   ],
   "source": [
    "# plotting ROC curve for train & test data\n",
    "\n",
    "false_positive_rate1, true_positive_rate1, threshold1 = roc_curve(\n",
    "    y_train, y_pred_avg_w2v)\n",
    "false_positive_rate2, true_positive_rate2, threshold2 = roc_curve(\n",
    "    y_test, y_pred_avg_w2v_test)\n",
    "\n",
    "fig = plt.figure()\n",
    "ax = plt.subplot(111)\n",
    "\n",
    "# train ROC\n",
    "ax.plot(false_positive_rate1, true_positive_rate1, label='Train ROC ,auc ={}'.format(\n",
    "    str(roc_auc_score(y_train, y_pred_avg_w2v))))\n",
    "\n",
    "# test ROC\n",
    "ax.plot(false_positive_rate2, true_positive_rate2, label='Test ROC ,auc ={}'.format(\n",
    "    str(roc_auc_score(y_test, y_pred_avg_w2v_test))))\n",
    "\n",
    "plt.title('ROC')\n",
    "plt.grid()\n",
    "plt.xlabel('False Positive Rate')\n",
    "plt.ylabel('True Positive Rate')\n",
    "ax.legend()\n",
    "plt.show()"
   ]
  },
  {
   "cell_type": "code",
   "execution_count": 87,
   "metadata": {},
   "outputs": [
    {
     "data": {
      "image/png": "[encoded data removed]",
      "text/plain": [
       "<Figure size 432x288 with 2 Axes>"
      ]
     },
     "metadata": {
      "needs_background": "light"
     },
     "output_type": "display_data"
    }
   ],
   "source": [
    "# confusion Matrix for test data\n",
    "y_pred_avg_w2v_test = model_rbf_avg_w2v.predict(X_test_avg_w2v)\n",
    "\n",
    "confusion = confusion_matrix(y_test, y_pred_avg_w2v_test)\n",
    "class_labels = [\"negative\", \"positive\"]\n",
    "\n",
    "cf_data = pd.DataFrame(confusion, index=class_labels, columns=class_labels)\n",
    "sns.heatmap(cf_data, annot=True, fmt='.5g')\n",
    "\n",
    "plt.title(\"Confusion Matrix for test data\")\n",
    "plt.xlabel(\"Predicted Label\")\n",
    "plt.ylabel(\"True Label\")\n",
    "plt.show()"
   ]
  },
  {
   "cell_type": "markdown",
   "metadata": {},
   "source": [
    "## 8. RBF-SVM - TFIDF-W2V\n"
   ]
  },
  {
   "cell_type": "code",
   "execution_count": 88,
   "metadata": {},
   "outputs": [
    {
     "name": "stderr",
     "output_type": "stream",
     "text": [
      "100%|██████████| 19600/19600 [00:15<00:00, 1252.47it/s]\n"
     ]
    }
   ],
   "source": [
    "sent_list_train = []\n",
    "\n",
    "for sentence in X_train:\n",
    "    sent_list_train.append(sentence.split())\n",
    "\n",
    "w2v_model = Word2Vec(sent_list_train, min_count=5, vector_size=50, workers=4)\n",
    "w2v_words = list(w2v_model.wv.index_to_key)\n",
    "\n",
    "\n",
    "tfidf_vectors = TfidfVectorizer(ngram_range=(1, 2), min_df=10, max_features=500)\n",
    "tfidf_matrix = tfidf_vectors.fit_transform(X_train)\n",
    "\n",
    "tfidf_features = tfidf_vectors.get_feature_names()\n",
    "tfidf_dictionary = dict(zip(tfidf_vectors.get_feature_names(), list(tfidf_vectors.idf_)))\n",
    "\n",
    "\n",
    "#word2vec for train data\n",
    "\n",
    "tfidf_sent_vectors_train = []\n",
    "row = 0\n",
    "\n",
    "for sent in tqdm(sent_list_train):\n",
    "    sent_vectors = np.zeros(50)\n",
    "    weight_sum = 0\n",
    "\n",
    "    for word in sent:\n",
    "        if word in w2v_words and word in tfidf_features:\n",
    "            vectors = w2v_model.wv[word]\n",
    "            tfidf = tfidf_dictionary[word]*(sent.count(word) / len(sent))\n",
    "            sent_vectors += (vectors * tfidf)\n",
    "            weight_sum += tfidf\n",
    "\n",
    "    if weight_sum != 0:\n",
    "        sent_vectors /= weight_sum\n",
    "\n",
    "    tfidf_sent_vectors_train.append(sent_vectors)\n",
    "    row += 1"
   ]
  },
  {
   "cell_type": "code",
   "execution_count": 89,
   "metadata": {},
   "outputs": [
    {
     "name": "stderr",
     "output_type": "stream",
     "text": [
      "100%|██████████| 8400/8400 [00:06<00:00, 1235.51it/s]\n"
     ]
    }
   ],
   "source": [
    "#word2vec for validation data (using same w2v model and words)\n",
    "\n",
    "sent_list_val = []\n",
    "\n",
    "for sentence in X_val:\n",
    "    sent_list_val.append(sentence.split())\n",
    "\n",
    "tfidf_sent_vectors_val = []\n",
    "row = 0\n",
    "\n",
    "for sent in tqdm(sent_list_val):\n",
    "    sent_vectors = np.zeros(50)\n",
    "    weight_sum = 0 \n",
    "    \n",
    "    for word in sent:\n",
    "        if word in w2v_words and word in tfidf_features:\n",
    "            vectors = w2v_model.wv[word]\n",
    "            tfidf = tfidf_dictionary[word]*(sent.count(word) / len(sent))\n",
    "            sent_vectors += (vectors * tfidf) \n",
    "            weight_sum += tfidf\n",
    "            \n",
    "    if weight_sum != 0:\n",
    "        sent_vectors /= weight_sum \n",
    "        \n",
    "    tfidf_sent_vectors_val.append(sent_vectors)\n",
    "    row +=1"
   ]
  },
  {
   "cell_type": "code",
   "execution_count": 90,
   "metadata": {},
   "outputs": [
    {
     "name": "stderr",
     "output_type": "stream",
     "text": [
      "100%|██████████| 12000/12000 [00:09<00:00, 1216.77it/s]\n"
     ]
    }
   ],
   "source": [
    "#word2vec for test data\n",
    "\n",
    "sent_list_test = []\n",
    "\n",
    "for sentence in X_test:\n",
    "    sent_list_test.append(sentence.split())\n",
    "\n",
    "tfidf_sent_vectors_test = []\n",
    "row=0\n",
    "    \n",
    "for sent in tqdm(sent_list_test):\n",
    "    sent_vectors = np.zeros(50)\n",
    "    weight_sum = 0 \n",
    "    \n",
    "    for word in sent:\n",
    "        if word in w2v_words and word in tfidf_features:\n",
    "            vectors = w2v_model.wv[word]\n",
    "            tfidf = tfidf_dictionary[word]*(sent.count(word) / len(sent))\n",
    "            sent_vectors += (vectors * tfidf) \n",
    "            weight_sum += tfidf\n",
    "            \n",
    "    if weight_sum != 0:\n",
    "        sent_vectors /= weight_sum \n",
    "        \n",
    "    tfidf_sent_vectors_test.append(sent_vectors)\n",
    "    row +=1"
   ]
  },
  {
   "cell_type": "code",
   "execution_count": 91,
   "metadata": {},
   "outputs": [],
   "source": [
    "X_train_tfidf_w2v = tfidf_sent_vectors_train\n",
    "X_val_tfidf_w2v = tfidf_sent_vectors_val\n",
    "X_test_tfidf_w2v = tfidf_sent_vectors_test"
   ]
  },
  {
   "cell_type": "markdown",
   "metadata": {},
   "source": [
    "### 8.1 Hyperparameter Tuning"
   ]
  },
  {
   "cell_type": "code",
   "execution_count": 92,
   "metadata": {},
   "outputs": [],
   "source": [
    "C = [10**-4, 10**-3, 10**-2, 10**-1, 10**0, 10**1, 10**2, 10**3, 10**4]\n",
    "parameter_grid = {'C': C}"
   ]
  },
  {
   "cell_type": "code",
   "execution_count": 93,
   "metadata": {},
   "outputs": [
    {
     "name": "stdout",
     "output_type": "stream",
     "text": [
      "n_iterations: 3\n",
      "n_required_iterations: 3\n",
      "n_possible_iterations: 3\n",
      "min_resources_: 2177\n",
      "max_resources_: 19600\n",
      "aggressive_elimination: False\n",
      "factor: 3\n",
      "----------\n",
      "iter: 0\n",
      "n_candidates: 9\n",
      "n_resources: 2177\n",
      "Fitting 10 folds for each of 9 candidates, totalling 90 fits\n",
      "[CV 1/10] END .....C=0.0001;, score=(train=0.683, test=0.669) total time=   0.0s\n",
      "[CV 2/10] END .....C=0.0001;, score=(train=0.725, test=0.703) total time=   0.0s\n",
      "[CV 3/10] END .....C=0.0001;, score=(train=0.710, test=0.657) total time=   0.0s\n",
      "[CV 4/10] END .....C=0.0001;, score=(train=0.716, test=0.665) total time=   0.0s\n",
      "[CV 5/10] END .....C=0.0001;, score=(train=0.741, test=0.703) total time=   0.0s\n",
      "[CV 6/10] END .....C=0.0001;, score=(train=0.730, test=0.710) total time=   0.0s\n",
      "[CV 7/10] END .....C=0.0001;, score=(train=0.730, test=0.735) total time=   0.0s\n",
      "[CV 8/10] END .....C=0.0001;, score=(train=0.678, test=0.682) total time=   0.0s\n",
      "[CV 9/10] END .....C=0.0001;, score=(train=0.716, test=0.659) total time=   0.0s\n",
      "[CV 10/10] END ....C=0.0001;, score=(train=0.710, test=0.689) total time=   0.0s\n",
      "[CV 1/10] END ......C=0.001;, score=(train=0.857, test=0.807) total time=   0.0s\n",
      "[CV 2/10] END ......C=0.001;, score=(train=0.886, test=0.742) total time=   0.0s\n",
      "[CV 3/10] END ......C=0.001;, score=(train=0.877, test=0.713) total time=   0.0s\n",
      "[CV 4/10] END ......C=0.001;, score=(train=0.874, test=0.782) total time=   0.0s\n",
      "[CV 5/10] END ......C=0.001;, score=(train=0.872, test=0.803) total time=   0.0s\n",
      "[CV 6/10] END ......C=0.001;, score=(train=0.878, test=0.812) total time=   0.0s\n",
      "[CV 7/10] END ......C=0.001;, score=(train=0.889, test=0.817) total time=   0.0s\n",
      "[CV 8/10] END ......C=0.001;, score=(train=0.857, test=0.774) total time=   0.0s\n",
      "[CV 9/10] END ......C=0.001;, score=(train=0.874, test=0.767) total time=   0.0s\n",
      "[CV 10/10] END .....C=0.001;, score=(train=0.872, test=0.837) total time=   0.0s\n",
      "[CV 1/10] END .......C=0.01;, score=(train=0.920, test=0.805) total time=   0.0s\n",
      "[CV 2/10] END .......C=0.01;, score=(train=0.903, test=0.736) total time=   0.0s\n",
      "[CV 3/10] END .......C=0.01;, score=(train=0.932, test=0.740) total time=   0.0s\n",
      "[CV 4/10] END .......C=0.01;, score=(train=0.898, test=0.787) total time=   0.0s\n",
      "[CV 5/10] END .......C=0.01;, score=(train=0.894, test=0.813) total time=   0.0s\n",
      "[CV 6/10] END .......C=0.01;, score=(train=0.921, test=0.825) total time=   0.0s\n",
      "[CV 7/10] END .......C=0.01;, score=(train=0.919, test=0.834) total time=   0.0s\n",
      "[CV 8/10] END .......C=0.01;, score=(train=0.926, test=0.824) total time=   0.0s\n",
      "[CV 9/10] END .......C=0.01;, score=(train=0.915, test=0.799) total time=   0.0s\n",
      "[CV 10/10] END ......C=0.01;, score=(train=0.914, test=0.847) total time=   0.0s\n",
      "[CV 1/10] END ........C=0.1;, score=(train=0.927, test=0.813) total time=   0.0s\n",
      "[CV 2/10] END ........C=0.1;, score=(train=0.906, test=0.729) total time=   0.0s\n",
      "[CV 3/10] END ........C=0.1;, score=(train=0.937, test=0.737) total time=   0.0s\n",
      "[CV 4/10] END ........C=0.1;, score=(train=0.899, test=0.789) total time=   0.0s\n",
      "[CV 5/10] END ........C=0.1;, score=(train=0.895, test=0.811) total time=   0.0s\n",
      "[CV 6/10] END ........C=0.1;, score=(train=0.923, test=0.824) total time=   0.0s\n",
      "[CV 7/10] END ........C=0.1;, score=(train=0.921, test=0.839) total time=   0.0s\n",
      "[CV 8/10] END ........C=0.1;, score=(train=0.932, test=0.824) total time=   0.0s\n",
      "[CV 9/10] END ........C=0.1;, score=(train=0.919, test=0.798) total time=   0.0s\n",
      "[CV 10/10] END .......C=0.1;, score=(train=0.915, test=0.843) total time=   0.0s\n",
      "[CV 1/10] END ..........C=1;, score=(train=0.927, test=0.813) total time=   0.0s\n",
      "[CV 2/10] END ..........C=1;, score=(train=0.907, test=0.730) total time=   0.0s\n",
      "[CV 3/10] END ..........C=1;, score=(train=0.939, test=0.737) total time=   0.0s\n",
      "[CV 4/10] END ..........C=1;, score=(train=0.902, test=0.790) total time=   0.0s\n",
      "[CV 5/10] END ..........C=1;, score=(train=0.899, test=0.810) total time=   0.0s\n",
      "[CV 6/10] END ..........C=1;, score=(train=0.923, test=0.826) total time=   0.0s\n",
      "[CV 7/10] END ..........C=1;, score=(train=0.921, test=0.839) total time=   0.0s\n",
      "[CV 8/10] END ..........C=1;, score=(train=0.932, test=0.824) total time=   0.0s\n",
      "[CV 9/10] END ..........C=1;, score=(train=0.918, test=0.798) total time=   0.0s\n",
      "[CV 10/10] END .........C=1;, score=(train=0.915, test=0.844) total time=   0.0s\n",
      "[CV 1/10] END .........C=10;, score=(train=0.955, test=0.795) total time=   0.0s\n",
      "[CV 2/10] END .........C=10;, score=(train=0.955, test=0.691) total time=   0.0s\n",
      "[CV 3/10] END .........C=10;, score=(train=0.962, test=0.732) total time=   0.0s\n",
      "[CV 4/10] END .........C=10;, score=(train=0.960, test=0.806) total time=   0.0s\n",
      "[CV 5/10] END .........C=10;, score=(train=0.956, test=0.809) total time=   0.0s\n",
      "[CV 6/10] END .........C=10;, score=(train=0.964, test=0.826) total time=   0.0s\n",
      "[CV 7/10] END .........C=10;, score=(train=0.963, test=0.798) total time=   0.0s\n",
      "[CV 8/10] END .........C=10;, score=(train=0.955, test=0.816) total time=   0.0s\n",
      "[CV 9/10] END .........C=10;, score=(train=0.960, test=0.802) total time=   0.0s\n",
      "[CV 10/10] END ........C=10;, score=(train=0.963, test=0.828) total time=   0.0s\n",
      "[CV 1/10] END ........C=100;, score=(train=0.999, test=0.729) total time=   0.1s\n",
      "[CV 2/10] END ........C=100;, score=(train=0.999, test=0.620) total time=   0.0s\n",
      "[CV 3/10] END ........C=100;, score=(train=0.999, test=0.713) total time=   0.0s\n",
      "[CV 4/10] END ........C=100;, score=(train=0.999, test=0.743) total time=   0.0s\n",
      "[CV 5/10] END ........C=100;, score=(train=0.998, test=0.742) total time=   0.1s\n",
      "[CV 6/10] END ........C=100;, score=(train=0.999, test=0.836) total time=   0.1s\n",
      "[CV 7/10] END ........C=100;, score=(train=1.000, test=0.753) total time=   0.1s\n",
      "[CV 8/10] END ........C=100;, score=(train=0.998, test=0.730) total time=   0.1s\n",
      "[CV 9/10] END ........C=100;, score=(train=0.999, test=0.782) total time=   0.0s\n",
      "[CV 10/10] END .......C=100;, score=(train=1.000, test=0.736) total time=   0.1s\n",
      "[CV 1/10] END .......C=1000;, score=(train=1.000, test=0.711) total time=   0.1s\n",
      "[CV 2/10] END .......C=1000;, score=(train=1.000, test=0.611) total time=   0.1s\n",
      "[CV 3/10] END .......C=1000;, score=(train=0.999, test=0.689) total time=   0.1s\n",
      "[CV 4/10] END .......C=1000;, score=(train=0.999, test=0.764) total time=   0.1s\n",
      "[CV 5/10] END .......C=1000;, score=(train=0.999, test=0.695) total time=   0.1s\n",
      "[CV 6/10] END .......C=1000;, score=(train=1.000, test=0.821) total time=   0.1s\n",
      "[CV 7/10] END .......C=1000;, score=(train=0.999, test=0.725) total time=   0.1s\n",
      "[CV 8/10] END .......C=1000;, score=(train=0.999, test=0.705) total time=   0.1s\n",
      "[CV 9/10] END .......C=1000;, score=(train=1.000, test=0.769) total time=   0.1s\n",
      "[CV 10/10] END ......C=1000;, score=(train=1.000, test=0.703) total time=   0.1s\n",
      "[CV 1/10] END ......C=10000;, score=(train=1.000, test=0.711) total time=   0.1s\n",
      "[CV 2/10] END ......C=10000;, score=(train=1.000, test=0.611) total time=   0.1s\n",
      "[CV 3/10] END ......C=10000;, score=(train=0.999, test=0.689) total time=   0.1s\n",
      "[CV 4/10] END ......C=10000;, score=(train=0.999, test=0.764) total time=   0.1s\n",
      "[CV 5/10] END ......C=10000;, score=(train=0.999, test=0.695) total time=   0.1s\n",
      "[CV 6/10] END ......C=10000;, score=(train=1.000, test=0.821) total time=   0.1s\n",
      "[CV 7/10] END ......C=10000;, score=(train=0.999, test=0.725) total time=   0.1s\n",
      "[CV 8/10] END ......C=10000;, score=(train=0.999, test=0.705) total time=   0.1s\n",
      "[CV 9/10] END ......C=10000;, score=(train=1.000, test=0.769) total time=   0.1s\n",
      "[CV 10/10] END .....C=10000;, score=(train=1.000, test=0.703) total time=   0.1s\n",
      "----------\n",
      "iter: 1\n",
      "n_candidates: 3\n",
      "n_resources: 6531\n",
      "Fitting 10 folds for each of 3 candidates, totalling 30 fits\n",
      "[CV 1/10] END .......C=0.01;, score=(train=0.877, test=0.830) total time=   0.6s\n",
      "[CV 2/10] END .......C=0.01;, score=(train=0.894, test=0.811) total time=   0.6s\n",
      "[CV 3/10] END .......C=0.01;, score=(train=0.889, test=0.809) total time=   0.6s\n",
      "[CV 4/10] END .......C=0.01;, score=(train=0.886, test=0.860) total time=   0.6s\n",
      "[CV 5/10] END .......C=0.01;, score=(train=0.881, test=0.821) total time=   0.6s\n",
      "[CV 6/10] END .......C=0.01;, score=(train=0.890, test=0.836) total time=   0.6s\n",
      "[CV 7/10] END .......C=0.01;, score=(train=0.876, test=0.823) total time=   0.6s\n",
      "[CV 8/10] END .......C=0.01;, score=(train=0.884, test=0.812) total time=   0.6s\n",
      "[CV 9/10] END .......C=0.01;, score=(train=0.875, test=0.829) total time=   0.6s\n",
      "[CV 10/10] END ......C=0.01;, score=(train=0.891, test=0.833) total time=   0.6s\n",
      "[CV 1/10] END ........C=0.1;, score=(train=0.878, test=0.832) total time=   0.6s\n",
      "[CV 2/10] END ........C=0.1;, score=(train=0.896, test=0.814) total time=   0.6s\n",
      "[CV 3/10] END ........C=0.1;, score=(train=0.890, test=0.812) total time=   0.6s\n",
      "[CV 4/10] END ........C=0.1;, score=(train=0.889, test=0.862) total time=   0.6s\n",
      "[CV 5/10] END ........C=0.1;, score=(train=0.881, test=0.821) total time=   0.6s\n",
      "[CV 6/10] END ........C=0.1;, score=(train=0.892, test=0.835) total time=   0.6s\n",
      "[CV 7/10] END ........C=0.1;, score=(train=0.877, test=0.824) total time=   0.6s\n",
      "[CV 8/10] END ........C=0.1;, score=(train=0.885, test=0.814) total time=   0.6s\n",
      "[CV 9/10] END ........C=0.1;, score=(train=0.875, test=0.827) total time=   0.6s\n",
      "[CV 10/10] END .......C=0.1;, score=(train=0.894, test=0.837) total time=   0.6s\n",
      "[CV 1/10] END ..........C=1;, score=(train=0.885, test=0.831) total time=   0.6s\n",
      "[CV 2/10] END ..........C=1;, score=(train=0.897, test=0.814) total time=   0.6s\n",
      "[CV 3/10] END ..........C=1;, score=(train=0.892, test=0.811) total time=   0.6s\n",
      "[CV 4/10] END ..........C=1;, score=(train=0.891, test=0.863) total time=   0.6s\n",
      "[CV 5/10] END ..........C=1;, score=(train=0.890, test=0.820) total time=   0.6s\n",
      "[CV 6/10] END ..........C=1;, score=(train=0.893, test=0.836) total time=   0.6s\n",
      "[CV 7/10] END ..........C=1;, score=(train=0.883, test=0.826) total time=   0.6s\n",
      "[CV 8/10] END ..........C=1;, score=(train=0.885, test=0.814) total time=   0.6s\n",
      "[CV 9/10] END ..........C=1;, score=(train=0.882, test=0.828) total time=   0.6s\n",
      "[CV 10/10] END .........C=1;, score=(train=0.894, test=0.837) total time=   0.6s\n",
      "----------\n",
      "iter: 2\n",
      "n_candidates: 1\n",
      "n_resources: 19593\n",
      "Fitting 10 folds for each of 1 candidates, totalling 10 fits\n",
      "[CV 1/10] END ..........C=1;, score=(train=0.877, test=0.834) total time=24.1min\n",
      "[CV 2/10] END ..........C=1;, score=(train=0.877, test=0.833) total time=   6.8s\n",
      "[CV 3/10] END ..........C=1;, score=(train=0.879, test=0.832) total time=   6.9s\n",
      "[CV 4/10] END ..........C=1;, score=(train=0.877, test=0.843) total time=   6.8s\n",
      "[CV 5/10] END ..........C=1;, score=(train=0.876, test=0.838) total time=   6.7s\n",
      "[CV 6/10] END ..........C=1;, score=(train=0.875, test=0.864) total time=   6.6s\n",
      "[CV 7/10] END ..........C=1;, score=(train=0.877, test=0.846) total time=   7.4s\n",
      "[CV 8/10] END ..........C=1;, score=(train=0.879, test=0.831) total time=   6.4s\n",
      "[CV 9/10] END ..........C=1;, score=(train=0.877, test=0.842) total time=   6.7s\n",
      "[CV 10/10] END .........C=1;, score=(train=0.875, test=0.848) total time=   6.4s\n",
      "Best Hyperparameters -->  {'C': 1}\n",
      "Best Accuracy -->  0.8412649674781356\n"
     ]
    }
   ],
   "source": [
    "model = SVC()\n",
    "\n",
    "rbf_tfidf_w2v_model = HalvingGridSearchCV(model, parameter_grid, scoring='roc_auc', cv=10, verbose=3)\n",
    "\n",
    "rbf_tfidf_w2v_model.fit(X_train_tfidf_w2v, y_train)\n",
    "print('Best Hyperparameters --> ', rbf_tfidf_w2v_model.best_params_)\n",
    "print('Best Accuracy --> ', rbf_tfidf_w2v_model.best_score_)"
   ]
  },
  {
   "cell_type": "markdown",
   "metadata": {},
   "source": [
    "### 8.2 Model Building (RBF-TFIDF-W2V)\n"
   ]
  },
  {
   "cell_type": "code",
   "execution_count": 94,
   "metadata": {},
   "outputs": [],
   "source": [
    "model_rbf_tfidf_w2v = SVC(C=rbf_tfidf_w2v_model.best_estimator_.C, probability=True)\n",
    "\n",
    "model_rbf_tfidf_w2v.fit(X_train_avg_w2v, y_train)\n",
    "\n",
    "# predicted values for train & test data\n",
    "y_pred_tfidf_w2v = model_rbf_tfidf_w2v.decision_function(X_train_tfidf_w2v)\n",
    "y_pred_tfidf_w2v_test = model_rbf_tfidf_w2v.decision_function(X_test_tfidf_w2v)"
   ]
  },
  {
   "cell_type": "markdown",
   "metadata": {},
   "source": [
    "### 8.3 Model Evaluation (RBF-TFIDF-W2V)\n"
   ]
  },
  {
   "cell_type": "code",
   "execution_count": 95,
   "metadata": {},
   "outputs": [
    {
     "name": "stdout",
     "output_type": "stream",
     "text": [
      "Accuracy of RBF-TFIDF-W2V model :  0.8536666666666667\n"
     ]
    }
   ],
   "source": [
    "print('Accuracy of RBF-TFIDF-W2V model : ',model_rbf_tfidf_w2v.score(X_test_tfidf_w2v, y_test))"
   ]
  },
  {
   "cell_type": "code",
   "execution_count": 96,
   "metadata": {},
   "outputs": [
    {
     "data": {
      "image/png": "[encoded data removed]",
      "text/plain": [
       "<Figure size 432x288 with 1 Axes>"
      ]
     },
     "metadata": {
      "needs_background": "light"
     },
     "output_type": "display_data"
    }
   ],
   "source": [
    "# plotting ROC curve for train & test data\n",
    "\n",
    "false_positive_rate1, true_positive_rate1, threshold1 = roc_curve(\n",
    "    y_train, y_pred_tfidf_w2v)\n",
    "false_positive_rate2, true_positive_rate2, threshold2 = roc_curve(\n",
    "    y_test, y_pred_tfidf_w2v_test)\n",
    "\n",
    "fig = plt.figure()\n",
    "ax = plt.subplot(111)\n",
    "\n",
    "# train ROC\n",
    "ax.plot(false_positive_rate1, true_positive_rate1, label='Train ROC ,auc ={}'.format(str(roc_auc_score(y_train, y_pred_tfidf_w2v))))\n",
    "\n",
    "# test ROC\n",
    "ax.plot(false_positive_rate2, true_positive_rate2, label='Test ROC ,auc ={}'.format(str(roc_auc_score(y_test, y_pred_tfidf_w2v_test))))\n",
    "\n",
    "plt.title('ROC')\n",
    "plt.grid()\n",
    "plt.xlabel('False Positive Rate')\n",
    "plt.ylabel('True Positive Rate')\n",
    "ax.legend()\n",
    "plt.show()"
   ]
  },
  {
   "cell_type": "code",
   "execution_count": 97,
   "metadata": {},
   "outputs": [
    {
     "data": {
      "image/png": "[encoded data removed]",
      "text/plain": [
       "<Figure size 432x288 with 2 Axes>"
      ]
     },
     "metadata": {
      "needs_background": "light"
     },
     "output_type": "display_data"
    }
   ],
   "source": [
    "# confusion Matrix for test data\n",
    "y_pred_tfidf_w2v_test = model_rbf_tfidf_w2v.predict(X_test_tfidf_w2v)\n",
    "\n",
    "confusion = confusion_matrix(y_test, y_pred_tfidf_w2v_test)\n",
    "class_labels = [\"negative\", \"positive\"]\n",
    "\n",
    "cf_data = pd.DataFrame(confusion, index=class_labels, columns=class_labels)\n",
    "sns.heatmap(cf_data, annot=True, fmt='.5g')\n",
    "\n",
    "plt.title(\"Confusion Matrix for test data\")\n",
    "plt.xlabel(\"Predicted Label\")\n",
    "plt.ylabel(\"True Label\")\n",
    "plt.show()"
   ]
  },
  {
   "cell_type": "markdown",
   "metadata": {},
   "source": [
    "# Model Comparision"
   ]
  },
  {
   "cell_type": "markdown",
   "metadata": {},
   "source": [
    "## Creating a prettytable to see which model performed better"
   ]
  },
  {
   "cell_type": "markdown",
   "metadata": {},
   "source": [
    "### 1. Linear SVM"
   ]
  },
  {
   "cell_type": "code",
   "execution_count": 101,
   "metadata": {},
   "outputs": [
    {
     "name": "stdout",
     "output_type": "stream",
     "text": [
      "+-----------------------------------------------------------+\n",
      "|                         Linear SVM                        |\n",
      "+------------+------------------------------------+---------+\n",
      "| Vectorizer |        Best Hyperparameters        |   AUC   |\n",
      "+------------+------------------------------------+---------+\n",
      "|   TFIDF    | {'alpha': 0.0001, 'penalty': 'l2'} | 0.95372 |\n",
      "|  AVG-W2V   | {'alpha': 0.001, 'penalty': 'l2'}  | 0.89476 |\n",
      "|    BOW     |  {'alpha': 0.1, 'penalty': 'l2'}   | 0.89201 |\n",
      "| TFIDF-W2V  |  {'alpha': 0.01, 'penalty': 'l2'}  | 0.83663 |\n",
      "+------------+------------------------------------+---------+\n"
     ]
    }
   ],
   "source": [
    "from prettytable import PrettyTable\n",
    "x = PrettyTable()\n",
    "x.title = 'Linear SVM'\n",
    "\n",
    "x.field_names = ['Vectorizer', 'Best Hyperparameters', 'AUC']\n",
    "x.add_row(['BOW', {'alpha': 0.1, 'penalty': 'l2'}, 0.89201])\n",
    "x.add_row(['TFIDF', {'alpha': 0.0001, 'penalty': 'l2'}, 0.95372])\n",
    "x.add_row(['AVG-W2V', {'alpha': 0.001, 'penalty': 'l2'}, 0.89476])\n",
    "x.add_row(['TFIDF-W2V', {'alpha': 0.01, 'penalty': 'l2'}, 0.83663])\n",
    "\n",
    "x.sortby = 'AUC'\n",
    "x.reversesort = True\n",
    "print(x)"
   ]
  },
  {
   "cell_type": "markdown",
   "metadata": {},
   "source": [
    "### 2. RBF SVM"
   ]
  },
  {
   "cell_type": "code",
   "execution_count": 100,
   "metadata": {},
   "outputs": [
    {
     "name": "stdout",
     "output_type": "stream",
     "text": [
      "+--------------------------------------------+\n",
      "|                  RBF SVM                   |\n",
      "+------------+---------------------+---------+\n",
      "| Vectorizer | Best Hyperparameter |   AUC   |\n",
      "+------------+---------------------+---------+\n",
      "|   TFIDF    |     {'C': 10000}    | 0.90801 |\n",
      "|    BOW     |       {'C': 1}      | 0.90126 |\n",
      "|  AVG-W2V   |       {'C': 1}      | 0.89067 |\n",
      "| TFIDF-W2V  |       {'C': 1}      | 0.77586 |\n",
      "+------------+---------------------+---------+\n"
     ]
    }
   ],
   "source": [
    "from prettytable import PrettyTable\n",
    "x = PrettyTable()\n",
    "x.title = 'RBF SVM'\n",
    "\n",
    "x.field_names = ['Vectorizer', 'Best Hyperparameter', 'AUC']\n",
    "x.add_row(['BOW', {'C': 1}, 0.90126])\n",
    "x.add_row(['TFIDF', {'C': 10000}, 0.90801])\n",
    "x.add_row(['AVG-W2V', {'C': 1}, 0.89067])\n",
    "x.add_row(['TFIDF-W2V', {'C': 1}, 0.77586])\n",
    "\n",
    "x.sortby = 'AUC'\n",
    "x.reversesort = True\n",
    "print(x)\n"
   ]
  }
 ],
 "metadata": {
  "interpreter": {
   "hash": "f9f33196cc93198f7ebbbebd1dfb6965da25758807105a4025f381e8ed6d3ded"
  },
  "kernelspec": {
   "display_name": "Python 3.8.0 64-bit ('tf2.6': conda)",
   "language": "python",
   "name": "python3"
  },
  "language_info": {
   "codemirror_mode": {
    "name": "ipython",
    "version": 3
   },
   "file_extension": ".py",
   "mimetype": "text/x-python",
   "name": "python",
   "nbconvert_exporter": "python",
   "pygments_lexer": "ipython3",
   "version": "3.8.0"
  },
  "orig_nbformat": 4
 },
 "nbformat": 4,
 "nbformat_minor": 2
}
