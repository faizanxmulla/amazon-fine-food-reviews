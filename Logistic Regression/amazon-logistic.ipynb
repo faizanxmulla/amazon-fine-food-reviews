{
 "cells": [
  {
   "cell_type": "markdown",
   "metadata": {},
   "source": [
    "## OBJECTIVE : \n",
    "Given a review, determine whether the review is positive (rating of 4 or 5) or negative (rating of 1 or 2)."
   ]
  },
  {
   "cell_type": "markdown",
   "metadata": {},
   "source": [
    "# Importing Libraries & getting Data"
   ]
  },
  {
   "cell_type": "code",
   "execution_count": 1,
   "metadata": {},
   "outputs": [],
   "source": [
    "import numpy as np \n",
    "import pandas as pd \n",
    "import sqlite3 \n",
    "import matplotlib.pyplot as plt \n",
    "import seaborn as sns \n",
    "\n",
    "import re \n",
    "import math \n",
    "import os \n",
    "import string \n",
    "from tqdm import tqdm \n",
    "\n",
    "import warnings \n",
    "warnings.filterwarnings('ignore')\n",
    "\n",
    "# Metrics libraries\n",
    "from sklearn.metrics import accuracy_score ,confusion_matrix, roc_curve, auc ,roc_auc_score\n",
    "\n",
    "# NLP libraries \n",
    "import nltk \n",
    "from nltk.corpus import stopwords \n",
    "from nltk.stem import PorterStemmer \n",
    "from nltk.stem.wordnet import WordNetLemmatizer \n",
    "from sklearn.feature_extraction.text import CountVectorizer \n",
    "from sklearn.feature_extraction.text import TfidfVectorizer\n",
    "from sklearn.feature_extraction.text import TfidfTransformer\n",
    "\n",
    "from gensim.models import Word2Vec \n",
    "from gensim.models import KeyedVectors\n",
    "\n",
    "import tensorflow as tf\n",
    "from tensorflow.python.client import device_lib"
   ]
  },
  {
   "cell_type": "code",
   "execution_count": 2,
   "metadata": {},
   "outputs": [],
   "source": [
    "os.environ['TF_FORCE_GPU_ALLOW_GROWTH'] = 'true'\n",
    "physical_devices = tf.config.experimental.list_physical_devices('GPU')\n",
    "assert len(physical_devices) > 0, \"Not enough GPU hardware devices available\"\n",
    "config = tf.config.experimental.set_memory_growth(physical_devices[0], True)\n"
   ]
  },
  {
   "cell_type": "code",
   "execution_count": 3,
   "metadata": {},
   "outputs": [
    {
     "name": "stdout",
     "output_type": "stream",
     "text": [
      "Num GPUs Available:  1\n",
      "[name: \"/device:CPU:0\"\n",
      "device_type: \"CPU\"\n",
      "memory_limit: 268435456\n",
      "locality {\n",
      "}\n",
      "incarnation: 5764102551971309974\n",
      ", name: \"/device:GPU:0\"\n",
      "device_type: \"GPU\"\n",
      "memory_limit: 1753127323\n",
      "locality {\n",
      "  bus_id: 1\n",
      "  links {\n",
      "  }\n",
      "}\n",
      "incarnation: 37068302773010922\n",
      "physical_device_desc: \"device: 0, name: NVIDIA GeForce RTX 3050 Laptop GPU, pci bus id: 0000:01:00.0, compute capability: 8.6\"\n",
      "]\n"
     ]
    }
   ],
   "source": [
    "print(\"Num GPUs Available: \", len(tf.config.experimental.list_physical_devices('GPU')))\n",
    "print(device_lib.list_local_devices())"
   ]
  },
  {
   "cell_type": "code",
   "execution_count": 4,
   "metadata": {},
   "outputs": [],
   "source": [
    "connection = sqlite3.connect(\n",
    "    'G:/My Drive/datasets/amazon food review/dataset/database.sqlite')\n",
    "\n",
    "# ignoring datapoints where score = 3 (neutral review)\n",
    "\n",
    "filtered_data = pd.read_sql_query(\"\"\"\n",
    "SELECT * \n",
    "FROM Reviews\n",
    "WHERE Score != 3\n",
    "LIMIT 100000\n",
    "\"\"\", connection)\n"
   ]
  },
  {
   "cell_type": "code",
   "execution_count": 5,
   "metadata": {},
   "outputs": [],
   "source": [
    "# label encoding score into positive (x>3) and negative (x<3)\n",
    "\n",
    "def partition(x):\n",
    "    if x < 3:\n",
    "        return 0\n",
    "    else:\n",
    "        return 1\n",
    "\n",
    "\n",
    "score_with_neutral = filtered_data['Score']\n",
    "score_wo_neutral = score_with_neutral.map(partition)\n",
    "\n",
    "filtered_data['Score'] = score_wo_neutral"
   ]
  },
  {
   "cell_type": "code",
   "execution_count": 6,
   "metadata": {},
   "outputs": [
    {
     "data": {
      "text/html": [
       "<div>\n",
       "<style scoped>\n",
       "    .dataframe tbody tr th:only-of-type {\n",
       "        vertical-align: middle;\n",
       "    }\n",
       "\n",
       "    .dataframe tbody tr th {\n",
       "        vertical-align: top;\n",
       "    }\n",
       "\n",
       "    .dataframe thead th {\n",
       "        text-align: right;\n",
       "    }\n",
       "</style>\n",
       "<table border=\"1\" class=\"dataframe\">\n",
       "  <thead>\n",
       "    <tr style=\"text-align: right;\">\n",
       "      <th></th>\n",
       "      <th>Id</th>\n",
       "      <th>ProductId</th>\n",
       "      <th>UserId</th>\n",
       "      <th>ProfileName</th>\n",
       "      <th>HelpfulnessNumerator</th>\n",
       "      <th>HelpfulnessDenominator</th>\n",
       "      <th>Score</th>\n",
       "      <th>Time</th>\n",
       "      <th>Summary</th>\n",
       "      <th>Text</th>\n",
       "    </tr>\n",
       "  </thead>\n",
       "  <tbody>\n",
       "    <tr>\n",
       "      <th>0</th>\n",
       "      <td>1</td>\n",
       "      <td>B001E4KFG0</td>\n",
       "      <td>A3SGXH7AUHU8GW</td>\n",
       "      <td>delmartian</td>\n",
       "      <td>1</td>\n",
       "      <td>1</td>\n",
       "      <td>1</td>\n",
       "      <td>1303862400</td>\n",
       "      <td>Good Quality Dog Food</td>\n",
       "      <td>I have bought several of the Vitality canned d...</td>\n",
       "    </tr>\n",
       "    <tr>\n",
       "      <th>1</th>\n",
       "      <td>2</td>\n",
       "      <td>B00813GRG4</td>\n",
       "      <td>A1D87F6ZCVE5NK</td>\n",
       "      <td>dll pa</td>\n",
       "      <td>0</td>\n",
       "      <td>0</td>\n",
       "      <td>0</td>\n",
       "      <td>1346976000</td>\n",
       "      <td>Not as Advertised</td>\n",
       "      <td>Product arrived labeled as Jumbo Salted Peanut...</td>\n",
       "    </tr>\n",
       "    <tr>\n",
       "      <th>2</th>\n",
       "      <td>3</td>\n",
       "      <td>B000LQOCH0</td>\n",
       "      <td>ABXLMWJIXXAIN</td>\n",
       "      <td>Natalia Corres \"Natalia Corres\"</td>\n",
       "      <td>1</td>\n",
       "      <td>1</td>\n",
       "      <td>1</td>\n",
       "      <td>1219017600</td>\n",
       "      <td>\"Delight\" says it all</td>\n",
       "      <td>This is a confection that has been around a fe...</td>\n",
       "    </tr>\n",
       "    <tr>\n",
       "      <th>3</th>\n",
       "      <td>4</td>\n",
       "      <td>B000UA0QIQ</td>\n",
       "      <td>A395BORC6FGVXV</td>\n",
       "      <td>Karl</td>\n",
       "      <td>3</td>\n",
       "      <td>3</td>\n",
       "      <td>0</td>\n",
       "      <td>1307923200</td>\n",
       "      <td>Cough Medicine</td>\n",
       "      <td>If you are looking for the secret ingredient i...</td>\n",
       "    </tr>\n",
       "    <tr>\n",
       "      <th>4</th>\n",
       "      <td>5</td>\n",
       "      <td>B006K2ZZ7K</td>\n",
       "      <td>A1UQRSCLF8GW1T</td>\n",
       "      <td>Michael D. Bigham \"M. Wassir\"</td>\n",
       "      <td>0</td>\n",
       "      <td>0</td>\n",
       "      <td>1</td>\n",
       "      <td>1350777600</td>\n",
       "      <td>Great taffy</td>\n",
       "      <td>Great taffy at a great price.  There was a wid...</td>\n",
       "    </tr>\n",
       "  </tbody>\n",
       "</table>\n",
       "</div>"
      ],
      "text/plain": [
       "   Id   ProductId          UserId                      ProfileName  \\\n",
       "0   1  B001E4KFG0  A3SGXH7AUHU8GW                       delmartian   \n",
       "1   2  B00813GRG4  A1D87F6ZCVE5NK                           dll pa   \n",
       "2   3  B000LQOCH0   ABXLMWJIXXAIN  Natalia Corres \"Natalia Corres\"   \n",
       "3   4  B000UA0QIQ  A395BORC6FGVXV                             Karl   \n",
       "4   5  B006K2ZZ7K  A1UQRSCLF8GW1T    Michael D. Bigham \"M. Wassir\"   \n",
       "\n",
       "   HelpfulnessNumerator  HelpfulnessDenominator  Score        Time  \\\n",
       "0                     1                       1      1  1303862400   \n",
       "1                     0                       0      0  1346976000   \n",
       "2                     1                       1      1  1219017600   \n",
       "3                     3                       3      0  1307923200   \n",
       "4                     0                       0      1  1350777600   \n",
       "\n",
       "                 Summary                                               Text  \n",
       "0  Good Quality Dog Food  I have bought several of the Vitality canned d...  \n",
       "1      Not as Advertised  Product arrived labeled as Jumbo Salted Peanut...  \n",
       "2  \"Delight\" says it all  This is a confection that has been around a fe...  \n",
       "3         Cough Medicine  If you are looking for the secret ingredient i...  \n",
       "4            Great taffy  Great taffy at a great price.  There was a wid...  "
      ]
     },
     "execution_count": 6,
     "metadata": {},
     "output_type": "execute_result"
    }
   ],
   "source": [
    "filtered_data.head()"
   ]
  },
  {
   "cell_type": "code",
   "execution_count": 7,
   "metadata": {},
   "outputs": [
    {
     "name": "stdout",
     "output_type": "stream",
     "text": [
      "<class 'pandas.core.frame.DataFrame'>\n",
      "RangeIndex: 100000 entries, 0 to 99999\n",
      "Data columns (total 10 columns):\n",
      " #   Column                  Non-Null Count   Dtype \n",
      "---  ------                  --------------   ----- \n",
      " 0   Id                      100000 non-null  int64 \n",
      " 1   ProductId               100000 non-null  object\n",
      " 2   UserId                  100000 non-null  object\n",
      " 3   ProfileName             100000 non-null  object\n",
      " 4   HelpfulnessNumerator    100000 non-null  int64 \n",
      " 5   HelpfulnessDenominator  100000 non-null  int64 \n",
      " 6   Score                   100000 non-null  int64 \n",
      " 7   Time                    100000 non-null  int64 \n",
      " 8   Summary                 100000 non-null  object\n",
      " 9   Text                    100000 non-null  object\n",
      "dtypes: int64(5), object(5)\n",
      "memory usage: 7.6+ MB\n"
     ]
    }
   ],
   "source": [
    "filtered_data.info()"
   ]
  },
  {
   "cell_type": "code",
   "execution_count": 8,
   "metadata": {},
   "outputs": [
    {
     "data": {
      "text/plain": [
       "(100000, 10)"
      ]
     },
     "execution_count": 8,
     "metadata": {},
     "output_type": "execute_result"
    }
   ],
   "source": [
    "filtered_data.shape"
   ]
  },
  {
   "cell_type": "code",
   "execution_count": 9,
   "metadata": {},
   "outputs": [
    {
     "data": {
      "text/html": [
       "<div>\n",
       "<style scoped>\n",
       "    .dataframe tbody tr th:only-of-type {\n",
       "        vertical-align: middle;\n",
       "    }\n",
       "\n",
       "    .dataframe tbody tr th {\n",
       "        vertical-align: top;\n",
       "    }\n",
       "\n",
       "    .dataframe thead th {\n",
       "        text-align: right;\n",
       "    }\n",
       "</style>\n",
       "<table border=\"1\" class=\"dataframe\">\n",
       "  <thead>\n",
       "    <tr style=\"text-align: right;\">\n",
       "      <th></th>\n",
       "      <th>UserId</th>\n",
       "      <th>ProductId</th>\n",
       "      <th>ProfileName</th>\n",
       "      <th>Time</th>\n",
       "      <th>Score</th>\n",
       "      <th>Text</th>\n",
       "      <th>COUNT(*)</th>\n",
       "    </tr>\n",
       "  </thead>\n",
       "  <tbody>\n",
       "    <tr>\n",
       "      <th>0</th>\n",
       "      <td>#oc-R115TNMSPFT9I7</td>\n",
       "      <td>B005ZBZLT4</td>\n",
       "      <td>Breyton</td>\n",
       "      <td>1331510400</td>\n",
       "      <td>2</td>\n",
       "      <td>Overall its just OK when considering the price...</td>\n",
       "      <td>2</td>\n",
       "    </tr>\n",
       "    <tr>\n",
       "      <th>1</th>\n",
       "      <td>#oc-R11D9D7SHXIJB9</td>\n",
       "      <td>B005HG9ESG</td>\n",
       "      <td>Louis E. Emory \"hoppy\"</td>\n",
       "      <td>1342396800</td>\n",
       "      <td>5</td>\n",
       "      <td>My wife has recurring extreme muscle spasms, u...</td>\n",
       "      <td>3</td>\n",
       "    </tr>\n",
       "    <tr>\n",
       "      <th>2</th>\n",
       "      <td>#oc-R11DNU2NBKQ23Z</td>\n",
       "      <td>B005ZBZLT4</td>\n",
       "      <td>Kim Cieszykowski</td>\n",
       "      <td>1348531200</td>\n",
       "      <td>1</td>\n",
       "      <td>This coffee is horrible and unfortunately not ...</td>\n",
       "      <td>2</td>\n",
       "    </tr>\n",
       "    <tr>\n",
       "      <th>3</th>\n",
       "      <td>#oc-R11O5J5ZVQE25C</td>\n",
       "      <td>B005HG9ESG</td>\n",
       "      <td>Penguin Chick</td>\n",
       "      <td>1346889600</td>\n",
       "      <td>5</td>\n",
       "      <td>This will be the bottle that you grab from the...</td>\n",
       "      <td>3</td>\n",
       "    </tr>\n",
       "    <tr>\n",
       "      <th>4</th>\n",
       "      <td>#oc-R12KPBODL2B5ZD</td>\n",
       "      <td>B007OSBEV0</td>\n",
       "      <td>Christopher P. Presta</td>\n",
       "      <td>1348617600</td>\n",
       "      <td>1</td>\n",
       "      <td>I didnt like this coffee. Instead of telling y...</td>\n",
       "      <td>2</td>\n",
       "    </tr>\n",
       "  </tbody>\n",
       "</table>\n",
       "</div>"
      ],
      "text/plain": [
       "               UserId   ProductId             ProfileName        Time  Score  \\\n",
       "0  #oc-R115TNMSPFT9I7  B005ZBZLT4                 Breyton  1331510400      2   \n",
       "1  #oc-R11D9D7SHXIJB9  B005HG9ESG  Louis E. Emory \"hoppy\"  1342396800      5   \n",
       "2  #oc-R11DNU2NBKQ23Z  B005ZBZLT4        Kim Cieszykowski  1348531200      1   \n",
       "3  #oc-R11O5J5ZVQE25C  B005HG9ESG           Penguin Chick  1346889600      5   \n",
       "4  #oc-R12KPBODL2B5ZD  B007OSBEV0   Christopher P. Presta  1348617600      1   \n",
       "\n",
       "                                                Text  COUNT(*)  \n",
       "0  Overall its just OK when considering the price...         2  \n",
       "1  My wife has recurring extreme muscle spasms, u...         3  \n",
       "2  This coffee is horrible and unfortunately not ...         2  \n",
       "3  This will be the bottle that you grab from the...         3  \n",
       "4  I didnt like this coffee. Instead of telling y...         2  "
      ]
     },
     "execution_count": 9,
     "metadata": {},
     "output_type": "execute_result"
    }
   ],
   "source": [
    "display = pd.read_sql_query(\"\"\"\n",
    "SELECT UserId, ProductId ,ProfileName ,Time, Score ,Text ,COUNT(*)\n",
    "FROM Reviews \n",
    "GROUP BY UserId \n",
    "HAVING COUNT(*) > 1\n",
    "\"\"\", connection)\n",
    "\n",
    "display.head()"
   ]
  },
  {
   "cell_type": "code",
   "execution_count": 10,
   "metadata": {},
   "outputs": [
    {
     "data": {
      "text/plain": [
       "(80668, 7)"
      ]
     },
     "execution_count": 10,
     "metadata": {},
     "output_type": "execute_result"
    }
   ],
   "source": [
    "display.shape"
   ]
  },
  {
   "cell_type": "code",
   "execution_count": 11,
   "metadata": {},
   "outputs": [
    {
     "data": {
      "text/plain": [
       "393063"
      ]
     },
     "execution_count": 11,
     "metadata": {},
     "output_type": "execute_result"
    }
   ],
   "source": [
    "display['COUNT(*)'].sum()"
   ]
  },
  {
   "cell_type": "markdown",
   "metadata": {},
   "source": [
    "# EDA"
   ]
  },
  {
   "cell_type": "markdown",
   "metadata": {},
   "source": [
    "## Data Cleaning (Removing Duplicates)"
   ]
  },
  {
   "cell_type": "code",
   "execution_count": 12,
   "metadata": {},
   "outputs": [
    {
     "data": {
      "text/html": [
       "<div>\n",
       "<style scoped>\n",
       "    .dataframe tbody tr th:only-of-type {\n",
       "        vertical-align: middle;\n",
       "    }\n",
       "\n",
       "    .dataframe tbody tr th {\n",
       "        vertical-align: top;\n",
       "    }\n",
       "\n",
       "    .dataframe thead th {\n",
       "        text-align: right;\n",
       "    }\n",
       "</style>\n",
       "<table border=\"1\" class=\"dataframe\">\n",
       "  <thead>\n",
       "    <tr style=\"text-align: right;\">\n",
       "      <th></th>\n",
       "      <th>Id</th>\n",
       "      <th>ProductId</th>\n",
       "      <th>UserId</th>\n",
       "      <th>ProfileName</th>\n",
       "      <th>HelpfulnessNumerator</th>\n",
       "      <th>HelpfulnessDenominator</th>\n",
       "      <th>Score</th>\n",
       "      <th>Time</th>\n",
       "      <th>Summary</th>\n",
       "      <th>Text</th>\n",
       "    </tr>\n",
       "  </thead>\n",
       "  <tbody>\n",
       "    <tr>\n",
       "      <th>0</th>\n",
       "      <td>455534</td>\n",
       "      <td>B005HG9ERW</td>\n",
       "      <td>#oc-R11D9D7SHXIJB9</td>\n",
       "      <td>Louis E. Emory \"hoppy\"</td>\n",
       "      <td>0</td>\n",
       "      <td>0</td>\n",
       "      <td>5</td>\n",
       "      <td>1342396800</td>\n",
       "      <td>Muscle spasms</td>\n",
       "      <td>My wife has recurring extreme muscle spasms, u...</td>\n",
       "    </tr>\n",
       "    <tr>\n",
       "      <th>1</th>\n",
       "      <td>290948</td>\n",
       "      <td>B005HG9ESG</td>\n",
       "      <td>#oc-R11D9D7SHXIJB9</td>\n",
       "      <td>Louis E. Emory \"hoppy\"</td>\n",
       "      <td>0</td>\n",
       "      <td>0</td>\n",
       "      <td>5</td>\n",
       "      <td>1342396800</td>\n",
       "      <td>Muscle spasms</td>\n",
       "      <td>My wife has recurring extreme muscle spasms, u...</td>\n",
       "    </tr>\n",
       "    <tr>\n",
       "      <th>2</th>\n",
       "      <td>496894</td>\n",
       "      <td>B005HG9ET0</td>\n",
       "      <td>#oc-R11D9D7SHXIJB9</td>\n",
       "      <td>Louis E. Emory \"hoppy\"</td>\n",
       "      <td>0</td>\n",
       "      <td>0</td>\n",
       "      <td>5</td>\n",
       "      <td>1342396800</td>\n",
       "      <td>Muscle spasms</td>\n",
       "      <td>My wife has recurring extreme muscle spasms, u...</td>\n",
       "    </tr>\n",
       "  </tbody>\n",
       "</table>\n",
       "</div>"
      ],
      "text/plain": [
       "       Id   ProductId              UserId             ProfileName  \\\n",
       "0  455534  B005HG9ERW  #oc-R11D9D7SHXIJB9  Louis E. Emory \"hoppy\"   \n",
       "1  290948  B005HG9ESG  #oc-R11D9D7SHXIJB9  Louis E. Emory \"hoppy\"   \n",
       "2  496894  B005HG9ET0  #oc-R11D9D7SHXIJB9  Louis E. Emory \"hoppy\"   \n",
       "\n",
       "   HelpfulnessNumerator  HelpfulnessDenominator  Score        Time  \\\n",
       "0                     0                       0      5  1342396800   \n",
       "1                     0                       0      5  1342396800   \n",
       "2                     0                       0      5  1342396800   \n",
       "\n",
       "         Summary                                               Text  \n",
       "0  Muscle spasms  My wife has recurring extreme muscle spasms, u...  \n",
       "1  Muscle spasms  My wife has recurring extreme muscle spasms, u...  \n",
       "2  Muscle spasms  My wife has recurring extreme muscle spasms, u...  "
      ]
     },
     "execution_count": 12,
     "metadata": {},
     "output_type": "execute_result"
    }
   ],
   "source": [
    "display = pd.read_sql_query(\"\"\"\n",
    "SELECT * \n",
    "FROM Reviews \n",
    "WHERE Score != 3 AND UserId='#oc-R11D9D7SHXIJB9'\n",
    "ORDER BY ProductId\n",
    "\"\"\", connection)\n",
    "\n",
    "display.head()\n"
   ]
  },
  {
   "cell_type": "markdown",
   "metadata": {},
   "source": [
    "#### NOTE : \n",
    "- It can be seen that same user has multiple reviews with same values for all the parameters.\n",
    "\n",
    "- So, in order to get unbiased results ,we need to remove the rows having same parameters.\n",
    "\n",
    "- Steps to do so : \n",
    "    - first sort the data according to ProductId in ascending order.\n",
    "    - Then just keep the first similar product review and delete the others."
   ]
  },
  {
   "cell_type": "code",
   "execution_count": 13,
   "metadata": {},
   "outputs": [],
   "source": [
    "sorted_data = filtered_data.sort_values('ProductId', axis=0, ascending=True, inplace=False, kind='quicksort', na_position='last')\n"
   ]
  },
  {
   "cell_type": "code",
   "execution_count": 14,
   "metadata": {},
   "outputs": [
    {
     "data": {
      "text/plain": [
       "(87775, 10)"
      ]
     },
     "execution_count": 14,
     "metadata": {},
     "output_type": "execute_result"
    }
   ],
   "source": [
    "clean_data = sorted_data.drop_duplicates(\n",
    "    subset={\"UserId\", \"ProfileName\", \"Time\", \"Text\"}, keep='first', inplace=False)\n",
    "\n",
    "clean_data.shape"
   ]
  },
  {
   "cell_type": "markdown",
   "metadata": {},
   "source": [
    "# Data Preprocessing"
   ]
  },
  {
   "cell_type": "markdown",
   "metadata": {},
   "source": [
    "#### Steps : \n",
    "\n",
    "1. Begin by removing the HTML tags\n",
    "\n",
    "2. Remove any punctuations or limited set of special characters like , or . etc\n",
    "\n",
    "3. Check if the word is made up of english letters and is not alpha-numeric.\n",
    "\n",
    "4. Check to see if the length of the word is greater than 2 (as it was researched that there is no adjective in 2-letters)\n",
    "\n",
    "5. Convert the words to lowercase\n",
    "\n",
    "6. Remove Stopwords\n",
    "\n",
    "7. Stemming the word "
   ]
  },
  {
   "cell_type": "code",
   "execution_count": 15,
   "metadata": {},
   "outputs": [
    {
     "name": "stdout",
     "output_type": "stream",
     "text": [
      "My dogs loves this chicken but its a product from China, so we wont be buying it anymore.  Its very hard to find any chicken products made in the USA but they are out there, but this one isnt.  Its too bad too because its a good product but I wont take any chances till they know what is going on with the china imports.\n",
      "---------------------------------------\n",
      "Our dogs just love them.  I saw them in a pet store and a tag was attached regarding them being made in China and it satisfied me that they were safe.\n",
      "---------------------------------------\n",
      "I had an infestation of fruitflies, they were literally everywhere flying around me in my  kitchen, so I bought this product hoping to at least get rid of a few. But after 2 weeks, only 1 fly had stuck... I was going around with a notepad and squishing the buggers myself with a success rate of 2-3 a day so clearly this product was useless! I even dabbed to red wine and banana to the top of the column after 1 week because they were really attracted to any red wine I had in a glass... but still it did nothing to get them stuck. And then I actually saw a second fly land on it once, and I watched as it flapped it's wings frantically and within 30 secs it had unstuck itself!!!! This product was a total waste of money!\n"
     ]
    }
   ],
   "source": [
    "# sample reviews\n",
    "\n",
    "review_1 = clean_data['Text'].values[0]\n",
    "print(review_1)\n",
    "print('---------------------------------------')\n",
    "\n",
    "review_2 = clean_data['Text'].values[1]\n",
    "print(review_2)\n",
    "print('---------------------------------------')\n",
    "\n",
    "review_3 = clean_data['Text'].values[2]\n",
    "print(review_3)\n"
   ]
  },
  {
   "cell_type": "markdown",
   "metadata": {},
   "source": [
    "### 1. Removing URLs"
   ]
  },
  {
   "cell_type": "code",
   "execution_count": 16,
   "metadata": {},
   "outputs": [],
   "source": [
    "review_1 = re.sub('http\\S+', \"\", review_1)\n",
    "review_2 = re.sub('http\\S+', \"\", review_2)\n",
    "review_3 = re.sub('http\\S+', \"\", review_3)"
   ]
  },
  {
   "cell_type": "markdown",
   "metadata": {},
   "source": [
    "### 2. Removing HTML tags"
   ]
  },
  {
   "cell_type": "code",
   "execution_count": 17,
   "metadata": {},
   "outputs": [],
   "source": [
    "from bs4 import BeautifulSoup\n",
    "\n",
    "soup = BeautifulSoup(review_1, 'lxml')\n",
    "review_1 = soup.get_text()\n",
    "\n",
    "soup = BeautifulSoup(review_2, 'lxml')\n",
    "review_2 = soup.get_text()\n",
    "\n",
    "soup = BeautifulSoup(review_3, 'lxml')\n",
    "review_3 = soup.get_text()"
   ]
  },
  {
   "cell_type": "markdown",
   "metadata": {},
   "source": [
    "### 3. Removing Apostrophes"
   ]
  },
  {
   "cell_type": "code",
   "execution_count": 18,
   "metadata": {},
   "outputs": [],
   "source": [
    "def removing_apostrophes(text):\n",
    "    # general\n",
    "    text = re.sub(\"n\\'t\", \" not\", text)\n",
    "    text = re.sub(\"\\'re\", \" are\", text)\n",
    "    text = re.sub(\"\\'s\", \" is\", text)\n",
    "    text = re.sub(\"\\'d\", \" would\", text)\n",
    "    text = re.sub(\"\\'ll\", \" will\", text)\n",
    "    text = re.sub(\"\\'t\", \" not\", text)\n",
    "    text = re.sub(\"\\'ve\", \" have\", text)\n",
    "    text = re.sub(\"\\'m\", \" am\", text)\n",
    "\n",
    "    text = re.sub(\"won't\", \"will not\", text)\n",
    "    text = re.sub(\"can\\'t\", \"can not\", text)\n",
    "\n",
    "    return text\n"
   ]
  },
  {
   "cell_type": "code",
   "execution_count": 19,
   "metadata": {},
   "outputs": [
    {
     "name": "stdout",
     "output_type": "stream",
     "text": [
      "I had an infestation of fruitflies, they were literally everywhere flying around me in my  kitchen, so I bought this product hoping to at least get rid of a few. But after 2 weeks, only 1 fly had stuck... I was going around with a notepad and squishing the buggers myself with a success rate of 2-3 a day so clearly this product was useless! I even dabbed to red wine and banana to the top of the column after 1 week because they were really attracted to any red wine I had in a glass... but still it did nothing to get them stuck. And then I actually saw a second fly land on it once, and I watched as it flapped it is wings frantically and within 30 secs it had unstuck itself!!!! This product was a total waste of money!\n"
     ]
    }
   ],
   "source": [
    "# isn't gets converted to 'is not' in line 3\n",
    "review_3 = removing_apostrophes(review_3)\n",
    "print(review_3)\n"
   ]
  },
  {
   "cell_type": "markdown",
   "metadata": {},
   "source": [
    "### 4. Removing Numbers / Punctuations /Special Characters"
   ]
  },
  {
   "cell_type": "code",
   "execution_count": 20,
   "metadata": {},
   "outputs": [
    {
     "name": "stdout",
     "output_type": "stream",
     "text": [
      "My dogs loves this chicken but its a product from China, so we wont be buying it anymore.  Its very hard to find any chicken products made in the USA but they are out there, but this one isnt.  Its too bad too because its a good product but I wont take any chances till they know what is going on with the china imports.\n",
      "-----------------------------------------\n",
      "I had an infestation of fruitflies they were literally everywhere flying around me in my kitchen so I bought this product hoping to at least get rid of a few But after 2 weeks only 1 fly had stuck I was going around with a notepad and squishing the buggers myself with a success rate of 2 3 a day so clearly this product was useless I even dabbed to red wine and banana to the top of the column after 1 week because they were really attracted to any red wine I had in a glass but still it did nothing to get them stuck And then I actually saw a second fly land on it once and I watched as it flapped it is wings frantically and within 30 secs it had unstuck itself This product was a total waste of money \n"
     ]
    }
   ],
   "source": [
    "# removing numbers\n",
    "review_1 = re.sub('\\S*\\d\\S*', \"\", review_1).strip()\n",
    "print(review_1)\n",
    "print('-----------------------------------------')\n",
    "\n",
    "# removing special characters\n",
    "review_3 = re.sub('[^A-Za-z0-9]+', ' ', review_3)\n",
    "print(review_3)\n"
   ]
  },
  {
   "cell_type": "markdown",
   "metadata": {},
   "source": [
    "### 5. Removing Stopwords"
   ]
  },
  {
   "cell_type": "code",
   "execution_count": 21,
   "metadata": {},
   "outputs": [],
   "source": [
    "# removing the following words from the stop words list: 'no', 'nor', 'not'\n",
    "\n",
    "stopwords = set(['br', 'the', 'i', 'me', 'my', 'myself', 'we', 'our', 'ours', 'ourselves', 'you', \"you're\", \"you've\",\n",
    "                \"you'll\", \"you'd\", 'your', 'yours', 'yourself', 'yourselves', 'he', 'him', 'his', 'himself',\n",
    "                 'she', \"she's\", 'her', 'hers', 'herself', 'it', \"it's\", 'its', 'itself', 'they', 'them', 'their',\n",
    "                 'theirs', 'themselves', 'what', 'which', 'who', 'whom', 'this', 'that', \"that'll\", 'these', 'those',\n",
    "                 'am', 'is', 'are', 'was', 'were', 'be', 'been', 'being', 'have', 'has', 'had', 'having', 'do', 'does',\n",
    "                 'did', 'doing', 'a', 'an', 'the', 'and', 'but', 'if', 'or', 'because', 'as', 'until', 'while', 'of',\n",
    "                 'at', 'by', 'for', 'with', 'about', 'against', 'between', 'into', 'through', 'during', 'before', 'after',\n",
    "                 'above', 'below', 'to', 'from', 'up', 'down', 'in', 'out', 'on', 'off', 'over', 'under', 'again', 'further',\n",
    "                 'then', 'once', 'here', 'there', 'when', 'where', 'why', 'how', 'all', 'any', 'both', 'each', 'few', 'more',\n",
    "                 'most', 'other', 'some', 'such', 'only', 'own', 'same', 'so', 'than', 'too', 'very',\n",
    "                 's', 't', 'can', 'will', 'just', 'don', \"don't\", 'should', \"should've\", 'now', 'd', 'll', 'm', 'o', 're',\n",
    "                 've', 'y', 'ain', 'aren', \"aren't\", 'couldn', \"couldn't\", 'didn', \"didn't\", 'doesn', \"doesn't\", 'hadn',\n",
    "                 \"hadn't\", 'hasn', \"hasn't\", 'haven', \"haven't\", 'isn', \"isn't\", 'ma', 'mightn', \"mightn't\", 'mustn',\n",
    "                 \"mustn't\", 'needn', \"needn't\", 'shan', \"shan't\", 'shouldn', \"shouldn't\", 'wasn', \"wasn't\", 'weren', \"weren't\",\n",
    "                 'won', \"won't\", 'wouldn', \"wouldn't\"])\n"
   ]
  },
  {
   "cell_type": "markdown",
   "metadata": {},
   "source": [
    "### Combining all Steps"
   ]
  },
  {
   "cell_type": "code",
   "execution_count": 22,
   "metadata": {},
   "outputs": [
    {
     "name": "stderr",
     "output_type": "stream",
     "text": [
      "100%|██████████| 87775/87775 [00:19<00:00, 4540.10it/s]\n"
     ]
    }
   ],
   "source": [
    "from tqdm import tqdm\n",
    "preprocessed_reviews = []\n",
    "\n",
    "for text in tqdm(clean_data['Text'].values):\n",
    "    text = re.sub('http\\S+', \"\", text)\n",
    "    text = BeautifulSoup(text, 'lxml').get_text()\n",
    "\n",
    "    text = removing_apostrophes(text)\n",
    "\n",
    "    text = re.sub('\\S*\\d\\S*', \"\", text).strip()\n",
    "    text = re.sub('[^A-Za-z0-9]+', ' ', text)\n",
    "\n",
    "    text = ' '.join(i.lower()\n",
    "                    for i in text.split() if i.lower() not in stopwords)\n",
    "\n",
    "    preprocessed_reviews.append(text.strip())\n"
   ]
  },
  {
   "cell_type": "markdown",
   "metadata": {},
   "source": [
    "## Splitting into train, test & validation sets"
   ]
  },
  {
   "cell_type": "code",
   "execution_count": 23,
   "metadata": {},
   "outputs": [],
   "source": [
    "X = preprocessed_reviews\n",
    "y = np.array(clean_data['Score'])"
   ]
  },
  {
   "cell_type": "code",
   "execution_count": 24,
   "metadata": {},
   "outputs": [],
   "source": [
    "from sklearn.model_selection import train_test_split\n",
    "from sklearn.preprocessing import StandardScaler\n",
    "\n",
    "X_train, X_test, y_train, y_test = train_test_split(X, y, test_size=0.3)\n",
    "\n",
    "X_train, X_val, y_train, y_val = train_test_split(X_train, y_train, test_size=0.3)\n"
   ]
  },
  {
   "cell_type": "markdown",
   "metadata": {},
   "source": [
    "# Models"
   ]
  },
  {
   "cell_type": "code",
   "execution_count": 25,
   "metadata": {},
   "outputs": [],
   "source": [
    "from sklearn.linear_model import LogisticRegression\n",
    "\n",
    "from sklearn.model_selection import GridSearchCV\n",
    "\n",
    "from sklearn.experimental import enable_halving_search_cv\n",
    "from sklearn.model_selection import HalvingGridSearchCV\n",
    "\n",
    "from scipy.sparse import csr_matrix\n"
   ]
  },
  {
   "cell_type": "markdown",
   "metadata": {},
   "source": [
    "## 1. Bag of Words (BoW) "
   ]
  },
  {
   "cell_type": "code",
   "execution_count": 26,
   "metadata": {},
   "outputs": [],
   "source": [
    "vectorizer = CountVectorizer()\n",
    "X_train_bow = vectorizer.fit_transform(X_train)\n",
    "X_test_bow = vectorizer.transform(X_test)\n",
    "X_val_bow = vectorizer.transform(X_val)\n",
    "\n",
    "scaler = StandardScaler(with_mean=False)\n",
    "X_train_bow = scaler.fit_transform(X_train_bow)\n",
    "X_test_bow = scaler.transform(X_test_bow)\n",
    "X_val_bow = scaler.transform(X_val_bow)"
   ]
  },
  {
   "cell_type": "markdown",
   "metadata": {},
   "source": [
    "### 1.1 Hyperparameter Tuning"
   ]
  },
  {
   "cell_type": "code",
   "execution_count": 27,
   "metadata": {},
   "outputs": [],
   "source": [
    "penalties = ['l1', 'l2']\n",
    "C = [10**-3, 10**-2, 10**-1, 10**0, 10**1, 10**2]\n",
    "\n",
    "parameter_grid = {'penalty': penalties ,'C':C}"
   ]
  },
  {
   "cell_type": "code",
   "execution_count": 28,
   "metadata": {},
   "outputs": [
    {
     "name": "stdout",
     "output_type": "stream",
     "text": [
      "n_iterations: 3\n",
      "n_required_iterations: 3\n",
      "n_possible_iterations: 3\n",
      "min_resources_: 4778\n",
      "max_resources_: 43009\n",
      "aggressive_elimination: False\n",
      "factor: 3\n",
      "----------\n",
      "iter: 0\n",
      "n_candidates: 12\n",
      "n_resources: 4778\n",
      "Fitting 10 folds for each of 12 candidates, totalling 120 fits\n",
      "[CV 1/10] END C=0.001, penalty=l1;, score=(train=0.500, test=0.500) total time=   0.0s\n",
      "[CV 2/10] END C=0.001, penalty=l1;, score=(train=0.500, test=0.500) total time=   0.0s\n",
      "[CV 3/10] END C=0.001, penalty=l1;, score=(train=0.500, test=0.500) total time=   0.0s\n",
      "[CV 4/10] END C=0.001, penalty=l1;, score=(train=0.500, test=0.500) total time=   0.0s\n",
      "[CV 5/10] END C=0.001, penalty=l1;, score=(train=0.500, test=0.500) total time=   0.0s\n",
      "[CV 6/10] END C=0.001, penalty=l1;, score=(train=0.500, test=0.500) total time=   0.0s\n",
      "[CV 7/10] END C=0.001, penalty=l1;, score=(train=0.500, test=0.500) total time=   0.0s\n",
      "[CV 8/10] END C=0.001, penalty=l1;, score=(train=0.500, test=0.500) total time=   0.0s\n",
      "[CV 9/10] END C=0.001, penalty=l1;, score=(train=0.500, test=0.500) total time=   0.0s\n",
      "[CV 10/10] END C=0.001, penalty=l1;, score=(train=0.500, test=0.500) total time=   0.0s\n",
      "[CV 1/10] END C=0.001, penalty=l2;, score=(train=1.000, test=0.794) total time=   0.0s\n",
      "[CV 2/10] END C=0.001, penalty=l2;, score=(train=1.000, test=0.805) total time=   0.0s\n",
      "[CV 3/10] END C=0.001, penalty=l2;, score=(train=1.000, test=0.740) total time=   0.0s\n",
      "[CV 4/10] END C=0.001, penalty=l2;, score=(train=1.000, test=0.764) total time=   0.0s\n",
      "[CV 5/10] END C=0.001, penalty=l2;, score=(train=1.000, test=0.776) total time=   0.0s\n",
      "[CV 6/10] END C=0.001, penalty=l2;, score=(train=1.000, test=0.769) total time=   0.0s\n",
      "[CV 7/10] END C=0.001, penalty=l2;, score=(train=1.000, test=0.769) total time=   0.0s\n",
      "[CV 8/10] END C=0.001, penalty=l2;, score=(train=1.000, test=0.827) total time=   0.0s\n",
      "[CV 9/10] END C=0.001, penalty=l2;, score=(train=1.000, test=0.753) total time=   0.0s\n",
      "[CV 10/10] END C=0.001, penalty=l2;, score=(train=1.000, test=0.782) total time=   0.0s\n",
      "[CV 1/10] END C=0.01, penalty=l1;, score=(train=0.917, test=0.819) total time=   0.0s\n",
      "[CV 2/10] END C=0.01, penalty=l1;, score=(train=0.922, test=0.808) total time=   0.0s\n",
      "[CV 3/10] END C=0.01, penalty=l1;, score=(train=0.913, test=0.832) total time=   0.0s\n",
      "[CV 4/10] END C=0.01, penalty=l1;, score=(train=0.917, test=0.841) total time=   0.0s\n",
      "[CV 5/10] END C=0.01, penalty=l1;, score=(train=0.918, test=0.836) total time=   0.0s\n",
      "[CV 6/10] END C=0.01, penalty=l1;, score=(train=0.913, test=0.877) total time=   0.0s\n",
      "[CV 7/10] END C=0.01, penalty=l1;, score=(train=0.910, test=0.779) total time=   0.0s\n",
      "[CV 8/10] END C=0.01, penalty=l1;, score=(train=0.915, test=0.847) total time=   0.0s\n",
      "[CV 9/10] END C=0.01, penalty=l1;, score=(train=0.910, test=0.799) total time=   0.0s\n",
      "[CV 10/10] END C=0.01, penalty=l1;, score=(train=0.913, test=0.795) total time=   0.0s\n",
      "[CV 1/10] END C=0.01, penalty=l2;, score=(train=1.000, test=0.833) total time=   0.0s\n",
      "[CV 2/10] END C=0.01, penalty=l2;, score=(train=1.000, test=0.841) total time=   0.0s\n",
      "[CV 3/10] END C=0.01, penalty=l2;, score=(train=1.000, test=0.794) total time=   0.0s\n",
      "[CV 4/10] END C=0.01, penalty=l2;, score=(train=1.000, test=0.789) total time=   0.0s\n",
      "[CV 5/10] END C=0.01, penalty=l2;, score=(train=1.000, test=0.797) total time=   0.0s\n",
      "[CV 6/10] END C=0.01, penalty=l2;, score=(train=1.000, test=0.814) total time=   0.0s\n",
      "[CV 7/10] END C=0.01, penalty=l2;, score=(train=1.000, test=0.803) total time=   0.0s\n",
      "[CV 8/10] END C=0.01, penalty=l2;, score=(train=1.000, test=0.835) total time=   0.0s\n",
      "[CV 9/10] END C=0.01, penalty=l2;, score=(train=1.000, test=0.796) total time=   0.0s\n",
      "[CV 10/10] END C=0.01, penalty=l2;, score=(train=1.000, test=0.821) total time=   0.0s\n",
      "[CV 1/10] END C=0.1, penalty=l1;, score=(train=1.000, test=0.890) total time=   0.0s\n",
      "[CV 2/10] END C=0.1, penalty=l1;, score=(train=0.999, test=0.872) total time=   0.0s\n",
      "[CV 3/10] END C=0.1, penalty=l1;, score=(train=0.999, test=0.888) total time=   0.0s\n",
      "[CV 4/10] END C=0.1, penalty=l1;, score=(train=1.000, test=0.853) total time=   0.0s\n",
      "[CV 5/10] END C=0.1, penalty=l1;, score=(train=0.999, test=0.863) total time=   0.0s\n",
      "[CV 6/10] END C=0.1, penalty=l1;, score=(train=0.999, test=0.920) total time=   0.0s\n",
      "[CV 7/10] END C=0.1, penalty=l1;, score=(train=0.999, test=0.877) total time=   0.0s\n",
      "[CV 8/10] END C=0.1, penalty=l1;, score=(train=0.999, test=0.882) total time=   0.0s\n",
      "[CV 9/10] END C=0.1, penalty=l1;, score=(train=0.999, test=0.852) total time=   0.0s\n",
      "[CV 10/10] END C=0.1, penalty=l1;, score=(train=0.999, test=0.867) total time=   0.0s\n",
      "[CV 1/10] END C=0.1, penalty=l2;, score=(train=1.000, test=0.837) total time=   0.0s\n",
      "[CV 2/10] END C=0.1, penalty=l2;, score=(train=1.000, test=0.837) total time=   0.0s\n",
      "[CV 3/10] END C=0.1, penalty=l2;, score=(train=1.000, test=0.823) total time=   0.0s\n",
      "[CV 4/10] END C=0.1, penalty=l2;, score=(train=1.000, test=0.794) total time=   0.0s\n",
      "[CV 5/10] END C=0.1, penalty=l2;, score=(train=1.000, test=0.794) total time=   0.0s\n",
      "[CV 6/10] END C=0.1, penalty=l2;, score=(train=1.000, test=0.821) total time=   0.0s\n",
      "[CV 7/10] END C=0.1, penalty=l2;, score=(train=1.000, test=0.805) total time=   0.0s\n",
      "[CV 8/10] END C=0.1, penalty=l2;, score=(train=1.000, test=0.827) total time=   0.0s\n",
      "[CV 9/10] END C=0.1, penalty=l2;, score=(train=1.000, test=0.800) total time=   0.0s\n",
      "[CV 10/10] END C=0.1, penalty=l2;, score=(train=1.000, test=0.816) total time=   0.0s\n",
      "[CV 1/10] END C=1, penalty=l1;, score=(train=1.000, test=0.875) total time=   0.0s\n",
      "[CV 2/10] END C=1, penalty=l1;, score=(train=1.000, test=0.872) total time=   0.0s\n",
      "[CV 3/10] END C=1, penalty=l1;, score=(train=1.000, test=0.868) total time=   0.0s\n",
      "[CV 4/10] END C=1, penalty=l1;, score=(train=1.000, test=0.839) total time=   0.0s\n",
      "[CV 5/10] END C=1, penalty=l1;, score=(train=1.000, test=0.847) total time=   0.0s\n",
      "[CV 6/10] END C=1, penalty=l1;, score=(train=1.000, test=0.899) total time=   0.0s\n",
      "[CV 7/10] END C=1, penalty=l1;, score=(train=1.000, test=0.871) total time=   0.0s\n",
      "[CV 8/10] END C=1, penalty=l1;, score=(train=1.000, test=0.865) total time=   0.0s\n",
      "[CV 9/10] END C=1, penalty=l1;, score=(train=1.000, test=0.843) total time=   0.0s\n",
      "[CV 10/10] END C=1, penalty=l1;, score=(train=1.000, test=0.854) total time=   0.0s\n",
      "[CV 1/10] END C=1, penalty=l2;, score=(train=1.000, test=0.833) total time=   0.0s\n",
      "[CV 2/10] END C=1, penalty=l2;, score=(train=1.000, test=0.832) total time=   0.0s\n",
      "[CV 3/10] END C=1, penalty=l2;, score=(train=1.000, test=0.833) total time=   0.0s\n",
      "[CV 4/10] END C=1, penalty=l2;, score=(train=1.000, test=0.796) total time=   0.0s\n",
      "[CV 5/10] END C=1, penalty=l2;, score=(train=1.000, test=0.791) total time=   0.0s\n",
      "[CV 6/10] END C=1, penalty=l2;, score=(train=1.000, test=0.816) total time=   0.0s\n",
      "[CV 7/10] END C=1, penalty=l2;, score=(train=1.000, test=0.804) total time=   0.0s\n",
      "[CV 8/10] END C=1, penalty=l2;, score=(train=1.000, test=0.821) total time=   0.0s\n",
      "[CV 9/10] END C=1, penalty=l2;, score=(train=1.000, test=0.799) total time=   0.0s\n",
      "[CV 10/10] END C=1, penalty=l2;, score=(train=1.000, test=0.814) total time=   0.0s\n",
      "[CV 1/10] END C=10, penalty=l1;, score=(train=1.000, test=0.864) total time=   0.0s\n",
      "[CV 2/10] END C=10, penalty=l1;, score=(train=1.000, test=0.868) total time=   0.0s\n",
      "[CV 3/10] END C=10, penalty=l1;, score=(train=1.000, test=0.853) total time=   0.0s\n",
      "[CV 4/10] END C=10, penalty=l1;, score=(train=1.000, test=0.840) total time=   0.0s\n",
      "[CV 5/10] END C=10, penalty=l1;, score=(train=1.000, test=0.846) total time=   0.0s\n",
      "[CV 6/10] END C=10, penalty=l1;, score=(train=1.000, test=0.890) total time=   0.0s\n",
      "[CV 7/10] END C=10, penalty=l1;, score=(train=1.000, test=0.864) total time=   0.0s\n",
      "[CV 8/10] END C=10, penalty=l1;, score=(train=1.000, test=0.859) total time=   0.0s\n",
      "[CV 9/10] END C=10, penalty=l1;, score=(train=1.000, test=0.834) total time=   0.0s\n",
      "[CV 10/10] END C=10, penalty=l1;, score=(train=1.000, test=0.844) total time=   0.0s\n",
      "[CV 1/10] END C=10, penalty=l2;, score=(train=1.000, test=0.826) total time=   0.0s\n",
      "[CV 2/10] END C=10, penalty=l2;, score=(train=1.000, test=0.829) total time=   0.0s\n",
      "[CV 3/10] END C=10, penalty=l2;, score=(train=1.000, test=0.829) total time=   0.1s\n",
      "[CV 4/10] END C=10, penalty=l2;, score=(train=1.000, test=0.794) total time=   0.1s\n",
      "[CV 5/10] END C=10, penalty=l2;, score=(train=1.000, test=0.790) total time=   0.1s\n",
      "[CV 6/10] END C=10, penalty=l2;, score=(train=1.000, test=0.813) total time=   0.1s\n",
      "[CV 7/10] END C=10, penalty=l2;, score=(train=1.000, test=0.798) total time=   0.1s\n",
      "[CV 8/10] END C=10, penalty=l2;, score=(train=1.000, test=0.817) total time=   0.1s\n",
      "[CV 9/10] END C=10, penalty=l2;, score=(train=1.000, test=0.797) total time=   0.0s\n",
      "[CV 10/10] END C=10, penalty=l2;, score=(train=1.000, test=0.809) total time=   0.1s\n",
      "[CV 1/10] END C=100, penalty=l1;, score=(train=1.000, test=0.859) total time=   0.0s\n",
      "[CV 2/10] END C=100, penalty=l1;, score=(train=1.000, test=0.865) total time=   0.0s\n",
      "[CV 3/10] END C=100, penalty=l1;, score=(train=1.000, test=0.862) total time=   0.0s\n",
      "[CV 4/10] END C=100, penalty=l1;, score=(train=1.000, test=0.830) total time=   0.0s\n",
      "[CV 5/10] END C=100, penalty=l1;, score=(train=1.000, test=0.835) total time=   0.0s\n",
      "[CV 6/10] END C=100, penalty=l1;, score=(train=1.000, test=0.865) total time=   0.0s\n",
      "[CV 7/10] END C=100, penalty=l1;, score=(train=1.000, test=0.842) total time=   0.0s\n",
      "[CV 8/10] END C=100, penalty=l1;, score=(train=1.000, test=0.858) total time=   0.0s\n",
      "[CV 9/10] END C=100, penalty=l1;, score=(train=1.000, test=0.842) total time=   0.0s\n",
      "[CV 10/10] END C=100, penalty=l1;, score=(train=1.000, test=0.833) total time=   0.0s\n",
      "[CV 1/10] END C=100, penalty=l2;, score=(train=1.000, test=0.823) total time=   0.1s\n",
      "[CV 2/10] END C=100, penalty=l2;, score=(train=1.000, test=0.819) total time=   0.0s\n",
      "[CV 3/10] END C=100, penalty=l2;, score=(train=1.000, test=0.817) total time=   0.1s\n",
      "[CV 4/10] END C=100, penalty=l2;, score=(train=1.000, test=0.786) total time=   0.1s\n",
      "[CV 5/10] END C=100, penalty=l2;, score=(train=1.000, test=0.781) total time=   0.1s\n",
      "[CV 6/10] END C=100, penalty=l2;, score=(train=1.000, test=0.803) total time=   0.1s\n",
      "[CV 7/10] END C=100, penalty=l2;, score=(train=1.000, test=0.797) total time=   0.1s\n",
      "[CV 8/10] END C=100, penalty=l2;, score=(train=1.000, test=0.807) total time=   0.1s\n",
      "[CV 9/10] END C=100, penalty=l2;, score=(train=1.000, test=0.795) total time=   0.0s\n",
      "[CV 10/10] END C=100, penalty=l2;, score=(train=1.000, test=0.800) total time=   0.1s\n",
      "----------\n",
      "iter: 1\n",
      "n_candidates: 4\n",
      "n_resources: 14334\n",
      "Fitting 10 folds for each of 4 candidates, totalling 40 fits\n",
      "[CV 1/10] END C=100, penalty=l1;, score=(train=1.000, test=0.867) total time=   0.0s\n",
      "[CV 2/10] END C=100, penalty=l1;, score=(train=1.000, test=0.862) total time=   0.0s\n",
      "[CV 3/10] END C=100, penalty=l1;, score=(train=1.000, test=0.879) total time=   0.0s\n",
      "[CV 4/10] END C=100, penalty=l1;, score=(train=1.000, test=0.870) total time=   0.0s\n",
      "[CV 5/10] END C=100, penalty=l1;, score=(train=1.000, test=0.878) total time=   0.0s\n",
      "[CV 6/10] END C=100, penalty=l1;, score=(train=1.000, test=0.894) total time=   0.0s\n",
      "[CV 7/10] END C=100, penalty=l1;, score=(train=1.000, test=0.893) total time=   0.0s\n",
      "[CV 8/10] END C=100, penalty=l1;, score=(train=1.000, test=0.872) total time=   0.0s\n",
      "[CV 9/10] END C=100, penalty=l1;, score=(train=1.000, test=0.839) total time=   0.0s\n",
      "[CV 10/10] END C=100, penalty=l1;, score=(train=1.000, test=0.861) total time=   0.0s\n",
      "[CV 1/10] END C=10, penalty=l1;, score=(train=1.000, test=0.889) total time=   0.0s\n",
      "[CV 2/10] END C=10, penalty=l1;, score=(train=1.000, test=0.870) total time=   0.0s\n",
      "[CV 3/10] END C=10, penalty=l1;, score=(train=1.000, test=0.885) total time=   0.0s\n",
      "[CV 4/10] END C=10, penalty=l1;, score=(train=1.000, test=0.878) total time=   0.1s\n",
      "[CV 5/10] END C=10, penalty=l1;, score=(train=1.000, test=0.881) total time=   0.0s\n",
      "[CV 6/10] END C=10, penalty=l1;, score=(train=1.000, test=0.890) total time=   0.0s\n",
      "[CV 7/10] END C=10, penalty=l1;, score=(train=1.000, test=0.915) total time=   0.0s\n",
      "[CV 8/10] END C=10, penalty=l1;, score=(train=1.000, test=0.877) total time=   0.0s\n",
      "[CV 9/10] END C=10, penalty=l1;, score=(train=1.000, test=0.855) total time=   0.0s\n",
      "[CV 10/10] END C=10, penalty=l1;, score=(train=1.000, test=0.893) total time=   0.0s\n",
      "[CV 1/10] END C=1, penalty=l1;, score=(train=1.000, test=0.898) total time=   0.0s\n",
      "[CV 2/10] END C=1, penalty=l1;, score=(train=1.000, test=0.885) total time=   0.0s\n",
      "[CV 3/10] END C=1, penalty=l1;, score=(train=1.000, test=0.895) total time=   0.0s\n",
      "[CV 4/10] END C=1, penalty=l1;, score=(train=1.000, test=0.883) total time=   0.0s\n",
      "[CV 5/10] END C=1, penalty=l1;, score=(train=1.000, test=0.894) total time=   0.0s\n",
      "[CV 6/10] END C=1, penalty=l1;, score=(train=1.000, test=0.897) total time=   0.0s\n",
      "[CV 7/10] END C=1, penalty=l1;, score=(train=1.000, test=0.928) total time=   0.0s\n",
      "[CV 8/10] END C=1, penalty=l1;, score=(train=1.000, test=0.886) total time=   0.0s\n",
      "[CV 9/10] END C=1, penalty=l1;, score=(train=1.000, test=0.862) total time=   0.0s\n",
      "[CV 10/10] END C=1, penalty=l1;, score=(train=1.000, test=0.908) total time=   0.0s\n",
      "[CV 1/10] END C=0.1, penalty=l1;, score=(train=1.000, test=0.915) total time=   0.0s\n",
      "[CV 2/10] END C=0.1, penalty=l1;, score=(train=0.999, test=0.900) total time=   0.0s\n",
      "[CV 3/10] END C=0.1, penalty=l1;, score=(train=1.000, test=0.908) total time=   0.0s\n",
      "[CV 4/10] END C=0.1, penalty=l1;, score=(train=1.000, test=0.890) total time=   0.0s\n",
      "[CV 5/10] END C=0.1, penalty=l1;, score=(train=0.999, test=0.920) total time=   0.0s\n",
      "[CV 6/10] END C=0.1, penalty=l1;, score=(train=1.000, test=0.913) total time=   0.0s\n",
      "[CV 7/10] END C=0.1, penalty=l1;, score=(train=0.999, test=0.941) total time=   0.0s\n",
      "[CV 8/10] END C=0.1, penalty=l1;, score=(train=0.999, test=0.913) total time=   0.0s\n",
      "[CV 9/10] END C=0.1, penalty=l1;, score=(train=0.999, test=0.881) total time=   0.0s\n",
      "[CV 10/10] END C=0.1, penalty=l1;, score=(train=0.999, test=0.930) total time=   0.0s\n",
      "----------\n",
      "iter: 2\n",
      "n_candidates: 2\n",
      "n_resources: 43002\n",
      "Fitting 10 folds for each of 2 candidates, totalling 20 fits\n",
      "[CV 1/10] END C=1, penalty=l1;, score=(train=1.000, test=0.897) total time=   0.4s\n",
      "[CV 2/10] END C=1, penalty=l1;, score=(train=1.000, test=0.888) total time=   0.4s\n",
      "[CV 3/10] END C=1, penalty=l1;, score=(train=1.000, test=0.894) total time=   0.4s\n",
      "[CV 4/10] END C=1, penalty=l1;, score=(train=1.000, test=0.890) total time=   0.4s\n",
      "[CV 5/10] END C=1, penalty=l1;, score=(train=1.000, test=0.911) total time=   0.4s\n",
      "[CV 6/10] END C=1, penalty=l1;, score=(train=1.000, test=0.887) total time=   3.3s\n",
      "[CV 7/10] END C=1, penalty=l1;, score=(train=1.000, test=0.895) total time=   0.4s\n",
      "[CV 8/10] END C=1, penalty=l1;, score=(train=1.000, test=0.894) total time=   2.9s\n",
      "[CV 9/10] END C=1, penalty=l1;, score=(train=1.000, test=0.884) total time=   0.4s\n",
      "[CV 10/10] END C=1, penalty=l1;, score=(train=1.000, test=0.892) total time=   0.4s\n",
      "[CV 1/10] END C=0.1, penalty=l1;, score=(train=0.999, test=0.926) total time=   0.2s\n",
      "[CV 2/10] END C=0.1, penalty=l1;, score=(train=0.999, test=0.924) total time=   0.2s\n",
      "[CV 3/10] END C=0.1, penalty=l1;, score=(train=0.999, test=0.925) total time=   0.2s\n",
      "[CV 4/10] END C=0.1, penalty=l1;, score=(train=0.999, test=0.923) total time=   0.2s\n",
      "[CV 5/10] END C=0.1, penalty=l1;, score=(train=0.999, test=0.937) total time=   0.2s\n",
      "[CV 6/10] END C=0.1, penalty=l1;, score=(train=0.999, test=0.917) total time=   0.2s\n",
      "[CV 7/10] END C=0.1, penalty=l1;, score=(train=0.999, test=0.931) total time=   0.2s\n",
      "[CV 8/10] END C=0.1, penalty=l1;, score=(train=0.999, test=0.925) total time=   0.2s\n",
      "[CV 9/10] END C=0.1, penalty=l1;, score=(train=0.999, test=0.913) total time=   0.3s\n",
      "[CV 10/10] END C=0.1, penalty=l1;, score=(train=0.999, test=0.924) total time=   0.2s\n",
      "Best Hyperparameters -->  {'C': 0.1, 'penalty': 'l1'}\n",
      "Best Accuracy -->  0.9245054323478671\n"
     ]
    }
   ],
   "source": [
    "lor_model = LogisticRegression(solver='liblinear')\n",
    "bow_model = HalvingGridSearchCV(lor_model ,parameter_grid ,scoring='roc_auc' ,cv=10 ,verbose=3)\n",
    "\n",
    "bow_model.fit(X_train_bow ,y_train) \n",
    "print('Best Hyperparameters --> ', bow_model.best_params_)\n",
    "print('Best Accuracy --> ',bow_model.best_score_)"
   ]
  },
  {
   "cell_type": "markdown",
   "metadata": {},
   "source": [
    "### 1.2 Model Building (BoW - LoR)"
   ]
  },
  {
   "cell_type": "code",
   "execution_count": 29,
   "metadata": {},
   "outputs": [],
   "source": [
    "model_bow = LogisticRegression(penalty=bow_model.best_estimator_.penalty ,C=bow_model.best_estimator_.C ,solver='liblinear')\n",
    "\n",
    "model_bow.fit(X_train_bow, y_train)\n",
    "\n",
    "# predicted values for train & test data\n",
    "y_pred_bow = model_bow.predict_proba(X_train_bow)[:, 1]\n",
    "y_pred_bow_test = model_bow.predict_proba(X_test_bow)[:, 1]"
   ]
  },
  {
   "cell_type": "markdown",
   "metadata": {},
   "source": [
    "### 1.3 Model Evaluation (BoW - LoR)"
   ]
  },
  {
   "cell_type": "code",
   "execution_count": 30,
   "metadata": {},
   "outputs": [
    {
     "name": "stdout",
     "output_type": "stream",
     "text": [
      "Accuracy of BoW model :  0.9077203508905176\n"
     ]
    }
   ],
   "source": [
    "print('Accuracy of BoW model : ',model_bow.score(X_test_bow, y_test))"
   ]
  },
  {
   "cell_type": "code",
   "execution_count": 31,
   "metadata": {},
   "outputs": [
    {
     "data": {
      "image/png": "[encoded data removed]",
      "text/plain": [
       "<Figure size 432x288 with 1 Axes>"
      ]
     },
     "metadata": {
      "needs_background": "light"
     },
     "output_type": "display_data"
    }
   ],
   "source": [
    "# plotting ROC curve for train & test data\n",
    "\n",
    "false_positive_rate1, true_positive_rate1, threshold1 = roc_curve(y_train, y_pred_bow)\n",
    "false_positive_rate2, true_positive_rate2, threshold2 = roc_curve(y_test, y_pred_bow_test)\n",
    "\n",
    "fig = plt.figure()\n",
    "ax = plt.subplot(111)\n",
    "\n",
    "# train ROC\n",
    "ax.plot(false_positive_rate1, true_positive_rate1, label='Train ROC ,auc ={}'.format(str(roc_auc_score(y_train, y_pred_bow))))\n",
    "\n",
    "# test ROC\n",
    "ax.plot(false_positive_rate2, true_positive_rate2, label='Test ROC ,auc ={}'.format(str(roc_auc_score(y_test, y_pred_bow_test))))\n",
    "\n",
    "plt.title('ROC')\n",
    "plt.grid('True')\n",
    "plt.xlabel('False Positive Rate')\n",
    "plt.ylabel('True Positive Rate')\n",
    "ax.legend()\n",
    "plt.show()\n"
   ]
  },
  {
   "cell_type": "code",
   "execution_count": 32,
   "metadata": {},
   "outputs": [
    {
     "data": {
      "image/png": "[encoded data removed]",
      "text/plain": [
       "<Figure size 432x288 with 2 Axes>"
      ]
     },
     "metadata": {
      "needs_background": "light"
     },
     "output_type": "display_data"
    }
   ],
   "source": [
    "# confusion Matrix for test data\n",
    "y_pred_bow_test = model_bow.predict(X_test_bow)\n",
    "\n",
    "confusion = confusion_matrix(y_test, y_pred_bow_test)\n",
    "class_labels = [\"negative\", \"positive\"]\n",
    "\n",
    "cf_data = pd.DataFrame(confusion, index=class_labels, columns=class_labels)\n",
    "sns.heatmap(cf_data, annot=True, fmt='.5g')\n",
    "\n",
    "plt.title(\"Confusion Matrix for test data\")\n",
    "plt.xlabel(\"Predicted Label\")\n",
    "plt.ylabel(\"True Label\")\n",
    "plt.show()\n"
   ]
  },
  {
   "cell_type": "markdown",
   "metadata": {},
   "source": [
    "### 1.4 Perturbation Test"
   ]
  },
  {
   "cell_type": "code",
   "execution_count": 33,
   "metadata": {},
   "outputs": [
    {
     "data": {
      "text/plain": [
       "LogisticRegression(C=0.1)"
      ]
     },
     "execution_count": 33,
     "metadata": {},
     "output_type": "execute_result"
    }
   ],
   "source": [
    "lr_bow = LogisticRegression(penalty='l2', C=bow_model.best_estimator_.C)\n",
    "lr_bow.fit(X_train_bow ,y_train)"
   ]
  },
  {
   "cell_type": "code",
   "execution_count": 34,
   "metadata": {},
   "outputs": [
    {
     "name": "stdout",
     "output_type": "stream",
     "text": [
      "(43009, 39094)\n"
     ]
    }
   ],
   "source": [
    "# step 1 : Get the weights W after fit your model with the data X\n",
    "weights_prev = lr_bow.coef_\n",
    "\n",
    "# step 2 : Add a noise to the X (X' = X + e) and get the new data set X' (if X is a sparse matrix, X.data+=e)\n",
    "\n",
    "X2 = X_train_bow\n",
    "\n",
    "epsilon = 0.00005\n",
    "X2.data = X2.data + epsilon \n",
    "\n",
    "print(X2.shape)"
   ]
  },
  {
   "cell_type": "code",
   "execution_count": 35,
   "metadata": {},
   "outputs": [],
   "source": [
    "# step 3 --> Fit the model again on data X' and get the weights W'\n",
    "model2 = LogisticRegression(penalty='l2', C=bow_model.best_estimator_.C)\n",
    "model2.fit(X2 ,y_train)\n",
    "\n",
    "weights_after = model2.coef_"
   ]
  },
  {
   "cell_type": "code",
   "execution_count": 36,
   "metadata": {},
   "outputs": [],
   "source": [
    "# step 4 --> Add a small eps value(to eliminate the divisible by zero error) to W and W’ i.e W=W+10^-6 and W’ = W’+10^-\n",
    "\n",
    "epsilon2 = 0.00006 \n",
    "\n",
    "weights_prev += epsilon2 \n",
    "weights_after += epsilon2"
   ]
  },
  {
   "cell_type": "code",
   "execution_count": 37,
   "metadata": {},
   "outputs": [
    {
     "data": {
      "text/plain": [
       "[2392.3130091236794,\n",
       " 340.73263949886007,\n",
       " 194.70508489510883,\n",
       " 164.7875770470217,\n",
       " 158.52360129904133,\n",
       " 148.62852181534032,\n",
       " 148.62852181534032,\n",
       " 148.62852181534032,\n",
       " 148.62852181534032,\n",
       " 148.62852181534032]"
      ]
     },
     "execution_count": 37,
     "metadata": {},
     "output_type": "execute_result"
    }
   ],
   "source": [
    "# step 5 --> find the % change between W and W' (| (W-W') / (W) |)*100)\n",
    "\n",
    "percent_change = []\n",
    "\n",
    "for i in range(len(weights_prev[0])):\n",
    "    diff = weights_after[0][i] - weights_prev[0][i]\n",
    "    diff /= weights_prev[0][i]\n",
    "    percent_change.append(diff)\n",
    "\n",
    "original_percent_change = np.absolute(percent_change)\n",
    "percent_change = sorted(np.absolute(percent_change))[::-1]\n",
    "\n",
    "# diff = abs((weights_prev - weights_after) / (weights_prev))\n",
    "# percent_change = diff*100 \n",
    "\n",
    "percent_change[:10]"
   ]
  },
  {
   "cell_type": "code",
   "execution_count": 38,
   "metadata": {},
   "outputs": [
    {
     "name": "stdout",
     "output_type": "stream",
     "text": [
      "10th percentile value : 0.006897179909938107\n",
      "20th percentile value : 0.016119981075157573\n",
      "30th percentile value : 0.02977913076534674\n",
      "40th percentile value : 0.05219918428749633\n",
      "50th percentile value : 0.09822950203598164\n",
      "60th percentile value : 0.24680191965477052\n",
      "70th percentile value : 0.4785252870221824\n",
      "80th percentile value : 0.5721716090285607\n",
      "90th percentile value : 0.6529588333425332\n",
      "100th percentile value : 2392.3130091236794\n"
     ]
    }
   ],
   "source": [
    "# calculating percentiles from 0 to 100 \n",
    "\n",
    "for i in range(10,101 ,10):\n",
    "    print('{}th percentile value : {}'.format(i ,np.percentile(percent_change ,i))) "
   ]
  },
  {
   "cell_type": "code",
   "execution_count": 39,
   "metadata": {},
   "outputs": [
    {
     "name": "stdout",
     "output_type": "stream",
     "text": [
      "91th percentile value : 0.6673830677305774\n",
      "92th percentile value : 0.6817415432038573\n",
      "93th percentile value : 0.690734211165577\n",
      "94th percentile value : 0.7870249611405244\n",
      "95th percentile value : 1.2459078423202692\n",
      "96th percentile value : 1.5856917335451022\n",
      "97th percentile value : 1.695540991214433\n",
      "98th percentile value : 2.1878202794590953\n",
      "99th percentile value : 3.8136703955406626\n",
      "100th percentile value : 2392.3130091236794\n"
     ]
    }
   ],
   "source": [
    "# there is a abrupt change when going from 90th percentile to 100th percentile. \n",
    "\n",
    "for i in range(91,101 ,1):\n",
    "    print('{}th percentile value : {}'.format(i ,np.percentile(percent_change ,i)))"
   ]
  },
  {
   "cell_type": "code",
   "execution_count": 40,
   "metadata": {},
   "outputs": [
    {
     "name": "stdout",
     "output_type": "stream",
     "text": [
      "99.1th percentile value : 4.1193686020744895\n",
      "99.2th percentile value : 4.970894240876275\n",
      "99.3th percentile value : 5.845307584036691\n",
      "99.4th percentile value : 6.482307431583365\n",
      "99.5th percentile value : 7.222078375305392\n",
      "99.6th percentile value : 8.201893892273239\n",
      "99.7th percentile value : 10.02180374951895\n",
      "99.8th percentile value : 16.557391538164453\n",
      "99.9th percentile value : 38.56641527957147\n",
      "100.0th percentile value : 2392.3130091236794\n"
     ]
    }
   ],
   "source": [
    "# looking more closely \n",
    "\n",
    "for i in range(1,11,1):\n",
    "    print('{}th percentile value : {}'.format(i * 1.0/10 + 99 ,np.percentile(percent_change ,i*1.0/10 +99)))"
   ]
  },
  {
   "cell_type": "code",
   "execution_count": 41,
   "metadata": {},
   "outputs": [
    {
     "data": {
      "text/html": [
       "<div>\n",
       "<style scoped>\n",
       "    .dataframe tbody tr th:only-of-type {\n",
       "        vertical-align: middle;\n",
       "    }\n",
       "\n",
       "    .dataframe tbody tr th {\n",
       "        vertical-align: top;\n",
       "    }\n",
       "\n",
       "    .dataframe thead th {\n",
       "        text-align: right;\n",
       "    }\n",
       "</style>\n",
       "<table border=\"1\" class=\"dataframe\">\n",
       "  <thead>\n",
       "    <tr style=\"text-align: right;\">\n",
       "      <th></th>\n",
       "      <th>Percent_Change</th>\n",
       "    </tr>\n",
       "  </thead>\n",
       "  <tbody>\n",
       "    <tr>\n",
       "      <th>aa</th>\n",
       "      <td>2392.313009</td>\n",
       "    </tr>\n",
       "    <tr>\n",
       "      <th>aaa</th>\n",
       "      <td>340.732639</td>\n",
       "    </tr>\n",
       "    <tr>\n",
       "      <th>aaaa</th>\n",
       "      <td>194.705085</td>\n",
       "    </tr>\n",
       "    <tr>\n",
       "      <th>aaaaaaarrrrrggghhh</th>\n",
       "      <td>164.787577</td>\n",
       "    </tr>\n",
       "    <tr>\n",
       "      <th>aaaaah</th>\n",
       "      <td>158.523601</td>\n",
       "    </tr>\n",
       "  </tbody>\n",
       "</table>\n",
       "</div>"
      ],
      "text/plain": [
       "                    Percent_Change\n",
       "aa                     2392.313009\n",
       "aaa                     340.732639\n",
       "aaaa                    194.705085\n",
       "aaaaaaarrrrrggghhh      164.787577\n",
       "aaaaah                  158.523601"
      ]
     },
     "execution_count": 41,
     "metadata": {},
     "output_type": "execute_result"
    }
   ],
   "source": [
    "# getting percentage change dataframe\n",
    "\n",
    "percent_change_df = pd.DataFrame(percent_change ,index=vectorizer.get_feature_names_out() ,columns=['Percent_Change'])\n",
    "\n",
    "percent_change_df.head()"
   ]
  },
  {
   "cell_type": "code",
   "execution_count": 42,
   "metadata": {},
   "outputs": [
    {
     "data": {
      "text/plain": [
       "(40, 1)"
      ]
     },
     "execution_count": 42,
     "metadata": {},
     "output_type": "execute_result"
    }
   ],
   "source": [
    "# Printing the feature names whose percent-change is more than a threshold x\n",
    "\n",
    "percent_change_df = percent_change_df[percent_change_df['Percent_Change']\n",
    "                                      > 38.56641527957147]\n",
    "percent_change_df.shape"
   ]
  },
  {
   "cell_type": "code",
   "execution_count": 43,
   "metadata": {},
   "outputs": [
    {
     "data": {
      "text/html": [
       "<div>\n",
       "<style scoped>\n",
       "    .dataframe tbody tr th:only-of-type {\n",
       "        vertical-align: middle;\n",
       "    }\n",
       "\n",
       "    .dataframe tbody tr th {\n",
       "        vertical-align: top;\n",
       "    }\n",
       "\n",
       "    .dataframe thead th {\n",
       "        text-align: right;\n",
       "    }\n",
       "</style>\n",
       "<table border=\"1\" class=\"dataframe\">\n",
       "  <thead>\n",
       "    <tr style=\"text-align: right;\">\n",
       "      <th></th>\n",
       "      <th>Percent_Change</th>\n",
       "    </tr>\n",
       "  </thead>\n",
       "  <tbody>\n",
       "    <tr>\n",
       "      <th>ablaze</th>\n",
       "      <td>38.818159</td>\n",
       "    </tr>\n",
       "    <tr>\n",
       "      <th>abit</th>\n",
       "      <td>39.059222</td>\n",
       "    </tr>\n",
       "    <tr>\n",
       "      <th>ability</th>\n",
       "      <td>41.601261</td>\n",
       "    </tr>\n",
       "    <tr>\n",
       "      <th>abilities</th>\n",
       "      <td>44.769028</td>\n",
       "    </tr>\n",
       "    <tr>\n",
       "      <th>abiding</th>\n",
       "      <td>45.877332</td>\n",
       "    </tr>\n",
       "    <tr>\n",
       "      <th>abide</th>\n",
       "      <td>46.683041</td>\n",
       "    </tr>\n",
       "    <tr>\n",
       "      <th>abeneficial</th>\n",
       "      <td>51.466098</td>\n",
       "    </tr>\n",
       "    <tr>\n",
       "      <th>abe</th>\n",
       "      <td>51.466098</td>\n",
       "    </tr>\n",
       "    <tr>\n",
       "      <th>abdominal</th>\n",
       "      <td>51.466098</td>\n",
       "    </tr>\n",
       "    <tr>\n",
       "      <th>abdomen</th>\n",
       "      <td>51.466098</td>\n",
       "    </tr>\n",
       "  </tbody>\n",
       "</table>\n",
       "</div>"
      ],
      "text/plain": [
       "             Percent_Change\n",
       "ablaze            38.818159\n",
       "abit              39.059222\n",
       "ability           41.601261\n",
       "abilities         44.769028\n",
       "abiding           45.877332\n",
       "abide             46.683041\n",
       "abeneficial       51.466098\n",
       "abe               51.466098\n",
       "abdominal         51.466098\n",
       "abdomen           51.466098"
      ]
     },
     "execution_count": 43,
     "metadata": {},
     "output_type": "execute_result"
    }
   ],
   "source": [
    "percent_change_df.sort_values(by='Percent_Change' ,inplace=True)\n",
    "\n",
    "percent_change_df.head(10)"
   ]
  },
  {
   "cell_type": "markdown",
   "metadata": {},
   "source": [
    "### 1.5 Calculating sparsity on weight vector (after L1 regularization)"
   ]
  },
  {
   "cell_type": "code",
   "execution_count": 44,
   "metadata": {},
   "outputs": [
    {
     "name": "stdout",
     "output_type": "stream",
     "text": [
      "For C: 0.001    Number of non-zero coefficients : 34\n",
      "For C: 0.01    Number of non-zero coefficients : 2818\n",
      "For C: 0.1    Number of non-zero coefficients : 8523\n",
      "For C: 1.0    Number of non-zero coefficients : 9890\n",
      "For C: 10.0    Number of non-zero coefficients : 10604\n",
      "For C: 100.0    Number of non-zero coefficients : 13989\n"
     ]
    }
   ],
   "source": [
    "# count --> Counts number of non zero weights for a given C \n",
    "# error --> stores error for each value of c\n",
    "count =[]\n",
    "error =[]\n",
    "\n",
    "c_sparse = np.array([10**-3, 10**-2, 10**-1, 10**0, 10**1, 10**2])\n",
    "\n",
    "for i in c_sparse:\n",
    "    model = LogisticRegression(penalty='l1', C=i ,solver='liblinear')\n",
    "    model.fit(X_train_bow ,y_train)\n",
    "    \n",
    "    count.append(np.count_nonzero(model.coef_))\n",
    "    error.append(1 - model.score(X_test_bow ,y_test))\n",
    "    print('For C: {}    Number of non-zero coefficients : {}'.format(i ,np.count_nonzero(model.coef_)))"
   ]
  },
  {
   "cell_type": "code",
   "execution_count": 45,
   "metadata": {},
   "outputs": [
    {
     "name": "stdout",
     "output_type": "stream",
     "text": [
      "Number of non-zero element in weight vector : 8557\n"
     ]
    }
   ],
   "source": [
    "weights = model_bow.coef_ \n",
    "print('Number of non-zero element in weight vector : {}'.format(np.count_nonzero(weights)))"
   ]
  },
  {
   "cell_type": "code",
   "execution_count": 46,
   "metadata": {},
   "outputs": [
    {
     "data": {
      "image/png": "[encoded data removed]",
      "text/plain": [
       "<Figure size 432x288 with 1 Axes>"
      ]
     },
     "metadata": {
      "needs_background": "light"
     },
     "output_type": "display_data"
    }
   ],
   "source": [
    "# plotting c vs Sparsity\n",
    "\n",
    "plt.title('C vs Sparsity')\n",
    "plt.plot(range(len(c_sparse)), count)\n",
    "\n",
    "plt.xlabel('C')\n",
    "plt.ylabel('Number of non-zero coefficients')\n",
    "plt.xticks(range(len(c_sparse)), c_sparse)\n",
    "plt.show()\n"
   ]
  },
  {
   "cell_type": "code",
   "execution_count": 47,
   "metadata": {},
   "outputs": [
    {
     "data": {
      "image/png": "[encoded data removed]",
      "text/plain": [
       "<Figure size 432x288 with 1 Axes>"
      ]
     },
     "metadata": {
      "needs_background": "light"
     },
     "output_type": "display_data"
    }
   ],
   "source": [
    "# plotting c vs error\n",
    "\n",
    "plt.title('C vs Error')\n",
    "plt.plot(range(len(c_sparse)), error)\n",
    "\n",
    "plt.xlabel('C')\n",
    "plt.ylabel('Error')\n",
    "plt.xticks(range(len(c_sparse)), c_sparse)\n",
    "plt.show()\n"
   ]
  },
  {
   "cell_type": "markdown",
   "metadata": {},
   "source": [
    "### 1.6 Feature Importance"
   ]
  },
  {
   "cell_type": "code",
   "execution_count": 48,
   "metadata": {},
   "outputs": [
    {
     "name": "stdout",
     "output_type": "stream",
     "text": [
      "Top 10 positive features --> \n",
      "           Coefficient\n",
      "great         1.022546\n",
      "best          0.730144\n",
      "delicious     0.729398\n",
      "good          0.717871\n",
      "perfect       0.660328\n",
      "love          0.545726\n",
      "nice          0.495011\n",
      "loves         0.493060\n",
      "excellent     0.457029\n",
      "wonderful     0.419859\n",
      "----------------------------------------\n",
      "Top 10 negative features --> \n",
      "               Coefficient\n",
      "not              -1.202898\n",
      "disappointed     -0.352664\n",
      "worst            -0.339348\n",
      "terrible         -0.336152\n",
      "awful            -0.322912\n",
      "unfortunately    -0.315163\n",
      "horrible         -0.293648\n",
      "taste            -0.280719\n",
      "money            -0.273594\n",
      "bland            -0.253625\n"
     ]
    }
   ],
   "source": [
    "features = vectorizer.get_feature_names_out()\n",
    "coefs = model_bow.coef_.reshape(-1,1)\n",
    "\n",
    "dataframe = pd.DataFrame(coefs ,columns=['Coefficient'] ,index=features)\n",
    "top_positive = dataframe.sort_values(by='Coefficient' ,ascending=False).head(10)\n",
    "top_negative = dataframe.sort_values(by='Coefficient' ,ascending=True).head(10)\n",
    "\n",
    "print('Top 10 positive features --> ')\n",
    "print(top_positive)\n",
    "print('----------------------------------------')\n",
    "print('Top 10 negative features --> ')\n",
    "print(top_negative)\n"
   ]
  },
  {
   "cell_type": "markdown",
   "metadata": {},
   "source": [
    "## 2. TFIDF"
   ]
  },
  {
   "cell_type": "code",
   "execution_count": 49,
   "metadata": {},
   "outputs": [],
   "source": [
    "tfidf = TfidfVectorizer(ngram_range=(1, 2), min_df=10)\n",
    "\n",
    "X_train_tfidf = tfidf.fit_transform(X_train)\n",
    "X_test_tfidf = tfidf.transform(X_test)\n",
    "X_val_tfidf = tfidf.transform(X_val)\n",
    "\n",
    "scaler = StandardScaler(with_mean=False)\n",
    "\n",
    "X_train_tfidf = scaler.fit_transform(X_train_tfidf)\n",
    "X_test_tfidf = scaler.transform(X_test_tfidf)\n",
    "X_val_tfidf = scaler.transform(X_val_tfidf)\n"
   ]
  },
  {
   "cell_type": "markdown",
   "metadata": {},
   "source": [
    "### 2.1 Hyperparameter Tuning"
   ]
  },
  {
   "cell_type": "code",
   "execution_count": 50,
   "metadata": {},
   "outputs": [],
   "source": [
    "penalties = ['l1', 'l2']\n",
    "C = [10**-3, 10**-2, 10**-1, 10**0, 10**1, 10**2]\n",
    "\n",
    "parameter_grid = {'penalty': penalties, 'C': C}"
   ]
  },
  {
   "cell_type": "code",
   "execution_count": 51,
   "metadata": {},
   "outputs": [
    {
     "name": "stdout",
     "output_type": "stream",
     "text": [
      "n_iterations: 3\n",
      "n_required_iterations: 3\n",
      "n_possible_iterations: 3\n",
      "min_resources_: 4778\n",
      "max_resources_: 43009\n",
      "aggressive_elimination: False\n",
      "factor: 3\n",
      "----------\n",
      "iter: 0\n",
      "n_candidates: 12\n",
      "n_resources: 4778\n",
      "Fitting 10 folds for each of 12 candidates, totalling 120 fits\n",
      "[CV 1/10] END C=0.001, penalty=l1;, score=(train=0.500, test=0.500) total time=   0.0s\n",
      "[CV 2/10] END C=0.001, penalty=l1;, score=(train=0.500, test=0.500) total time=   0.0s\n",
      "[CV 3/10] END C=0.001, penalty=l1;, score=(train=0.500, test=0.500) total time=   0.0s\n",
      "[CV 4/10] END C=0.001, penalty=l1;, score=(train=0.500, test=0.500) total time=   0.0s\n",
      "[CV 5/10] END C=0.001, penalty=l1;, score=(train=0.500, test=0.500) total time=   0.0s\n",
      "[CV 6/10] END C=0.001, penalty=l1;, score=(train=0.500, test=0.500) total time=   0.0s\n",
      "[CV 7/10] END C=0.001, penalty=l1;, score=(train=0.500, test=0.500) total time=   0.0s\n",
      "[CV 8/10] END C=0.001, penalty=l1;, score=(train=0.500, test=0.500) total time=   0.0s\n",
      "[CV 9/10] END C=0.001, penalty=l1;, score=(train=0.500, test=0.500) total time=   0.0s\n",
      "[CV 10/10] END C=0.001, penalty=l1;, score=(train=0.500, test=0.500) total time=   0.0s\n",
      "[CV 1/10] END C=0.001, penalty=l2;, score=(train=1.000, test=0.880) total time=   0.0s\n",
      "[CV 2/10] END C=0.001, penalty=l2;, score=(train=1.000, test=0.808) total time=   0.0s\n",
      "[CV 3/10] END C=0.001, penalty=l2;, score=(train=1.000, test=0.870) total time=   0.0s\n",
      "[CV 4/10] END C=0.001, penalty=l2;, score=(train=1.000, test=0.854) total time=   0.0s\n",
      "[CV 5/10] END C=0.001, penalty=l2;, score=(train=1.000, test=0.849) total time=   0.0s\n",
      "[CV 6/10] END C=0.001, penalty=l2;, score=(train=1.000, test=0.865) total time=   0.0s\n",
      "[CV 7/10] END C=0.001, penalty=l2;, score=(train=1.000, test=0.844) total time=   0.0s\n",
      "[CV 8/10] END C=0.001, penalty=l2;, score=(train=1.000, test=0.854) total time=   0.0s\n",
      "[CV 9/10] END C=0.001, penalty=l2;, score=(train=1.000, test=0.898) total time=   0.0s\n",
      "[CV 10/10] END C=0.001, penalty=l2;, score=(train=1.000, test=0.863) total time=   0.0s\n",
      "[CV 1/10] END C=0.01, penalty=l1;, score=(train=0.906, test=0.813) total time=   0.0s\n",
      "[CV 2/10] END C=0.01, penalty=l1;, score=(train=0.904, test=0.821) total time=   0.0s\n",
      "[CV 3/10] END C=0.01, penalty=l1;, score=(train=0.905, test=0.829) total time=   0.0s\n",
      "[CV 4/10] END C=0.01, penalty=l1;, score=(train=0.911, test=0.863) total time=   0.0s\n",
      "[CV 5/10] END C=0.01, penalty=l1;, score=(train=0.918, test=0.880) total time=   0.0s\n",
      "[CV 6/10] END C=0.01, penalty=l1;, score=(train=0.909, test=0.832) total time=   0.0s\n",
      "[CV 7/10] END C=0.01, penalty=l1;, score=(train=0.906, test=0.835) total time=   0.0s\n",
      "[CV 8/10] END C=0.01, penalty=l1;, score=(train=0.912, test=0.831) total time=   0.0s\n",
      "[CV 9/10] END C=0.01, penalty=l1;, score=(train=0.906, test=0.879) total time=   0.0s\n",
      "[CV 10/10] END C=0.01, penalty=l1;, score=(train=0.911, test=0.864) total time=   0.0s\n",
      "[CV 1/10] END C=0.01, penalty=l2;, score=(train=1.000, test=0.886) total time=   0.0s\n",
      "[CV 2/10] END C=0.01, penalty=l2;, score=(train=1.000, test=0.811) total time=   0.0s\n",
      "[CV 3/10] END C=0.01, penalty=l2;, score=(train=1.000, test=0.873) total time=   0.0s\n",
      "[CV 4/10] END C=0.01, penalty=l2;, score=(train=1.000, test=0.855) total time=   0.0s\n",
      "[CV 5/10] END C=0.01, penalty=l2;, score=(train=1.000, test=0.852) total time=   0.0s\n",
      "[CV 6/10] END C=0.01, penalty=l2;, score=(train=1.000, test=0.870) total time=   0.0s\n",
      "[CV 7/10] END C=0.01, penalty=l2;, score=(train=1.000, test=0.848) total time=   0.0s\n",
      "[CV 8/10] END C=0.01, penalty=l2;, score=(train=1.000, test=0.860) total time=   0.0s\n",
      "[CV 9/10] END C=0.01, penalty=l2;, score=(train=1.000, test=0.900) total time=   0.0s\n",
      "[CV 10/10] END C=0.01, penalty=l2;, score=(train=1.000, test=0.866) total time=   0.0s\n",
      "[CV 1/10] END C=0.1, penalty=l1;, score=(train=0.999, test=0.842) total time=   0.0s\n",
      "[CV 2/10] END C=0.1, penalty=l1;, score=(train=1.000, test=0.811) total time=   0.0s\n",
      "[CV 3/10] END C=0.1, penalty=l1;, score=(train=0.999, test=0.846) total time=   0.0s\n",
      "[CV 4/10] END C=0.1, penalty=l1;, score=(train=1.000, test=0.855) total time=   0.0s\n",
      "[CV 5/10] END C=0.1, penalty=l1;, score=(train=1.000, test=0.880) total time=   0.0s\n",
      "[CV 6/10] END C=0.1, penalty=l1;, score=(train=1.000, test=0.852) total time=   0.0s\n",
      "[CV 7/10] END C=0.1, penalty=l1;, score=(train=1.000, test=0.868) total time=   0.0s\n",
      "[CV 8/10] END C=0.1, penalty=l1;, score=(train=1.000, test=0.857) total time=   0.0s\n",
      "[CV 9/10] END C=0.1, penalty=l1;, score=(train=0.999, test=0.913) total time=   0.0s\n",
      "[CV 10/10] END C=0.1, penalty=l1;, score=(train=1.000, test=0.889) total time=   0.0s\n",
      "[CV 1/10] END C=0.1, penalty=l2;, score=(train=1.000, test=0.889) total time=   0.0s\n",
      "[CV 2/10] END C=0.1, penalty=l2;, score=(train=1.000, test=0.812) total time=   0.0s\n",
      "[CV 3/10] END C=0.1, penalty=l2;, score=(train=1.000, test=0.874) total time=   0.0s\n",
      "[CV 4/10] END C=0.1, penalty=l2;, score=(train=1.000, test=0.856) total time=   0.0s\n",
      "[CV 5/10] END C=0.1, penalty=l2;, score=(train=1.000, test=0.853) total time=   0.0s\n",
      "[CV 6/10] END C=0.1, penalty=l2;, score=(train=1.000, test=0.873) total time=   0.0s\n",
      "[CV 7/10] END C=0.1, penalty=l2;, score=(train=1.000, test=0.850) total time=   0.0s\n",
      "[CV 8/10] END C=0.1, penalty=l2;, score=(train=1.000, test=0.865) total time=   0.0s\n",
      "[CV 9/10] END C=0.1, penalty=l2;, score=(train=1.000, test=0.900) total time=   0.0s\n",
      "[CV 10/10] END C=0.1, penalty=l2;, score=(train=1.000, test=0.869) total time=   0.0s\n",
      "[CV 1/10] END C=1, penalty=l1;, score=(train=1.000, test=0.845) total time=   0.0s\n",
      "[CV 2/10] END C=1, penalty=l1;, score=(train=1.000, test=0.818) total time=   0.0s\n",
      "[CV 3/10] END C=1, penalty=l1;, score=(train=1.000, test=0.866) total time=   0.0s\n",
      "[CV 4/10] END C=1, penalty=l1;, score=(train=1.000, test=0.851) total time=   0.0s\n",
      "[CV 5/10] END C=1, penalty=l1;, score=(train=1.000, test=0.889) total time=   0.0s\n",
      "[CV 6/10] END C=1, penalty=l1;, score=(train=1.000, test=0.847) total time=   0.0s\n",
      "[CV 7/10] END C=1, penalty=l1;, score=(train=1.000, test=0.863) total time=   0.0s\n",
      "[CV 8/10] END C=1, penalty=l1;, score=(train=1.000, test=0.857) total time=   0.0s\n",
      "[CV 9/10] END C=1, penalty=l1;, score=(train=1.000, test=0.916) total time=   0.0s\n",
      "[CV 10/10] END C=1, penalty=l1;, score=(train=1.000, test=0.899) total time=   0.0s\n",
      "[CV 1/10] END C=1, penalty=l2;, score=(train=1.000, test=0.891) total time=   0.0s\n",
      "[CV 2/10] END C=1, penalty=l2;, score=(train=1.000, test=0.814) total time=   0.0s\n",
      "[CV 3/10] END C=1, penalty=l2;, score=(train=1.000, test=0.876) total time=   0.0s\n",
      "[CV 4/10] END C=1, penalty=l2;, score=(train=1.000, test=0.856) total time=   0.0s\n",
      "[CV 5/10] END C=1, penalty=l2;, score=(train=1.000, test=0.857) total time=   0.0s\n",
      "[CV 6/10] END C=1, penalty=l2;, score=(train=1.000, test=0.879) total time=   0.0s\n",
      "[CV 7/10] END C=1, penalty=l2;, score=(train=1.000, test=0.856) total time=   0.0s\n",
      "[CV 8/10] END C=1, penalty=l2;, score=(train=1.000, test=0.871) total time=   0.0s\n",
      "[CV 9/10] END C=1, penalty=l2;, score=(train=1.000, test=0.902) total time=   0.0s\n",
      "[CV 10/10] END C=1, penalty=l2;, score=(train=1.000, test=0.873) total time=   0.0s\n",
      "[CV 1/10] END C=10, penalty=l1;, score=(train=1.000, test=0.858) total time=   0.0s\n",
      "[CV 2/10] END C=10, penalty=l1;, score=(train=1.000, test=0.837) total time=   0.0s\n",
      "[CV 3/10] END C=10, penalty=l1;, score=(train=1.000, test=0.878) total time=   0.0s\n",
      "[CV 4/10] END C=10, penalty=l1;, score=(train=1.000, test=0.870) total time=   0.0s\n",
      "[CV 5/10] END C=10, penalty=l1;, score=(train=1.000, test=0.898) total time=   0.0s\n",
      "[CV 6/10] END C=10, penalty=l1;, score=(train=1.000, test=0.871) total time=   0.0s\n",
      "[CV 7/10] END C=10, penalty=l1;, score=(train=1.000, test=0.878) total time=   0.0s\n",
      "[CV 8/10] END C=10, penalty=l1;, score=(train=1.000, test=0.860) total time=   0.0s\n",
      "[CV 9/10] END C=10, penalty=l1;, score=(train=1.000, test=0.916) total time=   0.0s\n",
      "[CV 10/10] END C=10, penalty=l1;, score=(train=1.000, test=0.909) total time=   0.0s\n",
      "[CV 1/10] END C=10, penalty=l2;, score=(train=1.000, test=0.892) total time=   0.0s\n",
      "[CV 2/10] END C=10, penalty=l2;, score=(train=1.000, test=0.815) total time=   0.0s\n",
      "[CV 3/10] END C=10, penalty=l2;, score=(train=1.000, test=0.876) total time=   0.0s\n",
      "[CV 4/10] END C=10, penalty=l2;, score=(train=1.000, test=0.855) total time=   0.0s\n",
      "[CV 5/10] END C=10, penalty=l2;, score=(train=1.000, test=0.856) total time=   0.0s\n",
      "[CV 6/10] END C=10, penalty=l2;, score=(train=1.000, test=0.880) total time=   0.0s\n",
      "[CV 7/10] END C=10, penalty=l2;, score=(train=1.000, test=0.859) total time=   0.0s\n",
      "[CV 8/10] END C=10, penalty=l2;, score=(train=1.000, test=0.872) total time=   0.0s\n",
      "[CV 9/10] END C=10, penalty=l2;, score=(train=1.000, test=0.902) total time=   0.0s\n",
      "[CV 10/10] END C=10, penalty=l2;, score=(train=1.000, test=0.874) total time=   0.0s\n",
      "[CV 1/10] END C=100, penalty=l1;, score=(train=1.000, test=0.897) total time=   0.0s\n",
      "[CV 2/10] END C=100, penalty=l1;, score=(train=1.000, test=0.846) total time=   0.0s\n",
      "[CV 3/10] END C=100, penalty=l1;, score=(train=1.000, test=0.884) total time=   0.0s\n",
      "[CV 4/10] END C=100, penalty=l1;, score=(train=1.000, test=0.880) total time=   0.0s\n",
      "[CV 5/10] END C=100, penalty=l1;, score=(train=1.000, test=0.888) total time=   0.0s\n",
      "[CV 6/10] END C=100, penalty=l1;, score=(train=1.000, test=0.885) total time=   0.0s\n",
      "[CV 7/10] END C=100, penalty=l1;, score=(train=1.000, test=0.885) total time=   0.0s\n",
      "[CV 8/10] END C=100, penalty=l1;, score=(train=1.000, test=0.868) total time=   0.0s\n",
      "[CV 9/10] END C=100, penalty=l1;, score=(train=1.000, test=0.909) total time=   0.0s\n",
      "[CV 10/10] END C=100, penalty=l1;, score=(train=1.000, test=0.911) total time=   0.0s\n",
      "[CV 1/10] END C=100, penalty=l2;, score=(train=1.000, test=0.892) total time=   0.0s\n",
      "[CV 2/10] END C=100, penalty=l2;, score=(train=1.000, test=0.816) total time=   0.0s\n",
      "[CV 3/10] END C=100, penalty=l2;, score=(train=1.000, test=0.873) total time=   0.0s\n",
      "[CV 4/10] END C=100, penalty=l2;, score=(train=1.000, test=0.854) total time=   0.0s\n",
      "[CV 5/10] END C=100, penalty=l2;, score=(train=1.000, test=0.856) total time=   0.0s\n",
      "[CV 6/10] END C=100, penalty=l2;, score=(train=1.000, test=0.877) total time=   0.0s\n",
      "[CV 7/10] END C=100, penalty=l2;, score=(train=1.000, test=0.854) total time=   0.0s\n",
      "[CV 8/10] END C=100, penalty=l2;, score=(train=1.000, test=0.870) total time=   0.0s\n",
      "[CV 9/10] END C=100, penalty=l2;, score=(train=1.000, test=0.903) total time=   0.0s\n",
      "[CV 10/10] END C=100, penalty=l2;, score=(train=1.000, test=0.874) total time=   0.0s\n",
      "----------\n",
      "iter: 1\n",
      "n_candidates: 4\n",
      "n_resources: 14334\n",
      "Fitting 10 folds for each of 4 candidates, totalling 40 fits\n",
      "[CV 1/10] END C=1, penalty=l2;, score=(train=1.000, test=0.914) total time=   0.0s\n",
      "[CV 2/10] END C=1, penalty=l2;, score=(train=1.000, test=0.907) total time=   0.0s\n",
      "[CV 3/10] END C=1, penalty=l2;, score=(train=1.000, test=0.903) total time=   0.0s\n",
      "[CV 4/10] END C=1, penalty=l2;, score=(train=1.000, test=0.914) total time=   0.0s\n",
      "[CV 5/10] END C=1, penalty=l2;, score=(train=1.000, test=0.921) total time=   0.0s\n",
      "[CV 6/10] END C=1, penalty=l2;, score=(train=1.000, test=0.891) total time=   0.0s\n",
      "[CV 7/10] END C=1, penalty=l2;, score=(train=1.000, test=0.912) total time=   0.0s\n",
      "[CV 8/10] END C=1, penalty=l2;, score=(train=1.000, test=0.907) total time=   0.0s\n",
      "[CV 9/10] END C=1, penalty=l2;, score=(train=1.000, test=0.919) total time=   0.1s\n",
      "[CV 10/10] END C=1, penalty=l2;, score=(train=1.000, test=0.934) total time=   0.0s\n",
      "[CV 1/10] END C=10, penalty=l2;, score=(train=1.000, test=0.913) total time=   0.0s\n",
      "[CV 2/10] END C=10, penalty=l2;, score=(train=1.000, test=0.905) total time=   0.0s\n",
      "[CV 3/10] END C=10, penalty=l2;, score=(train=1.000, test=0.900) total time=   0.0s\n",
      "[CV 4/10] END C=10, penalty=l2;, score=(train=1.000, test=0.910) total time=   0.0s\n",
      "[CV 5/10] END C=10, penalty=l2;, score=(train=1.000, test=0.917) total time=   0.0s\n",
      "[CV 6/10] END C=10, penalty=l2;, score=(train=1.000, test=0.888) total time=   0.0s\n",
      "[CV 7/10] END C=10, penalty=l2;, score=(train=1.000, test=0.907) total time=   0.0s\n",
      "[CV 8/10] END C=10, penalty=l2;, score=(train=1.000, test=0.904) total time=   0.0s\n",
      "[CV 9/10] END C=10, penalty=l2;, score=(train=1.000, test=0.917) total time=   0.0s\n",
      "[CV 10/10] END C=10, penalty=l2;, score=(train=1.000, test=0.929) total time=   0.0s\n",
      "[CV 1/10] END C=10, penalty=l1;, score=(train=1.000, test=0.923) total time=   0.0s\n",
      "[CV 2/10] END C=10, penalty=l1;, score=(train=1.000, test=0.932) total time=   0.0s\n",
      "[CV 3/10] END C=10, penalty=l1;, score=(train=1.000, test=0.920) total time=   0.0s\n",
      "[CV 4/10] END C=10, penalty=l1;, score=(train=1.000, test=0.912) total time=   0.0s\n",
      "[CV 5/10] END C=10, penalty=l1;, score=(train=1.000, test=0.928) total time=   0.0s\n",
      "[CV 6/10] END C=10, penalty=l1;, score=(train=1.000, test=0.911) total time=   0.0s\n",
      "[CV 7/10] END C=10, penalty=l1;, score=(train=1.000, test=0.934) total time=   0.0s\n",
      "[CV 8/10] END C=10, penalty=l1;, score=(train=1.000, test=0.914) total time=   0.0s\n",
      "[CV 9/10] END C=10, penalty=l1;, score=(train=1.000, test=0.928) total time=   0.0s\n",
      "[CV 10/10] END C=10, penalty=l1;, score=(train=1.000, test=0.951) total time=   0.0s\n",
      "[CV 1/10] END C=100, penalty=l1;, score=(train=1.000, test=0.909) total time=   0.0s\n",
      "[CV 2/10] END C=100, penalty=l1;, score=(train=1.000, test=0.911) total time=   0.0s\n",
      "[CV 3/10] END C=100, penalty=l1;, score=(train=1.000, test=0.907) total time=   0.0s\n",
      "[CV 4/10] END C=100, penalty=l1;, score=(train=1.000, test=0.905) total time=   0.0s\n",
      "[CV 5/10] END C=100, penalty=l1;, score=(train=1.000, test=0.928) total time=   0.0s\n",
      "[CV 6/10] END C=100, penalty=l1;, score=(train=1.000, test=0.901) total time=   0.0s\n",
      "[CV 7/10] END C=100, penalty=l1;, score=(train=1.000, test=0.930) total time=   0.0s\n",
      "[CV 8/10] END C=100, penalty=l1;, score=(train=1.000, test=0.902) total time=   0.0s\n",
      "[CV 9/10] END C=100, penalty=l1;, score=(train=1.000, test=0.920) total time=   0.0s\n",
      "[CV 10/10] END C=100, penalty=l1;, score=(train=1.000, test=0.933) total time=   0.0s\n",
      "----------\n",
      "iter: 2\n",
      "n_candidates: 2\n",
      "n_resources: 43002\n",
      "Fitting 10 folds for each of 2 candidates, totalling 20 fits\n",
      "[CV 1/10] END C=100, penalty=l1;, score=(train=1.000, test=0.915) total time=   0.2s\n",
      "[CV 2/10] END C=100, penalty=l1;, score=(train=1.000, test=0.918) total time=   0.2s\n",
      "[CV 3/10] END C=100, penalty=l1;, score=(train=1.000, test=0.919) total time=   0.2s\n",
      "[CV 4/10] END C=100, penalty=l1;, score=(train=1.000, test=0.916) total time=   0.2s\n",
      "[CV 5/10] END C=100, penalty=l1;, score=(train=1.000, test=0.931) total time=   0.2s\n",
      "[CV 6/10] END C=100, penalty=l1;, score=(train=1.000, test=0.926) total time=   0.2s\n",
      "[CV 7/10] END C=100, penalty=l1;, score=(train=1.000, test=0.928) total time=   0.2s\n",
      "[CV 8/10] END C=100, penalty=l1;, score=(train=1.000, test=0.924) total time=   0.2s\n",
      "[CV 9/10] END C=100, penalty=l1;, score=(train=1.000, test=0.919) total time=   0.2s\n",
      "[CV 10/10] END C=100, penalty=l1;, score=(train=1.000, test=0.929) total time=   0.2s\n",
      "[CV 1/10] END C=10, penalty=l1;, score=(train=1.000, test=0.932) total time=   0.2s\n",
      "[CV 2/10] END C=10, penalty=l1;, score=(train=1.000, test=0.929) total time=   0.2s\n",
      "[CV 3/10] END C=10, penalty=l1;, score=(train=1.000, test=0.934) total time=   0.2s\n",
      "[CV 4/10] END C=10, penalty=l1;, score=(train=1.000, test=0.933) total time=   0.2s\n",
      "[CV 5/10] END C=10, penalty=l1;, score=(train=1.000, test=0.943) total time=   0.3s\n",
      "[CV 6/10] END C=10, penalty=l1;, score=(train=1.000, test=0.940) total time=   0.3s\n",
      "[CV 7/10] END C=10, penalty=l1;, score=(train=1.000, test=0.936) total time=   0.3s\n",
      "[CV 8/10] END C=10, penalty=l1;, score=(train=1.000, test=0.934) total time=   0.2s\n",
      "[CV 9/10] END C=10, penalty=l1;, score=(train=1.000, test=0.934) total time=   0.2s\n",
      "[CV 10/10] END C=10, penalty=l1;, score=(train=1.000, test=0.941) total time=   0.2s\n",
      "Best Hyperparameters -->  {'C': 10, 'penalty': 'l1'}\n",
      "Best Accuracy -->  0.935488254655658\n"
     ]
    }
   ],
   "source": [
    "lor_model = LogisticRegression(solver='liblinear')\n",
    "tfidf_model = HalvingGridSearchCV(lor_model, parameter_grid, scoring='roc_auc', cv=10, verbose=3)\n",
    "\n",
    "tfidf_model.fit(X_train_tfidf, y_train)\n",
    "print('Best Hyperparameters --> ', tfidf_model.best_params_)\n",
    "print('Best Accuracy --> ', tfidf_model.best_score_)\n"
   ]
  },
  {
   "cell_type": "markdown",
   "metadata": {},
   "source": [
    "### 2.2 Model Building (TFIDF)"
   ]
  },
  {
   "cell_type": "code",
   "execution_count": 52,
   "metadata": {},
   "outputs": [],
   "source": [
    "model_tfidf = LogisticRegression(penalty=tfidf_model.best_estimator_.penalty, C=tfidf_model.best_estimator_.C, solver='liblinear')\n",
    "\n",
    "model_tfidf.fit(X_train_tfidf, y_train)\n",
    "\n",
    "# predicted values for train & test data\n",
    "y_pred_tfidf = model_tfidf.predict_proba(X_train_tfidf)[:, 1]\n",
    "y_pred_tfidf_test = model_tfidf.predict_proba(X_test_tfidf)[:, 1]"
   ]
  },
  {
   "cell_type": "markdown",
   "metadata": {},
   "source": [
    "### 2.3 Model Evaluation (TFIDF)"
   ]
  },
  {
   "cell_type": "code",
   "execution_count": 53,
   "metadata": {},
   "outputs": [
    {
     "name": "stdout",
     "output_type": "stream",
     "text": [
      "Accuracy of tfidf model :  0.9107583640299244\n"
     ]
    }
   ],
   "source": [
    "print('Accuracy of tfidf model : ', model_tfidf.score(X_test_tfidf, y_test))"
   ]
  },
  {
   "cell_type": "code",
   "execution_count": 54,
   "metadata": {},
   "outputs": [
    {
     "data": {
      "image/png": "[encoded data removed]",
      "text/plain": [
       "<Figure size 432x288 with 1 Axes>"
      ]
     },
     "metadata": {
      "needs_background": "light"
     },
     "output_type": "display_data"
    }
   ],
   "source": [
    "# plotting ROC curve for train & test data\n",
    "\n",
    "false_positive_rate1, true_positive_rate1, threshold1 = roc_curve(\n",
    "    y_train, y_pred_tfidf)\n",
    "false_positive_rate2, true_positive_rate2, threshold2 = roc_curve(\n",
    "    y_test, y_pred_tfidf_test)\n",
    "\n",
    "fig = plt.figure()\n",
    "ax = plt.subplot(111)\n",
    "\n",
    "# train ROC\n",
    "ax.plot(false_positive_rate1, true_positive_rate1,\n",
    "        label='Train ROC ,auc ={}'.format(str(roc_auc_score(y_train, y_pred_tfidf))))\n",
    "\n",
    "# test ROC\n",
    "ax.plot(false_positive_rate2, true_positive_rate2, label='Test ROC ,auc ={}'.format(\n",
    "    str(roc_auc_score(y_test, y_pred_tfidf_test))))\n",
    "\n",
    "plt.title('ROC')\n",
    "plt.grid('True')\n",
    "plt.xlabel('False Positive Rate')\n",
    "plt.ylabel('True Positive Rate')\n",
    "ax.legend()\n",
    "plt.show()"
   ]
  },
  {
   "cell_type": "code",
   "execution_count": 55,
   "metadata": {},
   "outputs": [
    {
     "data": {
      "image/png": "[encoded data removed]",
      "text/plain": [
       "<Figure size 432x288 with 2 Axes>"
      ]
     },
     "metadata": {
      "needs_background": "light"
     },
     "output_type": "display_data"
    }
   ],
   "source": [
    "# confusion Matrix for test data\n",
    "y_pred_tfidf_test = model_tfidf.predict(X_test_tfidf)\n",
    "\n",
    "confusion = confusion_matrix(y_test, y_pred_tfidf_test)\n",
    "class_labels = [\"negative\", \"positive\"]\n",
    "\n",
    "cf_data = pd.DataFrame(confusion, index=class_labels, columns=class_labels)\n",
    "sns.heatmap(cf_data, annot=True, fmt='.5g')\n",
    "\n",
    "plt.title(\"Confusion Matrix for test data\")\n",
    "plt.xlabel(\"Predicted Label\")\n",
    "plt.ylabel(\"True Label\")\n",
    "plt.show()"
   ]
  },
  {
   "cell_type": "markdown",
   "metadata": {},
   "source": [
    "### 2.4 Perturbation Test"
   ]
  },
  {
   "cell_type": "code",
   "execution_count": 56,
   "metadata": {},
   "outputs": [
    {
     "data": {
      "text/plain": [
       "LogisticRegression(C=10)"
      ]
     },
     "execution_count": 56,
     "metadata": {},
     "output_type": "execute_result"
    }
   ],
   "source": [
    "lr_tfidf = LogisticRegression(penalty='l2', C=tfidf_model.best_estimator_.C)\n",
    "lr_tfidf.fit(X_train_tfidf ,y_train)"
   ]
  },
  {
   "cell_type": "code",
   "execution_count": 57,
   "metadata": {},
   "outputs": [
    {
     "name": "stdout",
     "output_type": "stream",
     "text": [
      "(43009, 25697)\n"
     ]
    }
   ],
   "source": [
    "# step 1 : Get the weights W after fit your model with the data X\n",
    "weights_prev = lr_tfidf.coef_\n",
    "\n",
    "# step 2 : Add a noise to the X (X' = X + e) and get the new data set X' (if X is a sparse matrix, X.data+=e)\n",
    "\n",
    "X2 = X_train_tfidf\n",
    "\n",
    "epsilon = 0.00005\n",
    "X2.data = X2.data + epsilon \n",
    "\n",
    "print(X2.shape)"
   ]
  },
  {
   "cell_type": "code",
   "execution_count": 58,
   "metadata": {},
   "outputs": [],
   "source": [
    "# step 3 --> Fit the model again on data X' and get the weights W'\n",
    "model2 = LogisticRegression(penalty='l2', C=tfidf_model.best_estimator_.C)\n",
    "model2.fit(X2 ,y_train)\n",
    "\n",
    "weights_after = model2.coef_"
   ]
  },
  {
   "cell_type": "code",
   "execution_count": 59,
   "metadata": {},
   "outputs": [],
   "source": [
    "# step 4 --> Add a small eps value(to eliminate the divisible by zero error) to W and W’ i.e W=W+10^-6 and W’ = W’+10^-\n",
    "\n",
    "epsilon2 = 0.00006 \n",
    "\n",
    "weights_prev += epsilon2 \n",
    "weights_after += epsilon2"
   ]
  },
  {
   "cell_type": "code",
   "execution_count": 60,
   "metadata": {},
   "outputs": [
    {
     "data": {
      "text/plain": [
       "[918.8622423636559,\n",
       " 911.1329734170984,\n",
       " 673.8969572931771,\n",
       " 261.8213991721799,\n",
       " 252.7790971618981,\n",
       " 228.62438714732892,\n",
       " 224.11368974633453,\n",
       " 215.0865740685301,\n",
       " 98.35208137533631,\n",
       " 86.47894582960829]"
      ]
     },
     "execution_count": 60,
     "metadata": {},
     "output_type": "execute_result"
    }
   ],
   "source": [
    "# step 5 --> find the % change between W and W' (| (W-W') / (W) |)*100)\n",
    "\n",
    "percent_change = []\n",
    "\n",
    "for i in range(len(weights_prev[0])):\n",
    "    diff = weights_after[0][i] - weights_prev[0][i]\n",
    "    diff /= weights_prev[0][i]\n",
    "    percent_change.append(diff)\n",
    "\n",
    "original_percent_change = np.absolute(percent_change)\n",
    "percent_change = sorted(np.absolute(percent_change))[::-1]\n",
    "\n",
    "# diff = abs((weights_prev - weights_after) / (weights_prev))\n",
    "# percent_change = diff*100 \n",
    "\n",
    "percent_change[:10]"
   ]
  },
  {
   "cell_type": "code",
   "execution_count": 61,
   "metadata": {},
   "outputs": [
    {
     "name": "stdout",
     "output_type": "stream",
     "text": [
      "10th percentile value : 0.008623639305121564\n",
      "20th percentile value : 0.017574262628826984\n",
      "30th percentile value : 0.027487339054233534\n",
      "40th percentile value : 0.03879544628029588\n",
      "50th percentile value : 0.052595747413588974\n",
      "60th percentile value : 0.07117193853103258\n",
      "70th percentile value : 0.10099015112779758\n",
      "80th percentile value : 0.1416832899349934\n",
      "90th percentile value : 0.2904111623900614\n",
      "100th percentile value : 918.8622423636559\n"
     ]
    }
   ],
   "source": [
    "# calculating percentiles from 0 to 100\n",
    "\n",
    "for i in range(10, 101, 10):\n",
    "    print('{}th percentile value : {}'.format(i, np.percentile(percent_change, i)))"
   ]
  },
  {
   "cell_type": "code",
   "execution_count": 62,
   "metadata": {},
   "outputs": [
    {
     "name": "stdout",
     "output_type": "stream",
     "text": [
      "91th percentile value : 0.3223560869341376\n",
      "92th percentile value : 0.36463294769829746\n",
      "93th percentile value : 0.4201160607713694\n",
      "94th percentile value : 0.4956486325415003\n",
      "95th percentile value : 0.59772192450199\n",
      "96th percentile value : 0.7506425627025278\n",
      "97th percentile value : 1.006738476990695\n",
      "98th percentile value : 1.4789136934975045\n",
      "99th percentile value : 2.8261554832349725\n",
      "100th percentile value : 918.8622423636559\n"
     ]
    }
   ],
   "source": [
    "# there is a abrupt change when going from 90th percentile to 100th percentile.\n",
    "\n",
    "for i in range(91, 101, 1):\n",
    "    print('{}th percentile value : {}'.format(i, np.percentile(percent_change, i)))"
   ]
  },
  {
   "cell_type": "code",
   "execution_count": 63,
   "metadata": {},
   "outputs": [
    {
     "name": "stdout",
     "output_type": "stream",
     "text": [
      "99.1th percentile value : 3.101612109428851\n",
      "99.2th percentile value : 3.5329332592206124\n",
      "99.3th percentile value : 4.15859207515522\n",
      "99.4th percentile value : 4.963023747047346\n",
      "99.5th percentile value : 5.781537822138468\n",
      "99.6th percentile value : 7.190503695035301\n",
      "99.7th percentile value : 9.725609074201081\n",
      "99.8th percentile value : 15.100832786216607\n",
      "99.9th percentile value : 30.608198000303794\n",
      "100.0th percentile value : 918.8622423636559\n"
     ]
    }
   ],
   "source": [
    "# looking more closely\n",
    "\n",
    "for i in range(1, 11, 1):\n",
    "    print('{}th percentile value : {}'.format(i * 1.0/10 + 99, np.percentile(percent_change, i*1.0/10 + 99)))"
   ]
  },
  {
   "cell_type": "code",
   "execution_count": 64,
   "metadata": {},
   "outputs": [
    {
     "data": {
      "text/html": [
       "<div>\n",
       "<style scoped>\n",
       "    .dataframe tbody tr th:only-of-type {\n",
       "        vertical-align: middle;\n",
       "    }\n",
       "\n",
       "    .dataframe tbody tr th {\n",
       "        vertical-align: top;\n",
       "    }\n",
       "\n",
       "    .dataframe thead th {\n",
       "        text-align: right;\n",
       "    }\n",
       "</style>\n",
       "<table border=\"1\" class=\"dataframe\">\n",
       "  <thead>\n",
       "    <tr style=\"text-align: right;\">\n",
       "      <th></th>\n",
       "      <th>Percent_Change</th>\n",
       "    </tr>\n",
       "  </thead>\n",
       "  <tbody>\n",
       "    <tr>\n",
       "      <th>aa</th>\n",
       "      <td>918.862242</td>\n",
       "    </tr>\n",
       "    <tr>\n",
       "      <th>aafco</th>\n",
       "      <td>911.132973</td>\n",
       "    </tr>\n",
       "    <tr>\n",
       "      <th>abdominal</th>\n",
       "      <td>673.896957</td>\n",
       "    </tr>\n",
       "    <tr>\n",
       "      <th>ability</th>\n",
       "      <td>261.821399</td>\n",
       "    </tr>\n",
       "    <tr>\n",
       "      <th>able</th>\n",
       "      <td>252.779097</td>\n",
       "    </tr>\n",
       "  </tbody>\n",
       "</table>\n",
       "</div>"
      ],
      "text/plain": [
       "           Percent_Change\n",
       "aa             918.862242\n",
       "aafco          911.132973\n",
       "abdominal      673.896957\n",
       "ability        261.821399\n",
       "able           252.779097"
      ]
     },
     "execution_count": 64,
     "metadata": {},
     "output_type": "execute_result"
    }
   ],
   "source": [
    "# getting percentage change dataframe\n",
    "\n",
    "percent_change_df = pd.DataFrame(percent_change, index=tfidf.get_feature_names_out(), columns=['Percent_Change'])\n",
    "\n",
    "percent_change_df.head()"
   ]
  },
  {
   "cell_type": "code",
   "execution_count": 65,
   "metadata": {},
   "outputs": [
    {
     "data": {
      "text/plain": [
       "(26, 1)"
      ]
     },
     "execution_count": 65,
     "metadata": {},
     "output_type": "execute_result"
    }
   ],
   "source": [
    "# Printing the feature names whose percent-change is more than a threshold x\n",
    "\n",
    "percent_change_df = percent_change_df[percent_change_df['Percent_Change']\n",
    "                                      > 30.608198000303794]\n",
    "percent_change_df.shape"
   ]
  },
  {
   "cell_type": "code",
   "execution_count": 66,
   "metadata": {},
   "outputs": [
    {
     "data": {
      "text/html": [
       "<div>\n",
       "<style scoped>\n",
       "    .dataframe tbody tr th:only-of-type {\n",
       "        vertical-align: middle;\n",
       "    }\n",
       "\n",
       "    .dataframe tbody tr th {\n",
       "        vertical-align: top;\n",
       "    }\n",
       "\n",
       "    .dataframe thead th {\n",
       "        text-align: right;\n",
       "    }\n",
       "</style>\n",
       "<table border=\"1\" class=\"dataframe\">\n",
       "  <thead>\n",
       "    <tr style=\"text-align: right;\">\n",
       "      <th></th>\n",
       "      <th>Percent_Change</th>\n",
       "    </tr>\n",
       "  </thead>\n",
       "  <tbody>\n",
       "    <tr>\n",
       "      <th>absolute best</th>\n",
       "      <td>30.672832</td>\n",
       "    </tr>\n",
       "    <tr>\n",
       "      <th>absolute</th>\n",
       "      <td>33.497547</td>\n",
       "    </tr>\n",
       "    <tr>\n",
       "      <th>absent</th>\n",
       "      <td>35.899658</td>\n",
       "    </tr>\n",
       "    <tr>\n",
       "      <th>absence</th>\n",
       "      <td>36.087361</td>\n",
       "    </tr>\n",
       "    <tr>\n",
       "      <th>able use</th>\n",
       "      <td>36.704662</td>\n",
       "    </tr>\n",
       "    <tr>\n",
       "      <th>able try</th>\n",
       "      <td>37.244523</td>\n",
       "    </tr>\n",
       "    <tr>\n",
       "      <th>able tell</th>\n",
       "      <td>37.384925</td>\n",
       "    </tr>\n",
       "    <tr>\n",
       "      <th>able taste</th>\n",
       "      <td>41.403174</td>\n",
       "    </tr>\n",
       "    <tr>\n",
       "      <th>able purchase</th>\n",
       "      <td>42.501272</td>\n",
       "    </tr>\n",
       "    <tr>\n",
       "      <th>able order</th>\n",
       "      <td>42.685513</td>\n",
       "    </tr>\n",
       "  </tbody>\n",
       "</table>\n",
       "</div>"
      ],
      "text/plain": [
       "               Percent_Change\n",
       "absolute best       30.672832\n",
       "absolute            33.497547\n",
       "absent              35.899658\n",
       "absence             36.087361\n",
       "able use            36.704662\n",
       "able try            37.244523\n",
       "able tell           37.384925\n",
       "able taste          41.403174\n",
       "able purchase       42.501272\n",
       "able order          42.685513"
      ]
     },
     "execution_count": 66,
     "metadata": {},
     "output_type": "execute_result"
    }
   ],
   "source": [
    "percent_change_df.sort_values(by='Percent_Change', inplace=True)\n",
    "\n",
    "percent_change_df.head(10)"
   ]
  },
  {
   "cell_type": "markdown",
   "metadata": {},
   "source": [
    "### 2.5 Calculating sparsity on weight vector (after L1 regularization)"
   ]
  },
  {
   "cell_type": "code",
   "execution_count": 67,
   "metadata": {},
   "outputs": [
    {
     "name": "stdout",
     "output_type": "stream",
     "text": [
      "For C: 0.001    Number of non-zero coefficients : 42\n",
      "For C: 0.01    Number of non-zero coefficients : 2017\n",
      "For C: 0.1    Number of non-zero coefficients : 8184\n",
      "For C: 1.0    Number of non-zero coefficients : 9684\n",
      "For C: 10.0    Number of non-zero coefficients : 11862\n",
      "For C: 100.0    Number of non-zero coefficients : 20687\n"
     ]
    }
   ],
   "source": [
    "# count --> Counts number of non zero weights for a given C\n",
    "# error --> stores error for each value of c\n",
    "count = []\n",
    "error = []\n",
    "\n",
    "c_sparse = np.array([10**-3, 10**-2, 10**-1, 10**0, 10**1, 10**2])\n",
    "\n",
    "for i in c_sparse:\n",
    "    model = LogisticRegression(penalty='l1', C=i, solver='liblinear')\n",
    "    model.fit(X_train_tfidf, y_train)\n",
    "\n",
    "    count.append(np.count_nonzero(model.coef_))\n",
    "    error.append(1 - model.score(X_test_tfidf, y_test))\n",
    "    print('For C: {}    Number of non-zero coefficients : {}'.format(i,np.count_nonzero(model.coef_)))"
   ]
  },
  {
   "cell_type": "code",
   "execution_count": 68,
   "metadata": {},
   "outputs": [
    {
     "name": "stdout",
     "output_type": "stream",
     "text": [
      "Number of non-zero element in weight vector : 11893\n"
     ]
    }
   ],
   "source": [
    "weights = model_tfidf.coef_\n",
    "print('Number of non-zero element in weight vector : {}'.format(np.count_nonzero(weights)))"
   ]
  },
  {
   "cell_type": "code",
   "execution_count": 69,
   "metadata": {},
   "outputs": [
    {
     "data": {
      "image/png": "[encoded data removed]",
      "text/plain": [
       "<Figure size 432x288 with 1 Axes>"
      ]
     },
     "metadata": {
      "needs_background": "light"
     },
     "output_type": "display_data"
    }
   ],
   "source": [
    "# plotting c vs Sparsity\n",
    "\n",
    "plt.title('C vs Sparsity')\n",
    "plt.plot(range(len(c_sparse)), count)\n",
    "\n",
    "plt.xlabel('C')\n",
    "plt.ylabel('Number of non-zero coefficients')\n",
    "plt.xticks(range(len(c_sparse)), c_sparse)\n",
    "plt.show()\n"
   ]
  },
  {
   "cell_type": "code",
   "execution_count": 70,
   "metadata": {},
   "outputs": [
    {
     "data": {
      "image/png": "[encoded data removed]",
      "text/plain": [
       "<Figure size 432x288 with 1 Axes>"
      ]
     },
     "metadata": {
      "needs_background": "light"
     },
     "output_type": "display_data"
    }
   ],
   "source": [
    "# plotting c vs error\n",
    "\n",
    "plt.title('C vs Error')\n",
    "plt.plot(range(len(c_sparse)), error)\n",
    "\n",
    "plt.xlabel('C')\n",
    "plt.ylabel('Error')\n",
    "plt.xticks(range(len(c_sparse)), c_sparse)\n",
    "plt.show()"
   ]
  },
  {
   "cell_type": "markdown",
   "metadata": {},
   "source": [
    "### 2.6 Feature Importance (TFIDF)"
   ]
  },
  {
   "cell_type": "code",
   "execution_count": 71,
   "metadata": {},
   "outputs": [
    {
     "name": "stdout",
     "output_type": "stream",
     "text": [
      "Top 10 positive features --> \n",
      "                  Coefficient\n",
      "great                1.943085\n",
      "delicious            1.347909\n",
      "best                 1.345880\n",
      "good                 1.272864\n",
      "love                 1.191686\n",
      "perfect              1.057989\n",
      "loves                0.987419\n",
      "highly recommend     0.897251\n",
      "not disappointed     0.883666\n",
      "wonderful            0.794768\n",
      "----------------------------------------\n",
      "Top 10 negative features --> \n",
      "               Coefficient\n",
      "disappointed     -0.797379\n",
      "worst            -0.745576\n",
      "terrible         -0.601240\n",
      "not good         -0.554785\n",
      "disappointing    -0.548520\n",
      "awful            -0.537716\n",
      "not worth        -0.528181\n",
      "horrible         -0.522720\n",
      "two stars        -0.512104\n",
      "not buy          -0.463136\n"
     ]
    }
   ],
   "source": [
    "features = tfidf.get_feature_names_out()\n",
    "coefs = model_tfidf.coef_.reshape(-1, 1)\n",
    "\n",
    "dataframe = pd.DataFrame(coefs, columns=['Coefficient'], index=features)\n",
    "top_positive = dataframe.sort_values(\n",
    "    by='Coefficient', ascending=False).head(10)\n",
    "top_negative = dataframe.sort_values(by='Coefficient', ascending=True).head(10)\n",
    "\n",
    "print('Top 10 positive features --> ')\n",
    "print(top_positive)\n",
    "print('----------------------------------------')\n",
    "print('Top 10 negative features --> ')\n",
    "print(top_negative)\n"
   ]
  },
  {
   "cell_type": "markdown",
   "metadata": {},
   "source": [
    "## 3. AVG - W2V"
   ]
  },
  {
   "cell_type": "code",
   "execution_count": 72,
   "metadata": {},
   "outputs": [
    {
     "name": "stderr",
     "output_type": "stream",
     "text": [
      "100%|██████████| 43009/43009 [00:31<00:00, 1354.68it/s]"
     ]
    },
    {
     "name": "stdout",
     "output_type": "stream",
     "text": [
      "43009\n",
      "50\n"
     ]
    },
    {
     "name": "stderr",
     "output_type": "stream",
     "text": [
      "\n"
     ]
    }
   ],
   "source": [
    "#word2vec for train data\n",
    "\n",
    "sent_list_train = []\n",
    "sent_vectors_train = []\n",
    "\n",
    "for sentence in X_train:\n",
    "    sent_list_train.append(sentence.split())\n",
    "\n",
    "w2v_model = Word2Vec(sent_list_train, min_count=5, vector_size=50, workers=4)\n",
    "w2v_words = list(w2v_model.wv.index_to_key)\n",
    "\n",
    "\n",
    "for sent in tqdm(sent_list_train):\n",
    "    sent_vectors = np.zeros(50)\n",
    "    count_words = 0\n",
    "\n",
    "    for word in sent:\n",
    "        if word in w2v_words:\n",
    "            vectors = w2v_model.wv[word]\n",
    "            sent_vectors += vectors\n",
    "            count_words += 1\n",
    "\n",
    "    if count_words != 0:\n",
    "        sent_vectors /= count_words\n",
    "\n",
    "    sent_vectors_train.append(sent_vectors)\n",
    "\n",
    "print(len(sent_vectors_train))\n",
    "print(len(sent_vectors_train[0]))\n"
   ]
  },
  {
   "cell_type": "code",
   "execution_count": 73,
   "metadata": {},
   "outputs": [
    {
     "name": "stderr",
     "output_type": "stream",
     "text": [
      "100%|██████████| 18433/18433 [00:13<00:00, 1318.04it/s]"
     ]
    },
    {
     "name": "stdout",
     "output_type": "stream",
     "text": [
      "18433\n",
      "50\n"
     ]
    },
    {
     "name": "stderr",
     "output_type": "stream",
     "text": [
      "\n"
     ]
    }
   ],
   "source": [
    "#word2vec for validation data (using same w2v model and words)\n",
    "\n",
    "sent_list_val = []\n",
    "sent_vectors_val = []\n",
    "\n",
    "for sentence in X_val:\n",
    "    sent_list_val.append(sentence.split())\n",
    "\n",
    "for sent in tqdm(sent_list_val):\n",
    "    sent_vectors = np.zeros(50)\n",
    "    count_words = 0\n",
    "\n",
    "    for word in sent:\n",
    "        if word in w2v_words:\n",
    "            vectors = w2v_model.wv[word]\n",
    "            sent_vectors += vectors\n",
    "            count_words += 1\n",
    "\n",
    "    if count_words != 0:\n",
    "        sent_vectors /= count_words\n",
    "\n",
    "    sent_vectors_val.append(sent_vectors)\n",
    "\n",
    "print(len(sent_vectors_val))\n",
    "print(len(sent_vectors_val[0]))\n"
   ]
  },
  {
   "cell_type": "code",
   "execution_count": 74,
   "metadata": {},
   "outputs": [
    {
     "name": "stderr",
     "output_type": "stream",
     "text": [
      "100%|██████████| 26333/26333 [00:20<00:00, 1308.73it/s]"
     ]
    },
    {
     "name": "stdout",
     "output_type": "stream",
     "text": [
      "26333\n",
      "50\n"
     ]
    },
    {
     "name": "stderr",
     "output_type": "stream",
     "text": [
      "\n"
     ]
    }
   ],
   "source": [
    "#word2vec for test data\n",
    "\n",
    "sent_list_test = []\n",
    "sent_vectors_test = []\n",
    "\n",
    "for sentence in X_test:\n",
    "    sent_list_test.append(sentence.split())\n",
    "\n",
    "for sent in tqdm(sent_list_test):\n",
    "    sent_vectors = np.zeros(50)\n",
    "    count_words = 0\n",
    "\n",
    "    for word in sent:\n",
    "        if word in w2v_words:\n",
    "            vectors = w2v_model.wv[word]\n",
    "            sent_vectors += vectors\n",
    "            count_words += 1\n",
    "\n",
    "    if count_words != 0:\n",
    "        sent_vectors /= count_words\n",
    "\n",
    "    sent_vectors_test.append(sent_vectors)\n",
    "\n",
    "print(len(sent_vectors_test))\n",
    "print(len(sent_vectors_test[0]))\n"
   ]
  },
  {
   "cell_type": "code",
   "execution_count": 75,
   "metadata": {},
   "outputs": [],
   "source": [
    "X_train_avg_w2v = sent_vectors_train\n",
    "X_val_avg_w2v = sent_vectors_val\n",
    "X_test_avg_w2v = sent_vectors_test"
   ]
  },
  {
   "cell_type": "markdown",
   "metadata": {},
   "source": [
    "### 3.1 Hyperparameter Tuning "
   ]
  },
  {
   "cell_type": "code",
   "execution_count": 76,
   "metadata": {},
   "outputs": [],
   "source": [
    "penalties = ['l1', 'l2']\n",
    "C = [10**-3, 10**-2, 10**-1, 10**0, 10**1, 10**2]\n",
    "\n",
    "parameter_grid = {'penalty': penalties ,'C':C}"
   ]
  },
  {
   "cell_type": "code",
   "execution_count": 77,
   "metadata": {},
   "outputs": [
    {
     "name": "stdout",
     "output_type": "stream",
     "text": [
      "n_iterations: 3\n",
      "n_required_iterations: 3\n",
      "n_possible_iterations: 3\n",
      "min_resources_: 4778\n",
      "max_resources_: 43009\n",
      "aggressive_elimination: False\n",
      "factor: 3\n",
      "----------\n",
      "iter: 0\n",
      "n_candidates: 12\n",
      "n_resources: 4778\n",
      "Fitting 10 folds for each of 12 candidates, totalling 120 fits\n",
      "[CV 1/10] END C=0.001, penalty=l1;, score=(train=0.500, test=0.500) total time=   0.0s\n",
      "[CV 2/10] END C=0.001, penalty=l1;, score=(train=0.500, test=0.500) total time=   0.0s\n",
      "[CV 3/10] END C=0.001, penalty=l1;, score=(train=0.500, test=0.500) total time=   0.0s\n",
      "[CV 4/10] END C=0.001, penalty=l1;, score=(train=0.500, test=0.500) total time=   0.0s\n",
      "[CV 5/10] END C=0.001, penalty=l1;, score=(train=0.500, test=0.500) total time=   0.0s\n",
      "[CV 6/10] END C=0.001, penalty=l1;, score=(train=0.500, test=0.500) total time=   0.0s\n",
      "[CV 7/10] END C=0.001, penalty=l1;, score=(train=0.500, test=0.500) total time=   0.0s\n",
      "[CV 8/10] END C=0.001, penalty=l1;, score=(train=0.500, test=0.500) total time=   0.0s\n",
      "[CV 9/10] END C=0.001, penalty=l1;, score=(train=0.500, test=0.500) total time=   0.0s\n",
      "[CV 10/10] END C=0.001, penalty=l1;, score=(train=0.500, test=0.500) total time=   0.0s\n",
      "[CV 1/10] END C=0.001, penalty=l2;, score=(train=0.821, test=0.848) total time=   0.0s\n",
      "[CV 2/10] END C=0.001, penalty=l2;, score=(train=0.819, test=0.768) total time=   0.0s\n",
      "[CV 3/10] END C=0.001, penalty=l2;, score=(train=0.831, test=0.844) total time=   0.0s\n",
      "[CV 4/10] END C=0.001, penalty=l2;, score=(train=0.826, test=0.791) total time=   0.0s\n",
      "[CV 5/10] END C=0.001, penalty=l2;, score=(train=0.817, test=0.780) total time=   0.0s\n",
      "[CV 6/10] END C=0.001, penalty=l2;, score=(train=0.822, test=0.825) total time=   0.0s\n",
      "[CV 7/10] END C=0.001, penalty=l2;, score=(train=0.814, test=0.811) total time=   0.0s\n",
      "[CV 8/10] END C=0.001, penalty=l2;, score=(train=0.819, test=0.819) total time=   0.0s\n",
      "[CV 9/10] END C=0.001, penalty=l2;, score=(train=0.818, test=0.846) total time=   0.0s\n",
      "[CV 10/10] END C=0.001, penalty=l2;, score=(train=0.825, test=0.812) total time=   0.0s\n",
      "[CV 1/10] END C=0.01, penalty=l1;, score=(train=0.787, test=0.814) total time=   0.0s\n",
      "[CV 2/10] END C=0.01, penalty=l1;, score=(train=0.788, test=0.747) total time=   0.0s\n",
      "[CV 3/10] END C=0.01, penalty=l1;, score=(train=0.786, test=0.803) total time=   0.0s\n",
      "[CV 4/10] END C=0.01, penalty=l1;, score=(train=0.779, test=0.778) total time=   0.0s\n",
      "[CV 5/10] END C=0.01, penalty=l1;, score=(train=0.777, test=0.760) total time=   0.0s\n",
      "[CV 6/10] END C=0.01, penalty=l1;, score=(train=0.786, test=0.793) total time=   0.0s\n",
      "[CV 7/10] END C=0.01, penalty=l1;, score=(train=0.782, test=0.757) total time=   0.0s\n",
      "[CV 8/10] END C=0.01, penalty=l1;, score=(train=0.783, test=0.793) total time=   0.0s\n",
      "[CV 9/10] END C=0.01, penalty=l1;, score=(train=0.780, test=0.812) total time=   0.0s\n",
      "[CV 10/10] END C=0.01, penalty=l1;, score=(train=0.785, test=0.802) total time=   0.0s\n",
      "[CV 1/10] END C=0.01, penalty=l2;, score=(train=0.899, test=0.926) total time=   0.0s\n",
      "[CV 2/10] END C=0.01, penalty=l2;, score=(train=0.894, test=0.853) total time=   0.0s\n",
      "[CV 3/10] END C=0.01, penalty=l2;, score=(train=0.901, test=0.913) total time=   0.0s\n",
      "[CV 4/10] END C=0.01, penalty=l2;, score=(train=0.901, test=0.862) total time=   0.0s\n",
      "[CV 5/10] END C=0.01, penalty=l2;, score=(train=0.891, test=0.866) total time=   0.0s\n",
      "[CV 6/10] END C=0.01, penalty=l2;, score=(train=0.893, test=0.894) total time=   0.0s\n",
      "[CV 7/10] END C=0.01, penalty=l2;, score=(train=0.885, test=0.887) total time=   0.0s\n",
      "[CV 8/10] END C=0.01, penalty=l2;, score=(train=0.899, test=0.920) total time=   0.0s\n",
      "[CV 9/10] END C=0.01, penalty=l2;, score=(train=0.899, test=0.899) total time=   0.0s\n",
      "[CV 10/10] END C=0.01, penalty=l2;, score=(train=0.897, test=0.872) total time=   0.0s\n",
      "[CV 1/10] END C=0.1, penalty=l1;, score=(train=0.906, test=0.927) total time=   0.0s\n",
      "[CV 2/10] END C=0.1, penalty=l1;, score=(train=0.901, test=0.855) total time=   0.0s\n",
      "[CV 3/10] END C=0.1, penalty=l1;, score=(train=0.906, test=0.913) total time=   0.0s\n",
      "[CV 4/10] END C=0.1, penalty=l1;, score=(train=0.906, test=0.858) total time=   0.0s\n",
      "[CV 5/10] END C=0.1, penalty=l1;, score=(train=0.896, test=0.875) total time=   0.0s\n",
      "[CV 6/10] END C=0.1, penalty=l1;, score=(train=0.899, test=0.896) total time=   0.0s\n",
      "[CV 7/10] END C=0.1, penalty=l1;, score=(train=0.887, test=0.893) total time=   0.0s\n",
      "[CV 8/10] END C=0.1, penalty=l1;, score=(train=0.903, test=0.919) total time=   0.0s\n",
      "[CV 9/10] END C=0.1, penalty=l1;, score=(train=0.905, test=0.899) total time=   0.0s\n",
      "[CV 10/10] END C=0.1, penalty=l1;, score=(train=0.900, test=0.876) total time=   0.0s\n",
      "[CV 1/10] END C=0.1, penalty=l2;, score=(train=0.909, test=0.929) total time=   0.0s\n",
      "[CV 2/10] END C=0.1, penalty=l2;, score=(train=0.904, test=0.863) total time=   0.0s\n",
      "[CV 3/10] END C=0.1, penalty=l2;, score=(train=0.911, test=0.919) total time=   0.0s\n",
      "[CV 4/10] END C=0.1, penalty=l2;, score=(train=0.911, test=0.866) total time=   0.0s\n",
      "[CV 5/10] END C=0.1, penalty=l2;, score=(train=0.900, test=0.875) total time=   0.0s\n",
      "[CV 6/10] END C=0.1, penalty=l2;, score=(train=0.902, test=0.902) total time=   0.0s\n",
      "[CV 7/10] END C=0.1, penalty=l2;, score=(train=0.893, test=0.894) total time=   0.0s\n",
      "[CV 8/10] END C=0.1, penalty=l2;, score=(train=0.907, test=0.930) total time=   0.0s\n",
      "[CV 9/10] END C=0.1, penalty=l2;, score=(train=0.909, test=0.896) total time=   0.0s\n",
      "[CV 10/10] END C=0.1, penalty=l2;, score=(train=0.904, test=0.874) total time=   0.0s\n",
      "[CV 1/10] END C=1, penalty=l1;, score=(train=0.911, test=0.924) total time=   0.0s\n",
      "[CV 2/10] END C=1, penalty=l1;, score=(train=0.906, test=0.858) total time=   0.0s\n",
      "[CV 3/10] END C=1, penalty=l1;, score=(train=0.912, test=0.917) total time=   0.0s\n",
      "[CV 4/10] END C=1, penalty=l1;, score=(train=0.913, test=0.865) total time=   0.0s\n",
      "[CV 5/10] END C=1, penalty=l1;, score=(train=0.901, test=0.872) total time=   0.0s\n",
      "[CV 6/10] END C=1, penalty=l1;, score=(train=0.904, test=0.900) total time=   0.0s\n",
      "[CV 7/10] END C=1, penalty=l1;, score=(train=0.895, test=0.896) total time=   0.0s\n",
      "[CV 8/10] END C=1, penalty=l1;, score=(train=0.908, test=0.928) total time=   0.0s\n",
      "[CV 9/10] END C=1, penalty=l1;, score=(train=0.910, test=0.894) total time=   0.0s\n",
      "[CV 10/10] END C=1, penalty=l1;, score=(train=0.906, test=0.878) total time=   0.0s\n",
      "[CV 1/10] END C=1, penalty=l2;, score=(train=0.911, test=0.923) total time=   0.0s\n",
      "[CV 2/10] END C=1, penalty=l2;, score=(train=0.906, test=0.860) total time=   0.0s\n",
      "[CV 3/10] END C=1, penalty=l2;, score=(train=0.913, test=0.918) total time=   0.0s\n",
      "[CV 4/10] END C=1, penalty=l2;, score=(train=0.913, test=0.865) total time=   0.0s\n",
      "[CV 5/10] END C=1, penalty=l2;, score=(train=0.902, test=0.872) total time=   0.0s\n",
      "[CV 6/10] END C=1, penalty=l2;, score=(train=0.904, test=0.901) total time=   0.0s\n",
      "[CV 7/10] END C=1, penalty=l2;, score=(train=0.895, test=0.896) total time=   0.0s\n",
      "[CV 8/10] END C=1, penalty=l2;, score=(train=0.908, test=0.927) total time=   0.0s\n",
      "[CV 9/10] END C=1, penalty=l2;, score=(train=0.910, test=0.894) total time=   0.0s\n",
      "[CV 10/10] END C=1, penalty=l2;, score=(train=0.906, test=0.876) total time=   0.0s\n",
      "[CV 1/10] END C=10, penalty=l1;, score=(train=0.911, test=0.922) total time=   0.0s\n",
      "[CV 2/10] END C=10, penalty=l1;, score=(train=0.906, test=0.859) total time=   0.0s\n",
      "[CV 3/10] END C=10, penalty=l1;, score=(train=0.913, test=0.917) total time=   0.0s\n",
      "[CV 4/10] END C=10, penalty=l1;, score=(train=0.913, test=0.864) total time=   0.0s\n",
      "[CV 5/10] END C=10, penalty=l1;, score=(train=0.902, test=0.871) total time=   0.0s\n",
      "[CV 6/10] END C=10, penalty=l1;, score=(train=0.904, test=0.900) total time=   0.0s\n",
      "[CV 7/10] END C=10, penalty=l1;, score=(train=0.896, test=0.896) total time=   0.0s\n",
      "[CV 8/10] END C=10, penalty=l1;, score=(train=0.908, test=0.926) total time=   0.0s\n",
      "[CV 9/10] END C=10, penalty=l1;, score=(train=0.910, test=0.893) total time=   0.0s\n",
      "[CV 10/10] END C=10, penalty=l1;, score=(train=0.906, test=0.877) total time=   0.0s\n",
      "[CV 1/10] END C=10, penalty=l2;, score=(train=0.911, test=0.922) total time=   0.0s\n",
      "[CV 2/10] END C=10, penalty=l2;, score=(train=0.906, test=0.859) total time=   0.0s\n",
      "[CV 3/10] END C=10, penalty=l2;, score=(train=0.913, test=0.917) total time=   0.0s\n",
      "[CV 4/10] END C=10, penalty=l2;, score=(train=0.913, test=0.864) total time=   0.0s\n",
      "[CV 5/10] END C=10, penalty=l2;, score=(train=0.902, test=0.871) total time=   0.0s\n",
      "[CV 6/10] END C=10, penalty=l2;, score=(train=0.904, test=0.900) total time=   0.0s\n",
      "[CV 7/10] END C=10, penalty=l2;, score=(train=0.896, test=0.896) total time=   0.0s\n",
      "[CV 8/10] END C=10, penalty=l2;, score=(train=0.908, test=0.926) total time=   0.0s\n",
      "[CV 9/10] END C=10, penalty=l2;, score=(train=0.910, test=0.893) total time=   0.0s\n",
      "[CV 10/10] END C=10, penalty=l2;, score=(train=0.906, test=0.877) total time=   0.0s\n",
      "[CV 1/10] END C=100, penalty=l1;, score=(train=0.911, test=0.921) total time=   0.0s\n",
      "[CV 2/10] END C=100, penalty=l1;, score=(train=0.906, test=0.859) total time=   0.0s\n",
      "[CV 3/10] END C=100, penalty=l1;, score=(train=0.913, test=0.917) total time=   0.0s\n",
      "[CV 4/10] END C=100, penalty=l1;, score=(train=0.913, test=0.864) total time=   0.0s\n",
      "[CV 5/10] END C=100, penalty=l1;, score=(train=0.902, test=0.871) total time=   0.0s\n",
      "[CV 6/10] END C=100, penalty=l1;, score=(train=0.904, test=0.900) total time=   0.0s\n",
      "[CV 7/10] END C=100, penalty=l1;, score=(train=0.896, test=0.896) total time=   0.0s\n",
      "[CV 8/10] END C=100, penalty=l1;, score=(train=0.908, test=0.926) total time=   0.0s\n",
      "[CV 9/10] END C=100, penalty=l1;, score=(train=0.910, test=0.892) total time=   0.0s\n",
      "[CV 10/10] END C=100, penalty=l1;, score=(train=0.906, test=0.877) total time=   0.0s\n",
      "[CV 1/10] END C=100, penalty=l2;, score=(train=0.911, test=0.921) total time=   0.0s\n",
      "[CV 2/10] END C=100, penalty=l2;, score=(train=0.906, test=0.859) total time=   0.0s\n",
      "[CV 3/10] END C=100, penalty=l2;, score=(train=0.913, test=0.917) total time=   0.0s\n",
      "[CV 4/10] END C=100, penalty=l2;, score=(train=0.913, test=0.864) total time=   0.0s\n",
      "[CV 5/10] END C=100, penalty=l2;, score=(train=0.902, test=0.871) total time=   0.0s\n",
      "[CV 6/10] END C=100, penalty=l2;, score=(train=0.904, test=0.900) total time=   0.0s\n",
      "[CV 7/10] END C=100, penalty=l2;, score=(train=0.896, test=0.896) total time=   0.0s\n",
      "[CV 8/10] END C=100, penalty=l2;, score=(train=0.908, test=0.926) total time=   0.0s\n",
      "[CV 9/10] END C=100, penalty=l2;, score=(train=0.910, test=0.892) total time=   0.0s\n",
      "[CV 10/10] END C=100, penalty=l2;, score=(train=0.906, test=0.877) total time=   0.0s\n",
      "----------\n",
      "iter: 1\n",
      "n_candidates: 4\n",
      "n_resources: 14334\n",
      "Fitting 10 folds for each of 4 candidates, totalling 40 fits\n",
      "[CV 1/10] END C=10, penalty=l1;, score=(train=0.896, test=0.894) total time=   0.2s\n",
      "[CV 2/10] END C=10, penalty=l1;, score=(train=0.903, test=0.892) total time=   0.2s\n",
      "[CV 3/10] END C=10, penalty=l1;, score=(train=0.899, test=0.911) total time=   0.2s\n",
      "[CV 4/10] END C=10, penalty=l1;, score=(train=0.904, test=0.895) total time=   0.0s\n",
      "[CV 5/10] END C=10, penalty=l1;, score=(train=0.903, test=0.901) total time=   0.2s\n",
      "[CV 6/10] END C=10, penalty=l1;, score=(train=0.903, test=0.907) total time=   0.5s\n",
      "[CV 7/10] END C=10, penalty=l1;, score=(train=0.905, test=0.919) total time=   0.3s\n",
      "[CV 8/10] END C=10, penalty=l1;, score=(train=0.906, test=0.896) total time=   0.2s\n",
      "[CV 9/10] END C=10, penalty=l1;, score=(train=0.903, test=0.893) total time=   0.3s\n",
      "[CV 10/10] END C=10, penalty=l1;, score=(train=0.898, test=0.901) total time=   0.2s\n",
      "[CV 1/10] END C=1, penalty=l1;, score=(train=0.896, test=0.894) total time=   0.2s\n",
      "[CV 2/10] END C=1, penalty=l1;, score=(train=0.903, test=0.892) total time=   0.3s\n",
      "[CV 3/10] END C=1, penalty=l1;, score=(train=0.899, test=0.911) total time=   0.2s\n",
      "[CV 4/10] END C=1, penalty=l1;, score=(train=0.904, test=0.895) total time=   0.2s\n",
      "[CV 5/10] END C=1, penalty=l1;, score=(train=0.903, test=0.901) total time=   0.2s\n",
      "[CV 6/10] END C=1, penalty=l1;, score=(train=0.903, test=0.907) total time=   0.2s\n",
      "[CV 7/10] END C=1, penalty=l1;, score=(train=0.905, test=0.919) total time=   0.3s\n",
      "[CV 8/10] END C=1, penalty=l1;, score=(train=0.906, test=0.897) total time=   0.2s\n",
      "[CV 9/10] END C=1, penalty=l1;, score=(train=0.903, test=0.893) total time=   0.2s\n",
      "[CV 10/10] END C=1, penalty=l1;, score=(train=0.898, test=0.901) total time=   0.3s\n",
      "[CV 1/10] END C=1, penalty=l2;, score=(train=0.896, test=0.894) total time=   0.0s\n",
      "[CV 2/10] END C=1, penalty=l2;, score=(train=0.903, test=0.892) total time=   0.0s\n",
      "[CV 3/10] END C=1, penalty=l2;, score=(train=0.899, test=0.911) total time=   0.0s\n",
      "[CV 4/10] END C=1, penalty=l2;, score=(train=0.904, test=0.895) total time=   0.0s\n",
      "[CV 5/10] END C=1, penalty=l2;, score=(train=0.903, test=0.902) total time=   0.0s\n",
      "[CV 6/10] END C=1, penalty=l2;, score=(train=0.903, test=0.907) total time=   0.0s\n",
      "[CV 7/10] END C=1, penalty=l2;, score=(train=0.905, test=0.919) total time=   0.0s\n",
      "[CV 8/10] END C=1, penalty=l2;, score=(train=0.906, test=0.897) total time=   0.0s\n",
      "[CV 9/10] END C=1, penalty=l2;, score=(train=0.903, test=0.893) total time=   0.0s\n",
      "[CV 10/10] END C=1, penalty=l2;, score=(train=0.898, test=0.901) total time=   0.0s\n",
      "[CV 1/10] END C=0.1, penalty=l2;, score=(train=0.896, test=0.896) total time=   0.0s\n",
      "[CV 2/10] END C=0.1, penalty=l2;, score=(train=0.903, test=0.892) total time=   0.0s\n",
      "[CV 3/10] END C=0.1, penalty=l2;, score=(train=0.898, test=0.912) total time=   0.0s\n",
      "[CV 4/10] END C=0.1, penalty=l2;, score=(train=0.904, test=0.895) total time=   0.0s\n",
      "[CV 5/10] END C=0.1, penalty=l2;, score=(train=0.903, test=0.903) total time=   0.0s\n",
      "[CV 6/10] END C=0.1, penalty=l2;, score=(train=0.902, test=0.907) total time=   0.0s\n",
      "[CV 7/10] END C=0.1, penalty=l2;, score=(train=0.905, test=0.919) total time=   0.0s\n",
      "[CV 8/10] END C=0.1, penalty=l2;, score=(train=0.906, test=0.897) total time=   0.0s\n",
      "[CV 9/10] END C=0.1, penalty=l2;, score=(train=0.902, test=0.893) total time=   0.0s\n",
      "[CV 10/10] END C=0.1, penalty=l2;, score=(train=0.898, test=0.901) total time=   0.0s\n",
      "----------\n",
      "iter: 2\n",
      "n_candidates: 2\n",
      "n_resources: 43002\n",
      "Fitting 10 folds for each of 2 candidates, totalling 20 fits\n",
      "[CV 1/10] END C=1, penalty=l1;, score=(train=0.901, test=0.899) total time=   1.2s\n",
      "[CV 2/10] END C=1, penalty=l1;, score=(train=0.902, test=0.891) total time=   1.1s\n",
      "[CV 3/10] END C=1, penalty=l1;, score=(train=0.901, test=0.903) total time=   1.4s\n",
      "[CV 4/10] END C=1, penalty=l1;, score=(train=0.901, test=0.904) total time=   1.1s\n",
      "[CV 5/10] END C=1, penalty=l1;, score=(train=0.902, test=0.894) total time=   1.5s\n",
      "[CV 6/10] END C=1, penalty=l1;, score=(train=0.901, test=0.905) total time=   1.1s\n",
      "[CV 7/10] END C=1, penalty=l1;, score=(train=0.901, test=0.901) total time=   0.6s\n",
      "[CV 8/10] END C=1, penalty=l1;, score=(train=0.900, test=0.907) total time=   1.0s\n",
      "[CV 9/10] END C=1, penalty=l1;, score=(train=0.902, test=0.891) total time=   1.2s\n",
      "[CV 10/10] END C=1, penalty=l1;, score=(train=0.900, test=0.906) total time=   1.1s\n",
      "[CV 1/10] END C=0.1, penalty=l2;, score=(train=0.901, test=0.899) total time=   0.3s\n",
      "[CV 2/10] END C=0.1, penalty=l2;, score=(train=0.902, test=0.891) total time=   0.2s\n",
      "[CV 3/10] END C=0.1, penalty=l2;, score=(train=0.901, test=0.903) total time=   0.2s\n",
      "[CV 4/10] END C=0.1, penalty=l2;, score=(train=0.901, test=0.904) total time=   0.3s\n",
      "[CV 5/10] END C=0.1, penalty=l2;, score=(train=0.902, test=0.894) total time=   0.3s\n",
      "[CV 6/10] END C=0.1, penalty=l2;, score=(train=0.901, test=0.905) total time=   0.3s\n",
      "[CV 7/10] END C=0.1, penalty=l2;, score=(train=0.901, test=0.901) total time=   0.2s\n",
      "[CV 8/10] END C=0.1, penalty=l2;, score=(train=0.900, test=0.907) total time=   0.2s\n",
      "[CV 9/10] END C=0.1, penalty=l2;, score=(train=0.902, test=0.891) total time=   0.3s\n",
      "[CV 10/10] END C=0.1, penalty=l2;, score=(train=0.901, test=0.906) total time=   0.3s\n",
      "Best Hyperparameters -->  {'C': 0.1, 'penalty': 'l2'}\n",
      "Best Accuracy -->  0.9001225077165049\n"
     ]
    }
   ],
   "source": [
    "lor_model = LogisticRegression(solver='liblinear')\n",
    "avg_w2v_model = HalvingGridSearchCV(lor_model ,parameter_grid ,scoring='roc_auc' ,cv=10 ,verbose=3)\n",
    "\n",
    "avg_w2v_model.fit(X_train_avg_w2v ,y_train) \n",
    "print('Best Hyperparameters --> ', avg_w2v_model.best_params_)\n",
    "print('Best Accuracy --> ',avg_w2v_model.best_score_)"
   ]
  },
  {
   "cell_type": "markdown",
   "metadata": {},
   "source": [
    "### 3.2 Model Building (avg_w2v)\n"
   ]
  },
  {
   "cell_type": "code",
   "execution_count": 78,
   "metadata": {},
   "outputs": [],
   "source": [
    "model_avg_w2v = LogisticRegression(penalty=avg_w2v_model.best_estimator_.penalty ,C=avg_w2v_model.best_estimator_.C ,solver='liblinear')\n",
    "\n",
    "model_avg_w2v.fit(X_train_avg_w2v, y_train)\n",
    "\n",
    "# predicted values for train & test data\n",
    "y_pred_avg_w2v = model_avg_w2v.predict_proba(X_train_avg_w2v)[:, 1]\n",
    "y_pred_avg_w2v_test = model_avg_w2v.predict_proba(X_test_avg_w2v)[:, 1]"
   ]
  },
  {
   "cell_type": "markdown",
   "metadata": {},
   "source": [
    "### 1.3 Model Evaluation (avg_w2v)"
   ]
  },
  {
   "cell_type": "code",
   "execution_count": 79,
   "metadata": {},
   "outputs": [
    {
     "name": "stdout",
     "output_type": "stream",
     "text": [
      "Accuracy of avg_w2v model :  0.8849732275092089\n"
     ]
    }
   ],
   "source": [
    "print('Accuracy of avg_w2v model : ',model_avg_w2v.score(X_test_avg_w2v, y_test))"
   ]
  },
  {
   "cell_type": "code",
   "execution_count": 80,
   "metadata": {},
   "outputs": [
    {
     "data": {
      "image/png": "[encoded data removed]",
      "text/plain": [
       "<Figure size 432x288 with 1 Axes>"
      ]
     },
     "metadata": {
      "needs_background": "light"
     },
     "output_type": "display_data"
    }
   ],
   "source": [
    "# plotting ROC curve for train & test data\n",
    "\n",
    "false_positive_rate1, true_positive_rate1, threshold1 = roc_curve(y_train, y_pred_avg_w2v)\n",
    "false_positive_rate2, true_positive_rate2, threshold2 = roc_curve(y_test, y_pred_avg_w2v_test)\n",
    "\n",
    "fig = plt.figure()\n",
    "ax = plt.subplot(111)\n",
    "\n",
    "# train ROC\n",
    "ax.plot(false_positive_rate1, true_positive_rate1, label='Train ROC ,auc ={}'.format(str(roc_auc_score(y_train, y_pred_avg_w2v))))\n",
    "\n",
    "# test ROC\n",
    "ax.plot(false_positive_rate2, true_positive_rate2, label='Test ROC ,auc ={}'.format(str(roc_auc_score(y_test, y_pred_avg_w2v_test))))\n",
    "\n",
    "plt.title('ROC')\n",
    "plt.grid('True')\n",
    "plt.xlabel('False Positive Rate')\n",
    "plt.ylabel('True Positive Rate')\n",
    "ax.legend()\n",
    "plt.show()\n"
   ]
  },
  {
   "cell_type": "code",
   "execution_count": 81,
   "metadata": {},
   "outputs": [
    {
     "data": {
      "image/png": "[encoded data removed]",
      "text/plain": [
       "<Figure size 432x288 with 2 Axes>"
      ]
     },
     "metadata": {
      "needs_background": "light"
     },
     "output_type": "display_data"
    }
   ],
   "source": [
    "# confusion Matrix for test data\n",
    "y_pred_avg_w2v_test = model_avg_w2v.predict(X_test_avg_w2v)\n",
    "\n",
    "confusion = confusion_matrix(y_test, y_pred_avg_w2v_test)\n",
    "class_labels = [\"negative\", \"positive\"]\n",
    "\n",
    "cf_data = pd.DataFrame(confusion, index=class_labels, columns=class_labels)\n",
    "sns.heatmap(cf_data, annot=True, fmt='.5g')\n",
    "\n",
    "plt.title(\"Confusion Matrix for test data\")\n",
    "plt.xlabel(\"Predicted Label\")\n",
    "plt.ylabel(\"True Label\")\n",
    "plt.show()"
   ]
  },
  {
   "cell_type": "markdown",
   "metadata": {},
   "source": [
    "### 3.4 Calculating sparsity on weight vector (after L1 regularization)\n"
   ]
  },
  {
   "cell_type": "code",
   "execution_count": 82,
   "metadata": {},
   "outputs": [
    {
     "name": "stdout",
     "output_type": "stream",
     "text": [
      "For C: 0.001    Number of non-zero coefficients : 5\n",
      "For C: 0.01    Number of non-zero coefficients : 26\n",
      "For C: 0.1    Number of non-zero coefficients : 49\n",
      "For C: 1.0    Number of non-zero coefficients : 50\n",
      "For C: 10.0    Number of non-zero coefficients : 50\n",
      "For C: 100.0    Number of non-zero coefficients : 50\n"
     ]
    }
   ],
   "source": [
    "# count --> Counts number of non zero weights for a given C \n",
    "# error --> stores error for each value of c\n",
    "count =[]\n",
    "error =[]\n",
    "\n",
    "c_sparse = np.array([10**-3, 10**-2, 10**-1, 10**0, 10**1, 10**2])\n",
    "\n",
    "for i in c_sparse:\n",
    "    model = LogisticRegression(penalty='l1', C=i ,solver='liblinear')\n",
    "    model.fit(X_train_avg_w2v ,y_train)\n",
    "    \n",
    "    count.append(np.count_nonzero(model.coef_))\n",
    "    error.append(1 - model.score(X_test_avg_w2v ,y_test))\n",
    "    print('For C: {}    Number of non-zero coefficients : {}'.format(i ,np.count_nonzero(model.coef_)))"
   ]
  },
  {
   "cell_type": "code",
   "execution_count": 83,
   "metadata": {},
   "outputs": [
    {
     "name": "stdout",
     "output_type": "stream",
     "text": [
      "Number of non-zero element in weight vector : 50\n"
     ]
    }
   ],
   "source": [
    "weights = model_avg_w2v.coef_ \n",
    "print('Number of non-zero element in weight vector : {}'.format(np.count_nonzero(weights)))"
   ]
  },
  {
   "cell_type": "code",
   "execution_count": 84,
   "metadata": {},
   "outputs": [
    {
     "data": {
      "image/png": "[encoded data removed]",
      "text/plain": [
       "<Figure size 432x288 with 1 Axes>"
      ]
     },
     "metadata": {
      "needs_background": "light"
     },
     "output_type": "display_data"
    }
   ],
   "source": [
    "# plotting c vs Sparsity\n",
    "\n",
    "plt.title('C vs Sparsity')\n",
    "plt.plot(range(len(c_sparse)), count)\n",
    "\n",
    "plt.xlabel('C')\n",
    "plt.ylabel('Number of non-zero coefficients')\n",
    "plt.xticks(range(len(c_sparse)), c_sparse)\n",
    "plt.show()"
   ]
  },
  {
   "cell_type": "code",
   "execution_count": 85,
   "metadata": {},
   "outputs": [
    {
     "data": {
      "image/png": "[encoded data removed]",
      "text/plain": [
       "<Figure size 432x288 with 1 Axes>"
      ]
     },
     "metadata": {
      "needs_background": "light"
     },
     "output_type": "display_data"
    }
   ],
   "source": [
    "# plotting c vs error\n",
    "\n",
    "plt.title('C vs Error')\n",
    "plt.plot(range(len(c_sparse)), error)\n",
    "\n",
    "plt.xlabel('C')\n",
    "plt.ylabel('Error')\n",
    "plt.xticks(range(len(c_sparse)), c_sparse)\n",
    "plt.show()"
   ]
  },
  {
   "cell_type": "markdown",
   "metadata": {},
   "source": [
    "## 4. TFIDF-W2V"
   ]
  },
  {
   "cell_type": "code",
   "execution_count": 86,
   "metadata": {},
   "outputs": [
    {
     "name": "stderr",
     "output_type": "stream",
     "text": [
      "100%|██████████| 43009/43009 [00:38<00:00, 1110.03it/s]\n"
     ]
    }
   ],
   "source": [
    "sent_list_train = []\n",
    "\n",
    "for sentence in X_train:\n",
    "    sent_list_train.append(sentence.split())\n",
    "\n",
    "w2v_model = Word2Vec(sent_list_train, min_count=5, vector_size=50, workers=4)\n",
    "w2v_words = list(w2v_model.wv.index_to_key)\n",
    "\n",
    "\n",
    "tfidf_vectors = TfidfVectorizer(\n",
    "    ngram_range=(1, 2), min_df=10, max_features=500)\n",
    "tfidf_matrix = tfidf_vectors.fit_transform(X_train)\n",
    "\n",
    "tfidf_features = tfidf_vectors.get_feature_names()\n",
    "tfidf_dictionary = dict(\n",
    "    zip(tfidf_vectors.get_feature_names(), list(tfidf_vectors.idf_)))\n",
    "\n",
    "\n",
    "#word2vec for train data\n",
    "\n",
    "tfidf_sent_vectors_train = []\n",
    "row = 0\n",
    "\n",
    "for sent in tqdm(sent_list_train):\n",
    "    sent_vectors = np.zeros(50)\n",
    "    weight_sum = 0\n",
    "\n",
    "    for word in sent:\n",
    "        if word in w2v_words and word in tfidf_features:\n",
    "            vectors = w2v_model.wv[word]\n",
    "            tfidf = tfidf_dictionary[word]*(sent.count(word) / len(sent))\n",
    "            sent_vectors += (vectors * tfidf)\n",
    "            weight_sum += tfidf\n",
    "\n",
    "    if weight_sum != 0:\n",
    "        sent_vectors /= weight_sum\n",
    "\n",
    "    tfidf_sent_vectors_train.append(sent_vectors)\n",
    "    row += 1\n"
   ]
  },
  {
   "cell_type": "code",
   "execution_count": 87,
   "metadata": {},
   "outputs": [
    {
     "name": "stderr",
     "output_type": "stream",
     "text": [
      "100%|██████████| 18433/18433 [00:16<00:00, 1100.29it/s]\n"
     ]
    }
   ],
   "source": [
    "#word2vec for validation data (using same w2v model and words)\n",
    "\n",
    "sent_list_val = []\n",
    "\n",
    "for sentence in X_val:\n",
    "    sent_list_val.append(sentence.split())\n",
    "\n",
    "tfidf_sent_vectors_val = []\n",
    "row = 0\n",
    "\n",
    "for sent in tqdm(sent_list_val):\n",
    "    sent_vectors = np.zeros(50)\n",
    "    weight_sum = 0 \n",
    "    \n",
    "    for word in sent:\n",
    "        if word in w2v_words and word in tfidf_features:\n",
    "            vectors = w2v_model.wv[word]\n",
    "            tfidf = tfidf_dictionary[word]*(sent.count(word) / len(sent))\n",
    "            sent_vectors += (vectors * tfidf) \n",
    "            weight_sum += tfidf\n",
    "            \n",
    "    if weight_sum != 0:\n",
    "        sent_vectors /= weight_sum \n",
    "        \n",
    "    tfidf_sent_vectors_val.append(sent_vectors)\n",
    "    row +=1"
   ]
  },
  {
   "cell_type": "code",
   "execution_count": 88,
   "metadata": {},
   "outputs": [
    {
     "name": "stderr",
     "output_type": "stream",
     "text": [
      "100%|██████████| 18433/18433 [00:16<00:00, 1096.63it/s]\n"
     ]
    }
   ],
   "source": [
    "#word2vec for test data\n",
    "\n",
    "sent_list_test = []\n",
    "\n",
    "for sentence in X_test:\n",
    "    sent_list_test.append(sentence.split())\n",
    "\n",
    "tfidf_sent_vectors_test = []\n",
    "row=0\n",
    "    \n",
    "for sent in tqdm(sent_list_val):\n",
    "    sent_vectors = np.zeros(50)\n",
    "    weight_sum = 0 \n",
    "    \n",
    "    for word in sent:\n",
    "        if word in w2v_words and word in tfidf_features:\n",
    "            vectors = w2v_model.wv[word]\n",
    "            tfidf = tfidf_dictionary[word]*(sent.count(word) / len(sent))\n",
    "            sent_vectors += (vectors * tfidf) \n",
    "            weight_sum += tfidf\n",
    "            \n",
    "    if weight_sum != 0:\n",
    "        sent_vectors /= weight_sum \n",
    "        \n",
    "    tfidf_sent_vectors_val.append(sent_vectors)\n",
    "    row +=1"
   ]
  },
  {
   "cell_type": "code",
   "execution_count": 89,
   "metadata": {},
   "outputs": [],
   "source": [
    "X_train_tfidf_w2v = sent_vectors_train\n",
    "X_val_tfidf_w2v = sent_vectors_val\n",
    "X_test_tfidf_w2v = sent_vectors_test"
   ]
  },
  {
   "cell_type": "markdown",
   "metadata": {},
   "source": [
    "### 4.1 Hyperparameter Tuning "
   ]
  },
  {
   "cell_type": "code",
   "execution_count": 90,
   "metadata": {},
   "outputs": [],
   "source": [
    "penalties = ['l1', 'l2']\n",
    "C = [10**-3, 10**-2, 10**-1, 10**0, 10**1, 10**2]\n",
    "\n",
    "parameter_grid = {'penalty': penalties, 'C': C}"
   ]
  },
  {
   "cell_type": "code",
   "execution_count": 91,
   "metadata": {},
   "outputs": [
    {
     "name": "stdout",
     "output_type": "stream",
     "text": [
      "n_iterations: 3\n",
      "n_required_iterations: 3\n",
      "n_possible_iterations: 3\n",
      "min_resources_: 4778\n",
      "max_resources_: 43009\n",
      "aggressive_elimination: False\n",
      "factor: 3\n",
      "----------\n",
      "iter: 0\n",
      "n_candidates: 12\n",
      "n_resources: 4778\n",
      "Fitting 10 folds for each of 12 candidates, totalling 120 fits\n",
      "[CV 1/10] END C=0.001, penalty=l1;, score=(train=0.500, test=0.500) total time=   0.0s\n",
      "[CV 2/10] END C=0.001, penalty=l1;, score=(train=0.500, test=0.500) total time=   0.0s\n",
      "[CV 3/10] END C=0.001, penalty=l1;, score=(train=0.500, test=0.500) total time=   0.0s\n",
      "[CV 4/10] END C=0.001, penalty=l1;, score=(train=0.500, test=0.500) total time=   0.0s\n",
      "[CV 5/10] END C=0.001, penalty=l1;, score=(train=0.500, test=0.500) total time=   0.0s\n",
      "[CV 6/10] END C=0.001, penalty=l1;, score=(train=0.500, test=0.500) total time=   0.0s\n",
      "[CV 7/10] END C=0.001, penalty=l1;, score=(train=0.500, test=0.500) total time=   0.0s\n",
      "[CV 8/10] END C=0.001, penalty=l1;, score=(train=0.500, test=0.500) total time=   0.0s\n",
      "[CV 9/10] END C=0.001, penalty=l1;, score=(train=0.500, test=0.500) total time=   0.0s\n",
      "[CV 10/10] END C=0.001, penalty=l1;, score=(train=0.500, test=0.500) total time=   0.0s\n",
      "[CV 1/10] END C=0.001, penalty=l2;, score=(train=0.831, test=0.805) total time=   0.0s\n",
      "[CV 2/10] END C=0.001, penalty=l2;, score=(train=0.822, test=0.861) total time=   0.0s\n",
      "[CV 3/10] END C=0.001, penalty=l2;, score=(train=0.817, test=0.841) total time=   0.0s\n",
      "[CV 4/10] END C=0.001, penalty=l2;, score=(train=0.825, test=0.834) total time=   0.0s\n",
      "[CV 5/10] END C=0.001, penalty=l2;, score=(train=0.828, test=0.776) total time=   0.0s\n",
      "[CV 6/10] END C=0.001, penalty=l2;, score=(train=0.818, test=0.846) total time=   0.0s\n",
      "[CV 7/10] END C=0.001, penalty=l2;, score=(train=0.831, test=0.820) total time=   0.0s\n",
      "[CV 8/10] END C=0.001, penalty=l2;, score=(train=0.818, test=0.810) total time=   0.0s\n",
      "[CV 9/10] END C=0.001, penalty=l2;, score=(train=0.832, test=0.804) total time=   0.0s\n",
      "[CV 10/10] END C=0.001, penalty=l2;, score=(train=0.828, test=0.863) total time=   0.0s\n",
      "[CV 1/10] END C=0.01, penalty=l1;, score=(train=0.802, test=0.776) total time=   0.0s\n",
      "[CV 2/10] END C=0.01, penalty=l1;, score=(train=0.777, test=0.792) total time=   0.0s\n",
      "[CV 3/10] END C=0.01, penalty=l1;, score=(train=0.788, test=0.798) total time=   0.0s\n",
      "[CV 4/10] END C=0.01, penalty=l1;, score=(train=0.755, test=0.768) total time=   0.0s\n",
      "[CV 5/10] END C=0.01, penalty=l1;, score=(train=0.803, test=0.793) total time=   0.0s\n",
      "[CV 6/10] END C=0.01, penalty=l1;, score=(train=0.772, test=0.782) total time=   0.0s\n",
      "[CV 7/10] END C=0.01, penalty=l1;, score=(train=0.802, test=0.778) total time=   0.0s\n",
      "[CV 8/10] END C=0.01, penalty=l1;, score=(train=0.783, test=0.764) total time=   0.0s\n",
      "[CV 9/10] END C=0.01, penalty=l1;, score=(train=0.801, test=0.781) total time=   0.0s\n",
      "[CV 10/10] END C=0.01, penalty=l1;, score=(train=0.786, test=0.832) total time=   0.0s\n",
      "[CV 1/10] END C=0.01, penalty=l2;, score=(train=0.901, test=0.893) total time=   0.0s\n",
      "[CV 2/10] END C=0.01, penalty=l2;, score=(train=0.891, test=0.904) total time=   0.0s\n",
      "[CV 3/10] END C=0.01, penalty=l2;, score=(train=0.888, test=0.890) total time=   0.0s\n",
      "[CV 4/10] END C=0.01, penalty=l2;, score=(train=0.896, test=0.878) total time=   0.0s\n",
      "[CV 5/10] END C=0.01, penalty=l2;, score=(train=0.899, test=0.881) total time=   0.0s\n",
      "[CV 6/10] END C=0.01, penalty=l2;, score=(train=0.894, test=0.902) total time=   0.0s\n",
      "[CV 7/10] END C=0.01, penalty=l2;, score=(train=0.898, test=0.901) total time=   0.0s\n",
      "[CV 8/10] END C=0.01, penalty=l2;, score=(train=0.898, test=0.900) total time=   0.0s\n",
      "[CV 9/10] END C=0.01, penalty=l2;, score=(train=0.907, test=0.871) total time=   0.0s\n",
      "[CV 10/10] END C=0.01, penalty=l2;, score=(train=0.899, test=0.914) total time=   0.0s\n",
      "[CV 1/10] END C=0.1, penalty=l1;, score=(train=0.905, test=0.899) total time=   0.0s\n",
      "[CV 2/10] END C=0.1, penalty=l1;, score=(train=0.895, test=0.901) total time=   0.0s\n",
      "[CV 3/10] END C=0.1, penalty=l1;, score=(train=0.892, test=0.892) total time=   0.0s\n",
      "[CV 4/10] END C=0.1, penalty=l1;, score=(train=0.900, test=0.882) total time=   0.0s\n",
      "[CV 5/10] END C=0.1, penalty=l1;, score=(train=0.901, test=0.891) total time=   0.0s\n",
      "[CV 6/10] END C=0.1, penalty=l1;, score=(train=0.898, test=0.911) total time=   0.0s\n",
      "[CV 7/10] END C=0.1, penalty=l1;, score=(train=0.902, test=0.915) total time=   0.0s\n",
      "[CV 8/10] END C=0.1, penalty=l1;, score=(train=0.903, test=0.903) total time=   0.0s\n",
      "[CV 9/10] END C=0.1, penalty=l1;, score=(train=0.909, test=0.871) total time=   0.0s\n",
      "[CV 10/10] END C=0.1, penalty=l1;, score=(train=0.904, test=0.912) total time=   0.0s\n",
      "[CV 1/10] END C=0.1, penalty=l2;, score=(train=0.910, test=0.903) total time=   0.0s\n",
      "[CV 2/10] END C=0.1, penalty=l2;, score=(train=0.899, test=0.909) total time=   0.0s\n",
      "[CV 3/10] END C=0.1, penalty=l2;, score=(train=0.896, test=0.896) total time=   0.0s\n",
      "[CV 4/10] END C=0.1, penalty=l2;, score=(train=0.904, test=0.882) total time=   0.0s\n",
      "[CV 5/10] END C=0.1, penalty=l2;, score=(train=0.907, test=0.892) total time=   0.0s\n",
      "[CV 6/10] END C=0.1, penalty=l2;, score=(train=0.902, test=0.912) total time=   0.0s\n",
      "[CV 7/10] END C=0.1, penalty=l2;, score=(train=0.906, test=0.915) total time=   0.0s\n",
      "[CV 8/10] END C=0.1, penalty=l2;, score=(train=0.908, test=0.904) total time=   0.0s\n",
      "[CV 9/10] END C=0.1, penalty=l2;, score=(train=0.915, test=0.881) total time=   0.0s\n",
      "[CV 10/10] END C=0.1, penalty=l2;, score=(train=0.907, test=0.915) total time=   0.0s\n",
      "[CV 1/10] END C=1, penalty=l1;, score=(train=0.912, test=0.902) total time=   0.0s\n",
      "[CV 2/10] END C=1, penalty=l1;, score=(train=0.901, test=0.910) total time=   0.0s\n",
      "[CV 3/10] END C=1, penalty=l1;, score=(train=0.898, test=0.897) total time=   0.0s\n",
      "[CV 4/10] END C=1, penalty=l1;, score=(train=0.905, test=0.884) total time=   0.0s\n",
      "[CV 5/10] END C=1, penalty=l1;, score=(train=0.908, test=0.892) total time=   0.0s\n",
      "[CV 6/10] END C=1, penalty=l1;, score=(train=0.903, test=0.915) total time=   0.0s\n",
      "[CV 7/10] END C=1, penalty=l1;, score=(train=0.908, test=0.918) total time=   0.0s\n",
      "[CV 8/10] END C=1, penalty=l1;, score=(train=0.910, test=0.903) total time=   0.0s\n",
      "[CV 9/10] END C=1, penalty=l1;, score=(train=0.917, test=0.882) total time=   0.0s\n",
      "[CV 10/10] END C=1, penalty=l1;, score=(train=0.909, test=0.912) total time=   0.0s\n",
      "[CV 1/10] END C=1, penalty=l2;, score=(train=0.913, test=0.901) total time=   0.0s\n",
      "[CV 2/10] END C=1, penalty=l2;, score=(train=0.901, test=0.910) total time=   0.0s\n",
      "[CV 3/10] END C=1, penalty=l2;, score=(train=0.898, test=0.897) total time=   0.0s\n",
      "[CV 4/10] END C=1, penalty=l2;, score=(train=0.905, test=0.883) total time=   0.0s\n",
      "[CV 5/10] END C=1, penalty=l2;, score=(train=0.908, test=0.893) total time=   0.0s\n",
      "[CV 6/10] END C=1, penalty=l2;, score=(train=0.903, test=0.915) total time=   0.0s\n",
      "[CV 7/10] END C=1, penalty=l2;, score=(train=0.908, test=0.917) total time=   0.0s\n",
      "[CV 8/10] END C=1, penalty=l2;, score=(train=0.910, test=0.904) total time=   0.0s\n",
      "[CV 9/10] END C=1, penalty=l2;, score=(train=0.917, test=0.884) total time=   0.0s\n",
      "[CV 10/10] END C=1, penalty=l2;, score=(train=0.909, test=0.912) total time=   0.0s\n",
      "[CV 1/10] END C=10, penalty=l1;, score=(train=0.913, test=0.900) total time=   0.0s\n",
      "[CV 2/10] END C=10, penalty=l1;, score=(train=0.901, test=0.910) total time=   0.0s\n",
      "[CV 3/10] END C=10, penalty=l1;, score=(train=0.898, test=0.897) total time=   0.1s\n",
      "[CV 4/10] END C=10, penalty=l1;, score=(train=0.905, test=0.883) total time=   0.0s\n",
      "[CV 5/10] END C=10, penalty=l1;, score=(train=0.908, test=0.892) total time=   0.0s\n",
      "[CV 6/10] END C=10, penalty=l1;, score=(train=0.903, test=0.916) total time=   0.0s\n",
      "[CV 7/10] END C=10, penalty=l1;, score=(train=0.909, test=0.916) total time=   0.0s\n",
      "[CV 8/10] END C=10, penalty=l1;, score=(train=0.910, test=0.904) total time=   0.0s\n",
      "[CV 9/10] END C=10, penalty=l1;, score=(train=0.917, test=0.884) total time=   0.0s\n",
      "[CV 10/10] END C=10, penalty=l1;, score=(train=0.909, test=0.911) total time=   0.0s\n",
      "[CV 1/10] END C=10, penalty=l2;, score=(train=0.913, test=0.900) total time=   0.0s\n",
      "[CV 2/10] END C=10, penalty=l2;, score=(train=0.901, test=0.910) total time=   0.0s\n",
      "[CV 3/10] END C=10, penalty=l2;, score=(train=0.898, test=0.897) total time=   0.0s\n",
      "[CV 4/10] END C=10, penalty=l2;, score=(train=0.905, test=0.883) total time=   0.0s\n",
      "[CV 5/10] END C=10, penalty=l2;, score=(train=0.908, test=0.892) total time=   0.0s\n",
      "[CV 6/10] END C=10, penalty=l2;, score=(train=0.903, test=0.916) total time=   0.0s\n",
      "[CV 7/10] END C=10, penalty=l2;, score=(train=0.909, test=0.916) total time=   0.0s\n",
      "[CV 8/10] END C=10, penalty=l2;, score=(train=0.910, test=0.904) total time=   0.0s\n",
      "[CV 9/10] END C=10, penalty=l2;, score=(train=0.917, test=0.884) total time=   0.0s\n",
      "[CV 10/10] END C=10, penalty=l2;, score=(train=0.909, test=0.911) total time=   0.0s\n",
      "[CV 1/10] END C=100, penalty=l1;, score=(train=0.913, test=0.900) total time=   0.0s\n",
      "[CV 2/10] END C=100, penalty=l1;, score=(train=0.901, test=0.910) total time=   0.0s\n",
      "[CV 3/10] END C=100, penalty=l1;, score=(train=0.898, test=0.897) total time=   0.0s\n",
      "[CV 4/10] END C=100, penalty=l1;, score=(train=0.905, test=0.883) total time=   0.0s\n",
      "[CV 5/10] END C=100, penalty=l1;, score=(train=0.908, test=0.892) total time=   0.0s\n",
      "[CV 6/10] END C=100, penalty=l1;, score=(train=0.903, test=0.916) total time=   0.1s\n",
      "[CV 7/10] END C=100, penalty=l1;, score=(train=0.909, test=0.916) total time=   0.0s\n",
      "[CV 8/10] END C=100, penalty=l1;, score=(train=0.910, test=0.903) total time=   0.0s\n",
      "[CV 9/10] END C=100, penalty=l1;, score=(train=0.917, test=0.884) total time=   0.0s\n",
      "[CV 10/10] END C=100, penalty=l1;, score=(train=0.909, test=0.911) total time=   0.0s\n",
      "[CV 1/10] END C=100, penalty=l2;, score=(train=0.913, test=0.900) total time=   0.0s\n",
      "[CV 2/10] END C=100, penalty=l2;, score=(train=0.901, test=0.910) total time=   0.0s\n",
      "[CV 3/10] END C=100, penalty=l2;, score=(train=0.898, test=0.896) total time=   0.0s\n",
      "[CV 4/10] END C=100, penalty=l2;, score=(train=0.905, test=0.883) total time=   0.0s\n",
      "[CV 5/10] END C=100, penalty=l2;, score=(train=0.908, test=0.892) total time=   0.0s\n",
      "[CV 6/10] END C=100, penalty=l2;, score=(train=0.903, test=0.916) total time=   0.0s\n",
      "[CV 7/10] END C=100, penalty=l2;, score=(train=0.909, test=0.916) total time=   0.0s\n",
      "[CV 8/10] END C=100, penalty=l2;, score=(train=0.910, test=0.904) total time=   0.0s\n",
      "[CV 9/10] END C=100, penalty=l2;, score=(train=0.917, test=0.884) total time=   0.0s\n",
      "[CV 10/10] END C=100, penalty=l2;, score=(train=0.909, test=0.911) total time=   0.0s\n",
      "----------\n",
      "iter: 1\n",
      "n_candidates: 4\n",
      "n_resources: 14334\n",
      "Fitting 10 folds for each of 4 candidates, totalling 40 fits\n",
      "[CV 1/10] END C=10, penalty=l2;, score=(train=0.904, test=0.892) total time=   0.0s\n",
      "[CV 2/10] END C=10, penalty=l2;, score=(train=0.901, test=0.904) total time=   0.0s\n",
      "[CV 3/10] END C=10, penalty=l2;, score=(train=0.904, test=0.908) total time=   0.0s\n",
      "[CV 4/10] END C=10, penalty=l2;, score=(train=0.898, test=0.893) total time=   0.0s\n",
      "[CV 5/10] END C=10, penalty=l2;, score=(train=0.905, test=0.897) total time=   0.0s\n",
      "[CV 6/10] END C=10, penalty=l2;, score=(train=0.902, test=0.907) total time=   0.0s\n",
      "[CV 7/10] END C=10, penalty=l2;, score=(train=0.893, test=0.903) total time=   0.0s\n",
      "[CV 8/10] END C=10, penalty=l2;, score=(train=0.897, test=0.889) total time=   0.0s\n",
      "[CV 9/10] END C=10, penalty=l2;, score=(train=0.904, test=0.904) total time=   0.0s\n",
      "[CV 10/10] END C=10, penalty=l2;, score=(train=0.899, test=0.924) total time=   0.0s\n",
      "[CV 1/10] END C=10, penalty=l1;, score=(train=0.904, test=0.892) total time=   0.2s\n",
      "[CV 2/10] END C=10, penalty=l1;, score=(train=0.901, test=0.904) total time=   0.3s\n",
      "[CV 3/10] END C=10, penalty=l1;, score=(train=0.904, test=0.908) total time=   0.2s\n",
      "[CV 4/10] END C=10, penalty=l1;, score=(train=0.898, test=0.894) total time=   0.3s\n",
      "[CV 5/10] END C=10, penalty=l1;, score=(train=0.905, test=0.897) total time=   0.2s\n",
      "[CV 6/10] END C=10, penalty=l1;, score=(train=0.902, test=0.907) total time=   0.2s\n",
      "[CV 7/10] END C=10, penalty=l1;, score=(train=0.893, test=0.903) total time=   0.1s\n",
      "[CV 8/10] END C=10, penalty=l1;, score=(train=0.897, test=0.889) total time=   0.3s\n",
      "[CV 9/10] END C=10, penalty=l1;, score=(train=0.904, test=0.904) total time=   0.3s\n",
      "[CV 10/10] END C=10, penalty=l1;, score=(train=0.899, test=0.924) total time=   0.2s\n",
      "[CV 1/10] END C=1, penalty=l1;, score=(train=0.904, test=0.892) total time=   0.2s\n",
      "[CV 2/10] END C=1, penalty=l1;, score=(train=0.901, test=0.904) total time=   0.2s\n",
      "[CV 3/10] END C=1, penalty=l1;, score=(train=0.904, test=0.908) total time=   0.2s\n",
      "[CV 4/10] END C=1, penalty=l1;, score=(train=0.898, test=0.893) total time=   0.3s\n",
      "[CV 5/10] END C=1, penalty=l1;, score=(train=0.905, test=0.896) total time=   0.2s\n",
      "[CV 6/10] END C=1, penalty=l1;, score=(train=0.902, test=0.908) total time=   0.2s\n",
      "[CV 7/10] END C=1, penalty=l1;, score=(train=0.893, test=0.903) total time=   0.3s\n",
      "[CV 8/10] END C=1, penalty=l1;, score=(train=0.897, test=0.889) total time=   0.2s\n",
      "[CV 9/10] END C=1, penalty=l1;, score=(train=0.904, test=0.904) total time=   0.2s\n",
      "[CV 10/10] END C=1, penalty=l1;, score=(train=0.899, test=0.924) total time=   0.2s\n",
      "[CV 1/10] END C=1, penalty=l2;, score=(train=0.904, test=0.893) total time=   0.0s\n",
      "[CV 2/10] END C=1, penalty=l2;, score=(train=0.901, test=0.904) total time=   0.0s\n",
      "[CV 3/10] END C=1, penalty=l2;, score=(train=0.904, test=0.908) total time=   0.0s\n",
      "[CV 4/10] END C=1, penalty=l2;, score=(train=0.898, test=0.894) total time=   0.0s\n",
      "[CV 5/10] END C=1, penalty=l2;, score=(train=0.905, test=0.897) total time=   0.0s\n",
      "[CV 6/10] END C=1, penalty=l2;, score=(train=0.902, test=0.908) total time=   0.0s\n",
      "[CV 7/10] END C=1, penalty=l2;, score=(train=0.893, test=0.903) total time=   0.0s\n",
      "[CV 8/10] END C=1, penalty=l2;, score=(train=0.897, test=0.889) total time=   0.0s\n",
      "[CV 9/10] END C=1, penalty=l2;, score=(train=0.904, test=0.904) total time=   0.0s\n",
      "[CV 10/10] END C=1, penalty=l2;, score=(train=0.899, test=0.924) total time=   0.0s\n",
      "----------\n",
      "iter: 2\n",
      "n_candidates: 2\n",
      "n_resources: 43002\n",
      "Fitting 10 folds for each of 2 candidates, totalling 20 fits\n",
      "[CV 1/10] END C=1, penalty=l1;, score=(train=0.901, test=0.899) total time=   1.0s\n",
      "[CV 2/10] END C=1, penalty=l1;, score=(train=0.902, test=0.891) total time=   1.0s\n",
      "[CV 3/10] END C=1, penalty=l1;, score=(train=0.901, test=0.903) total time=   1.0s\n",
      "[CV 4/10] END C=1, penalty=l1;, score=(train=0.901, test=0.904) total time=   0.9s\n",
      "[CV 5/10] END C=1, penalty=l1;, score=(train=0.902, test=0.894) total time=   1.1s\n",
      "[CV 6/10] END C=1, penalty=l1;, score=(train=0.901, test=0.905) total time=   1.0s\n",
      "[CV 7/10] END C=1, penalty=l1;, score=(train=0.901, test=0.901) total time=   1.0s\n",
      "[CV 8/10] END C=1, penalty=l1;, score=(train=0.900, test=0.907) total time=   1.0s\n",
      "[CV 9/10] END C=1, penalty=l1;, score=(train=0.902, test=0.891) total time=   1.0s\n",
      "[CV 10/10] END C=1, penalty=l1;, score=(train=0.900, test=0.906) total time=   1.1s\n",
      "[CV 1/10] END C=1, penalty=l2;, score=(train=0.901, test=0.899) total time=   0.2s\n",
      "[CV 2/10] END C=1, penalty=l2;, score=(train=0.902, test=0.891) total time=   0.3s\n",
      "[CV 3/10] END C=1, penalty=l2;, score=(train=0.901, test=0.903) total time=   0.3s\n",
      "[CV 4/10] END C=1, penalty=l2;, score=(train=0.901, test=0.904) total time=   0.3s\n",
      "[CV 5/10] END C=1, penalty=l2;, score=(train=0.902, test=0.894) total time=   0.3s\n",
      "[CV 6/10] END C=1, penalty=l2;, score=(train=0.901, test=0.905) total time=   0.3s\n",
      "[CV 7/10] END C=1, penalty=l2;, score=(train=0.901, test=0.901) total time=   0.3s\n",
      "[CV 8/10] END C=1, penalty=l2;, score=(train=0.900, test=0.907) total time=   0.3s\n",
      "[CV 9/10] END C=1, penalty=l2;, score=(train=0.902, test=0.891) total time=   0.3s\n",
      "[CV 10/10] END C=1, penalty=l2;, score=(train=0.900, test=0.906) total time=   0.3s\n",
      "Best Hyperparameters -->  {'C': 1, 'penalty': 'l2'}\n",
      "Best Accuracy -->  0.9000159097296763\n"
     ]
    }
   ],
   "source": [
    "lor_model = LogisticRegression(solver='liblinear')\n",
    "tfidf_w2v_model = HalvingGridSearchCV(lor_model ,parameter_grid ,scoring='roc_auc' ,cv=10 ,verbose=3)\n",
    "\n",
    "tfidf_w2v_model.fit(X_train_tfidf_w2v ,y_train) \n",
    "print('Best Hyperparameters --> ', tfidf_w2v_model.best_params_)\n",
    "print('Best Accuracy --> ',tfidf_w2v_model.best_score_)"
   ]
  },
  {
   "cell_type": "markdown",
   "metadata": {},
   "source": [
    "### 4.2 Model Building (tfidf_w2v)"
   ]
  },
  {
   "cell_type": "code",
   "execution_count": 92,
   "metadata": {},
   "outputs": [],
   "source": [
    "model_tfidf_w2v = LogisticRegression(\n",
    "    penalty=tfidf_w2v_model.best_estimator_.penalty, C=tfidf_w2v_model.best_estimator_.C, solver='liblinear')\n",
    "\n",
    "model_tfidf_w2v.fit(X_train_tfidf_w2v, y_train)\n",
    "\n",
    "# predicted values for train & test data\n",
    "y_pred_tfidf_w2v = model_tfidf_w2v.predict_proba(X_train_tfidf_w2v)[:, 1]\n",
    "y_pred_tfidf_w2v_test = model_tfidf_w2v.predict_proba(X_test_tfidf_w2v)[:, 1]\n"
   ]
  },
  {
   "cell_type": "markdown",
   "metadata": {},
   "source": [
    "### 4.3 Model Evaluation (tfidf_w2v)"
   ]
  },
  {
   "cell_type": "code",
   "execution_count": 93,
   "metadata": {},
   "outputs": [
    {
     "name": "stdout",
     "output_type": "stream",
     "text": [
      "Accuracy of tfidf_w2v model :  0.8852010784946645\n"
     ]
    }
   ],
   "source": [
    "print('Accuracy of tfidf_w2v model : ',model_tfidf_w2v.score(X_test_tfidf_w2v, y_test))"
   ]
  },
  {
   "cell_type": "code",
   "execution_count": 94,
   "metadata": {},
   "outputs": [
    {
     "data": {
      "image/png": "[encoded data removed]",
      "text/plain": [
       "<Figure size 432x288 with 1 Axes>"
      ]
     },
     "metadata": {
      "needs_background": "light"
     },
     "output_type": "display_data"
    }
   ],
   "source": [
    "# plotting ROC curve for train & test data\n",
    "\n",
    "false_positive_rate1, true_positive_rate1, threshold1 = roc_curve(\n",
    "    y_train, y_pred_tfidf_w2v)\n",
    "false_positive_rate2, true_positive_rate2, threshold2 = roc_curve(\n",
    "    y_test, y_pred_tfidf_w2v_test)\n",
    "\n",
    "fig = plt.figure()\n",
    "ax = plt.subplot(111)\n",
    "\n",
    "# train ROC\n",
    "ax.plot(false_positive_rate1, true_positive_rate1, label='Train ROC ,auc ={}'.format(\n",
    "    str(roc_auc_score(y_train, y_pred_tfidf_w2v))))\n",
    "\n",
    "# test ROC\n",
    "ax.plot(false_positive_rate2, true_positive_rate2, label='Test ROC ,auc ={}'.format(\n",
    "    str(roc_auc_score(y_test, y_pred_tfidf_w2v_test))))\n",
    "\n",
    "plt.title('ROC')\n",
    "plt.grid('True')\n",
    "plt.xlabel('False Positive Rate')\n",
    "plt.ylabel('True Positive Rate')\n",
    "ax.legend()\n",
    "plt.show()"
   ]
  },
  {
   "cell_type": "code",
   "execution_count": 95,
   "metadata": {},
   "outputs": [
    {
     "data": {
      "image/png": "[encoded data removed]",
      "text/plain": [
       "<Figure size 432x288 with 2 Axes>"
      ]
     },
     "metadata": {
      "needs_background": "light"
     },
     "output_type": "display_data"
    }
   ],
   "source": [
    "# confusion Matrix for test data\n",
    "y_pred_tfidf_w2v_test = model_tfidf_w2v.predict(X_test_tfidf_w2v)\n",
    "\n",
    "confusion = confusion_matrix(y_test, y_pred_tfidf_w2v_test)\n",
    "class_labels = [\"negative\", \"positive\"]\n",
    "\n",
    "cf_data = pd.DataFrame(confusion, index=class_labels, columns=class_labels)\n",
    "sns.heatmap(cf_data, annot=True, fmt='.5g')\n",
    "\n",
    "plt.title(\"Confusion Matrix for test data\")\n",
    "plt.xlabel(\"Predicted Label\")\n",
    "plt.ylabel(\"True Label\")\n",
    "plt.show()"
   ]
  },
  {
   "cell_type": "markdown",
   "metadata": {},
   "source": [
    "### 4.4 Calculating sparsity on weight vector (after L1 regularization)"
   ]
  },
  {
   "cell_type": "code",
   "execution_count": 96,
   "metadata": {},
   "outputs": [
    {
     "name": "stdout",
     "output_type": "stream",
     "text": [
      "For C: 0.001    Number of non-zero coefficients : 5\n",
      "For C: 0.01    Number of non-zero coefficients : 26\n",
      "For C: 0.1    Number of non-zero coefficients : 49\n",
      "For C: 1.0    Number of non-zero coefficients : 50\n",
      "For C: 10.0    Number of non-zero coefficients : 50\n",
      "For C: 100.0    Number of non-zero coefficients : 50\n"
     ]
    }
   ],
   "source": [
    "# count --> Counts number of non zero weights for a given C\n",
    "# error --> stores error for each value of c\n",
    "count = []\n",
    "error = []\n",
    "\n",
    "c_sparse = np.array([10**-3, 10**-2, 10**-1, 10**0, 10**1, 10**2])\n",
    "\n",
    "for i in c_sparse:\n",
    "    model = LogisticRegression(penalty='l1', C=i, solver='liblinear')\n",
    "    model.fit(X_train_tfidf_w2v, y_train)\n",
    "\n",
    "    count.append(np.count_nonzero(model.coef_))\n",
    "    error.append(1 - model.score(X_test_tfidf_w2v, y_test))\n",
    "    print('For C: {}    Number of non-zero coefficients : {}'.format(i,\n",
    "          np.count_nonzero(model.coef_)))\n"
   ]
  },
  {
   "cell_type": "code",
   "execution_count": 97,
   "metadata": {},
   "outputs": [
    {
     "name": "stdout",
     "output_type": "stream",
     "text": [
      "Number of non-zero element in weight vector : 50\n"
     ]
    }
   ],
   "source": [
    "weights = model_tfidf_w2v.coef_\n",
    "print('Number of non-zero element in weight vector : {}'.format(np.count_nonzero(weights)))\n"
   ]
  },
  {
   "cell_type": "code",
   "execution_count": 98,
   "metadata": {},
   "outputs": [
    {
     "data": {
      "image/png": "[encoded data removed]",
      "text/plain": [
       "<Figure size 432x288 with 1 Axes>"
      ]
     },
     "metadata": {
      "needs_background": "light"
     },
     "output_type": "display_data"
    }
   ],
   "source": [
    "# plotting c vs Sparsity\n",
    "\n",
    "plt.title('C vs Sparsity')\n",
    "plt.plot(range(len(c_sparse)), count)\n",
    "\n",
    "plt.xlabel('C')\n",
    "plt.ylabel('Number of non-zero coefficients')\n",
    "plt.xticks(range(len(c_sparse)), c_sparse)\n",
    "plt.show()"
   ]
  },
  {
   "cell_type": "code",
   "execution_count": 99,
   "metadata": {},
   "outputs": [
    {
     "data": {
      "image/png": "[encoded data removed]",
      "text/plain": [
       "<Figure size 432x288 with 1 Axes>"
      ]
     },
     "metadata": {
      "needs_background": "light"
     },
     "output_type": "display_data"
    }
   ],
   "source": [
    "# plotting c vs error\n",
    "\n",
    "plt.title('C vs Error')\n",
    "plt.plot(range(len(c_sparse)), error)\n",
    "\n",
    "plt.xlabel('C')\n",
    "plt.ylabel('Error')\n",
    "plt.xticks(range(len(c_sparse)), c_sparse)\n",
    "plt.show()\n"
   ]
  },
  {
   "cell_type": "markdown",
   "metadata": {},
   "source": [
    "# Model Comparision"
   ]
  },
  {
   "cell_type": "markdown",
   "metadata": {},
   "source": [
    "### Creating a prettytable to see which model performed better"
   ]
  },
  {
   "cell_type": "code",
   "execution_count": 4,
   "metadata": {},
   "outputs": [
    {
     "name": "stdout",
     "output_type": "stream",
     "text": [
      "+------------+-----------------------------+---------+\n",
      "| Vectorizer |     Best Hyperparameters    |   AUC   |\n",
      "+------------+-----------------------------+---------+\n",
      "|   TFIDF    |  {'C': 10, 'penalty': 'l1'} | 0.93524 |\n",
      "|    BOW     | {'C': 0.1, 'penalty': 'l1'} | 0.91927 |\n",
      "|  AVG-W2V   | {'C': 0.1, 'penalty': 'l2'} | 0.90116 |\n",
      "| TFIDF-W2V  |  {'C': 1, 'penalty': 'l2'}  |  0.9009 |\n",
      "+------------+-----------------------------+---------+\n"
     ]
    }
   ],
   "source": [
    "from prettytable import PrettyTable\n",
    "x = PrettyTable()\n",
    "\n",
    "x.field_names = ['Vectorizer', 'Best Hyperparameters', 'AUC']\n",
    "x.add_row(['BOW', {'C': 0.1, 'penalty': 'l1'}, 0.91927])\n",
    "x.add_row(['TFIDF', {'C': 10, 'penalty': 'l1'}, 0.93524])\n",
    "x.add_row(['AVG-W2V', {'C': 0.1, 'penalty': 'l2'}, 0.90116])\n",
    "x.add_row(['TFIDF-W2V', {'C': 1, 'penalty': 'l2'}, 0.90090])\n",
    "\n",
    "x.sortby = 'AUC'\n",
    "x.reversesort = True\n",
    "print(x)\n"
   ]
  }
 ],
 "metadata": {
  "interpreter": {
   "hash": "85db6da7787130e1a460985840952276764ba71a5c880e584e8b35b38fecc972"
  },
  "kernelspec": {
   "display_name": "Python 3.9.0 64-bit",
   "language": "python",
   "name": "python3"
  },
  "language_info": {
   "codemirror_mode": {
    "name": "ipython",
    "version": 3
   },
   "file_extension": ".py",
   "mimetype": "text/x-python",
   "name": "python",
   "nbconvert_exporter": "python",
   "pygments_lexer": "ipython3",
   "version": "3.9.0"
  },
  "orig_nbformat": 4
 },
 "nbformat": 4,
 "nbformat_minor": 2
}
